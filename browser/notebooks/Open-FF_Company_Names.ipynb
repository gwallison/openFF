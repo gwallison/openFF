{
 "cells": [
  {
   "cell_type": "code",
   "execution_count": null,
   "id": "45610c32-de5d-4c3c-a0c0-1af8e844c68e",
   "metadata": {},
   "outputs": [],
   "source": [
    "import sys\n",
    "sys.path.insert(0,'c:/MyDocs/integrated/') # adjust to your setup\n",
    "\n",
    "%run \"catalog_support.py\" \n",
    "showHeader('Supplier Name Table')"
   ]
  },
  {
   "cell_type": "code",
   "execution_count": null,
   "id": "46c93785-a7b2-4f08-8498-3d68a2e073d1",
   "metadata": {},
   "outputs": [],
   "source": [
    "# fetch data set\n",
    "df_cas = fh.get_df(os.path.join(hndl.sandbox_dir,'workdf.parquet'))"
   ]
  },
  {
   "cell_type": "markdown",
   "id": "jewish-consultation",
   "metadata": {},
   "source": [
    "|Explanation of columns in the table|\n",
    "| :---: |\n",
    "\n",
    "| Column      | Description |\n",
    "| :----: | :-------- |\n",
    "|*bgSupplier*|company name as translated by Open-FF (may also show up as `primarySupplier`)|\n",
    "|*FracFocus_name*| company name(s) as they appear in the raw FracFocus (in the `Supplier` field)|\n",
    "|*Number_records*| how many times this `bgSupplier` value appears in the curated data|\n"
   ]
  },
  {
   "cell_type": "code",
   "execution_count": null,
   "id": "general-humanity",
   "metadata": {},
   "outputs": [],
   "source": [
    "# original\n",
    "\n",
    "# gbOp = df_cas.groupby(['OperatorName','bgOperatorName'],as_index=False)['bgCAS'].count()\n",
    "# gbOp.columns = ['raw','translated','counts in OperatorName']\n",
    "# gbSup = df_cas.groupby(['Supplier','bgSupplier'],as_index=False)['bgCAS'].count()\n",
    "# gbSup.columns = ['raw','translated','counts in Supplier']\n",
    "# xlate =pd.merge(gbOp,gbSup, on=['translated','raw'],how='outer').reset_index(drop=True)\n",
    "# xlate = xlate.fillna(0)\n",
    "# iShow(xlate.sort_values('counts in OperatorName',ascending=False),maxBytes=0)"
   ]
  },
  {
   "cell_type": "code",
   "execution_count": null,
   "id": "d298ad6e-94b7-4b73-a9d8-3381ab64d239",
   "metadata": {},
   "outputs": [],
   "source": [
    "\n",
    "gbSup = df_cas.groupby(['Supplier','bgSupplier'],as_index=False)['bgCAS'].count()\n",
    "# gbSup.columns = ['raw_FracFocus','translated','counts']\n",
    "gb1 = gbSup.groupby('bgSupplier',as_index=False)['Supplier'].apply(list)\n",
    "gb1['FracFocus_names'] = gb1.Supplier.map(lambda x: th.xlate_to_str(x,sep='<br>',totallen=100000))\n",
    "# .rename({'Supplier':'FracFocus_name'},axis=1)\n",
    "gb2 = gbSup.groupby('bgSupplier',as_index=False)['bgCAS'].sum().rename({'bgCAS':'Number_records'},axis=1)\n",
    "mg = pd.merge(gb1[['bgSupplier','FracFocus_names']],\n",
    "              gb2,on='bgSupplier',how='left')\n",
    "mg\n",
    "# xlate =pd.merge(gbOp,gbSup, on=['translated','raw'],how='outer').reset_index(drop=True)\n",
    "# xlate = xlate.fillna(0)\n",
    "# iShow(xlate.sort_values('counts in OperatorName',ascending=False),maxBytes=0)"
   ]
  },
  {
   "cell_type": "code",
   "execution_count": null,
   "id": "tight-puzzle",
   "metadata": {},
   "outputs": [],
   "source": []
  }
 ],
 "metadata": {
  "hide_input": true,
  "kernelspec": {
   "display_name": "Python 3 (ipykernel)",
   "language": "python",
   "name": "python3"
  },
  "language_info": {
   "codemirror_mode": {
    "name": "ipython",
    "version": 3
   },
   "file_extension": ".py",
   "mimetype": "text/x-python",
   "name": "python",
   "nbconvert_exporter": "python",
   "pygments_lexer": "ipython3",
   "version": "3.11.8"
  }
 },
 "nbformat": 4,
 "nbformat_minor": 5
}
