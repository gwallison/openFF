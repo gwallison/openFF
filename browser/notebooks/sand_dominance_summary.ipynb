{
 "cells": [
  {
   "cell_type": "code",
   "execution_count": null,
   "id": "67cd510c-03a3-4def-b9aa-f0ac7380ca24",
   "metadata": {},
   "outputs": [],
   "source": [
    "import sys\n",
    "sys.path.insert(0,'c:/MyDocs/integrated/') # adjust to your setup\n",
    "\n",
    "%run \"catalog_support.py\" \n",
    "showHeader('Summary of disclosures <br>detected as \"sand dominated\"',use_remote=False)"
   ]
  },
  {
   "cell_type": "markdown",
   "id": "c3119a08-d944-4799-a7ef-eacdf6702ef2",
   "metadata": {},
   "source": [
    "In July 2024, **[Open-FF found](https://open-ff.org/2024/07/30/fracking-sand-dominated-disclosures-patterns-and-problems/)** over 2,000 disclosures that were apparently misreporting the percentages of water and sand. In our process of trying to contact the operators that published those disclosures, FracFocus Support informed us that FracFocus was preparing to alert the companies to the sand-dominance issue so that they might correct errors.\n",
    "\n",
    "This page is an attempt to follow the progress of those corrections and whether any new disclosures with the same problem are being published.\n",
    "\n",
    "The tables below list the disclosures with a sand percentage greater than 50%.  (This excludes disclosures with either carbon dioxide or nitrogen gases, as they are reported to allow high percentages of sand.)  These running lists of disclosures start on Oct. 14, 2024 and are updated most days. If a disclosure is found to have the condition of >50% sand, it is added to the list and the `added date` column indicates when.  If that disclosure is corrected, that is, the >50% sand condition is no longer present, the `removed date` column indicates the day that occurred. \n"
   ]
  },
  {
   "cell_type": "code",
   "execution_count": null,
   "id": "b7a690b8-521f-4b0a-af2f-7ab9b6cefd31",
   "metadata": {},
   "outputs": [],
   "source": [
    "import datetime\n",
    "# first_date = datetime.datetime(2024,8,20)\n",
    "first_date = datetime.datetime(2024,10,14)\n",
    "# print(first_date)\n",
    "fn = r\"G:\\My Drive\\webshare\\daily_status\\sand_monitoring_df.parquet\"\n",
    "fn = r\"C:\\Users\\Gary\\My Drive\\webshare\\daily_status\\sand_monitoring_df.parquet\"\n",
    "tmp = pd.read_parquet(fn)\n",
    "tmp['Job End Date'] = tmp.date.astype('str').str.split().str[0]\n",
    "tmp['API Number (and link)'] = tmp.apply(lambda x: th.getFFLink(x,fmt='short'),axis=1)\n",
    "tmp['Operator Name'] = tmp.OperatorName\n",
    "tmp['Percent Sand Reported'] = tmp.PercentHFJob.round(1).astype('str')\n",
    "tmp['Percent Sand Reported'] = tmp['Percent Sand Reported'] + ' %'\n",
    "tmp['added date'] = tmp.added_date\n",
    "tmp['removed date'] = tmp.removed_date"
   ]
  },
  {
   "cell_type": "code",
   "execution_count": null,
   "id": "81f455f3-03f7-49d9-b724-2d8230b46ed3",
   "metadata": {},
   "outputs": [],
   "source": [
    "t = tmp\n",
    "print('SUMMARY ACROSS FRACFOCUS')\n",
    "print(f'Number of disclosures detected in October 2024:        {len(t[t.added_date==first_date]):7}')\n",
    "print(f'Number of additional disclosures detected:             {len(t[t.added_date>first_date]):7}')\n",
    "print(f'Number of disclosures corrected or otherwised changed: {len(t[t.removed_date.notna()]):7}')"
   ]
  },
  {
   "cell_type": "code",
   "execution_count": null,
   "id": "b7f50d4e-e7c9-4c35-a099-6013e5f9cf94",
   "metadata": {},
   "outputs": [],
   "source": [
    "states = tmp.StateName.unique().tolist()\n",
    "states.sort()\n",
    "display(md('## By State'))\n",
    "for state in states:\n",
    "    display(md(f\"#### [{state}](#{state.lower().replace(' ','_')})\"))"
   ]
  },
  {
   "cell_type": "code",
   "execution_count": null,
   "id": "013b5598-72dc-4ff2-9f81-7269a40b22bc",
   "metadata": {},
   "outputs": [],
   "source": [
    "def show_state(df,state):\n",
    "    t = df[df.StateName==state].copy()\n",
    "    display(md(f\"<a id='{state.lower().replace(' ','_')}'></a>\\n\"))\n",
    "    display(md(f\"---\\n## {state}\"))\n",
    "    display(md(\"### Sand dominated disclosures\"))\n",
    "    display(md('#### Summary'))\n",
    "    print(f'Number of disclosures detected in October 2024:        {len(t[t.added_date==first_date]):7}')\n",
    "    print(f'Number of additional disclosures detected:             {len(t[t.added_date>first_date]):7}')\n",
    "    print(f'Number of disclosures corrected or otherwised changed: {len(t[t.removed_date.notna()]):7}')\n",
    "    print('\\n\\n')\n",
    "    display(iShow(t[['API Number (and link)','Job End Date','Operator Name',\n",
    "       'Percent Sand Reported','added date','removed date']].reset_index(drop=True)))\n",
    "    display(md('---'))"
   ]
  },
  {
   "cell_type": "code",
   "execution_count": null,
   "id": "d2f71916-2295-44c8-b151-5ce365e742af",
   "metadata": {},
   "outputs": [],
   "source": [
    "show_state(tmp,'Alabama')"
   ]
  },
  {
   "cell_type": "code",
   "execution_count": null,
   "id": "10198936-b056-479f-a81b-7d6f457e9314",
   "metadata": {},
   "outputs": [],
   "source": [
    "show_state(tmp,'Arkansas')"
   ]
  },
  {
   "cell_type": "code",
   "execution_count": null,
   "id": "a182e191-6a7d-4969-8b61-a8bbeb101714",
   "metadata": {},
   "outputs": [],
   "source": [
    "show_state(tmp,'California')"
   ]
  },
  {
   "cell_type": "code",
   "execution_count": null,
   "id": "1ae40a62-28ba-4686-9e53-0c2aaccd0fd4",
   "metadata": {},
   "outputs": [],
   "source": [
    "show_state(tmp,'Colorado')"
   ]
  },
  {
   "cell_type": "code",
   "execution_count": null,
   "id": "f88402ee-8551-4cc4-a981-99cac02092b1",
   "metadata": {},
   "outputs": [],
   "source": [
    "show_state(tmp,'Indiana')"
   ]
  },
  {
   "cell_type": "code",
   "execution_count": null,
   "id": "fbba8521-6da2-4a33-9088-c3d6e10b6021",
   "metadata": {},
   "outputs": [],
   "source": [
    "show_state(tmp,'Kansas')"
   ]
  },
  {
   "cell_type": "code",
   "execution_count": null,
   "id": "9a1b916b-eb5b-45b7-8a41-454ff74e8011",
   "metadata": {},
   "outputs": [],
   "source": [
    "show_state(tmp,'Kentucky')"
   ]
  },
  {
   "cell_type": "code",
   "execution_count": null,
   "id": "720315b3-9070-4163-99d7-a9ddeb33b434",
   "metadata": {},
   "outputs": [],
   "source": [
    "show_state(tmp,'Louisiana')"
   ]
  },
  {
   "cell_type": "code",
   "execution_count": null,
   "id": "84971f26-8e02-4f81-9a62-ed1ab58cb11d",
   "metadata": {},
   "outputs": [],
   "source": [
    "show_state(tmp,'Michigan')"
   ]
  },
  {
   "cell_type": "code",
   "execution_count": null,
   "id": "3b6d790b-cedd-4c26-8ddd-67691c3a3f27",
   "metadata": {},
   "outputs": [],
   "source": [
    "show_state(tmp,'Mississippi')"
   ]
  },
  {
   "cell_type": "code",
   "execution_count": null,
   "id": "83621d1d-50ea-46a8-9c89-dfe2bba500df",
   "metadata": {},
   "outputs": [],
   "source": [
    "show_state(tmp,'Montana')"
   ]
  },
  {
   "cell_type": "code",
   "execution_count": null,
   "id": "d91e96d9-3392-494a-8d26-4c309adc0904",
   "metadata": {},
   "outputs": [],
   "source": [
    "show_state(tmp,'New Mexico')"
   ]
  },
  {
   "cell_type": "code",
   "execution_count": null,
   "id": "f11258e6-a99d-4451-b026-92076f5da63a",
   "metadata": {},
   "outputs": [],
   "source": [
    "show_state(tmp,'North Dakota')"
   ]
  },
  {
   "cell_type": "code",
   "execution_count": null,
   "id": "0bebe01f-e6b3-4aae-a569-f11ed4169f0b",
   "metadata": {},
   "outputs": [],
   "source": [
    "show_state(tmp,'Ohio')"
   ]
  },
  {
   "cell_type": "code",
   "execution_count": null,
   "id": "f46cc263-4aa0-4622-b2f9-e1db19266e4d",
   "metadata": {},
   "outputs": [],
   "source": [
    "show_state(tmp,'Oklahoma')"
   ]
  },
  {
   "cell_type": "code",
   "execution_count": null,
   "id": "896864a2-e60a-4275-8fd3-f41542a8134f",
   "metadata": {},
   "outputs": [],
   "source": [
    "show_state(tmp,'Pennsylvania')"
   ]
  },
  {
   "cell_type": "code",
   "execution_count": null,
   "id": "5f1182d2-98b9-48d7-a41d-acd25b576406",
   "metadata": {},
   "outputs": [],
   "source": [
    "show_state(tmp,'Texas')"
   ]
  },
  {
   "cell_type": "code",
   "execution_count": null,
   "id": "59a277bc-b8b2-4439-8466-a0f9a0d4877f",
   "metadata": {},
   "outputs": [],
   "source": [
    "show_state(tmp,'Utah')"
   ]
  },
  {
   "cell_type": "code",
   "execution_count": null,
   "id": "9a6e7031-1d74-46ab-b3c0-d069bd83c31c",
   "metadata": {},
   "outputs": [],
   "source": [
    "show_state(tmp,'Virginia')"
   ]
  },
  {
   "cell_type": "code",
   "execution_count": null,
   "id": "6dc661a7-41c5-4491-824c-d4060cecc53d",
   "metadata": {},
   "outputs": [],
   "source": [
    "show_state(tmp,'West Virginia')"
   ]
  },
  {
   "cell_type": "code",
   "execution_count": null,
   "id": "11a07c21-d220-475a-b8e2-fb0786bff72b",
   "metadata": {},
   "outputs": [],
   "source": [
    "show_state(tmp,'Wyoming')"
   ]
  }
 ],
 "metadata": {
  "hide_input": true,
  "kernelspec": {
   "display_name": "Python 3 (ipykernel)",
   "language": "python",
   "name": "python3"
  },
  "language_info": {
   "codemirror_mode": {
    "name": "ipython",
    "version": 3
   },
   "file_extension": ".py",
   "mimetype": "text/x-python",
   "name": "python",
   "nbconvert_exporter": "python",
   "pygments_lexer": "ipython3",
   "version": "3.11.8"
  }
 },
 "nbformat": 4,
 "nbformat_minor": 5
}
