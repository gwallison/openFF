{
 "cells": [
  {
   "cell_type": "code",
   "execution_count": null,
   "id": "093ada57-7fa5-413d-8db1-1384fcf0bcb3",
   "metadata": {},
   "outputs": [],
   "source": [
    "import sys\n",
    "sys.path.insert(0,'c:/MyDocs/integrated/') # adjust to your setup\n",
    "\n",
    "%run \"catalog_support.py\" \n",
    "showHeader('Operator Index')"
   ]
  },
  {
   "cell_type": "code",
   "execution_count": null,
   "id": "43ce1f44-b081-47de-bf22-730fb2831432",
   "metadata": {},
   "outputs": [],
   "source": [
    "# fetch data set\n",
    "df = fh.get_df(os.path.join(hndl.sandbox_dir,'workdf.parquet'))"
   ]
  },
  {
   "cell_type": "code",
   "execution_count": null,
   "id": "cloudy-motel",
   "metadata": {},
   "outputs": [],
   "source": [
    "df = df[df.in_std_filtered]"
   ]
  },
  {
   "cell_type": "markdown",
   "id": "jewish-consultation",
   "metadata": {},
   "source": [
    "|Explanation of columns in the index|\n",
    "| :---: |\n",
    "\n",
    "| Column      | Description |\n",
    "| :----: | :-------- |\n",
    "|*names*| Names used for this Operator. The version in '[]' is the 'bgOperatorName'.  Click on the link for details on that company's fracking record in FracFocus.|\n",
    "|*num_fracks*| Total number of disclosures this company is named as Operator|\n",
    "|*years*| the years recorded in the disclosures (and the number disclosures in each year)|\n",
    "|*states*| the states recorded in the disclosures (and the number disclosures for each state)|\n",
    "|*Water,median*| the median volume of water (gallons) used as carrier|\n",
    "|*Water,max*| the median volume of water (gallons) used as carrier|"
   ]
  },
  {
   "cell_type": "markdown",
   "id": "f695c2ea-2266-4db3-8537-9cdd84a2c0b2",
   "metadata": {},
   "source": [
    "## Operators\n",
    "\n",
    "Companies in the table below are lumped by the curated field 'bgOperatorName'.  This is our attempt to treat similar names as the same company.  The actual names used in FracFocus as 'OperatorName' are listed here above the 'bgOperatorName' (which is in brackets). \n",
    "\n",
    "For Operators, there is typically only one name because it must be an entity registered with FracFocus.  Nevertheless, please let us know if you suspect made a mistake in lumping.\n",
    "\n",
    "If you are interested in Operator activity in a particular state, try the Operator tables in the [State pages](Open-FF_States_and_Counties.html).\n",
    "\n",
    "### Company ownership\n",
    "\n",
    "Within the fracking industry, company ownership is remarkably fluid.  Acquisitions and mergers are quite common.  However, the FracFocus names used may not reflect changes in ownership.  **We do not attempt to adjust the Operator Names to reflect actual ownership** at the time of disclosure.  All values of \"OperatorName\" are as the operator reported them.\n",
    "\n",
    "### Contacting operators\n",
    "Operator names are often not uniquely identifying, that is, there may exist multiple but separate companies that have the same name. Because of that, it can be difficult to contact the company with questions or comment about their disclosures.  While FracFocus has contact information for the companies that submit disclosures, they do NOT release that information.  In their own words from a 2023 email:\n",
    "\n",
    ">**FracFocus data submission is a state agency requirement for many states and as such we are only authorized to release information provided directly on the individual disclosures.  We cannot release any additional information than what is already supplied on the website.**\n",
    "\n",
    "When we asked how we might contact the Operator when we found disclosure errors, FracFocus Support responded:\n",
    "\n",
    ">**If you wish to supply us with the information you have compiled, we will review and attempt to relay it to any active operator logins when possible.**\n",
    "\n"
   ]
  },
  {
   "cell_type": "code",
   "execution_count": null,
   "id": "50d1078c-ee28-4b8b-86fd-40cb955a7a45",
   "metadata": {},
   "outputs": [],
   "source": [
    "def make_water(row):\n",
    "    s = str(th.round_sig(row.TotalBaseWaterVolume,3))\n",
    "    s += '<br>'\n",
    "    s += str(th.round_sig(row.TBWV90,3))\n",
    "    return s\n",
    "\n",
    "df['year'] = df.date.dt.year.astype(str)\n",
    "gbOp = df.groupby(['DisclosureId','bgStateName','bgOperatorName','year'],as_index=False)['TotalBaseWaterVolume'].first()\n",
    "gbOp.bgStateName = gbOp.bgStateName.str.title()\n",
    "\n",
    "gbOp1 = gbOp.groupby('bgOperatorName',as_index=False)['DisclosureId'].count().rename({'DisclosureId':'num_fracks'},axis=1)\n",
    "\n",
    "# gbOp2 = gbOp.groupby('bgOperatorName',as_index=False)['year'].agg(['min','max'])\n",
    "# gbOp2.rename({'min':'yr_min','max':'yr_max'},axis=1,inplace=True)\n",
    "# gbOp2['years'] = gbOp2.apply(lambda x:make_years(x),axis=1)\n",
    "\n",
    "gbOp2 = gbOp.groupby(['bgOperatorName','year'],as_index=False)['DisclosureId'].count()\n",
    "gbOp2['year_cnt'] = gbOp2.year + ' (' + gbOp2.DisclosureId.astype(str) + ')'\n",
    "\n",
    "gbOpY = gbOp2.groupby('bgOperatorName')['year_cnt'].apply(set).reset_index()\n",
    "gbOpY['years'] = gbOpY.year_cnt.map(lambda x: th.xlate_to_str(x,sep='<br>'))\n",
    "\n",
    "gbOp3 = gbOp.groupby(['bgOperatorName','bgStateName'],as_index=False)['DisclosureId'].count()\n",
    "gbOp3['states_cnt'] = gbOp3.bgStateName + ' (' + gbOp3.DisclosureId.astype(str) + ')'\n",
    "\n",
    "gbOp4 = gbOp3.groupby('bgOperatorName')['states_cnt'].apply(set).reset_index()\n",
    "gbOp4['states'] = gbOp4.states_cnt.map(lambda x: th.xlate_to_str(x,sep='<br>'))\n",
    "\n",
    "# gbOp5 = df.groupby('bgOperatorName')['OperatorName'].agg(lambda x: x.value_counts().index[0])\n",
    "gbOp5 = df.groupby('bgOperatorName')['OperatorName'].apply(set).reset_index()\n",
    "gbOp5['names'] = gbOp5.OperatorName.map(lambda x: th.xlate_to_str(x,sep='<br>'))\n",
    "\n",
    "gbOp6 = gbOp.groupby('bgOperatorName',as_index=False)['TotalBaseWaterVolume'].median()\n",
    "gbOp6.rename({'TotalBaseWaterVolume':'Water, median (gal)'},axis=1,inplace=True)\n",
    "# gbOp7 = gbOp.groupby('bgOperatorName',as_index=False)['TotalBaseWaterVolume'].agg(lambda x: np.percentile(x,90))\n",
    "gbOp7 = gbOp.groupby('bgOperatorName',as_index=False)['TotalBaseWaterVolume'].max()\n",
    "gbOp7.rename({'TotalBaseWaterVolume':'Water, max (gal)'},axis=1,inplace=True)\n",
    "mg = pd.merge(gbOp6,gbOp7,on='bgOperatorName')\n",
    "# mg.fillna(0,inplace=True)\n",
    "# mg['TBWV'] = mg.apply(lambda x: make_water(x),axis=1)\n",
    "mg = pd.merge(mg,gbOp1,on='bgOperatorName')\n",
    "mg = pd.merge(mg,gbOpY,on='bgOperatorName')\n",
    "mg = pd.merge(mg,gbOp4[['bgOperatorName','states']],on='bgOperatorName')\n",
    "mg = pd.merge(mg,gbOp5,on='bgOperatorName').sort_values('num_fracks',ascending=False)\n",
    "mg['link'] = mg.bgOperatorName.map(lambda x: th.getOpLink(x,x))\n",
    "mg.names = '<center><h3>'+mg.names+'<br><br>'+mg.link+'</h3></center>'\n",
    "\n",
    "iShow(mg[['names','num_fracks','years','states','Water, median (gal)','Water, max (gal)']].reset_index(drop=True),\n",
    "      maxBytes=0,columnDefs=[{\"width\": \"150px\", \"targets\": 0}])"
   ]
  },
  {
   "cell_type": "code",
   "execution_count": null,
   "id": "tight-puzzle",
   "metadata": {},
   "outputs": [],
   "source": []
  }
 ],
 "metadata": {
  "hide_input": true,
  "kernelspec": {
   "display_name": "Python 3 (ipykernel)",
   "language": "python",
   "name": "python3"
  },
  "language_info": {
   "codemirror_mode": {
    "name": "ipython",
    "version": 3
   },
   "file_extension": ".py",
   "mimetype": "text/x-python",
   "name": "python",
   "nbconvert_exporter": "python",
   "pygments_lexer": "ipython3",
   "version": "3.11.8"
  }
 },
 "nbformat": 4,
 "nbformat_minor": 5
}
