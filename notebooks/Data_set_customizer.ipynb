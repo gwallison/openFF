{
 "cells": [
  {
   "cell_type": "markdown",
   "id": "75254837-dc42-46ff-b311-56532f56e6d8",
   "metadata": {},
   "source": [
    "# Open-FF data set customizer\n",
    "Use this notebook to convert Open-FF's full dataframe (that is in \"parquet\" format) into a different format and, if desired, filter the data to a smaller subset."
   ]
  },
  {
   "cell_type": "code",
   "execution_count": null,
   "id": "78b009fd-2a35-4cfb-9b26-0341ea309462",
   "metadata": {
    "tags": []
   },
   "outputs": [],
   "source": [
    "# fetch the Open-FF code repository\n",
    "# For use in COLAB, the following lines should be uncommented; \n",
    "#   comment all lines if running locally\n",
    "\n",
    "# !git clone https://github.com/gwallison/openFF.git &>/dev/null;\n",
    "# %run openFF/notebooks/Data_set_customizer_support.py"
   ]
  },
  {
   "cell_type": "code",
   "execution_count": null,
   "id": "a98c5dd3-e789-4b91-8c04-03af5f0837e9",
   "metadata": {
    "tags": []
   },
   "outputs": [],
   "source": [
    "# Local - The lines below should stay commented unless running locally, they would replace the cell above\n",
    "import sys\n",
    "sys.path.insert(0,'c:/MyDocs/integrated/') # adjust to your setup\n",
    "%run Data_set_customizer_support.py"
   ]
  },
  {
   "cell_type": "markdown",
   "id": "faf49d5d-26f0-4100-be2a-52c3d0c80b30",
   "metadata": {},
   "source": [
    "# Optional: Filter by state"
   ]
  },
  {
   "cell_type": "code",
   "execution_count": null,
   "id": "239ba0b9-d29e-4ceb-a27e-85dcfc7f0798",
   "metadata": {
    "tags": []
   },
   "outputs": [],
   "source": [
    "states = prep_states()\n",
    "states"
   ]
  },
  {
   "cell_type": "markdown",
   "id": "0259d09e-cefb-4a28-9fd7-088272749a10",
   "metadata": {},
   "source": [
    "Select state(s) that you want in the output file.  The selection box contains only those states in the Open-FF data.  Use `shift` or `cntl` click to select more than one state. \n",
    "\n",
    "Then run the next cell."
   ]
  },
  {
   "cell_type": "code",
   "execution_count": null,
   "id": "0b085c05-d363-4222-b23c-3de048c68ed2",
   "metadata": {
    "tags": []
   },
   "outputs": [],
   "source": [
    "df = filter_by_statelist(df,states)"
   ]
  },
  {
   "cell_type": "markdown",
   "id": "fd188c3e-1674-422c-a46d-1a6d38fb3cde",
   "metadata": {},
   "source": [
    "# Optional: Include chemical data?\n",
    "If you are interested in chemical records at all, select the \"include chemical data\" option.  However, if you are only interested in variables like location, operator name, total base water volume, and/or date, deselecting this option will greatly reduce the output file size.\n",
    "\n",
    "If you choose to include chemical data, you will be given the option to filter which chemicals are included. The options are:\n",
    "- all (which will include non-chemical categories like \"proprietary\" and \"ambiguousID\"),\n",
    "- specific sets, or\n",
    "- a custom list that you enter by hand."
   ]
  },
  {
   "cell_type": "code",
   "execution_count": null,
   "id": "f250699e-ee96-43e5-915a-67a5f012ec61",
   "metadata": {
    "tags": []
   },
   "outputs": [],
   "source": [
    "inc_chk_box = show_inc_chem_checkbox()\n",
    "inc_chk_box"
   ]
  },
  {
   "cell_type": "code",
   "execution_count": null,
   "id": "6d146ba5-4db1-415c-bc33-0443d2d623b2",
   "metadata": {
    "tags": []
   },
   "outputs": [],
   "source": [
    "chem_set = show_chem_set(inc_chk_box)\n",
    "chem_set"
   ]
  },
  {
   "cell_type": "code",
   "execution_count": null,
   "id": "559b3a5e-4917-4b2d-b0b5-d68555699c4f",
   "metadata": {
    "tags": []
   },
   "outputs": [],
   "source": [
    "cus_chem = check_for_custom_list(chem_set,inc_chk_box)\n",
    "cus_chem"
   ]
  },
  {
   "cell_type": "code",
   "execution_count": null,
   "id": "b8d14418-9754-4602-a3fe-e1efc99039ab",
   "metadata": {
    "tags": []
   },
   "outputs": [],
   "source": [
    "df = filter_by_chem_set(df,chem_set,cus_chem)"
   ]
  },
  {
   "cell_type": "markdown",
   "id": "45136ba5-c73d-4370-96b3-1cac506a13b0",
   "metadata": {},
   "source": [
    "# Optional: select columns to include\n",
    "There are over 100 different columns in the Open-FF full data set, which includes both the original FracFocus columns and columns that Open-FF generates.  In most cases you will not need most of those and selecting a subset will keep your final custom data set smaller.\n",
    "\n",
    "Choosing the Standard set will reduce the columns to a smaller but typical set and it will also remove disclosures and records that have been flagged as duplicates.  The Full set keeps all records (duplicates can be filtered later using the `in_std_filtered` flag).\n",
    "\n",
    "Choose from selection:"
   ]
  },
  {
   "cell_type": "code",
   "execution_count": null,
   "id": "d2ced7ad-0184-4fea-8d6a-9640068630d5",
   "metadata": {
    "tags": []
   },
   "outputs": [],
   "source": [
    "col_set = show_col_set()\n",
    "col_set"
   ]
  },
  {
   "cell_type": "markdown",
   "id": "784eb066-0bf1-47ae-b111-342774cca60c",
   "metadata": {},
   "source": [
    "Process the selection:"
   ]
  },
  {
   "cell_type": "code",
   "execution_count": null,
   "id": "d2dcf9fe-e499-4851-83e9-f97ef9aa66d5",
   "metadata": {
    "tags": []
   },
   "outputs": [],
   "source": [
    "df = filter_by_col_set(df,col_set,inc_chk_box)"
   ]
  },
  {
   "cell_type": "markdown",
   "id": "8d715f97-f55d-46a8-8812-0f5d7b9ffe43",
   "metadata": {},
   "source": [
    "# Select the output format\n",
    "\n",
    "The current formats available are:\n",
    "- **\"parquet\"** - an compressed structured format for large files. (recommended if you have the ability to use it)\n",
    "- **\"CSV\"** - a traditional, text based format, standard input for spreadsheets. Can require 10x the storage and processing time as \"parquet,\" This format does not keep Open-FF formatting so you may need to specify, for example, which columns are text and which are numeric (e.g. APINumber should be text because of leading zeros).\n",
    "- **\"Excel\"** - similar to CSV but it will keep some formatting.  However, the maximum sheet size is (1048576, 16384) which will not hold all Open-FF records. Filtered files may fit."
   ]
  },
  {
   "cell_type": "code",
   "execution_count": null,
   "id": "fd1123f2-ed6e-4c51-bc1a-554738796100",
   "metadata": {
    "tags": []
   },
   "outputs": [],
   "source": [
    "format_type = show_formats()\n",
    "format_type"
   ]
  },
  {
   "cell_type": "markdown",
   "id": "56a03593-a9c3-435a-8bd1-4e8dd4fc0161",
   "metadata": {},
   "source": [
    "Finally, make the output file:"
   ]
  },
  {
   "cell_type": "code",
   "execution_count": null,
   "id": "9c5a8a73-2a3e-4da1-8ed5-2c79dfe43181",
   "metadata": {
    "tags": []
   },
   "outputs": [],
   "source": [
    "# save the output file\n",
    "make_output_file(df,format_type)"
   ]
  },
  {
   "cell_type": "code",
   "execution_count": null,
   "id": "1307aa2e-107c-4ef4-8f49-d5fa9e01a1bb",
   "metadata": {},
   "outputs": [],
   "source": []
  }
 ],
 "metadata": {
  "kernelspec": {
   "display_name": "Python 3 (ipykernel)",
   "language": "python",
   "name": "python3"
  },
  "language_info": {
   "codemirror_mode": {
    "name": "ipython",
    "version": 3
   },
   "file_extension": ".py",
   "mimetype": "text/x-python",
   "name": "python",
   "nbconvert_exporter": "python",
   "pygments_lexer": "ipython3",
   "version": "3.10.12"
  }
 },
 "nbformat": 4,
 "nbformat_minor": 5
}
