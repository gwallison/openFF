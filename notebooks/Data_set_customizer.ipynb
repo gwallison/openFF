{
 "cells": [
  {
   "cell_type": "code",
   "execution_count": 49,
   "id": "e8c934aa-afa1-462c-b211-31b6da352944",
   "metadata": {
    "tags": []
   },
   "outputs": [
    {
     "data": {
      "text/markdown": [
       "## Welcome to the Open-FF Notebook Tools\n",
       "This file is one of the tools developed to interact with Open-FF data. While it is a \"coding notebook,\" it requires NO programming skills.  Pompts will guide you throughout the notebook indicating what you need to do in each section.\n",
       "\n",
       "These noteboks are designed to accomplish well-defined tasks.  More general exploration is probably easier with the [Data Browser](https://storage.googleapis.com/open-ff-browser/Open-FF_Catalog.html). On the other hand, more custom analysis will probably require downloading data sets targeted to your task.  (If you need assistance with the latter, feel free to contact us.)\n",
       "\n",
       "This notebooks is designed to be used in the [Google Colaboratory](https://colab.google/) service, a free platform that lets users run notebooks without needing to setup complicated \"environments.\"  We will assume you are using this notebook on Colab and instructions are provided below.  \n"
      ],
      "text/plain": [
       "<IPython.core.display.Markdown object>"
      ]
     },
     "metadata": {},
     "output_type": "display_data"
    }
   ],
   "source": [
    "import pandas as pd\n",
    "from IPython.display import HTML, display\n",
    "from IPython.display import Markdown as md\n",
    "with open('welcome.md','r') as f:\n",
    "    s = f.read()\n",
    "display(md(s))"
   ]
  },
  {
   "cell_type": "markdown",
   "id": "75254837-dc42-46ff-b311-56532f56e6d8",
   "metadata": {},
   "source": [
    "# Open-FF data set customizer\n",
    "Use this notebook to convert Open-FF's full dataframe (that is in \"parquet\" format) into a different format and, if desired, filter the data to a smaller subset."
   ]
  },
  {
   "cell_type": "code",
   "execution_count": null,
   "id": "d1c232ad-223e-4efa-8baa-04e8b9885642",
   "metadata": {
    "tags": []
   },
   "outputs": [],
   "source": [
    "import pandas as pd\n",
    "import requests \n",
    "df_url = \"https://storage.googleapis.com/open-ff-common/repos/current_repo/full_df.parquet\"\n",
    "\n",
    "response = requests.head(df_url,  # Example file \n",
    "    allow_redirects=True\n",
    ")\n",
    "print(f\"Full size on remote disk: {int(response.headers['Content-Length']):,} bytes\") \n",
    "print('Fetching it now, please be patient...')\n",
    "df = pd.read_parquet(df_url)\n",
    "print(f'The full Open-FF data frame shape (rows,cols): {df.shape}')"
   ]
  },
  {
   "cell_type": "code",
   "execution_count": null,
   "id": "06c74b65-4d3b-4dc2-8acb-5839424cfdfe",
   "metadata": {
    "tags": []
   },
   "outputs": [],
   "source": [
    "# make output location\n",
    "# this code may overwrite files in the \"sandbox\" directory.  Make sure you want to do that\n",
    "import os\n",
    "tmp_dir = 'sandbox'\n",
    "try:\n",
    "    os.mkdir(tmp_dir)\n",
    "except:\n",
    "    print(f'{tmp_dir} already exists')"
   ]
  },
  {
   "cell_type": "markdown",
   "id": "5638e062-ba66-41fa-88c1-f45022cabe11",
   "metadata": {},
   "source": [
    "# Filter by state\n",
    "Select state(s) that you want in the output file.  The selection box contains only those states in the Open-FF data.  Use `shift` or `cntl` click to select more than one state."
   ]
  },
  {
   "cell_type": "code",
   "execution_count": null,
   "id": "239ba0b9-d29e-4ceb-a27e-85dcfc7f0798",
   "metadata": {
    "tags": []
   },
   "outputs": [],
   "source": [
    "st_lst = df.bgStateName.unique().tolist()\n",
    "st_lst.sort()\n",
    "st_lst.insert(0,'All states')\n",
    "states = widgets.SelectMultiple(\n",
    "    options=st_lst,\n",
    "    value=['All states'],\n",
    "    #rows=10,\n",
    "    description='Select State(s)',\n",
    "    disabled=False\n",
    ")\n",
    "states"
   ]
  },
  {
   "cell_type": "code",
   "execution_count": null,
   "id": "3f264e84-6dab-4f29-84a7-c0c8ec8de150",
   "metadata": {
    "tags": []
   },
   "outputs": [],
   "source": [
    "list(states.value)"
   ]
  },
  {
   "cell_type": "code",
   "execution_count": null,
   "id": "0b085c05-d363-4222-b23c-3de048c68ed2",
   "metadata": {
    "tags": []
   },
   "outputs": [],
   "source": [
    "if states.value[0]!='All states':\n",
    "    df = df[df.bgStateName.isin(list(states.value))]\n",
    "print(f\"The current filtered data frame's shape (rows,cols): {df.shape}\")"
   ]
  },
  {
   "cell_type": "markdown",
   "id": "8d715f97-f55d-46a8-8812-0f5d7b9ffe43",
   "metadata": {},
   "source": [
    "# Select the output format\n",
    "\n",
    "The current formats available are:\n",
    "- \"parquet\" - an compressed structured format for large files. (recommended if you have the ability to use it)\n",
    "- \"CSV\" - a traditional, text based format, standard input for spreadsheets. Can require 10x the storage and processing time as \"parquet,\" This format does not keep Open-FF formatting so you may need to specify, for example, which columns are text and which are numeric (e.g. APINumber should be text because of leading zeros).\n"
   ]
  },
  {
   "cell_type": "code",
   "execution_count": null,
   "id": "fd1123f2-ed6e-4c51-bc1a-554738796100",
   "metadata": {
    "tags": []
   },
   "outputs": [],
   "source": [
    "import ipywidgets as widgets\n",
    "format_type = widgets.ToggleButtons(\n",
    "    options=['parquet', 'CSV'],\n",
    "    description='Output type:',\n",
    "    disabled=False,\n",
    "    button_style='', # 'success', 'info', 'warning', 'danger' or ''\n",
    "    #tooltips=['Description of slow', 'Description of regular', 'Description of fast'],\n",
    "#     icons=['check'] * 3\n",
    ")\n",
    "format_type"
   ]
  },
  {
   "cell_type": "code",
   "execution_count": null,
   "id": "9c5a8a73-2a3e-4da1-8ed5-2c79dfe43181",
   "metadata": {
    "tags": []
   },
   "outputs": [],
   "source": [
    "# save the output file\n",
    "\n",
    "if format_type.value=='CSV':\n",
    "    # make the CSV file\n",
    "    outfn = os.path.join(tmp_dir,\"custom.csv\")\n",
    "    df.to_csv(outfn)\n",
    "\n",
    "if format_type.value=='parquet':\n",
    "    outfn = os.path.join(tmp_dir,\"custom.parquet\")\n",
    "    df.to_parquet(outfn)\n",
    "\n",
    "file_size = os.path.getsize(outfn)\n",
    "print(\"File Size is :\", file_size, \"bytes\")\n",
    "print(f'Output saved at: {outfn}, size: {file_size:,} bytes') \n"
   ]
  }
 ],
 "metadata": {
  "kernelspec": {
   "display_name": "Python 3 (ipykernel)",
   "language": "python",
   "name": "python3"
  },
  "language_info": {
   "codemirror_mode": {
    "name": "ipython",
    "version": 3
   },
   "file_extension": ".py",
   "mimetype": "text/x-python",
   "name": "python",
   "nbconvert_exporter": "python",
   "pygments_lexer": "ipython3",
   "version": "3.10.12"
  }
 },
 "nbformat": 4,
 "nbformat_minor": 5
}
