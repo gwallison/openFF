{
 "cells": [
  {
   "cell_type": "code",
   "execution_count": null,
   "id": "b9071ee4-9292-43a5-a2e9-a88189e90a53",
   "metadata": {},
   "outputs": [],
   "source": [
    "import sys\n",
    "sys.path.insert(0,'c:/MyDocs/integrated/') # adjust to your setup\n",
    "\n",
    "%run \"catalog_support.py\" \n",
    "showHeader('Ohio Drilling Chemicals')"
   ]
  },
  {
   "cell_type": "markdown",
   "id": "13c3f6ff-11b4-480a-9052-9e518f398cd6",
   "metadata": {},
   "source": [
    "## Description\n",
    "Chemicals are used in many phases of an oil or gas well's life span.  FracFocus reports on just one phase: chemicals used during the hydraulic fracturing phase. \n",
    "\n",
    "Another phase, however, is the drilling phase: during which the hole is initially created.  This phase might be of interest because any chemicals added are not separated from the surrounding rocks and, potentially, aquafers.  This is unlike the fracking phase because a cement casing added before fracking commences.  \n",
    "\n",
    "However, also unlike the situation for fracking chemicals, drilling chemicals are not often reported.  Ohio is (currently) the only state to require disclosure of drilling chemicals. \n",
    "\n",
    "This page reports the beginning of a data set of disclosures of Ohio Drilling Chemicals.  \n",
    "\n",
    "## Current status of this data set\n",
    "We have found direct web links to over 3000 disclosure forms (OH Form 8A).  We have not scraped this data set; but it is not a giant task, at least for those disclosures that can be automatically scraped.  There is a lot of interesting info (and missing data!) here.  If you are interested in diving deeper into these data, contact us - we may have tools to help."
   ]
  },
  {
   "cell_type": "markdown",
   "id": "e079ddf2-5fdd-4f25-9b36-3a3fd951e823",
   "metadata": {},
   "source": [
    "### Data source\n",
    "The data are maintained on the ODNR database system.  Typically, the way a user would locate the drilling chemical report would be to:\n",
    "- go to the ODNR's online database search, and find the [\"Completions\" search page](https://apps.ohiodnr.gov/oilgas/rbdmsreports/Reports_Completions.aspx).\n",
    "- Enter the APINumber of the well of interest into the appropriate cell.\n",
    "- When the result is returned, look for the link towards the bottom labeled \"CHEMICAL\" or something similar.\n",
    "- Clicking on that link will cause a PDF file to be available to your computer.\n",
    "\n",
    "\n",
    "#### Easier access\n",
    "The table below connects you directly to the chemical disclosure for each well that has a disclosure.\n",
    "This set of PDF files cover a variety of formats from computer generated and scrape-able to handwritten forms.  It is based on a webcrawl in **June 2022**.  Newer disclosures won't be here."
   ]
  },
  {
   "cell_type": "code",
   "execution_count": null,
   "id": "1ce0c01d-3439-4214-8619-056950b5df8f",
   "metadata": {},
   "outputs": [],
   "source": [
    "def make_clickable(val,text='ODNR link'):\n",
    "    try:\n",
    "        if val[:4]=='http':\n",
    "            return '<a href=\"{}\" target=\"_blank\">{}</a>'.format(val,text)\n",
    "    except:\n",
    "        return val\n",
    "    return val\n"
   ]
  },
  {
   "cell_type": "code",
   "execution_count": null,
   "id": "9c2a3b2a-f4ae-4ab2-bc4c-d18897500b44",
   "metadata": {},
   "outputs": [],
   "source": [
    "pdf_lst = pd.read_csv(r\"C:\\MyDocs\\OpenFF\\src\\testing\\oh_scrape\\chemical_pdf_list_with_ana.csv\",\n",
    "                     dtype={'APINumber':'str'})\n",
    "pdf_lst['pdflink'] = pdf_lst.link.map(lambda x: make_clickable(x))\n",
    "apis = pdf_lst.APINumber.unique().tolist()\n",
    "# iShow(pdf_lst[['APINumber','ntables','pdflink']],maxBytes=0)"
   ]
  },
  {
   "cell_type": "markdown",
   "id": "753d3cda-bf03-4df0-b605-acc38337df60",
   "metadata": {},
   "source": [
    "|Explanation of columns below|\n",
    "| :---: |\n",
    "\n",
    "| Column      | Description |\n",
    "| :----: | :-------- |\n",
    "|APINumber | The standard well identification number|\n",
    "|map | Link to a Google satellite view of the geocoordinates given in FracFocus for this well|\n",
    "|date| FracFocus date for End of Job; 'NaT' means disclosure is not in FracFocus|\n",
    "|bgCountyName | County name for this well as reported in Open-FF; 'nan' means disclosure is not in FracFocus |\n",
    "|bgOperatorName |Operator company for this well as reported in Open-FF; 'nan' means disclosure is not in FracFocus |\n",
    "|ntables | Number of tables found by scraping software (camelot.py) in the PDF; 0 tables usually means the PDF is not scrape-able.\n",
    "|pdflink| Direct link to the ODNR copy of this Form.|"
   ]
  },
  {
   "cell_type": "code",
   "execution_count": null,
   "id": "ae9eda5f-6b59-4867-bc3c-287d7d181072",
   "metadata": {},
   "outputs": [],
   "source": [
    "# fetch data set\n",
    "df = fh.get_df(os.path.join(hndl.sandbox_dir,'workdf.parquet'))"
   ]
  },
  {
   "cell_type": "code",
   "execution_count": null,
   "id": "462de2b4-4432-49d6-b24d-efcdc525e1bc",
   "metadata": {},
   "outputs": [],
   "source": [
    "gb = df[df.APINumber.isin(apis)].groupby('APINumber',as_index=False)[['bgCountyName','date',\n",
    "                                                                      'bgOperatorName','bgLatitude',\n",
    "                                                                      'bgLongitude']].first()\n",
    "gb['map'] = gb.apply(lambda x: th.getMapLink(x,'map'),axis=1)\n",
    "\n",
    "mg = pd.merge(pdf_lst,gb,on='APINumber',how='left')\n",
    "\n",
    "iShow(mg[['APINumber','map','date','bgCountyName','bgOperatorName','ntables','pdflink']],maxBytes=0)"
   ]
  },
  {
   "cell_type": "markdown",
   "id": "b35f135d-6673-4653-8512-f4b9d5651be7",
   "metadata": {},
   "source": [
    "## Interesting and/or typical disclosures found in this collection\n",
    "\n",
    "|APINumber with link | Description |\n",
    "| :--- |  :--- |\n",
    "| [34013206610000](https://gis.ohiodnr.gov/MapViewer/download.ashx?AB68B541-C473-4D51-9C7A-3E2B5B7B53A1WSC) | handwritten; detailed, but no CAS Numbers |\n",
    "| [34111243050100](https://gis.ohiodnr.gov/MapViewer/download.ashx?3D93459B-FA2E-46B9-9C2A-34BECA7CF560WSC) | lots of chemicals including BTEX; disclosure not scrape-able. |\n",
    "|[34111245720000](https://gis.ohiodnr.gov/MapViewer/download.ashx?F2329050-9966-41E7-A04E-4F84B0723A02WSC) | long list of relatively large masses of chemical usage .|\n",
    "|[34029219110000](https://gis.ohiodnr.gov/MapViewer/download.ashx?39945EF7-F351-4E31-B867-95E3C94585C7WSC) | simple list; PDF not scrape-able.|\n",
    "|[34081207820000](https://gis.ohiodnr.gov/MapViewer/download.ashx?F40687D1-9BD5-42BD-A609-ED1DFE6FEED8WSC) | simple list; common |\n",
    "|[34169256880000](https://gis.ohiodnr.gov/MapViewer/download.ashx?497FEC2E-E986-4568-9E6E-846A621225BEWSC) | no chemicals reported; common |\n"
   ]
  },
  {
   "cell_type": "markdown",
   "id": "0331b346-4034-4e17-b545-961a4f5ec887",
   "metadata": {},
   "source": [
    "---\n",
    "# CAS Numbers reported\n",
    "Preliminary scraping of these PDFs gives us an idea of the set of chemicals used in drilling.  \n",
    "(This was not an exhaustive search of all PDFs; many PDFs require more work to scrape than I had time for!  Nevertheless, there are more than 1200 distinct wells with identifiable chemicals.)"
   ]
  },
  {
   "cell_type": "code",
   "execution_count": null,
   "id": "86361748-3a46-49a7-972e-61d2606d6d71",
   "metadata": {},
   "outputs": [],
   "source": [
    "import re\n",
    "import string\n",
    "\n",
    "def is_valid_CAS_code(cas):\n",
    "    \"\"\"Returns boolean.\n",
    "    \n",
    "    Checks if number follows strictest format of CAS registry numbers:\n",
    "        \n",
    "    - three sections separated by '-', \n",
    "    - section 1 is 2-7 digits with no leading zeros, \n",
    "    - section 2 is two digits (no dropping leading zero),\n",
    "    - section 3 (check digit) is just one digit that satisfies validation algorithm.\n",
    "    - No extraneous characters.\"\"\"\n",
    "    try:\n",
    "        for c in cas:\n",
    "            err = False\n",
    "            if c not in '0123456789-': \n",
    "                err = True\n",
    "                break\n",
    "        if err: return False\n",
    "        lst = cas.split('-')\n",
    "        if len(lst)!=3 : return False\n",
    "        if len(lst[2])!=1 : return False # check digit must be a single digit\n",
    "        if lst[0][0] == '0': return False # leading zeros not allowed\n",
    "        s1int = int(lst[0])\n",
    "        if s1int > 9999999: return False\n",
    "        if s1int < 10: return False\n",
    "        s2int = int(lst[1])\n",
    "        if s2int > 99: return False\n",
    "        if len(lst[1])!=2: return False # must be two digits, even if <10\n",
    "\n",
    "        # validate test digit\n",
    "        teststr = lst[0]+lst[1]\n",
    "        teststr = teststr[::-1] # reverse for easy calculation\n",
    "        accum = 0\n",
    "        for i,digit in enumerate(teststr):\n",
    "            accum += (i+1)*int(digit)\n",
    "        if accum%10 != int(lst[2]):\n",
    "            return False\n",
    "        return True\n",
    "    except:\n",
    "        # some other problem\n",
    "        return False\n",
    "\n",
    "\n",
    "def cleanup_cas(cas):\n",
    "    \"\"\"Returns string.\n",
    "    \n",
    "    Removes extraneous characters and adjusts zeros where needed:\n",
    "        \n",
    "    - need two digits in middle segment and no leading zeros in first.\n",
    "    Note that we DON'T check CAS validity, here. Just cleanup. \n",
    "    \"\"\"\n",
    "    #print(cas)\n",
    "    cas = re.sub(r'[^0-9-]','',cas)\n",
    "    lst = cas.split('-') # try to break into three segments\n",
    "    if len(lst) != 3: return cas # not enough pieces - return filtered cas\n",
    "    if len(lst[2])!= 1: return cas # can't do anything here with malformed checkdigit\n",
    "    if len(lst[1])!=2:\n",
    "        if len(lst[1])==1:\n",
    "            lst[1] = '0'+lst[1]\n",
    "        else:\n",
    "            return cas # wrong number of digits in chunk2 to fix here\n",
    "    lst[0] = lst[0].lstrip('0')\n",
    "    if (len(lst[0])<2 or len(lst[0])>7): return cas # too many or two few digits in first segment\n",
    "    \n",
    "    return f'{lst[0]}-{lst[1]}-{lst[2]}'\n"
   ]
  },
  {
   "cell_type": "code",
   "execution_count": null,
   "id": "be8c9ff3-4c91-403c-9bfe-1671126891b8",
   "metadata": {},
   "outputs": [],
   "source": [
    "casdf = pd.read_csv(r\"C:\\MyDocs\\OpenFF\\src\\testing\\oh_scrape\\prospective_cas_list.csv\")\n",
    "casdf = casdf[casdf.cas_num.notna()]\n",
    "gb = casdf.groupby('cas_num',as_index=False)['APINumber'].count()\n",
    "#print(gb.head())\n"
   ]
  },
  {
   "cell_type": "code",
   "execution_count": null,
   "id": "bafaf19d-1059-4ed4-be8d-2655fef363bf",
   "metadata": {},
   "outputs": [],
   "source": [
    "gb['cleancas'] = gb.cas_num.map(lambda x: cleanup_cas(x))\n",
    "gb['is_valid'] = gb.cleancas.map(lambda x: is_valid_CAS_code(x))\n",
    "\n",
    "#print(gb.head(50))"
   ]
  },
  {
   "cell_type": "code",
   "execution_count": null,
   "id": "1cfbdac6-4126-4438-92ba-f751e5d47d46",
   "metadata": {},
   "outputs": [],
   "source": [
    "# Now compare to FF chemicals\n",
    "df = ana_set.Full_set(repo = repo_name, outdir='../common/').get_set(verbose=False)\n",
    "ffcas = df.bgCAS.unique().tolist()\n",
    "\n",
    "gb['is_in_FF'] = gb.cleancas.isin(ffcas)\n",
    "gb.to_csv('drilling_cas_list.csv')\n",
    "gb\n"
   ]
  }
 ],
 "metadata": {
  "kernelspec": {
   "display_name": "Python 3 (ipykernel)",
   "language": "python",
   "name": "python3"
  },
  "language_info": {
   "codemirror_mode": {
    "name": "ipython",
    "version": 3
   },
   "file_extension": ".py",
   "mimetype": "text/x-python",
   "name": "python",
   "nbconvert_exporter": "python",
   "pygments_lexer": "ipython3",
   "version": "3.10.12"
  }
 },
 "nbformat": 4,
 "nbformat_minor": 5
}
