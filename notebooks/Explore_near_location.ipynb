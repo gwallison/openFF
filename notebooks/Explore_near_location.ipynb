{
 "cells": [
  {
   "cell_type": "markdown",
   "id": "1ec9294a-d40a-495f-ae40-447a0caa9df2",
   "metadata": {
    "id": "9e3823ba-1c6f-4b87-849a-8ca8bdc68e5d",
    "tags": []
   },
   "source": [
    "| <div> <img src=\"https://storage.googleapis.com/open-ff-common/openFF_logo.png\" width=\"100\"/><br>Open-FF</div>|<h1>Local fracking demo</h1>|<center><a href=\"https://www.fractracker.org/\" title=\"FracTracker Alliance\"><img src=\"https://storage.googleapis.com/open-ff-common/2021_FT_logo_icon.png\" alt=\"FracTracker logo\" width=\"100\" height=\"100\"><br>Sponsored by<br> FracTracker Alliance</a></center>|\n",
    "|---|---|---|"
   ]
  },
  {
   "cell_type": "code",
   "execution_count": null,
   "id": "ac93cfa7-222c-4681-adc1-63c9fdabee6b",
   "metadata": {
    "tags": []
   },
   "outputs": [],
   "source": [
    "# fetch the Open-FF code repository and master data file from remote storage\n",
    "# For use in COLAB, the following lines should be uncommented; \n",
    "#   comment all lines if running locally\n",
    "\n",
    "# !git clone https://github.com/gwallison/openFF.git &>/dev/null;\n",
    "# !pip install itables  &>/dev/null;\n",
    "# !pip install geopandas  &>/dev/null;\n",
    "# %run openFF/notebooks/Explore_near_location_support.py"
   ]
  },
  {
   "cell_type": "code",
   "execution_count": null,
   "id": "6abd53e8-f3fc-4613-b370-4e56cd0a44eb",
   "metadata": {
    "tags": []
   },
   "outputs": [],
   "source": [
    "# Local - The lines below should stay commented unless running locally, they would replace the cell above\n",
    "import sys\n",
    "sys.path.insert(0,'c:/MyDocs/integrated/') # adjust to your setup\n",
    "%run Data_set_customizer_support.py"
   ]
  },
  {
   "cell_type": "code",
   "execution_count": null,
   "id": "9de2f427-5a9f-4ade-9299-8c8392b2beb4",
   "metadata": {},
   "outputs": [],
   "source": [
    "# MANUAL ENTRY of lat/lon\n",
    "# lat = 32.6967627558117; lon = -97.18214065821618  # test location\n",
    "# lat = 31.62049482630234; lon = -102.21593260383503\n",
    "# lat = 39.8313970034219; lon = -80.91392628688207\n",
    "# lat = 40.02768906906318; lon = -80.04506026390985 # Bryan Latkanich's home\n",
    "#lat = 40.111543652018085; lon = -80.10836006475418 # Lois's house\n",
    "# lat = 39.79706290876846; lon = -80.33322585669664 # EQT well in Greene PA\n",
    "lat = 40.38948396033769; lon = -79.58238185278023 # Apex pad in PA\n",
    "#lat = 40.30120000; lon = -80.64450000 # Ascent pad in OH"
   ]
  },
  {
   "cell_type": "code",
   "execution_count": null,
   "id": "1f8ac158-68f0-4363-9c40-8f4a72e136f5",
   "metadata": {
    "tags": []
   },
   "outputs": [],
   "source": [
    "print(lat,lon)"
   ]
  },
  {
   "cell_type": "markdown",
   "id": "0d7b7fed-ead4-44cd-a3d0-0c7d60e3f553",
   "metadata": {
    "tags": []
   },
   "source": [
    "## Map focal site"
   ]
  },
  {
   "cell_type": "code",
   "execution_count": null,
   "id": "c7b9100a-6de6-496f-aeaf-e480f074df65",
   "metadata": {},
   "outputs": [],
   "source": [
    "gt.show_simple_map(lat,lon,clickable=True)"
   ]
  },
  {
   "cell_type": "code",
   "execution_count": null,
   "id": "d66394f1-88b0-47cd-9072-c7bf86eeb9fa",
   "metadata": {
    "tags": []
   },
   "outputs": [],
   "source": [
    "radius_in_feet = 5280\n",
    "radius_m = radius_in_feet * 0.3048\n",
    "apis = locate_wells(df,lat,lon,buffer_m=radius_m)\n",
    "gt.showWells(df,lat,lon,apis)"
   ]
  },
  {
   "cell_type": "markdown",
   "id": "66b94b42-7b8b-4dd2-ab24-74b476a4f538",
   "metadata": {},
   "source": [
    "---\n",
    "# Well information"
   ]
  },
  {
   "cell_type": "code",
   "execution_count": null,
   "id": "a653d970-71d0-4fd6-be11-1ef79c98c2dc",
   "metadata": {},
   "outputs": [],
   "source": [
    "t, dgb = show_well_info(apis)"
   ]
  },
  {
   "cell_type": "markdown",
   "id": "0353ca6b-8af2-4e1d-be2c-8a18801c75b3",
   "metadata": {},
   "source": [
    "# How big are the fracking jobs?"
   ]
  },
  {
   "cell_type": "code",
   "execution_count": null,
   "id": "bbe51098-2d2d-42c0-91a5-42b3b07b8259",
   "metadata": {},
   "outputs": [],
   "source": [
    "show_water_used(dgb)"
   ]
  },
  {
   "cell_type": "markdown",
   "id": "0be489b1-27b6-4bc3-8ec3-a99a5e54129a",
   "metadata": {},
   "source": [
    "# What chemicals are used?\n",
    "### All fracking jobs combined"
   ]
  },
  {
   "cell_type": "code",
   "execution_count": null,
   "id": "87ff131c-d374-4cc6-a08a-09930287de19",
   "metadata": {},
   "outputs": [],
   "source": [
    "show_chem_summary(t)"
   ]
  },
  {
   "cell_type": "markdown",
   "id": "24b631dd-5931-4a2d-aff2-4bfaee853763",
   "metadata": {},
   "source": [
    "|Explanation of columns in the index|\n",
    "| :---: |\n",
    "\n",
    "| Column      | Description |\n",
    "| :----: | :-------- |\n",
    "|*Material*| at top is the CAS registration number of the chemical. **Click on this link** to display summary of this chemical for all of FracFocus (filtered data - up to last major update). Below are two names for the material: the upper is used by SciFinder as the primary name and the lower is the most common reported name in FracFocus| \n",
    "|*ref*|Click on the \"csv\" link to a csv-formatted file that has all the filtered records for this chemical.  Click on \"PubChem\" link for a PubChem web search for this chemical.  Click on \"EPA: CompTox\" for the summary page in that resource|\n",
    "|*total num records* |indicates the number of records across the FracFocus data. A given chemical may appear more than once in a disclosure. |\n",
    "|*num records with mass*|indicates the number of records with mass of this chemical in the **filtered** data. Without mass, a record only indicates **presence** in the disclosure.|\n",
    "|*Total mass used (lbs)*| the sum of the computable mass of all records in the set|\n",
    "|*Chemicals of Concern* |indicates if the chemical is on one of the following lists.  Type the name of the list into the Search box to limit to those chemicals.<br> - **CWA**: indicates that the chemical is on the [Clean Water Act list](https://comptox.epa.gov/dashboard/chemical_lists/CWA311HS) as compiled in EPA's CompTox<br>- **DWSHA**: indicated that the chemical is on the EPA's [Drinking Water Safety and Health Advisory](https://comptox.epa.gov/dashboard/chemical_lists/EPADWS) list<br>- **TEDX**: indicates that the chemical is on [The Endocrine Disruption Exchange](https://endocrinedisruption.org) list<br>- **prop_65**: indicates that the chemical is on [California's Proposition 65](https://oehha.ca.gov/proposition-65/proposition-65-list) list<br>- **EPA_PFAS**: indicates that the chemical is on EPA's comprehensive list of PFAS related compounds<br>- **UVCB**: indicates that the chemical is on the [TSCA list of \"Unknown, Variable composition, Complex reaction products and Biological\"](https://www.epa.gov/sites/default/files/2015-05/documents/uvcb.pdf) materials, meaning \"these chemical substances cannot be represented by unique structures and molecular formulas.\"<br>- **diesel**: indicates that the chemical is [on the EPA list that](https://www.epa.gov/uic/diesel-fuels-hydraulic-fracturing-dfhf) \"represent the most appropriate interpretation of the statutory term 'diesel fuels' to use for permitting diesel fuels hydraulic fracturing under the UIC Program nationwide.|\n"
   ]
  },
  {
   "cell_type": "code",
   "execution_count": null,
   "id": "29a09bf4-087a-4809-92f9-1815d62db28a",
   "metadata": {},
   "outputs": [],
   "source": []
  }
 ],
 "metadata": {
  "colab": {
   "provenance": []
  },
  "kernelspec": {
   "display_name": "Python 3 (ipykernel)",
   "language": "python",
   "name": "python3"
  },
  "language_info": {
   "codemirror_mode": {
    "name": "ipython",
    "version": 3
   },
   "file_extension": ".py",
   "mimetype": "text/x-python",
   "name": "python",
   "nbconvert_exporter": "python",
   "pygments_lexer": "ipython3",
   "version": "3.10.12"
  },
  "toc-autonumbering": false
 },
 "nbformat": 4,
 "nbformat_minor": 5
}
