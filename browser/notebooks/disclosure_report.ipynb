{
 "cells": [
  {
   "cell_type": "code",
   "execution_count": null,
   "id": "7af406d4-1dd0-4905-bb6a-77bdb9f98429",
   "metadata": {},
   "outputs": [],
   "source": [
    "# %cd ./work\n",
    "# %pwd"
   ]
  },
  {
   "cell_type": "code",
   "execution_count": null,
   "id": "a4c09db7-b59f-40f3-8c4d-da124c7037f4",
   "metadata": {},
   "outputs": [],
   "source": [
    "# %run \"../catalog_common.py\""
   ]
  },
  {
   "cell_type": "code",
   "execution_count": null,
   "id": "8bf11553-0fb6-433c-bee9-5521e41a32bb",
   "metadata": {},
   "outputs": [],
   "source": [
    "# import sys\n",
    "# sys.path.insert(0,'c:/MyDocs/OpenFF/src/openFF-catalog/')\n",
    "# import catalog_common as cc"
   ]
  },
  {
   "cell_type": "code",
   "execution_count": null,
   "id": "79085df4-fdd8-4af2-9fbb-0414a407d14f",
   "metadata": {},
   "outputs": [],
   "source": [
    "#preamble to analysis\n",
    "import pandas as pd\n",
    "import numpy as np\n",
    "from IPython.display import Markdown as md\n",
    "from IPython.display import HTML, display\n",
    "from time import sleep\n",
    "\n",
    "from itables import init_notebook_mode\n",
    "init_notebook_mode(all_interactive=True,connected=True)\n",
    "from itables import show as iShow\n",
    "import itables.options as opt\n",
    "opt.classes=\"display compact cell-border\"\n",
    "opt.maxBytes = 0\n",
    "\n",
    "opt.order = []  # no sorting"
   ]
  },
  {
   "cell_type": "code",
   "execution_count": null,
   "id": "da094f68-1a7f-4725-b10b-df3da6f01ca7",
   "metadata": {},
   "outputs": [],
   "source": [
    "import sys\n",
    "sys.path.insert(0,'c:/MyDocs/integrated/') # adjust to your setup\n",
    "from openFF.common.display_tables import make_chem_single_disclosure"
   ]
  },
  {
   "cell_type": "code",
   "execution_count": null,
   "id": "b68199e2-8615-4b62-ae24-56d2bf5602a5",
   "metadata": {},
   "outputs": [],
   "source": [
    "alldf = pd.read_parquet(r\"C:\\MyDocs\\integrated\\openFF\\tmp\\all_disc.parquet\")\n",
    "if len(alldf)>1:\n",
    "    display(md('## This well has more than one disclosure'))\n",
    "    iShow(alldf, paging=False)"
   ]
  },
  {
   "cell_type": "code",
   "execution_count": null,
   "id": "237e8b0f-13d7-4374-b2d3-c8d31ae4de15",
   "metadata": {},
   "outputs": [],
   "source": [
    "display(md('## Meta data'))\n",
    "# cols = ['UploadKey','APINumber','api10','OperatorName','bgOperatorName','date','TotalBaseWaterVolume',\n",
    "#         'Latitude','bgLatitude','stLatitude','JobStartDate','JobEndDate',\n",
    "#         'StateName','CountyName','bgStateName','bgCountyName',\n",
    "#         'Longitude','bgLongitude','stLongitude','is_duplicate','has_ingredients',\n",
    "#        'FederalWell','IndianWell','bgFederalLand','bgNativeAmericanLand']\n",
    "metadf = pd.read_parquet(r\"C:\\MyDocs\\integrated\\openFF\\tmp\\meta.parquet\")#,columns=cols)\n",
    "# meta = metadf.T.copy().reset_index()\n",
    "# meta.columns = ['field','value']"
   ]
  },
  {
   "cell_type": "code",
   "execution_count": null,
   "id": "1b2439a9-8bb9-41e6-a605-d210cb868201",
   "metadata": {
    "tags": []
   },
   "outputs": [],
   "source": [
    "l1 = ['source:','FF','Open-FF','state value']\n",
    "api = metadf.APINumber.iloc[0]\n",
    "api = api[:2]+'-'+api[2:5]+'-'+api[5:10]+'-'+api[10:]\n",
    "l2 = ['API number:',api,metadf.api10.iloc[0],' ']\n",
    "l2a = ['State:',metadf.StateName.iloc[0],metadf.bgStateName.iloc[0],' ']\n",
    "l2b = ['County:',metadf.CountyName.iloc[0],metadf.bgCountyName.iloc[0],' ']\n",
    "l3 = ['dates:',str(metadf.JobStartDate.iloc[0]).split()[0]+'<br>'+str(metadf.JobEndDate.iloc[0]).split()[0],str(metadf.date.iloc[0]).split()[0],' ']\n",
    "l4 = ['Operator:',metadf.OperatorName.iloc[0],metadf.bgOperatorName.iloc[0],' ']\n",
    "l5 = ['Latitude:',metadf.Latitude.iloc[0],metadf.bgLatitude.iloc[0],metadf.stLatitude.iloc[0]]\n",
    "l6 = ['Longitude:',metadf.Longitude.iloc[0],metadf.bgLongitude.iloc[0],metadf.stLongitude.iloc[0]]\n",
    "l7 = ['Federal Land:',metadf.FederalWell.iloc[0],metadf.bgFederalLand.iloc[0],' ']\n",
    "l8 = ['Native Land:',metadf.IndianWell.iloc[0],metadf.bgNativeAmericanLand.iloc[0],' ']\n",
    "l9 = ['Total water vol. (gal):',f'{metadf.TotalBaseWaterVolume.iloc[0]:,}',' ',' ']\n",
    "l10 = ['Is a duplicate?:',' ',metadf.is_duplicate.iloc[0],' ']\n",
    "x = pd.DataFrame([l1,l2,l2a,l2b,l3,l4,l5,l6,l7,l8,l9,l10])\n",
    "\n",
    "iShow(x,paging=False,style=\"table-layout:auto;width:55%\",dom=\"lrtip\",\n",
    "     classes='nowrap cell-border compact')"
   ]
  },
  {
   "cell_type": "code",
   "execution_count": null,
   "id": "6b37f76e-8744-42ad-80b6-d42d522b1a08",
   "metadata": {
    "tags": []
   },
   "outputs": [],
   "source": [
    "if metadf.has_ingredients.iloc[0]==False:\n",
    "    display(md('### This disclosure has no chemical data in the bulk download.'))\n",
    "    display(md('To view the PDF version, copy the APINumber from this page and paste it into the [FracFocus search page](https://fracfocus.org/wells/advanced)'))\n",
    "    display(md('Below are the empty records in the bulk data for this disclosure'))\n",
    "else:\n",
    "    display(md('## Chemical data'))    \n",
    "chemdf = pd.read_parquet(r\"C:\\MyDocs\\integrated\\openFF\\tmp\\chem.parquet\")\n",
    "casdf = pd.read_parquet(r\"C:\\MyDocs\\integrated\\openFF\\tmp\\cas.parquet\")\n",
    "outdf = make_chem_single_disclosure(chemdf,casdf)\n",
    "from itables import JavascriptCode\n",
    "iShow(outdf.reset_index(drop=True), paging=False,style=\"table-layout:auto;width:75%\",\n",
    "     columnDefs=[{\"width\": \"80px\", \"targets\": 2},\n",
    "                     {\"render\": JavascriptCode(\"$.fn.dataTable.render.number(',', '.', 0)\"),\"targets\": 5}],)"
   ]
  }
 ],
 "metadata": {
  "kernelspec": {
   "display_name": "Python 3 (ipykernel)",
   "language": "python",
   "name": "python3"
  },
  "language_info": {
   "codemirror_mode": {
    "name": "ipython",
    "version": 3
   },
   "file_extension": ".py",
   "mimetype": "text/x-python",
   "name": "python",
   "nbconvert_exporter": "python",
   "pygments_lexer": "ipython3",
   "version": "3.10.12"
  }
 },
 "nbformat": 4,
 "nbformat_minor": 5
}
