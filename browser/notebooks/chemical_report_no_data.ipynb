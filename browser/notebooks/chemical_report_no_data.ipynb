{
 "cells": [
  {
   "cell_type": "code",
   "execution_count": null,
   "metadata": {},
   "outputs": [],
   "source": [
    "import sys\n",
    "sys.path.insert(0,'c:/MyDocs/integrated/') # adjust to your setup\n",
    "\n",
    "%run \"catalog_support.py\" \n",
    "showHeader('Chemical report',use_remote=False)"
   ]
  },
  {
   "cell_type": "code",
   "execution_count": null,
   "metadata": {},
   "outputs": [],
   "source": [
    "#preamble to analysis\n",
    "import pandas as pd\n",
    "import numpy as np\n",
    "import matplotlib.pyplot as plt\n",
    "from pylab import gca, mpl\n",
    "\n",
    "%matplotlib inline\n",
    "import seaborn as sns\n",
    "import matplotlib.ticker\n",
    "from IPython.display import Markdown as md\n",
    "from IPython.display import HTML, display\n",
    "from time import sleep\n",
    "\n",
    "from itables import init_notebook_mode\n",
    "init_notebook_mode(all_interactive=True)\n",
    "from itables import show as iShow\n",
    "import itables.options as opt\n",
    "\n",
    "\n",
    "\n"
   ]
  },
  {
   "cell_type": "code",
   "execution_count": null,
   "metadata": {},
   "outputs": [],
   "source": [
    "df = pd.read_csv('data.csv',low_memory=False,\n",
    "                   dtype={'api10':str,'APINumber':str})\n",
    "# get some global values\n",
    "ref_df = pd.read_csv('ref.csv')\n",
    "ref_df.set_index('varname',inplace=True)"
   ]
  },
  {
   "cell_type": "code",
   "execution_count": null,
   "metadata": {},
   "outputs": [],
   "source": [
    "cas = ref_df.loc['target_cas']\n",
    "# ing_name = '?'\n",
    "# comm_name = '?'\n",
    "# cas_epa = '?'\n",
    "# cas_iupac = '?'\n",
    "cas = df.bgCAS.iloc[0]\n",
    "cas_orig = df.bgIngredientName.iloc[0]\n",
    "if cas_orig==np.NaN:\n",
    "    cas_orig = '(not identified by CAS number)'\n",
    "cas_epa = df.epa_pref_name.iloc[0]\n",
    "cas_iupac = df.iupac_name.iloc[0]\n",
    "try:\n",
    "    comm_name = df.IngredientName.value_counts().index[0]\n",
    "except:\n",
    "    comm_name = ''\n",
    "\n",
    "cas_ignore = ['proprietary','ambiguousID','sysAppMeta','conflictingID']\n",
    "\n",
    "ing_name = cas_epa\n",
    "if (ing_name == '--')|(ing_name == np.NaN)|(ing_name == None)|(ing_name=='nan'):\n",
    "    ing_name=cas_orig\n",
    "if cas in cas_ignore:\n",
    "    ing_name = ''"
   ]
  },
  {
   "cell_type": "code",
   "execution_count": null,
   "metadata": {},
   "outputs": [],
   "source": [
    "ID_header(title=f'{cas}<br>{ing_name}',\n",
    "          imagelink = getMoleculeImg(cas,size=300,chemical_report=True),\n",
    "          incl_links=True,\n",
    "          link_up_level=True)\n",
    "set_page_param()\n"
   ]
  },
  {
   "cell_type": "markdown",
   "metadata": {},
   "source": [
    "### Open-FF Chemical Report\n",
    "This is a script-generated report about a specific chemical used in the Hydraulic Fracking industry. The source of these data is the industry-sponsored website [FracFocus](https://fracfocus.org/), but are analyzed by the independent project [Open-FF](https://frackingchemicaldisclosure.wordpress.com/).\n",
    "\n",
    "Molecule images courtesy of [CompTox](https://comptox.epa.gov/dashboard/). Disclosures before 2011 are not included.\n"
   ]
  },
  {
   "cell_type": "markdown",
   "metadata": {},
   "source": [
    "# No data available for analysis of this chemical\n",
    "This typically occurs when a report of a chemical in a disclosure is only found in **duplicated** disclosures in FracFocus.  That is, there are at least two disclosures for a well on the same date and one of them has this chemical.  Because FracFocus does not indicate WHICH of those duplicates is the valid disclosure, we filter them all out. \n",
    "\n",
    "To see the records for this chemical, click on the \"data\" link on the Chemical Index for that CAS number.\n",
    "\n",
    "Additionally, the Find-a-Well tool at FracFocus will still report disclosures with this chemical. Below are the APINumbers and dates where the material that you can use to find them there. "
   ]
  },
  {
   "cell_type": "code",
   "execution_count": null,
   "metadata": {
    "tags": []
   },
   "outputs": [],
   "source": [
    "\n",
    "iShow(df[['APINumber','date','CASNumber','bgCAS','calcMass']])"
   ]
  }
 ],
 "metadata": {
  "hide_input": true,
  "kernelspec": {
   "display_name": "Python 3 (ipykernel)",
   "language": "python",
   "name": "python3"
  },
  "language_info": {
   "codemirror_mode": {
    "name": "ipython",
    "version": 3
   },
   "file_extension": ".py",
   "mimetype": "text/x-python",
   "name": "python",
   "nbconvert_exporter": "python",
   "pygments_lexer": "ipython3",
   "version": "3.10.12"
  }
 },
 "nbformat": 4,
 "nbformat_minor": 4
}
