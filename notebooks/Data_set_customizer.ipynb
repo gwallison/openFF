{
 "cells": [
  {
   "cell_type": "markdown",
   "id": "75254837-dc42-46ff-b311-56532f56e6d8",
   "metadata": {},
   "source": [
    "# Open-FF data set customizer\n",
    "The purpose of this notebook is to provide users with a relatively simple way to convert Open-FF's full dataframe (that is in \"parquet\" format) into a different format and, if desired, filter the data to a smaller subset.\n",
    "\n",
    "While this is a \"code\" notebook, users do not need to know anything about coding to successfully use this tool.  "
   ]
  },
  {
   "cell_type": "code",
   "execution_count": 2,
   "id": "d1c232ad-223e-4efa-8baa-04e8b9885642",
   "metadata": {
    "tags": []
   },
   "outputs": [],
   "source": [
    "import pandas as pd\n",
    "\n",
    "df_url = \"https://storage.googleapis.com/open-ff-common/repos/current_repo/full_df.parquet\"\n",
    "df = pd.read_parquet(df_url, columns=['bgCAS','UploadKey'])"
   ]
  }
 ],
 "metadata": {
  "kernelspec": {
   "display_name": "Python 3 (ipykernel)",
   "language": "python",
   "name": "python3"
  },
  "language_info": {
   "codemirror_mode": {
    "name": "ipython",
    "version": 3
   },
   "file_extension": ".py",
   "mimetype": "text/x-python",
   "name": "python",
   "nbconvert_exporter": "python",
   "pygments_lexer": "ipython3",
   "version": "3.10.12"
  }
 },
 "nbformat": 4,
 "nbformat_minor": 5
}
