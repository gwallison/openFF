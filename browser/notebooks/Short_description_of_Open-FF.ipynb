{
 "cells": [
  {
   "cell_type": "code",
   "execution_count": null,
   "id": "d5c08cf9-0b09-4114-b49b-bbb2f21c67bd",
   "metadata": {},
   "outputs": [],
   "source": [
    "import sys\n",
    "sys.path.insert(0,'c:/MyDocs/integrated/') # adjust to your setup\n",
    "\n",
    "%run \"catalog_support.py\" \n",
    "showHeader('Short Description of Open-FF')"
   ]
  },
  {
   "cell_type": "code",
   "execution_count": null,
   "id": "c8199c44-161e-4708-9a9a-aeedd5cc7f30",
   "metadata": {},
   "outputs": [],
   "source": [
    "# fetch data set\n",
    "df = fh.get_df(os.path.join(hndl.sandbox_dir,'workdf.parquet'))"
   ]
  },
  {
   "cell_type": "markdown",
   "id": "random-lying",
   "metadata": {},
   "source": [
    "\n",
    "> ### An open-source project to transform the industry's FracFocus disclosure data into a usable resource."
   ]
  },
  {
   "cell_type": "markdown",
   "id": "consistent-northeast",
   "metadata": {},
   "source": [
    "## Data sources\n",
    "\n",
    "The primary source of data for the Open-FF project is [FracFocus](https://fracfocus.org/), \"The national hydraulic fracturing chemical disclosure registry.\"  These data cover most US states where fracking is active; many states require operators to use FracFocus to disclose chemical information.  FracFocus began in 2011 and continues to release diclosures regularly.\n",
    "\n",
    "Open-FF uses the [bulk download](https://www.fracfocus.org/index.php?p=data-download) for the primary data set.  This set of over 6 million chemical records in over 200,000 disclosures is NOT a database. It contains several formats used by hundreds of different companies, often with poor attention to data completeness, quality, and standardization.  Summarizing patterns across the raw collection is very difficult.  Open-FF aims to transform this raw collection to produce data sets that improve standardization and completeness to facilitate big picture analysis of the industry's chemical use and disclosure practices.  \n",
    "\n",
    "Further, Open-FF maintains supplementary data sets that are available to interested researchers. For example, the bulk download does not include chemical records released through May 2013, even though the data are [available as PDFs](http://fracfocusdata.org/DisclosureSearch/Search.aspx).  These supplementary resources provide access to the data in the PDFs. Additionally, connections to external lists, such as chemicals of concern, are provided in the data sets.\n"
   ]
  },
  {
   "cell_type": "markdown",
   "id": "conventional-balloon",
   "metadata": {},
   "source": [
    "## Chemical Identification\n",
    "> #### There is no more important piece of a chemical disclosure instrument than clear identification of the chemicals used.\n",
    "\n",
    "Chemical usage in FracFocus is typically reported by both chemical names (such as \"methanol\") and a CAS registry number (\"67-56-1\").   However, many FracFocus disclosures do not provide unambiguous identity in both sources:"
   ]
  },
  {
   "cell_type": "code",
   "execution_count": null,
   "id": "legitimate-serial",
   "metadata": {},
   "outputs": [],
   "source": [
    "# t = pd.DataFrame({'number of records':[3548658,1640843,1554963,109406,89624]},index=['Both','Neither','CAS only','Conflicting','Ingredient name only'])\n",
    "try:\n",
    "    t = df.bgSource.value_counts()[:5]\n",
    "except:\n",
    "    t = df.source.value_counts()[:5]\n",
    "ax = t.plot.barh(figsize=(14,3))\n",
    "ax.set_title('Of reported CASRN/Ingredient name pairs, \\nwhich chemical identity sources are unambiguous?',\n",
    "            fontsize=16);\n",
    "ax.set_ylabel('unambiguous source',fontsize=14)\n",
    "plt.yticks(fontsize=14,rotation = 0);\n",
    "ax.set_xlabel('Number of chemical records',fontsize=14)\n",
    "plt.xticks(fontsize=14,rotation = 0);\n",
    "ax = gca().xaxis.set_major_formatter(mpl.ticker.StrMethodFormatter('{x:,.0f}'));\n"
   ]
  },
  {
   "cell_type": "markdown",
   "id": "committed-ensemble",
   "metadata": {},
   "source": [
    "Open-FF evaluates both forms of chemical identity by comparing them to authoritative references (The Chemical Abstract Service's SciFinder database and EPA's CompTox resource) to generate the \"best guess\" identity for as many FracFocus records as possible. In addition, Open-FF clearly labels the records in which companies explicitly obscure chemical identity - the so-called Trade Secret claims. Finally, some records are associated with the \"systems approach\" format. "
   ]
  },
  {
   "cell_type": "code",
   "execution_count": null,
   "id": "certified-uruguay",
   "metadata": {},
   "outputs": [],
   "source": [
    "# df = ana_set.Catalog_set(repo = repo_name, outdir='../common/').get_set(verbose=False)\n",
    "proper = len(df[df.bgCAS.str[0].isin(['0','1','2','3','4','5','6','7','8','9'])])\n",
    "propri = (df.bgCAS=='proprietary').sum()\n",
    "sysmeta = (df.bgCAS=='non_chem_record').sum()\n",
    "rest = len(df)-proper-propri-sysmeta\n",
    "#print(f'{proper},{propri}, {len(df)-proper-propri}')"
   ]
  },
  {
   "cell_type": "code",
   "execution_count": null,
   "id": "virtual-thong",
   "metadata": {},
   "outputs": [],
   "source": [
    "#from pylab import gca, mpl\n",
    "#import matplotlib.pyplot as plt\n",
    "t = pd.DataFrame({'valid chemical id':[proper],'proprietary claim':[propri],\n",
    "                  'not identified': [rest],'non-chemical record':[sysmeta]},index=[''])\n",
    "ax = t.plot.barh(stacked=True,\n",
    "            figsize=(16,1.5),\n",
    "           xlabel='all records');\n",
    "ax.set_title('Number of records by type',fontsize=16)\n",
    "ax.set_ylabel('all records',fontsize=14)\n",
    "ax.set_xlabel('',fontsize=14)\n",
    "plt.xticks(fontsize=14,rotation = 0);\n",
    "ax = gca().xaxis.set_major_formatter(mpl.ticker.StrMethodFormatter('{x:,.0f}'))\n",
    "plt.legend(bbox_to_anchor=(1, 1), loc='upper left', ncol=1, fontsize=14);\n",
    "# plt.legend(loc='upper left');\n"
   ]
  },
  {
   "cell_type": "markdown",
   "id": "median-egyptian",
   "metadata": {},
   "source": [
    "## Uncovering Chemical Quantity\n",
    "> #### After chemical identity, *how much* is used is of critical importance.\n",
    "\n",
    "FracFocus does not explicitly provide reports of chemical quantities in their pdf files. Text on the FracFocus website dwells on the **proportion** of added chemicals in a typical fracking job. That proportion can be pretty small - usually less than 2% - as this figure from the FracFocus website illustrates."
   ]
  },
  {
   "cell_type": "code",
   "execution_count": null,
   "id": "intensive-discount",
   "metadata": {},
   "outputs": [],
   "source": [
    "from IPython.display import Image\n",
    "# print(hndl.nb_images_dir)\n",
    "Image(filename=os.path.join(hndl.nb_images_dir,'FF_component_pie.png'), width=400)\n"
   ]
  },
  {
   "cell_type": "markdown",
   "id": "revolutionary-franchise",
   "metadata": {},
   "source": [
    "However, the actual **quantity** of the added chemicals can be quite large simply because the whole job is enormous. For example, the chemical Naphthalene (CASRN: 91-20-3) is a material on several lists of chemicals of concern and is used in about 15% of fracking jobs. In 10% of those jobs, more than 2,000 lbs. of the chemical is used."
   ]
  },
  {
   "cell_type": "markdown",
   "id": "close-proof",
   "metadata": {},
   "source": [
    "Although quantity is not explicit in FracFocus, we can still calculate the mass of all the chemicals if some basic information is present in a disclosure.\n",
    "\n",
    "The two basic disclosure values - volume of water used as the carrier and the percent of the total mass that the carrier occupies - allow Open-FF to calculate the total mass of the fracking job.  From there, the mass of individual records can be calculated using the reported percent of total mass for each chemical.  \n",
    "\n",
    "This method has been used by other researchers and the FracFocus team has acknowledged that it is valid.  One important caveat: the percent masses reported in FracFocus are the maximum of a range that a manufacturer reports in MSDS documents.  Therefore, the masses Open-FF calculates are maximums. "
   ]
  },
  {
   "cell_type": "code",
   "execution_count": null,
   "id": "5b1b74e7-f88f-4f8e-92ea-a895edc96a09",
   "metadata": {},
   "outputs": [],
   "source": [
    "import matplotlib.image as image\n",
    "im = image.imread(os.path.join(hndl.nb_images_dir,'91-20-3.png'))\n",
    "fig, ax = plt.subplots(figsize=(8,5))\n",
    "\n",
    "t = df[(df.bgCAS=='91-20-3')&(df.calcMass>1000)].copy()\n",
    "ax.scatter(t.date,t.calcMass, alpha=.5) \n",
    "#plt.set_figsize(10,4)\n",
    "\n",
    "plt.ylabel('Mass in pounds',fontsize=16);\n",
    "plt.title(f'Naphthalene records with mass >1,000 lbs',fontsize=16);\n",
    "ax.set(yscale='log')\n",
    "ax.tick_params(axis=\"y\", labelsize=14)\n",
    "ax.tick_params(axis=\"x\", labelsize=14)\n",
    "newax = fig.add_axes([0.7,0.65,0.2,0.2], anchor='NE', zorder=1)\n",
    "newax.imshow(im)\n",
    "newax.axis('off')\n",
    "locmaj = matplotlib.ticker.LogLocator(base=10,subs='all') \n",
    "ax.yaxis.set_major_locator(locmaj)\n",
    "# plt.set(figsize=(10,6))\n",
    "ax.set(ylim=(1500,t.calcMass.max()*1.2))\n",
    "ax.set(xlim=(t.date.min(),t.date.max()));\n",
    "ax.grid()\n"
   ]
  },
  {
   "cell_type": "markdown",
   "id": "elementary-subscription",
   "metadata": {},
   "source": [
    "In the graph above, each dot represents the calculated mass of Naphthalene from a single fracking job above 1,000 pounds.\n",
    "\n",
    "In addition to these calculations, recent versions of Open-FF use a undescribed column in FracFocus named \"MassIngredient\" that is available for about half of FracFocus records; Open-FF uses this data to validate calculations described above."
   ]
  },
  {
   "cell_type": "markdown",
   "id": "weird-witness",
   "metadata": {},
   "source": [
    "## Correcting and consolidating labels\n",
    "Open-FF also aims to make searching and aggregating data more feasible by cleaning up other data fields.  For example, the supplier and oilfield service company, Halliburton, is represented by more than 80 versions of the company name. Here's a sample of those versions in the Supplier field:\n",
    ">'Halliburton', 'HALLIBURTON', 'HES', 'Halliburton Energy Services, Inc. (HES)', 'Halliburton Energy Services, Inc', 'Hallibrton', 'Hallliburton', 'Halliburton Energy Services', 'Halliburton Energy Services, Inc.', 'HES Multi-Chem', 'Hallibruton Energy Services', 'Hallibuton',      'Halluburton', 'Halliburton, Multi-Chem', 'Halliurton', 'Halliberton', and 'HES Chemicals.' \n",
    "\n",
    "This lack of standardization makes thorough searches across 6 million records impossible.\n",
    "\n",
    "Open-FF employs curated translation tables to create new fields from these unstandardized fields.  For instance, all of the verisons above in Supplier are assigned to the value 'halliburton' in the bgSupplier field.  This allows us to produce comprehensive views of the whole data set.  In the following graph, the number of records for the biggest users of Naphthalene is shown - this time for operating companies, another curated field.\n"
   ]
  },
  {
   "cell_type": "code",
   "execution_count": null,
   "id": "0ccacabc-6ca7-4599-aff0-27e599478e25",
   "metadata": {},
   "outputs": [],
   "source": [
    "ngroups = 20\n",
    "ax = df[df.bgCAS=='91-20-3'].groupby('bgOperatorName')['DisclosureId'].count()\\\n",
    "     .sort_values(ascending=False)[:ngroups].plot.barh(figsize=(8,7))\n",
    "ax.tick_params(axis=\"y\", labelsize=14)\n",
    "ax.tick_params(axis=\"x\", labelsize=14)\n",
    "plt.xlabel('Number of records',fontsize=16);\n",
    "plt.ylabel(' ')\n",
    "plt.title(f'Number of Naphthalene records by operator',fontsize=16);"
   ]
  },
  {
   "cell_type": "code",
   "execution_count": null,
   "id": "detected-collect",
   "metadata": {},
   "outputs": [],
   "source": [
    "# from IPython.display import Image\n",
    "# Image(filename='./docs/naphthalene2.png', width=500)"
   ]
  },
  {
   "cell_type": "markdown",
   "id": "pacific-assurance",
   "metadata": {},
   "source": [
    "## Filtering\n",
    "Because FracFocus has a range of data quality and Open-FF assigns flags to questionable records and disclosures, users of Open-FF products can choose to filter out lower quality data or other problem data before performing analysis. Additionally, these flags can assist researchers interested in patterns of disclosure completeness and lack of transparency."
   ]
  },
  {
   "cell_type": "markdown",
   "id": "biblical-river",
   "metadata": {},
   "source": [
    "## Products\n",
    "\n",
    "Open-FF is an open-source project.  Through early 2023, project code was published at [CodeOcean](https://codeocean.com/capsule/9423121/tree) which allows any user to re-run the code, with or without modification. CodeOcean also certifies that the code is reproducible.  More recently, the project is published at GitHub ([openFF](https://github.com/gwallison/openFF) and [openFF-catalog](https://github.com/gwallison/openFF-catalog)) and includes documentation.\n",
    "- Users can explore the data set using the [Data Browser](https://storage.googleapis.com/open-ff-browser/Open-FF_Catalog.html). This include tables that are interactive, allowing for easy sorting and searching.  For example:\n",
    "    - The chemical index provides a quick method to scan and search through the list of over 1300 chemicals used in FracFocus. This index lets users subset the material based of lists of chemicals of concern and other factors.  For each item on this table, the user can view summary analysis of the chemical.  In addition, from this table, a user can download a slice of the data set of just the records for this chemical.\n",
    "    - The synonym index helps users identify a CAS number if they know a particular chemical name. The results in this table also point to summary analysis of each chemical.\n",
    "    - The operator index sumarizes where and when a company is active, their water use through time as well as summaries of chemicals of concern and trade secret designations.\n",
    "- Open-FF is currently publishing a [periodic summary](https://frackingchemicaldisclosure.wordpress.com/2021/02/13/data-new-disclosures/) of all the disclosures published since the last report.\n",
    "\n",
    "If you are interested in these data, but these products don't quite serve your needs, please contact us.  The goal of this project is to make the research of fracking chemicals more accessible and we are interested in adding features to assist analysis."
   ]
  }
 ],
 "metadata": {
  "hide_input": true,
  "kernelspec": {
   "display_name": "Python 3 (ipykernel)",
   "language": "python",
   "name": "python3"
  },
  "language_info": {
   "codemirror_mode": {
    "name": "ipython",
    "version": 3
   },
   "file_extension": ".py",
   "mimetype": "text/x-python",
   "name": "python",
   "nbconvert_exporter": "python",
   "pygments_lexer": "ipython3",
   "version": "3.10.12"
  }
 },
 "nbformat": 4,
 "nbformat_minor": 5
}
