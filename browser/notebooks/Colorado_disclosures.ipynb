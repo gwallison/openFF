{
 "cells": [
  {
   "cell_type": "code",
   "execution_count": null,
   "id": "9783b434-731f-438d-bf53-e09a653af90d",
   "metadata": {},
   "outputs": [],
   "source": [
    "import sys\n",
    "sys.path.insert(0,'c:/MyDocs/integrated/') # adjust to your setup\n",
    "\n",
    "%run \"catalog_support.py\" \n",
    "\n",
    "showHeader('Colorado disclosures',line2=f'Summary of XXXXXXX',use_remote=True)"
   ]
  },
  {
   "cell_type": "code",
   "execution_count": null,
   "id": "2bef59f5-6879-4342-ac48-5786d66aa194",
   "metadata": {},
   "outputs": [],
   "source": [
    "last_repo = datetime.datetime(year=2025,month=3,day=24)\n",
    "law_begins = datetime.datetime(year=2023,month=7,day=31)\n",
    "\n",
    "# fetch data set\n",
    "df = pd.read_parquet(os.path.join(hndl.sandbox_dir,'workdf.parquet'),\n",
    "               columns=['APINumber','DisclosureId','bgStateName','date','OperatorName','bgCAS','mass',\n",
    "                       'bgCountyName','in_std_filtered','JobStartDate','TradeName'],\n",
    "               filters=[('bgStateName','==','colorado'),\n",
    "                        ('in_std_filtered','==',True),\n",
    "                        ]\n",
    "              )\n",
    "\n",
    "df = df[df.date>law_begins]\n",
    "df['start_date'] = pd.to_datetime(df.JobStartDate,errors='coerce').dt.date\n",
    "df['start_date'] = pd.to_datetime(df.start_date,errors='coerce')\n",
    "gb = df.groupby('DisclosureId',as_index=False)[['APINumber','OperatorName','bgCountyName',\n",
    "                                                'start_date','date']].first()\n",
    "# gb1 = gb.groupby('bgStateName',as_index=False)['DisclosureId'].count().rename({'DisclosureId':'Number of disclosures'},axis=1)\n",
    "\n",
    "# gb2 = gb.groupby(['bgStateName','bgCountyName'],as_index=False)['DisclosureId'].count()\n",
    "# gb2 = gb2.groupby('bgStateName',as_index=False)['bgCountyName'].count().rename({'bgCountyName':'Number of counties'},axis=1)\n",
    "\n",
    "# gb3 = gb.groupby('bgStateName',as_index=False)['date'].agg(['min','max']).rename({'min':'earliest',\n",
    "#                                                                                   'max':'latest'},axis=1)\n",
    "# mg = pd.merge(gb1,gb2,on='bgStateName',how='left')\n",
    "# mg = pd.merge(mg,gb3,on='bgStateName',how='left')\n",
    "# mg = mg.rename({'bgStateName':'State'},axis=1)\n",
    "# # mg = mg.reset_index(drop=True)\n",
    "# mg.State = '<center><h3>'+mg.State.str.title().map(lambda x: th.getStateLink(x,x))+'</h3></center>'\n",
    "# mg = mg.sort_values('Number of disclosures',ascending=False)\n",
    "\n",
    "import itables.options as opt\n",
    "opt.order = []  # no sorting\n",
    "\n",
    "iShow(gb.reset_index(drop=True))\n",
    "# gb.info()\n",
    "\n",
    "work_dir = r\"G:\\My Drive\\webshare\\scrape_data\\Colorado\\ECMC_tracker\"\n",
    "welldf_fn = os.path.join(work_dir,'ECMC_welldf.parquet')\n",
    "\n",
    "# First time only\n",
    "# welldf = pd.DataFrame({'APINumber':[],'DisclosureId':[],\n",
    "#                        'locationID':[],'OperatorName':[],\n",
    "#                        'ECMC_op':[],'bgCountyName':[],\n",
    "#                        'start_date':[],'date':[]})\n",
    "# welldf.to_parquet(welldf_fn)\n",
    "welldf = pd.read_parquet(welldf_fn)\n",
    "welldf"
   ]
  },
  {
   "cell_type": "markdown",
   "id": "e1d5f41d-2c1d-4749-828e-30c1f33dc13a",
   "metadata": {},
   "source": [
    "### Populate welldf with current disclosures"
   ]
  },
  {
   "cell_type": "code",
   "execution_count": null,
   "id": "90e7bb14-d454-4785-a76e-5ac49ba95d08",
   "metadata": {},
   "outputs": [],
   "source": [
    "dlist = welldf.DisclosureId.unique().tolist()\n",
    "c = ~gb.DisclosureId.isin(dlist)\n",
    "both = pd.concat([welldf,gb[c]])\n",
    "both"
   ]
  },
  {
   "cell_type": "markdown",
   "id": "21e9509a-9978-4173-aa32-0c9447b6a7c2",
   "metadata": {},
   "source": [
    "### Fetch COGIS data on all disclosures"
   ]
  },
  {
   "cell_type": "code",
   "execution_count": null,
   "id": "ab6086de-3d56-419f-a90d-25da18602f41",
   "metadata": {},
   "outputs": [],
   "source": [
    "####  REDO WHEN ADDING NEW DATA\n",
    "\n",
    "# import scrape.Colorado.CO_scraper_support as coss\n",
    "# def make_soup_for_well(APINumber):\n",
    "#     rooturl = \"https://ecmc.state.co.us/cogisdb/Facility/FacilityDetailExpand?api=\"\n",
    "#     url = rooturl+ APINumber[2:-4]\n",
    "#     # print(url)\n",
    "#     html_content = coss.fetch_html(url)\n",
    "#     # print(html_content)\n",
    "#     # print('\\n'+url)\n",
    "#     # print(\"Recycled water\" in html_content)\n",
    "#     return coss.make_soup(html_content)\n",
    "\n",
    "# def get_location_id(soup):\n",
    "#     # Find the <td> element containing \"LocationID:\"\n",
    "#     location_id_td = soup.find('td', string='LocationID:')\n",
    "    \n",
    "#     if location_id_td:\n",
    "#         # Get the next sibling (the <td> with the value)\n",
    "#         value_td = location_id_td.find_next_sibling('td')\n",
    "#         if value_td:\n",
    "#             # Extract the text and convert it to an integer\n",
    "#             location_id_value = int(value_td.text)\n",
    "#             return location_id_value  # Output: 455576\n",
    "#         else:\n",
    "#             print(\"Error: Could not find sibling td with the value.\")\n",
    "#     else:\n",
    "#         print(\"Error: Could not find td containing 'LocationID:'\") \n",
    "    \n",
    "\n",
    "# def get_ECMC_operator(soup):\n",
    "#     # Find the <td> element containing \"Operator:\"\n",
    "#     operator_td = soup.find('td', string='Operator:')\n",
    "    \n",
    "#     if operator_td:\n",
    "#         # Get the next sibling (the <td> with the value)\n",
    "#         value_td = operator_td.find_next_sibling('td')\n",
    "#         if value_td:\n",
    "#             # Extract the text\n",
    "#             operator_value = value_td.text.strip()  # Remove leading/trailing spaces\n",
    "#             output = operator_value.split('(')[0]\n",
    "#             return output\n",
    "#         else:\n",
    "#             print(\"Error: Could not find sibling td with the value.\")\n",
    "#     else:\n",
    "#         print(\"Error: Could not find td containing 'Operator:'\")    \n",
    "\n",
    "# #  fetch ECMC data for the new disclosures\n",
    "# def get_ECMC_data(APINumber):\n",
    "#     soup = make_soup_for_well(APINumber)\n",
    "#     locID = get_location_id(soup)\n",
    "#     ECMCop = get_ECMC_operator(soup)\n",
    "#     return (locID,ECMCop)\n",
    "# locs = []\n",
    "# ops = []\n",
    "\n",
    "# # tmp = both[:5].copy()\n",
    "# for i,row in both.iterrows():\n",
    "#     print(i,end=' ')\n",
    "#     if type(row.locationID) == 'str':\n",
    "#         print(f'skipping {row.APINumber}')\n",
    "#         locs.append(row.locationID)\n",
    "#         ops.append(row.ECMC_op)\n",
    "#         continue\n",
    "#     else:\n",
    "#         tup = get_ECMC_data(row.APINumber)\n",
    "#         locs.append(tup[0])\n",
    "#         ops.append(tup[1])\n",
    "# # \n",
    "# both.locationID = locs\n",
    "# both.ECMC_op = ops\n",
    "# both.to_parquet(welldf_fn)\n",
    "# both"
   ]
  },
  {
   "cell_type": "markdown",
   "id": "34dd8a4e-3f7e-453b-b5c7-cf558f9825a7",
   "metadata": {},
   "source": [
    "## get ECMC locations"
   ]
  },
  {
   "cell_type": "code",
   "execution_count": null,
   "id": "ba2a57b1-22e0-494f-af88-5a682088d21c",
   "metadata": {},
   "outputs": [],
   "source": [
    "url = \"https://ecmc.state.co.us/depot/Stats/ChemicalDisclosures/Index/Locations\"\n",
    "t = pd.read_html(url)\n",
    "# print(len(t))\n",
    "eLocs = t[0].copy()\n",
    "eLocs['locationID'] = eLocs['Location Number']\n",
    "mg = pd.merge(both,eLocs[['locationID','Location Name','Last Disclosure Update']],on='locationID', how='outer')\n",
    "print(f'Total number of unique \"locations\" (well pads): {len(mg.locationID.unique())}')\n",
    "c = mg['Location Name'].notna()\n",
    "print(f'Number of locations with an ECMC disclosure: {len(mg[c].locationID.unique())}')\n",
    "mg['status'] = np.where(mg.APINumber.isna(),'no_FF','has_FF')\n",
    "mg.status = np.where(mg['Location Name'].isna(), mg.status + ' no_ECMC', mg.status + ' has_ECMC')\n",
    "mg"
   ]
  },
  {
   "cell_type": "markdown",
   "id": "5064b321-bb61-48c0-9a32-6849241bd7fb",
   "metadata": {},
   "source": [
    "### Show data from one location"
   ]
  },
  {
   "cell_type": "code",
   "execution_count": null,
   "id": "9978ad1b-063d-45fc-9a96-3dd61a39c127",
   "metadata": {},
   "outputs": [],
   "source": [
    "target_loc = 477204\n",
    "ff_api = mg[mg.locationID==target_loc].APINumber.unique().tolist()\n",
    "print(f'Number of wells in FF at this location: {len(ff_api)}')\n",
    "print(ff_api)\n",
    "ff_cas = df[df.APINumber.isin(ff_api)].groupby('bgCAS', as_index=False)['mass'].sum()\n",
    "ff_cas\n",
    "ff_tn = df[df.APINumber.isin(ff_api)].groupby('TradeName', as_index=False).size()\n",
    "ff_tn"
   ]
  },
  {
   "cell_type": "code",
   "execution_count": null,
   "id": "c6c6b198-f8a6-4029-9f8f-3c2933bc6df1",
   "metadata": {},
   "outputs": [],
   "source": [
    "out = pd.read_html(f\"https://ecmc.state.co.us/depot/Stats/ChemicalDisclosures/Location/{target_loc}\")\n",
    "ecmc_cas = out[0]\n",
    "casmg = pd.merge(ecmc_cas,ff_cas,left_on='CAS Number', right_on='bgCAS',how='outer')\n",
    "casmg"
   ]
  },
  {
   "cell_type": "code",
   "execution_count": null,
   "id": "0b00c0d0-0779-406a-83eb-f0760356b904",
   "metadata": {},
   "outputs": [],
   "source": [
    "ecmc_form46a = out[1]\n",
    "ecmc_form46a['date'] = pd.to_datetime(ecmc_form46a['Submit Date'])\n",
    "c = ecmc_form46a.date==ecmc_form46a.date.max()\n",
    "pdf_dir = r\"G:\\My Drive\\webshare\\scrape_data\\Colorado\\imaged_docs\"\n",
    "docnum = ecmc_form46a[c]['Document #'].tolist()[0]             \n",
    "pdffn = os.path.join(pdf_dir,f'{docnum}.pdf')\n",
    "pdffn"
   ]
  },
  {
   "cell_type": "code",
   "execution_count": null,
   "id": "34b23728-5815-49b2-98ee-4517dd371e9d",
   "metadata": {},
   "outputs": [],
   "source": [
    "known_ecmc_prod_names = pd.read_parquet(os.path.join(pdf_dir,'products_set.parquet'))\n",
    "known_ecmc_prod_names"
   ]
  },
  {
   "cell_type": "code",
   "execution_count": null,
   "id": "ec185a64-17db-4e5b-b1af-c161a5eb78e0",
   "metadata": {},
   "outputs": [],
   "source": [
    "import scrape.Colorado.CO_imaged_docs_extract as cide\n",
    "text = cide.get_pdf_text(pdffn)\n",
    "ecmc_prod_names = cide.extract_product_names(text)\n",
    "ecmc_api10 = cide.extract_APINumbers(text)\n",
    "print(ecmc_prod_names)"
   ]
  },
  {
   "cell_type": "code",
   "execution_count": null,
   "id": "29202358-4dc7-4b12-9e1c-2b64f73d8ed0",
   "metadata": {},
   "outputs": [],
   "source": [
    "prod_names = pd.DataFrame({'TradeName':df.TradeName.unique().tolist()})\n",
    "prod_names.to_parquet(os.path.join(r\"C:\\MyDocs\\integrated\\gwa_local\\tmp\",'CO_prod_names.parquet'))"
   ]
  },
  {
   "cell_type": "markdown",
   "id": "a5aace19-d090-4ddd-aedc-1a06e330082a",
   "metadata": {},
   "source": [
    "## get well data for spud date"
   ]
  },
  {
   "cell_type": "code",
   "execution_count": null,
   "id": "3f7e461b-43be-4bbe-a83f-4fdcf3034292",
   "metadata": {},
   "outputs": [],
   "source": [
    "fn = r\"G:\\My Drive\\webshare\\scrape_data\\Colorado\\Wells.csv\"\n",
    "cowells = pd.read_csv(fn,low_memory=False,usecols=['API,C,10','Spud_Date,D','Operator,C,50'],\n",
    "                     dtype={'API,C,10':'str'})\n",
    "cowells.columns = ['api','operator','spud']\n",
    "cowells['spud_date'] = pd.to_datetime(cowells.spud)\n",
    "cowells['APINumber'] = '05'+cowells.api+'0000'\n",
    "cowells = cowells.drop(['api','spud'],axis=1)\n",
    "cowells"
   ]
  },
  {
   "cell_type": "code",
   "execution_count": null,
   "id": "3d2137f5-5e28-4f77-b2d7-473de3d374e9",
   "metadata": {},
   "outputs": [],
   "source": [
    "mg = mg.merge(cowells[['spud_date','APINumber']],on='APINumber',how='left')\n",
    "mg['spud_start_diff_days'] = (mg.start_date - mg.spud_date).dt.days\n",
    "mg"
   ]
  },
  {
   "cell_type": "code",
   "execution_count": null,
   "id": "83f831f1-1ed3-48e8-b02d-7c8d8cf85359",
   "metadata": {},
   "outputs": [],
   "source": []
  }
 ],
 "metadata": {
  "kernelspec": {
   "display_name": "Python 3 (ipykernel)",
   "language": "python",
   "name": "python3"
  },
  "language_info": {
   "codemirror_mode": {
    "name": "ipython",
    "version": 3
   },
   "file_extension": ".py",
   "mimetype": "text/x-python",
   "name": "python",
   "nbconvert_exporter": "python",
   "pygments_lexer": "ipython3",
   "version": "3.11.8"
  }
 },
 "nbformat": 4,
 "nbformat_minor": 5
}
