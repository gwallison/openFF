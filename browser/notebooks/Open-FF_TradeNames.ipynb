{
 "cells": [
  {
   "cell_type": "code",
   "execution_count": null,
   "id": "756e1edc-a066-475b-88c5-10a666feee3c",
   "metadata": {},
   "outputs": [],
   "source": [
    "import sys\n",
    "sys.path.insert(0,'c:/MyDocs/integrated/') # adjust to your setup\n",
    "\n",
    "%run \"catalog_support.py\" \n",
    "showHeader('Product Composition Table')"
   ]
  },
  {
   "cell_type": "code",
   "execution_count": null,
   "id": "a2b81cc4-de3c-47dc-8767-c706073f7054",
   "metadata": {},
   "outputs": [],
   "source": [
    "# fetch data set\n",
    "df_cas = fh.get_df(os.path.join(hndl.sandbox_dir,'workdf.parquet'))"
   ]
  },
  {
   "cell_type": "code",
   "execution_count": null,
   "id": "e7203e8b-2039-43c6-9c32-c7fa890a0702",
   "metadata": {},
   "outputs": [],
   "source": [
    "df_cas['year'] = df_cas.date.dt.year"
   ]
  },
  {
   "cell_type": "code",
   "execution_count": null,
   "id": "inner-progress",
   "metadata": {},
   "outputs": [],
   "source": [
    "def sort_id(st):\n",
    "    l = list(st)\n",
    "    l.sort()\n",
    "    return l"
   ]
  },
  {
   "cell_type": "markdown",
   "id": "ordered-academy",
   "metadata": {},
   "source": [
    "This interactive table below lists all Tradenanes (from the Open-FF FULL data set) published in the FracFocus bulk download.   \n",
    "\n",
    "The index of the table is the combination of TradeName, and the set of bgCAS and PercentHigAdditive (the maximum amount of the chemical in the trade-named product) associated with that TradeName in disclosures.  Each unique combination of those three produces a row in the table.\n",
    "\n",
    "### How to use this table:\n",
    "Type either a TradeName or CASNumber (or other terms) into the Search bar to filter the list by that search term. You can combine terms in the search to further filter the list. For exmaple, to see the instances of the product Losurf that occurred in 2011, simply use **losurf 2011** in the search bar.  If you want to find all the product names that contained 111-76-2 in 2016, use **111-76-2 2016**.\n",
    "\n",
    "The table is also sort-able by any column (click a second time for reverse sort).\n",
    "\n",
    "Note that in many disclosures, entries in the TradeName field are missing or uninformative. Further, some companies **aggregate** many tradenames together, effectively combining all their ingredients into one record in the following table. Those are less useful in understanding what is reported for a given TradeName."
   ]
  },
  {
   "cell_type": "markdown",
   "id": "julian-connectivity",
   "metadata": {},
   "source": [
    "\n",
    "\n",
    "| Column      | Description |\n",
    "| :----: | :-------- |\n",
    "|*TradeName*| is a cleaned version of the raw FracFocus text\n",
    "|*cas_per_tuple*|shows the cluster of chemicals (bgCAS) and their associated PercentHighAdditive for a given TradeName.|   \n",
    "|*size* |indicates the number of disclosures for this pair of TradeName & cas_per_tuple|\n",
    "|*year*| years in which this pair occurs|\n",
    "|*APINumber*| APINumbers for example disclosures with this pair|\n",
    "|*bgSupplier*| suppliers associated with this pair|\n"
   ]
  },
  {
   "cell_type": "code",
   "execution_count": null,
   "id": "corresponding-depth",
   "metadata": {},
   "outputs": [],
   "source": [
    "#df_cas = df_cas[df_cas.data_source=='bulk']\n",
    "df_cas['cas_per_tuple'] = df_cas.bgCAS.str[:] +' ; ' + df_cas.PercentHighAdditive.astype('str')\n",
    "df_cas.TradeName = df_cas.TradeName.str.lower()\n",
    "tn_df = df_cas.groupby(['TradeName','DisclosureId','APINumber','year','bgSupplier'])['cas_per_tuple'].apply(set).reset_index()\n",
    "tn_df.cas_per_tuple = tn_df.cas_per_tuple.map(lambda x: sort_id(x))\n",
    "tn_df.cas_per_tuple = tn_df.cas_per_tuple.map(lambda x: th.xlate_to_str(x,'<br>',trunc=False))\n",
    "gb1 = tn_df.groupby(['TradeName','cas_per_tuple'],as_index=False).size()\n",
    "gb2 = tn_df.groupby(['TradeName','cas_per_tuple'])['year'].apply(set).reset_index()\n",
    "gb2.year = gb2.year.map(lambda x: sort_id(x))\n",
    "gb2.year = gb2.year.map(lambda x: th.xlate_to_str(x,'; ',trunc=False))\n",
    "mg = pd.merge(gb1,gb2,on=['TradeName','cas_per_tuple'],how='left').reset_index(drop=True)\n",
    "gb3 = tn_df.groupby(['TradeName','cas_per_tuple'])['APINumber'].apply(set).reset_index()\n",
    "gb3.APINumber = gb3.APINumber.map(lambda x: sort_id(x))\n",
    "gb3.APINumber = gb3.APINumber.map(lambda x: th.xlate_to_str(x,' ',totallen=30))\n",
    "mg = pd.merge(mg,gb3,on=['TradeName','cas_per_tuple'],how='left').reset_index(drop=True)\n",
    "gb4 = tn_df.groupby(['TradeName','cas_per_tuple'])['bgSupplier'].apply(set).reset_index()\n",
    "gb4.bgSupplier = gb4.bgSupplier.map(lambda x: sort_id(x))\n",
    "gb4.bgSupplier = gb4.bgSupplier.map(lambda x: th.xlate_to_str(x,'<br>',totallen=30))\n",
    "mg = pd.merge(mg,gb4,on=['TradeName','cas_per_tuple'],how='left').reset_index(drop=True)\n",
    "iShow(mg.sort_values('size',ascending=False),\n",
    "      maxBytes=0,classes=\"display compact cell-border\")\n",
    "\n"
   ]
  }
 ],
 "metadata": {
  "hide_input": true,
  "kernelspec": {
   "display_name": "Python 3 (ipykernel)",
   "language": "python",
   "name": "python3"
  },
  "language_info": {
   "codemirror_mode": {
    "name": "ipython",
    "version": 3
   },
   "file_extension": ".py",
   "mimetype": "text/x-python",
   "name": "python",
   "nbconvert_exporter": "python",
   "pygments_lexer": "ipython3",
   "version": "3.10.12"
  }
 },
 "nbformat": 4,
 "nbformat_minor": 5
}
