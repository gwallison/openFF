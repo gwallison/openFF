{
 "cells": [
  {
   "cell_type": "code",
   "execution_count": null,
   "id": "9783b434-731f-438d-bf53-e09a653af90d",
   "metadata": {},
   "outputs": [],
   "source": [
    "import sys\n",
    "sys.path.insert(0,'c:/MyDocs/integrated/') # adjust to your setup\n",
    "\n",
    "\n",
    "%run \"c:/MyDocs/integrated/openFF/browser/notebooks/catalog_support.py\" \n",
    "\n",
    "showHeader('Literature related to fracking chemicals ',line2=f'Search and annotated list',use_remote=False)\n",
    "import itables.options as opt\n",
    "opt.order = []  # no sorting\n",
    "\n",
    "from IPython.display import HTML, display\n",
    "from IPython.display import Markdown as md\n",
    "\n",
    "# iShow(gb.reset_index(drop=True))"
   ]
  },
  {
   "cell_type": "markdown",
   "id": "8076f316-bd79-42fb-ab2c-de3caf200094",
   "metadata": {},
   "source": [
    "# Searching the list\n",
    "Use the table below to find literature in the annotated list.  "
   ]
  },
  {
   "cell_type": "code",
   "execution_count": null,
   "id": "e9e8b1a0-b45f-4a1e-9e32-930505e84c3f",
   "metadata": {},
   "outputs": [],
   "source": [
    "exp_dir = r\"G:\\My Drive\\production\\blog_data\"\n",
    "expfn = r\"G:\\My Drive\\production\\blog_data\\blog_refs.csv\"\n",
    "refdf = pd.read_csv(os.path.join(exp_dir,expfn))"
   ]
  },
  {
   "cell_type": "code",
   "execution_count": null,
   "id": "306021b4-fafa-4a8f-b850-7b838083ec4a",
   "metadata": {},
   "outputs": [],
   "source": [
    "print(refdf.columns)"
   ]
  },
  {
   "cell_type": "code",
   "execution_count": null,
   "id": "2208a47b-6884-4135-b1e9-361b3a4c04be",
   "metadata": {},
   "outputs": [],
   "source": [
    "refdf[['Key','Author','Title','Notes','Publication Year']]"
   ]
  }
 ],
 "metadata": {
  "kernelspec": {
   "display_name": "Python 3 (ipykernel)",
   "language": "python",
   "name": "python3"
  },
  "language_info": {
   "codemirror_mode": {
    "name": "ipython",
    "version": 3
   },
   "file_extension": ".py",
   "mimetype": "text/x-python",
   "name": "python",
   "nbconvert_exporter": "python",
   "pygments_lexer": "ipython3",
   "version": "3.11.8"
  }
 },
 "nbformat": 4,
 "nbformat_minor": 5
}
