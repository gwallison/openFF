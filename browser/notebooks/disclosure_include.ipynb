{
 "cells": [
  {
   "cell_type": "code",
   "execution_count": null,
   "id": "50cd1cf2-066f-4114-95ac-2c50d2ef39a5",
   "metadata": {},
   "outputs": [],
   "source": [
    "# This notebook produces the text and figures that are included at the end of each disclosure file.\n",
    "\n",
    "# Because this is done by \"including\", impact of the size of this file is not an issue on overall size of the entire browser.\n",
    "\n",
    "# Currently (Nov 2023), the data dictionary part of this is created by hand and imported here as an image.  Hopefully that will be updated\n",
    "# later to a more automatic process.  "
   ]
  },
  {
   "cell_type": "code",
   "execution_count": null,
   "id": "4eaa79be-0dfd-42a9-b8ca-0e495f19b2b9",
   "metadata": {},
   "outputs": [],
   "source": [
    "import pandas as pd\n",
    "import numpy as np\n",
    "import os\n",
    "from IPython.display import HTML, display\n",
    "from IPython.display import Markdown as md\n",
    "from IPython.display import Image\n",
    "\n",
    "import sys\n",
    "sys.path.insert(0,'c:/MyDocs/integrated/') # adjust to your setup\n",
    "from openFF.common.handles import root_code, ext_data, sandbox_dir,local_includes"
   ]
  },
  {
   "cell_type": "markdown",
   "id": "26765cfa-e00e-4b7f-aa26-1ea74989dc00",
   "metadata": {},
   "source": [
    "## Disclosure Notes"
   ]
  },
  {
   "cell_type": "markdown",
   "id": "171c8e0e-82ab-47b2-aa76-ab1fa96d40ae",
   "metadata": {},
   "source": [
    "### Chemical records\n",
    "In the table below, column names in **red** are directly from the original FracFocus data (also the first letter is capitalized) and the name in **black** are generated within Open-FF."
   ]
  },
  {
   "cell_type": "code",
   "execution_count": null,
   "id": "a5481e2c-6332-4608-a36d-42e0702ff631",
   "metadata": {
    "tags": []
   },
   "outputs": [],
   "source": [
    "# get columns of chemical table in the report\n",
    "cd_df = pd.read_parquet(os.path.join(sandbox_dir,'chem_disc.parquet'))\n",
    "cols = cd_df.columns.tolist()\n",
    "cols"
   ]
  },
  {
   "cell_type": "code",
   "execution_count": null,
   "id": "6692a62b-5e48-41f6-af07-23e2c65e1e01",
   "metadata": {
    "tags": []
   },
   "outputs": [],
   "source": [
    "# Image(filename=\"../includes/disclosure_chem_dictionary.png\", width=1000)\n",
    "Image(filename=os.path.join(local_includes,'disclosure_chem_dictionary.png'), width=1000)\n",
    "# Find the source for this png on Gary's drive, FF_drawings, OpenFF_Includes"
   ]
  },
  {
   "cell_type": "markdown",
   "id": "1d8e96ca-9ba8-494f-9e6d-d8970e34cbc3",
   "metadata": {},
   "source": [
    "### Hazard Fingerprints\n",
    "These are a \"hazard\" summary based on the [EPA's ChemInformatics Dashboard](https://www.epa.gov/chemical-research/cheminformatics). For each chemical that the EPA has published summaries, Open-FF generates a single image that indicates level of hazard for EPA's twenty categories.  See the table below or click on the specific chemical's report (its CAS number) for a different display of these results. For many chemicals reported by the EPA on that site, some of those hazard categories cannot be evaluated because the data are limited.  See EPA's disclaimer for these data below or at their site. Note that you can also see more details at the ChemInformatics site for the information used to generate these hazard summaries.\n",
    "\n",
    "#### Categories\n",
    "\n",
    "|Row| Col 1 | Col 2| Col 3| Col 4 |Col 5|\n",
    "|:---| :---: | :---: | :---: | :---: | :---:|\n",
    "|**Top** |*Human Health*<br>Oral |*Human Health*<br>Inhalation |*Human Health*<br>Dermal |*Human Health*<br>Carcinogenicity|*Human Health*<br>Genotoxicity Mutagenicity|\n",
    "|**Second**|*Human Health*<br>Endocrine Disruption |*Human Health*<br>Reproductive |*Human Health*<br>Developmental |*Human Health*<br>Neurotoxicity:<br> Repeat Exposure |*Human Health*<br>Neurotoxicity:<br> Single Exposure|\n",
    "|**Third**|*Human Health*<br>Systemic Toxicity:<br> Repeat Exposure |*Human Health*<br>Systemic Toxicity:<br> Single Exposure  |*Human Health*<br>Skin Sensitization  |*Human Health*<br>Skin Irritation|*Human Health*<br>Eye Irritation \n",
    "|**Bottom**|*Ecotoxicity*<br>Acute Aquatic Toxicity |*Ecotoxicity*<br>Chronic Aquatic Toxicity |*Fate*<br>Persistence |*Fate*<br>Bioaccumulation |*Fate*<br>Exposure | |\n",
    "\n",
    "\n",
    "#### Legend"
   ]
  },
  {
   "cell_type": "code",
   "execution_count": null,
   "id": "15749d7c-3185-4b8c-a886-a592be2750f1",
   "metadata": {
    "tags": []
   },
   "outputs": [],
   "source": [
    "Image(filename=os.path.join(local_includes,'fingerprint_legend.png'), width=150)"
   ]
  },
  {
   "cell_type": "markdown",
   "id": "e3ba6f2b-b94f-44f6-aa25-04ab2444bbef",
   "metadata": {},
   "source": [
    "For example, a red skull and cross-bones in the upper right corner of the fingerprint means that the chemical is *very high* hazard for Genotoxicity Mutagenicity.  A grey square in the lower left means there is *no data* available to evaluate \"Acute Aquatic Toxicity.\"\n",
    "\n",
    "#### EPA's disclaimer for the Hazard data\n",
    "> The Hazard Comparison Dashboard is a prototype tool and a compilation of information sourced from many sites, databases and sources including U.S. Federal and state sources and international bodies that saves the user time by providing information in one location. The data are not reviewed by USEPA – the user must apply judgment in use of the information. The results do not indicate EPA’s position on the use or regulation of these chemicals. "
   ]
  }
 ],
 "metadata": {
  "kernelspec": {
   "display_name": "Python 3 (ipykernel)",
   "language": "python",
   "name": "python3"
  },
  "language_info": {
   "codemirror_mode": {
    "name": "ipython",
    "version": 3
   },
   "file_extension": ".py",
   "mimetype": "text/x-python",
   "name": "python",
   "nbconvert_exporter": "python",
   "pygments_lexer": "ipython3",
   "version": "3.10.12"
  }
 },
 "nbformat": 4,
 "nbformat_minor": 5
}
