{
 "cells": [
  {
   "cell_type": "code",
   "execution_count": null,
   "id": "1b7d5e66-1749-48f7-9729-3ea674f9ff54",
   "metadata": {},
   "outputs": [],
   "source": [
    "import sys\n",
    "sys.path.insert(0,'c:/MyDocs/integrated/') # adjust to your setup\n",
    "\n",
    "%run \"catalog_support.py\" "
   ]
  },
  {
   "cell_type": "code",
   "execution_count": null,
   "id": "df76f9fb-7b6b-40a9-bef9-e8d0a918a703",
   "metadata": {},
   "outputs": [],
   "source": [
    "alldf = pd.read_parquet(os.path.join(hndl.sandbox_dir,'flaws.parquet'))\n",
    "metadf = pd.read_parquet(os.path.join(hndl.sandbox_dir,'flaws_meta.parquet'))\n",
    "metadf = metadf.reset_index(drop=True)\n",
    "# print(alldf.columns)"
   ]
  },
  {
   "cell_type": "code",
   "execution_count": null,
   "id": "1576ed55-1bfb-4853-8a6f-31e098de23f0",
   "metadata": {},
   "outputs": [],
   "source": [
    "flaw_id = metadf.Flag_id.iloc[0]\n",
    "title = metadf.Title.iloc[0]\n"
   ]
  },
  {
   "cell_type": "code",
   "execution_count": null,
   "id": "b277537c-4ae9-444c-ae77-b8afbac00c2f",
   "metadata": {
    "tags": []
   },
   "outputs": [],
   "source": [
    "showHeader(f'{title}',f'FracFocus Issue: {flaw_id}', link_up_level=1)"
   ]
  },
  {
   "cell_type": "markdown",
   "id": "67257d17-2008-40e5-ba94-47b48816f758",
   "metadata": {},
   "source": [
    "This report summarizes a known error, omission or other problem in the FracFocus data.  All occurances of the problem are flagged in the data set.  "
   ]
  },
  {
   "cell_type": "code",
   "execution_count": null,
   "id": "494ecdf2-fcd0-4736-a305-ea8d854cca6c",
   "metadata": {},
   "outputs": [],
   "source": [
    "for col in metadf.columns.tolist():\n",
    "    val = metadf[col].iloc[0]\n",
    "    if col=='index':\n",
    "        continue\n",
    "    if len(val)==0:\n",
    "        continue\n",
    "    display(HTML(f\"<h4>{col}</h4>{metadf[col].iloc[0]}\"))"
   ]
  },
  {
   "cell_type": "code",
   "execution_count": null,
   "id": "edabb405-2158-4f25-9439-135c8d14ad67",
   "metadata": {},
   "outputs": [],
   "source": [
    "display(md('---'))\n",
    "if flaw_id[0]=='r':\n",
    "    display(md('## Number of records'))\n",
    "else:\n",
    "    display(md('## Number of disclosures'))\n"
   ]
  },
  {
   "cell_type": "markdown",
   "id": "a0222b54-ee77-44cf-a4ac-80c9b2a588b1",
   "metadata": {},
   "source": [
    "### by year"
   ]
  },
  {
   "cell_type": "code",
   "execution_count": null,
   "id": "1d628ad3-08e5-410f-b332-e762fa7cff41",
   "metadata": {},
   "outputs": [],
   "source": [
    "\n",
    "alldf.date.dt.year.value_counts()"
   ]
  },
  {
   "cell_type": "markdown",
   "id": "570a5eac-f3aa-4912-b44c-3a7701411193",
   "metadata": {},
   "source": [
    "### by state"
   ]
  },
  {
   "cell_type": "code",
   "execution_count": null,
   "id": "ce445d66-dfbe-4d61-b1ca-e5f00ce4c804",
   "metadata": {},
   "outputs": [],
   "source": [
    "alldf.bgStateName.value_counts()"
   ]
  },
  {
   "cell_type": "markdown",
   "id": "0b165cfc-a527-472a-957b-1e7a6a68e4fa",
   "metadata": {},
   "source": [
    "### by Operator"
   ]
  },
  {
   "cell_type": "code",
   "execution_count": null,
   "id": "28a66832-bdf5-493a-8388-371e0ef53a83",
   "metadata": {},
   "outputs": [],
   "source": [
    "alldf.OperatorName.value_counts()"
   ]
  },
  {
   "cell_type": "markdown",
   "id": "a55f976d-9fd1-4422-806f-2063bc8df037",
   "metadata": {},
   "source": [
    "---\n",
    "## List of disclosures with this issue"
   ]
  },
  {
   "cell_type": "code",
   "execution_count": null,
   "id": "0e9ce99d-bc2b-41be-8bca-bd77b51522a3",
   "metadata": {},
   "outputs": [],
   "source": [
    "alldf.columns"
   ]
  }
 ],
 "metadata": {
  "kernelspec": {
   "display_name": "Python 3 (ipykernel)",
   "language": "python",
   "name": "python3"
  },
  "language_info": {
   "codemirror_mode": {
    "name": "ipython",
    "version": 3
   },
   "file_extension": ".py",
   "mimetype": "text/x-python",
   "name": "python",
   "nbconvert_exporter": "python",
   "pygments_lexer": "ipython3",
   "version": "3.11.8"
  }
 },
 "nbformat": 4,
 "nbformat_minor": 5
}
