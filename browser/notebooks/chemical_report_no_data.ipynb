{
 "cells": [
  {
   "cell_type": "code",
   "execution_count": null,
   "metadata": {},
   "outputs": [],
   "source": [
    "import sys\n",
    "sys.path.insert(0,'c:/MyDocs/integrated/') # adjust to your setup\n",
    "\n",
    "%run \"catalog_support.py\" "
   ]
  },
  {
   "cell_type": "code",
   "execution_count": null,
   "metadata": {},
   "outputs": [],
   "source": [
    "# get some global values\n",
    "ref_df = pd.read_csv(os.path.join(hndl.sandbox_dir,'ref.csv'))\n",
    "ref_df.set_index('varname',inplace=True)\n",
    "\n",
    "# Data for this cas chemical\n",
    "alldf = pd.read_parquet(os.path.join(hndl.sandbox_dir,'data.parquet'))\n"
   ]
  },
  {
   "cell_type": "code",
   "execution_count": null,
   "metadata": {},
   "outputs": [],
   "source": [
    "cas = ref_df.loc['target_cas'][0]\n"
   ]
  },
  {
   "cell_type": "code",
   "execution_count": null,
   "metadata": {},
   "outputs": [],
   "source": [
    "# print( th.getMoleculeImg(cas,size=300))\n",
    "showHeader(cas,#subt='Chemical Report',\n",
    "           imglnk = th.getMoleculeImg(cas,size=300), link_up_level=1)"
   ]
  },
  {
   "cell_type": "markdown",
   "metadata": {},
   "source": [
    "### Open-FF Chemical Report\n",
    "This is a script-generated report about a specific chemical used in the Hydraulic Fracking industry. The source of these data is the industry-sponsored website [FracFocus](https://fracfocus.org/), but are analyzed by the independent project [Open-FF](https://frackingchemicaldisclosure.wordpress.com/).\n",
    "\n",
    "Molecule images courtesy of [CompTox](https://comptox.epa.gov/dashboard/). Disclosures before 2011 are not included.\n"
   ]
  },
  {
   "cell_type": "markdown",
   "metadata": {},
   "source": [
    "# No data available for analysis of this chemical\n",
    "This typically occurs when a report of a chemical in a disclosure is only found in **duplicated** disclosures in FracFocus.  That is, there are at least two disclosures for a well on the same date and one of them has this chemical.  Because FracFocus does not indicate WHICH of those duplicates is the valid disclosure, we filter them all out. \n",
    "\n",
    "The Find-a-Well tool at FracFocus will still report disclosures with this chemical. Below are the APINumbers and dates where the material has been reported.  You can use them to locate disclosures at FracFocus. "
   ]
  },
  {
   "cell_type": "code",
   "execution_count": null,
   "metadata": {
    "tags": []
   },
   "outputs": [],
   "source": [
    "\n",
    "iShow(alldf[['APINumber','date','CASNumber','bgCAS','mass']])"
   ]
  }
 ],
 "metadata": {
  "hide_input": true,
  "kernelspec": {
   "display_name": "Python 3 (ipykernel)",
   "language": "python",
   "name": "python3"
  },
  "language_info": {
   "codemirror_mode": {
    "name": "ipython",
    "version": 3
   },
   "file_extension": ".py",
   "mimetype": "text/x-python",
   "name": "python",
   "nbconvert_exporter": "python",
   "pygments_lexer": "ipython3",
   "version": "3.11.8"
  }
 },
 "nbformat": 4,
 "nbformat_minor": 4
}
