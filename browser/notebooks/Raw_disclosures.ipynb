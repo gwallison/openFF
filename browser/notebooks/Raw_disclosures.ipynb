{
 "cells": [
  {
   "cell_type": "code",
   "execution_count": null,
   "id": "9783b434-731f-438d-bf53-e09a653af90d",
   "metadata": {},
   "outputs": [],
   "source": [
    "import sys\n",
    "sys.path.insert(0,'c:/MyDocs/integrated/') # adjust to your setup\n",
    "\n",
    "%run \"catalog_support.py\" \n",
    "showHeader('Raw Disclosures',line2='Sixty days of FracFocus changes',use_remote=True)"
   ]
  },
  {
   "cell_type": "code",
   "execution_count": null,
   "id": "fc01ba08-8fd4-4556-a835-28674be213ac",
   "metadata": {},
   "outputs": [],
   "source": [
    "import datetime\n",
    "today = datetime.datetime.today()\n",
    "edate = today - datetime.timedelta(days=60)\n",
    "print('earlist shown',edate)"
   ]
  },
  {
   "cell_type": "code",
   "execution_count": null,
   "id": "3f56e618-e533-4c3f-b28c-3525036f27d3",
   "metadata": {},
   "outputs": [],
   "source": [
    "import os\n",
    "import pickle\n",
    "import openFF.common.text_handlers as th\n",
    "arc_dir = r\"C:\\MyDocs\\integrated\\openFF_archive\\diff_dicts\"\n",
    "\n",
    "diff_fns = os.listdir(arc_dir)\n",
    "download_dates = []\n",
    "added = []\n",
    "changed = []\n",
    "removed = []\n",
    "\n",
    "for fn in diff_fns:\n",
    "    tdate = datetime.datetime(int(fn[10:14]),int(fn[15:17]),int(fn[18:20]))\n",
    "    # print(tdate)\n",
    "    if tdate>= edate:\n",
    "        download_dates.append(fn[10:20])\n",
    "        with open(os.path.join(arc_dir,fn),'rb') as f:\n",
    "            diff_dic = pickle.load(f)\n",
    "        if len(diff_dic['removed_disc'])>0:\n",
    "            t = diff_dic['removed_disc'].copy()\n",
    "            # print(t.head())\n",
    "            t['date_changed'] = tdate\n",
    "            t['change_type'] = 'removed'\n",
    "            removed.append(t)\n",
    "        if len(diff_dic['added_disc'])>0:\n",
    "            t = diff_dic['added_disc'].copy()\n",
    "            t['date_changed'] = tdate\n",
    "            t['change_type'] = 'added'\n",
    "            added.append(t)\n",
    "        if len(diff_dic['changed_disc'])>0:\n",
    "            t = diff_dic['changed_disc'].copy()\n",
    "            t['date_changed'] = tdate\n",
    "            t['change_type'] = 'modified'            \n",
    "            changed.append(t)\n",
    "alllists = added + changed + removed\n",
    "wholeset = pd.concat(alllists,sort=True)\n",
    "# wholeset"
   ]
  },
  {
   "cell_type": "markdown",
   "id": "1a1edbb9-1dcf-450e-80f1-8702822c00d4",
   "metadata": {},
   "source": [
    "## Download dates used"
   ]
  },
  {
   "cell_type": "code",
   "execution_count": null,
   "id": "fb17d9ce-4d0f-4164-be4c-aee022002f1a",
   "metadata": {},
   "outputs": [],
   "source": [
    "print(download_dates)"
   ]
  },
  {
   "cell_type": "code",
   "execution_count": null,
   "id": "643ef4ae-b390-4270-b074-22da5b7e376b",
   "metadata": {},
   "outputs": [],
   "source": [
    "wholeset['job_end_date'] = wholeset.JobEndDate.str.split().str[0]\n",
    "wholeset['job_end_date'] = pd.to_datetime(wholeset.job_end_date,format=\"%m/%d/%Y\")\n",
    "wholeset['FF_disc'] = wholeset.apply(lambda x: th.getFFLink(x), axis=1)\n",
    "wholeset['disc_link'] = wholeset.apply(lambda x: th.getDisclosureLink(APINumber=x.APINumber,\n",
    "                                                                      disclosureid=x.discID,\n",
    "                                                                      text_to_show='Open-FF disclosure',\n",
    "                                                                      use_remote=True,\n",
    "                                                                      check_if_exists=False), axis=1)\n",
    "wholeset['TBWV'] = wholeset.TotalBaseWaterVolume.astype('float64')\n",
    "wholeset['TBWV'] = wholeset.TBWV.map(lambda x: th.round_sig(x,5))\n"
   ]
  },
  {
   "cell_type": "markdown",
   "id": "6be2ebc4-db6e-447a-a846-d333f376dbff",
   "metadata": {},
   "source": [
    "Note that \"disc_link\" to the Open-FF disclosures will only be valid for those disclosures that have been through the curating process, that is, where 'date_changed' is before the bulk download date of the online repository.  See the header of this webpage for that date."
   ]
  },
  {
   "cell_type": "code",
   "execution_count": null,
   "id": "c9ae398c-4578-4ec8-9ae7-b521120231d9",
   "metadata": {},
   "outputs": [],
   "source": [
    "wholeset[['FF_disc','disc_link','job_end_date','StateName','CountyName','OperatorName','TBWV','change_type','date_changed']]"
   ]
  },
  {
   "cell_type": "code",
   "execution_count": null,
   "id": "ce8060d8-bf7e-4a55-a502-41f4fa1da722",
   "metadata": {},
   "outputs": [],
   "source": [
    "wholeset.change_type.value_counts()"
   ]
  },
  {
   "cell_type": "code",
   "execution_count": null,
   "id": "0ece7d09-547b-4449-9faf-b14a0e76c28e",
   "metadata": {},
   "outputs": [],
   "source": [
    "t = wholeset[wholeset.change_type=='modified'].date_changed.value_counts()\n",
    "t = t.reset_index().sort_values('date_changed')\n",
    "t.plot('date_changed','count',style='o')"
   ]
  },
  {
   "cell_type": "code",
   "execution_count": null,
   "id": "9be19d61-bf6b-4d88-9bf9-1ae0fb8a7ce6",
   "metadata": {},
   "outputs": [],
   "source": [
    "wholeset[wholeset.change_type=='changed'].date_changed.value_counts()"
   ]
  }
 ],
 "metadata": {
  "kernelspec": {
   "display_name": "Python 3 (ipykernel)",
   "language": "python",
   "name": "python3"
  },
  "language_info": {
   "codemirror_mode": {
    "name": "ipython",
    "version": 3
   },
   "file_extension": ".py",
   "mimetype": "text/x-python",
   "name": "python",
   "nbconvert_exporter": "python",
   "pygments_lexer": "ipython3",
   "version": "3.11.8"
  }
 },
 "nbformat": 4,
 "nbformat_minor": 5
}
