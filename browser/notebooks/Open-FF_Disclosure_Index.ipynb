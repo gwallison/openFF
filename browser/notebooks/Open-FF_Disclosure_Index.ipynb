{
 "cells": [
  {
   "cell_type": "code",
   "execution_count": null,
   "id": "79085df4-fdd8-4af2-9fbb-0414a407d14f",
   "metadata": {},
   "outputs": [],
   "source": [
    "#preamble to analysis\n",
    "import pandas as pd\n",
    "import numpy as np\n",
    "from IPython.display import Markdown as md\n",
    "from IPython.display import HTML, display\n",
    "from time import sleep\n",
    "\n",
    "from itables import init_notebook_mode\n",
    "init_notebook_mode(all_interactive=True,connected=True)\n",
    "from itables import show as iShow\n",
    "import itables.options as opt\n",
    "opt.classes=\"display compact cell-border\"\n",
    "opt.maxBytes = 0\n",
    "\n",
    "opt.order = []  # no sorting"
   ]
  },
  {
   "cell_type": "code",
   "execution_count": null,
   "id": "faabf3fc-935d-4040-bdf8-64aa4ac114da",
   "metadata": {},
   "outputs": [],
   "source": [
    "import sys\n",
    "sys.path.insert(0,'c:/MyDocs/integrated/') # adjust to your setup\n",
    "from openFF.common.file_handlers import get_curr_df\n",
    "from openFF.common.text_handlers import wrap_URL_in_html"
   ]
  },
  {
   "cell_type": "code",
   "execution_count": null,
   "id": "f7f8bf2a-1249-48a8-bc51-4a22012aecd6",
   "metadata": {
    "tags": []
   },
   "outputs": [],
   "source": [
    "def make_link(row):\n",
    "    return wrap_URL_in_html(row.link_fn,'link')"
   ]
  },
  {
   "cell_type": "markdown",
   "id": "859ba773-b7a6-4c3d-9d46-529f682058af",
   "metadata": {},
   "source": [
    "# Open-FF Disclosure Index"
   ]
  },
  {
   "cell_type": "code",
   "execution_count": null,
   "id": "aceb98ab-71b1-480e-9178-a128c89131d0",
   "metadata": {},
   "outputs": [],
   "source": [
    "df = get_curr_df(cols=['UploadKey','api10','OperatorName','ingKeyPresent','bgStateName','bgCountyName',\n",
    "                        'TotalBaseWaterVolume','WellName','date'])\n",
    "c1 = df.bgStateName=='pennsylvania'\n",
    "c2 = df.bgCountyName.isin(['washington','westmoreland','allegheny'])\n",
    "gb1 = df[c1&c2].groupby('UploadKey',as_index=False)[['api10','date','OperatorName','bgStateName','bgCountyName','WellName',\n",
    "                        'TotalBaseWaterVolume']].first()\n",
    "gb2 = df[c1&c2].groupby('UploadKey',as_index=False)['ingKeyPresent'].any()\n",
    "mg = pd.merge(gb1,gb2,on='UploadKey',how='left')\n",
    "mg['apicode'] = mg.api10.str[:5]\n",
    "mg['link_fn'] = f'disclosures/'+mg.apicode+'/'+mg.UploadKey+'.html'\n",
    "mg['link'] = mg.apply(make_link,axis=1)\n",
    "\n",
    "mg = mg[['link','api10','date','OperatorName','bgStateName','bgCountyName',\n",
    "          'WellName','TotalBaseWaterVolume','ingKeyPresent']].reset_index(drop=True)\n",
    "mg = mg.rename({'link':'Disclosure','api10':'API Number', 'OperatorName':'Operator Name','bgStateName':'State Name',\n",
    "               'bgCountyName':'County Name','WellName':'Well Name','TotalBaseWaterVolume':'Water (gal.)',\n",
    "               'ingKeyPresent':'has chemical records'}, axis=1)\n",
    "# mg.columns"
   ]
  },
  {
   "cell_type": "code",
   "execution_count": null,
   "id": "fbc7ce4a-43d8-4d49-8a40-3743cabf510d",
   "metadata": {
    "tags": []
   },
   "outputs": [],
   "source": [
    "iShow(mg,columnDefs=[{\"width\": \"80px\", \"targets\": 2}],classes=\"display compact cell-border\",\n",
    "     style=\"table-layout:auto;width:90%;float:center\")"
   ]
  }
 ],
 "metadata": {
  "kernelspec": {
   "display_name": "Python 3 (ipykernel)",
   "language": "python",
   "name": "python3"
  },
  "language_info": {
   "codemirror_mode": {
    "name": "ipython",
    "version": 3
   },
   "file_extension": ".py",
   "mimetype": "text/x-python",
   "name": "python",
   "nbconvert_exporter": "python",
   "pygments_lexer": "ipython3",
   "version": "3.10.12"
  }
 },
 "nbformat": 4,
 "nbformat_minor": 5
}
