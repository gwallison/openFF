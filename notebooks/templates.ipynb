{
 "cells": [
  {
   "cell_type": "markdown",
   "id": "7dfb0dc7-de12-4834-85aa-d32a36482cb5",
   "metadata": {},
   "source": [
    "# Templates to use in the openFF notebooks"
   ]
  },
  {
   "cell_type": "markdown",
   "id": "3b8f2b30-51b9-4276-9bd3-5cf58c2d03dc",
   "metadata": {},
   "source": [
    "## at the top:\n",
    "This is just header/text material and will be added by hand\n",
    "\n",
    "Code that is executed on all can be added with %run file.ipynb"
   ]
  },
  {
   "cell_type": "code",
   "execution_count": null,
   "id": "36ec36fd-2d22-4182-9cf8-34bacdb4f40b",
   "metadata": {},
   "outputs": [],
   "source": []
  }
 ],
 "metadata": {
  "kernelspec": {
   "display_name": "Python 3 (ipykernel)",
   "language": "python",
   "name": "python3"
  },
  "language_info": {
   "codemirror_mode": {
    "name": "ipython",
    "version": 3
   },
   "file_extension": ".py",
   "mimetype": "text/x-python",
   "name": "python",
   "nbconvert_exporter": "python",
   "pygments_lexer": "ipython3",
   "version": "3.10.12"
  }
 },
 "nbformat": 4,
 "nbformat_minor": 5
}
