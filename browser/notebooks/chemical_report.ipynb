{
 "cells": [
  {
   "cell_type": "code",
   "execution_count": null,
   "metadata": {},
   "outputs": [],
   "source": [
    "import sys\n",
    "sys.path.insert(0,'c:/MyDocs/integrated/') # adjust to your setup\n",
    "\n",
    "%run \"catalog_support.py\" "
   ]
  },
  {
   "cell_type": "code",
   "execution_count": null,
   "metadata": {},
   "outputs": [],
   "source": [
    "# get some global values\n",
    "ref_df = pd.read_csv(os.path.join(hndl.sandbox_dir,'ref.csv'))\n",
    "ref_df.set_index('varname',inplace=True)"
   ]
  },
  {
   "cell_type": "code",
   "execution_count": null,
   "metadata": {},
   "outputs": [],
   "source": [
    "# Data for this cas chemical\n",
    "alldf = pd.read_parquet(os.path.join(hndl.sandbox_dir,'data.parquet'))\n",
    "alldf['has_mass'] = alldf.mass>0\n",
    "alldf.APINumber = alldf.APINumber.str[:2] + '-' + alldf.APINumber.str[2:5] + '-' + alldf.APINumber.str[5:10] + '-' + alldf.APINumber.str[10:] \n",
    "alldf['MI_comp'] = np.where(alldf.massComp.isna(),'n/a','verified')\n",
    "alldf.MI_comp = np.where(alldf.massCompFlag==True,'suspect',alldf.MI_comp)\n",
    "df = alldf[alldf.in_std_filtered].copy()\n",
    "# print(df.FF_disc.head())\n",
    "# dataset-wide flags\n",
    "have_data = len(df)>0\n",
    "have_mass = df.mass.max()>0\n",
    "\n",
    "if not have_data:\n",
    "    display(md('## THERE ARE NO RECORDS IN THE FILTERED DATA FOR THIS CHEMICAL\\n\\nNo analysis is possible\\n\\n'))\n",
    "    raise SystemExit(\"Stop right there!\")"
   ]
  },
  {
   "cell_type": "code",
   "execution_count": null,
   "metadata": {},
   "outputs": [],
   "source": [
    "cas = df.bgCAS.iloc[0]\n",
    "cas_orig = df.bgIngredientName.iloc[0]\n",
    "if cas_orig==np.NaN:\n",
    "    cas_orig = '(not identified by CAS number)'\n",
    "cas_epa = df.epa_pref_name.iloc[0]\n",
    "cas_iupac = df.iupac_name.iloc[0]\n",
    "try:\n",
    "    comm_name = df.IngredientName.value_counts().index[0]\n",
    "except:\n",
    "    comm_name = ''\n",
    "\n",
    "cas_ignore = ['proprietary','ambiguousID','sysAppMeta','conflictingID']\n",
    "\n",
    "ing_name = cas_epa\n",
    "if (ing_name == '--')|(ing_name == np.NaN)|(ing_name == None)|(ing_name=='nan'):\n",
    "    ing_name=cas_orig\n",
    "if cas in cas_ignore:\n",
    "    ing_name = ''"
   ]
  },
  {
   "cell_type": "code",
   "execution_count": null,
   "metadata": {},
   "outputs": [],
   "source": [
    "# print( th.getMoleculeImg(cas,size=300))\n",
    "showHeader(cas+'<br>'+ing_name,#subt='Chemical Report',\n",
    "           link_up_level=1, # for the header links\n",
    "           imglnk = th.getMoleculeImg(cas,size=300,link_up_level=1))"
   ]
  },
  {
   "cell_type": "markdown",
   "metadata": {},
   "source": [
    "### Open-FF Chemical Report\n",
    "This is a script-generated report about a specific chemical used in the Hydraulic Fracking industry. The source of these data is the industry-sponsored website [FracFocus](https://fracfocus.org/), but are analyzed by the independent project [Open-FF](https://frackingchemicaldisclosure.wordpress.com/).\n",
    "\n",
    "Molecule images courtesy of [CompTox](https://comptox.epa.gov/dashboard/). Disclosures before 2011 are not included.\n"
   ]
  },
  {
   "cell_type": "code",
   "execution_count": null,
   "metadata": {},
   "outputs": [],
   "source": [
    "if not have_data:\n",
    "    display(md('## THERE ARE NO RECORDS IN THE FILTERED DATA FOR THIS CHEMICAL\\n\\nOnly limited analysis is possible\\n\\n'))\n",
    "#     display(md('###aborting this notebook...\\n\\n'))\n",
    "else:\n",
    "    if not have_mass:\n",
    "        display(md('## There are no records for this chemical for which mass is reportable.'))\n",
    "        display(md('### Much of the analysis in this report will be left blank'))\n",
    "    \n"
   ]
  },
  {
   "cell_type": "code",
   "execution_count": null,
   "metadata": {},
   "outputs": [],
   "source": [
    "df.date = pd.to_datetime(df.date)\n",
    "df['year'] = df.date.dt.year\n",
    "df = df[df.year>2010]  # FF includes some old data but before 2011 are very sparse\n",
    "#display(md('Disclosures before 2011 are not included in these analyses.'))\n",
    "df.bgStateName = df.bgStateName.str.title()\n",
    "df.bgCountyName = df.bgCountyName.str.title()"
   ]
  },
  {
   "cell_type": "markdown",
   "metadata": {},
   "source": [
    "### Table of Contents\n",
    "- [General information about the chemical](#info)\n",
    "- [General usage](#frequency) within FracFocus & where those records occur\n",
    "- [Detailed usage for all records](#detailedAbundance)\n",
    "  - Uses by percentage of the fracking fluid\n",
    "  - Uses by mass\n",
    "- [Companies](#companies) supplying and using this chemical\n",
    "- [Patterns of use](#patterns)\n",
    "- [Disclosures list of biggest 100 uses](#biggest100) with map links\n",
    "- [Tables of raw](#raw) Names, CAS Numbers and Trade names associated with this chemical"
   ]
  },
  {
   "cell_type": "markdown",
   "metadata": {},
   "source": [
    "<a id='info'></a>"
   ]
  },
  {
   "cell_type": "code",
   "execution_count": null,
   "metadata": {},
   "outputs": [],
   "source": [
    "display(md(f'## Names for \"{cas}\":'))\n",
    "if not cas in cas_ignore:\n",
    "    display(md(f\"\"\"|Source|Name|\n",
    "| --- | --- |\n",
    "|SciFinder primary name:|**{cas_orig}**|\n",
    "|EPA - preferred name:|**{cas_epa}**|\n",
    "|IUPAC name:|**{cas_iupac}**|\n",
    "|Most frequently used name in FF:|**{comm_name}**|\"\"\"))\n",
    "else:\n",
    "    display(md(f\"\"\"|Source|Name|\n",
    "| --- | --- |\n",
    "|Most frequently used name in FF:|**{comm_name}**|\"\"\"))\n",
    "display(md(\"\\nSee table of raw names for other names used for this material\"))   "
   ]
  },
  {
   "cell_type": "markdown",
   "metadata": {},
   "source": [
    "## Summary from EPA's ChemInformatics\n",
    "For more detailed information, see the [ChemInformatics web site](https://www.epa.gov/chemical-research/cheminformatics)"
   ]
  },
  {
   "cell_type": "code",
   "execution_count": null,
   "metadata": {},
   "outputs": [],
   "source": [
    "#import make_chemInformatics_summaries as mcis\n",
    "# ci_df = pd.read_pickle('./chemInfom.pkl')\n",
    "ci_df = pd.read_parquet(os.path.join(hndl.curr_repo_dir,'curation_files',hndl.ci_summ_fn))\n",
    "# print(ci_df.columns)\n",
    "# create the pandas style version\n",
    "def add_style(v,props=''):\n",
    "    #print(s)\n",
    "    if v=='V':return 'text-align: center;background-color:red'\n",
    "    if v=='H':return 'text-align: center;background-color:orange'\n",
    "    if v=='M':return 'text-align: center;background-color:yellow'\n",
    "    if v=='L':return 'text-align: center;background-color:lightgreen'\n",
    "    if v=='I':return 'text-align: center;background-color:lightgrey'\n",
    "    if v=='ND':return 'text-align: center;background-color:darkgrey'\n",
    "\n",
    "    return ''\n",
    "\n",
    "def make_style(df,casrn = '50-00-0'): # just one   \n",
    "    # currently, just ignore the authority data\n",
    "    cols = df.columns.tolist()\n",
    "    rmvlst = []\n",
    "    for col in cols:\n",
    "        if 'authority' in col:\n",
    "            rmvlst.append(col)\n",
    "    df = df[df.CAS==casrn].drop(rmvlst,axis=1)\n",
    "            \n",
    "    df = df[df.CAS==casrn].drop(['Name','DTXSID'],axis=1)\n",
    "    if len(df)>0:\n",
    "        # don't make a file when no data available\n",
    "        df = df.fillna('ND')\n",
    "        df.reset_index(drop=True,inplace=True)\n",
    "        t = df.set_index('CAS').T\n",
    "        display(t.style.applymap(add_style))\n",
    "        # out.to_pickle(os.path.join(im_dir,casrn,'haz_df.pkl'))\n",
    "        return True\n",
    "    else:\n",
    "        display(md('### No ChemInformatics analysis available'))\n",
    "        display(md(\"\"\"**Important:** Please do NOT infer that the absence of an EPA analysis here implies this chemical is not hazardous. \n",
    "    Many fracking materials are not quantified for toxicity because they are still poorly studied or are a mix of unknown or \n",
    "    variable composition (even though the constituents are likely to be toxic). \"\"\"))\n",
    "        return False\n",
    "\n",
    "init_notebook_mode(all_interactive=False)  # turn off itables briefly  \n",
    "flag = make_style(ci_df,cas)\n",
    "init_notebook_mode(all_interactive=True)"
   ]
  },
  {
   "cell_type": "code",
   "execution_count": null,
   "metadata": {},
   "outputs": [],
   "source": [
    "if flag:\n",
    "    display(md(\"\"\"### Legend\n",
    "|Code| Toxicity |-|Code|Toxicity|\n",
    "| :---: | :---: |---| :---: | :---: |\n",
    "| **V** | Very High  |-|**H** |  High  |\n",
    "| **M** | Moderate  |-| **L** | Low  |\n",
    "| **I** | Inconclusive  |-| **ND** | No Data  |\n",
    "\"\"\"))\n",
    "    display(md(\"\"\"### EPA's disclaimer for the Hazard data\n",
    "> The Hazard Comparison Dashboard is a prototype tool and a compilation of information sourced from many sites, databases and sources including U.S. Federal and state sources and international bodies that saves the user time by providing information in one location. The data are not reviewed by USEPA – the user must apply judgment in use of the information. The results do not indicate EPA’s position on the use or regulation of these chemicals. \"\"\"))\n"
   ]
  },
  {
   "cell_type": "markdown",
   "metadata": {},
   "source": [
    "<a id='frequency'></a>\n",
    "# General frequency of use"
   ]
  },
  {
   "cell_type": "code",
   "execution_count": null,
   "metadata": {},
   "outputs": [],
   "source": [
    "total_Upload = int(ref_df.at['tot_num_disc','value'])\n",
    "total_Upload_w_chem = int(ref_df.at['tot_num_disc_less_FFV1','value'])\n",
    "fil_Upload = int(ref_df.at['tot_num_disc_fil','value'])\n",
    "fil_Upload_w_chem = int(ref_df.at['tot_num_disc_fil_less_FFV1','value'])"
   ]
  },
  {
   "cell_type": "code",
   "execution_count": null,
   "metadata": {},
   "outputs": [],
   "source": [
    "pres = len(df.DisclosureId.unique())\n",
    "massPres = len(df[df.mass>0].DisclosureId.unique())\n",
    "totpres = len(alldf.DisclosureId.unique())\n",
    "\n",
    "if totpres<300:\n",
    "    alpha = 1\n",
    "elif totpres<2000:\n",
    "    alpha = .6\n",
    "elif totpres<20000:\n",
    "    alpha = .35\n",
    "else:\n",
    "    alpha = .2\n"
   ]
  },
  {
   "cell_type": "code",
   "execution_count": null,
   "metadata": {},
   "outputs": [],
   "source": [
    "if (have_data):\n",
    "    if (pres/total_Upload_w_chem)>0.01: # don't show pie chart if presence is very small\n",
    "        x = [pres,fil_Upload_w_chem-pres]\n",
    "        labels = [f'{cas} present','not reported']\n",
    "        plt.figure(figsize=(5, 5))\n",
    "        plt.pie(x,explode=[0.15,0])\n",
    "        plt.legend(labels=labels)\n",
    "        title = f'Percent of all FracFocus disclosures that report the use of {cas}:'\n",
    "        title += f'\\n {th.round_sig(pres/fil_Upload_w_chem*100,3)}% '\n",
    "        plt.title(title,fontsize=16);\n",
    "        plt.show()\n",
    "    display(md(f\"\"\"||Unfiltered data set|Filtered data set|with calculated mass|\n",
    "|---|---|---|---|\n",
    "|Num disclosures|{totpres:,}|{pres:,}|{massPres:,}*|\n",
    "|% of disclosures|{th.round_sig(totpres/total_Upload_w_chem*100,3)}%|{th.round_sig(pres/fil_Upload_w_chem*100,3)}%|{th.round_sig(massPres/fil_Upload_w_chem*100,3)}%|\"\"\"))\n",
    "    if massPres<pres:\n",
    "        display(md(f'> *See [below](#massCompanies) for list of companies not reporting enough info for mass calculations'))"
   ]
  },
  {
   "cell_type": "code",
   "execution_count": null,
   "metadata": {},
   "outputs": [],
   "source": [
    "display(md('# Where this material has been reported'))\n",
    "display(md(f'FracFocus records that have conflicting or non-standard location data are not included in this map. This includes many records in **Alaska**.'))"
   ]
  },
  {
   "cell_type": "code",
   "execution_count": null,
   "metadata": {},
   "outputs": [],
   "source": [
    "def ChemicalMap(df,casrn):\n",
    "    #start_loc = get_state_center(statename)\n",
    "    #print(statename,start_loc)\n",
    "    cond = (df.loc_within_state=='YES')&(df.loc_within_county=='YES')\n",
    "    gb = df[cond].groupby(['bgStateName','bgCountyName'],as_index=False)['bgCAS'].count()\n",
    "    gb = gb.rename({'bgStateName':'StateName','bgCountyName':'CountyName','bgCAS':'value'}, axis=1)\n",
    "    \n",
    "    gb1 = df[cond&(df.mass>0)].groupby(['bgStateName','bgCountyName'],as_index=False)['bgCAS'].count()\n",
    "    gb1 = gb1.rename({'bgStateName':'StateName','bgCountyName':'CountyName','bgCAS':'cnt_with_mass'}, axis=1)\n",
    "    gb = pd.merge(gb,gb1,on=['StateName','CountyName'],how='left')\n",
    "    \n",
    "    gb1 = df[cond].groupby(['bgStateName','bgCountyName'],as_index=False)['mass'].sum()\n",
    "    gb1 = gb1.rename({'bgStateName':'StateName','bgCountyName':'CountyName','mass':'mass_sum'}, axis=1)\n",
    "    gb = pd.merge(gb,gb1,on=['StateName','CountyName'],how='left')\n",
    "    gb.mass_sum = gb.mass_sum.map(lambda x: th.round_sig(x,3))\n",
    "    \n",
    "    \n",
    "    #print(gb.value.max())\n",
    "    if gb.value.max() > 1000:\n",
    "        logflag = True\n",
    "        if gb.value.max() > 10000:\n",
    "            bins = [0,1,2,3,4,5]\n",
    "        else:\n",
    "            bins = [0,1,2,3,4]\n",
    "    else:\n",
    "        logflag = False\n",
    "        if gb.value.max()>50:\n",
    "            bins = [0,20,50,100,500,1000]\n",
    "        else:\n",
    "            bins = [0,1,5,10,20,50]\n",
    "        \n",
    "    mapping.create_county_choropleth(gb,plotlog=logflag,custom_scale=bins,\n",
    "                             start_zoom=3,\n",
    "                             legend_name=f'Number of uses of {casrn}',\n",
    "                             fields=['StateName','CountyName','orig_value','cnt_with_mass','mass_sum'],\n",
    "                             aliases=['State: ','County: ','# chemical records: ',\n",
    "                                     '# records with reportable mass: ','Sum mass (lbs): '])\n",
    "    \n",
    "\n",
    "\n",
    "t = df[['bgStateName','bgCountyName','bgCAS','date','loc_within_state','loc_within_county','mass']]\n",
    "t.bgStateName = t.bgStateName.str.lower()\n",
    "t.bgCountyName = t.bgCountyName.str.lower()\n",
    "ChemicalMap(t,cas)"
   ]
  },
  {
   "cell_type": "markdown",
   "metadata": {},
   "source": [
    "<a id='detailedAbundance'></a>\n",
    "# Detailed Uses\n",
    "Each \"use\" below represents a single **record** in a disclosure, that is, a single line.  A given disclosure may have more than one record of a particular chemical.  "
   ]
  },
  {
   "cell_type": "markdown",
   "metadata": {},
   "source": [
    "Using all **filtered** data for this chemical.\n",
    "\n",
    "### Uses by percent of the fracking job\n",
    "This measure roughly shows a comparison of the concentration of the chemical in the whole fracking job (including the base fluid which is typically over 80%).  Only the disclosures where the sum of PercentHFJob is within 5% of 100% are considered \"valid.\" "
   ]
  },
  {
   "cell_type": "code",
   "execution_count": null,
   "metadata": {},
   "outputs": [],
   "source": [
    "# df[df.within_total_tolerance].PercentHFJob.max()\n",
    "# df.within_total_tolerance.sum()"
   ]
  },
  {
   "cell_type": "code",
   "execution_count": null,
   "metadata": {},
   "outputs": [],
   "source": [
    "if have_data:\n",
    "    df['not_present'] = 0\n",
    "    cond = (df.PercentHFJob>0) & (df.within_total_tolerance)\n",
    "    if df.PercentHFJob.max()>0:\n",
    "        df['not_present'] = df[cond].PercentHFJob.min() - (df[cond].PercentHFJob.max()-df[cond].PercentHFJob.min())*0.05\n",
    "    #print(df.PercentHFJob.median())\n",
    "    cond = (df.PercentHFJob>0) & (df.within_total_tolerance)\n",
    "    ax = df[cond].plot('date','PercentHFJob', style='o', alpha=alpha,\n",
    "                figsize=(16,6),legend=False)\n",
    "    df[~cond].plot('date','not_present', style='|', alpha=1,color='orange',ms=20, ax=ax,legend=False)\n",
    "    plt.ylabel('Percent of Job',fontsize=16);\n",
    "    plt.title(f'Percent of job that is {cas} - linear version',fontsize=16);\n",
    "    ax.grid()\n",
    "    ax.tick_params(axis=\"y\", labelsize=14)\n",
    "    ax.tick_params(axis=\"x\", labelsize=14)\n",
    "    "
   ]
  },
  {
   "cell_type": "code",
   "execution_count": null,
   "metadata": {},
   "outputs": [],
   "source": [
    "if have_mass:\n",
    "    display(md(f'##### Number of records with valid percentage data (shown by blue circles): {len(df[cond]):,}\\n'))\n",
    "    display(md(f'##### Number of records without valid percentage data (shown by orange bars): {len(df[~cond]):,}\\n'))\n",
    "    display(md('---'))"
   ]
  },
  {
   "cell_type": "code",
   "execution_count": null,
   "metadata": {},
   "outputs": [],
   "source": [
    "if have_mass:\n",
    "    ax = df[cond].plot('date','PercentHFJob', style='o', alpha=alpha,\n",
    "                figsize=(16,6))\n",
    "    plt.ylabel('Percent of Job',fontsize=16);\n",
    "    plt.title(f'Percent of Job that is {cas} - log version',fontsize=16);\n",
    "    ax.set(yscale='log')\n",
    "    ax.tick_params(axis=\"y\", labelsize=14)\n",
    "    ax.tick_params(axis=\"x\", labelsize=14)\n",
    "    #locmaj = matplotlib.ticker.LogLocator(base=10,numticks=7,subs='all') \n",
    "    if len(df[cond]) < 5000: # provide more detailed grid (too many points swamps it out)\n",
    "        locmaj = matplotlib.ticker.LogLocator(base=10,subs='all') \n",
    "    else:\n",
    "        locmaj = matplotlib.ticker.LogLocator(base=10) #,subs='all') \n",
    "    ax.yaxis.set_major_locator(locmaj)\n",
    "    ax.set(ylim=(max(0.000001,df.PercentHFJob.min()),\n",
    "                 df.PercentHFJob.max()*1.1));\n",
    "    ax.grid()\n",
    "\n",
    "    lns = list(np.percentile(df[cond].PercentHFJob,[25,50,75]))\n",
    "    #ax.set_ylim(-0.7,len(sn)-0.3)\n",
    "    for l in lns:\n",
    "        plt.hlines(l,df[cond].date.min(),\n",
    "                   df[cond].date.max(),\n",
    "                   color='black')\n",
    "    s = 'PERCENTILES:\\n'\n",
    "    s+= ' -- 25%:  {:.6} percent\\n'.format(float(lns[0]))\n",
    "    s+= ' -- 50%:  {:.6} percent\\n'.format(float(lns[1]))\n",
    "    s+= ' -- 75%:  {:.6} percent\\n'.format(float(lns[2]))\n",
    "    s+= ' -- max:  {:.6} percent\\n'.format(float(df[cond].PercentHFJob.max()))\n",
    "    print(s)\n"
   ]
  },
  {
   "cell_type": "markdown",
   "metadata": {},
   "source": [
    "<a id='by_mass'></a>\n",
    "## Uses by mass\n",
    "This measure shows a comparison of the absolute quantity of a chemical used in a fracking job. \n"
   ]
  },
  {
   "cell_type": "code",
   "execution_count": null,
   "metadata": {},
   "outputs": [],
   "source": [
    "if (have_mass):\n",
    "    # set 'presence' data to below mass data\n",
    "    df['noMass'] = 0\n",
    "    if df.mass.max()>0:\n",
    "        df['noMass'] = df.mass.min() - (df.mass.max()-df.mass.min())*0.05\n",
    "    df.noMass = np.where(df.has_mass,np.NaN,df.noMass) \n",
    "    ax = df[df.mass>0].plot('date','mass', style='o', alpha=alpha,\n",
    "                figsize=(16,6),legend=False)\n",
    "    df[~df.has_mass].plot('date','noMass', style='|', alpha=1, ms=20, color='orange', legend=False,\n",
    "                          ax=ax)\n",
    "    plt.ylabel('Mass in pounds',fontsize=16);\n",
    "    plt.title(f'Mass of {cas} - linear version',fontsize=16);\n",
    "    ax.grid()\n",
    "    ax.tick_params(axis=\"y\", labelsize=14)\n",
    "    ax.tick_params(axis=\"x\", labelsize=14);\n",
    "    ax = gca().yaxis.set_major_formatter(mpl.ticker.StrMethodFormatter('{x:,.0f}'));\n"
   ]
  },
  {
   "cell_type": "code",
   "execution_count": null,
   "metadata": {},
   "outputs": [],
   "source": [
    "if have_mass:\n",
    "    display(md(f'Number of records with a mass (red circles): **{len(df[df.has_mass]):,}**'))    \n",
    "    display(md(f'Number of records without a calculable mass (orange bars): **{len(df[~df.has_mass]):,}**'))\n",
    "    display(md('---'))"
   ]
  },
  {
   "cell_type": "code",
   "execution_count": null,
   "metadata": {},
   "outputs": [],
   "source": [
    "if have_mass:\n",
    "    c = df.MI_comp=='n/a'\n",
    "    ax = df[df.mass>0].plot('date','mass', style='o', alpha=alpha, legend=False,\n",
    "                 figsize=(16,6))\n",
    "    plt.ylabel('Mass in pounds',fontsize=16);\n",
    "    plt.title(f'Mass of {cas} - log version',fontsize=16);\n",
    "    ax.set(yscale='log')\n",
    "    ax.tick_params(axis=\"y\", labelsize=14)\n",
    "    ax.tick_params(axis=\"x\", labelsize=14)\n",
    "\n",
    "    if len(df) < 5000: # provide more detailed grid (too many points swamps it out)\n",
    "        locmaj = matplotlib.ticker.LogLocator(base=10,subs='all') \n",
    "    else:\n",
    "        locmaj = matplotlib.ticker.LogLocator(base=10) #,subs='all') \n",
    "    ax.yaxis.set_major_locator(locmaj)\n",
    "    \n",
    "    ax.set(ylim=(max(0.01,df.mass.min()),max(df.mass.max(),df.cleanMI.max())*1.2));\n",
    "    ax.grid()\n",
    "\n",
    "    lns = list(np.percentile(df[df.mass>0].mass,[25,50,75,95,99]))\n",
    "    #ax.set_ylim(-0.7,len(sn)-0.3)\n",
    "    for l in lns:\n",
    "        plt.hlines(l,df[df.mass>0].date.min(),\n",
    "                   df[df.mass>0].date.max(),\n",
    "                   color='black')\n",
    "    s = 'mass PERCENTILES:\\n (represented by lines in the figure)\\n'\n",
    "    s+= ' -- 25%:  {:,} pounds\\n'.format(int(lns[0]))\n",
    "    s+= ' -- 50%:  {:,} pounds\\n'.format(int(lns[1]))\n",
    "    s+= ' -- 75%:  {:,} pounds\\n'.format(int(lns[2]))\n",
    "    s+= ' -- 95%:  {:,} pounds\\n'.format(int(lns[3]))\n",
    "    s+= ' -- 99%:  {:,} pounds\\n'.format(int(lns[4]))\n",
    "    s+= ' -- max:  {:,} pounds\\n'.format(int(df.mass.max()))\n",
    "    print(s)"
   ]
  },
  {
   "cell_type": "markdown",
   "metadata": {},
   "source": [
    "<a id='companies'></a>\n",
    "# Companies\n",
    "Top companies using or supplying this material"
   ]
  },
  {
   "cell_type": "code",
   "execution_count": null,
   "metadata": {},
   "outputs": [],
   "source": [
    "if have_data:\n",
    "    ngroups = min(len(df.bgOperatorName.unique()),10)\n",
    "    fsiz = (8,(ngroups*0.4)+1)\n",
    "#     if ngroups < 6: fsiz = (8,3)\n",
    "#     else: fsiz = (8,8)\n",
    "    ax = df.groupby('bgOperatorName')['DisclosureId'].count()\\\n",
    "         .sort_values(ascending=False)[:10].plot.barh(figsize=fsiz)\n",
    "    ax.tick_params(axis=\"y\", labelsize=14)\n",
    "    ax.tick_params(axis=\"x\", labelsize=14)\n",
    "    plt.xlabel('Number of records',fontsize=16);\n",
    "    plt.title(f'Number of chemical records using {cas} by operator',fontsize=16);\n",
    "\n"
   ]
  },
  {
   "cell_type": "markdown",
   "metadata": {},
   "source": [
    "## Which suppliers are most frequently named for this chemical?\n",
    "The field reported below is bgSupplier."
   ]
  },
  {
   "cell_type": "code",
   "execution_count": null,
   "metadata": {},
   "outputs": [],
   "source": [
    "if have_data:\n",
    "    ngroups = min(len(df.bgSupplier.unique()),10)\n",
    "    fsiz = (8,(ngroups*0.4)+1)\n",
    "    ax = df.groupby('bgSupplier')['DisclosureId'].count()\\\n",
    "         .sort_values(ascending=False)[:10].plot.barh(figsize=fsiz)\n",
    "    ax.tick_params(axis=\"y\", labelsize=14)\n",
    "    ax.tick_params(axis=\"x\", labelsize=14)\n",
    "    plt.xlabel('Number of records',fontsize=16);\n",
    "    plt.title(f'Number of chemical records using {cas} by Supplier',fontsize=16);\n"
   ]
  },
  {
   "cell_type": "markdown",
   "metadata": {},
   "source": [
    "## Which primarySuppliers are most frequently associated with this chemical?\n",
    "The primarySupplier is a disclosure-level value and is not necessarily related to a given chemical record. Nevertheless, it indicates the supplier with the most records in a fracking job."
   ]
  },
  {
   "cell_type": "code",
   "execution_count": null,
   "metadata": {},
   "outputs": [],
   "source": [
    "if have_data:\n",
    "    ngroups = min(len(df.primarySupplier.unique()),10)\n",
    "    fsiz = (8,(ngroups*0.4)+1)\n",
    "    ax = df.groupby('primarySupplier')['DisclosureId'].count()\\\n",
    "         .sort_values(ascending=False)[:10].plot.barh(figsize=fsiz);\n",
    "    ax.tick_params(axis=\"y\", labelsize=14)\n",
    "    ax.tick_params(axis=\"x\", labelsize=14)\n",
    "    plt.xlabel('Number of records',fontsize=16);\n",
    "    plt.title(f'Number of chemical records using {cas} associated with primarySupplier',fontsize=16);\n"
   ]
  },
  {
   "cell_type": "markdown",
   "metadata": {},
   "source": [
    "## Total mass reported by operator: Who uses the biggest quantity?\n",
    "The field reported below is bgOperator."
   ]
  },
  {
   "cell_type": "code",
   "execution_count": null,
   "metadata": {},
   "outputs": [],
   "source": [
    "\n",
    "if have_mass:\n",
    "    ngroups = min(len(df[df.mass>0].bgOperatorName.unique()),10)\n",
    "    fsiz = (8,(ngroups*0.4)+1)\n",
    "    ax =df[df.mass>0].groupby('bgOperatorName')['mass'].sum()\\\n",
    "         .sort_values(ascending=False)[:10].plot.barh(figsize=fsiz);\n",
    "    ax.tick_params(axis=\"y\", labelsize=14)\n",
    "    ax.tick_params(axis=\"x\", labelsize=14,rotation=75)\n",
    "    plt.xlabel('Mass (pounds)',fontsize=16);\n",
    "    plt.title(f'Total mass of {cas} used by operator',fontsize=16);"
   ]
  },
  {
   "cell_type": "markdown",
   "metadata": {},
   "source": [
    "## Total mass reported by primarySupplier - biggest associations"
   ]
  },
  {
   "cell_type": "code",
   "execution_count": null,
   "metadata": {},
   "outputs": [],
   "source": [
    "if have_mass:\n",
    "    ngroups = min(len(df[df.mass>0].bgOperatorName.unique()),10)\n",
    "    fsiz = (8,(ngroups*0.4)+1)\n",
    "    ax =df.groupby('primarySupplier')['mass'].sum()\\\n",
    "         .sort_values(ascending=False)[:10].plot.barh(figsize=fsiz);\n",
    "    ax.tick_params(axis=\"y\", labelsize=14)\n",
    "    ax.tick_params(axis=\"x\", labelsize=14,rotation=75)\n",
    "    plt.xlabel('Mass (pounds)',fontsize=16);\n",
    "    plt.title(f'Total mass of {cas} associated with primarySupplier',fontsize=16);"
   ]
  },
  {
   "cell_type": "markdown",
   "metadata": {},
   "source": [
    "<a id='patterns'></a>"
   ]
  },
  {
   "cell_type": "code",
   "execution_count": null,
   "metadata": {},
   "outputs": [],
   "source": [
    "if have_mass:\n",
    "    display(md('--- \\n ---'))\n",
    "    display(md('## Patterns of use'))\n",
    "    display(md('### Across some of the larger operators'))\n",
    "\n",
    "    import seaborn as sns\n",
    "    sns.set(style=\"whitegrid\")\n",
    "    ops =df.groupby('bgOperatorName',as_index=False)['mass'].sum().sort_values(by='mass',\n",
    "                                                                                 ascending=False)[:6].bgOperatorName.tolist()\n",
    "    ngroups = len(ops)\n",
    "    t = df[df.bgOperatorName.isin(ops)]\n",
    "    #print(len(t))\n",
    "    #t = t[t.record_flags.str.contains('M')]\n",
    "    fig = plt.figure(figsize=(10,ngroups+1))\n",
    "    ax = sns.stripplot(x=t.mass,y=t.bgOperatorName,jitter=.2,alpha=.7)\n",
    "    plt.xlabel(f'mass in pounds: {cas}',fontsize=14);\n",
    "    plt.title(f'Variability in use of {cas} across some operators',fontsize=16)\n",
    "    ax.set(xscale='log')\n",
    "    ax.set(xlim=(max(0.1,t.mass.min()),t.mass.max()*1.1))\n",
    "    ax.tick_params(axis=\"x\", labelsize=14)\n",
    "    ax.tick_params(axis=\"y\", labelsize=14)\n",
    "    if len(t) < 5000: # provide more detailed grid (too many points swamps it out)\n",
    "        locmaj = matplotlib.ticker.LogLocator(base=10,subs='all') \n",
    "    else:\n",
    "        locmaj = matplotlib.ticker.LogLocator(base=10) #,subs='all') \n",
    "    ax.xaxis.set_major_locator(locmaj)\n"
   ]
  },
  {
   "cell_type": "code",
   "execution_count": null,
   "metadata": {},
   "outputs": [],
   "source": [
    "if have_mass:\n",
    "    import seaborn as sns\n",
    "    display(md('### Across some of the primarySuppliers'))\n",
    "\n",
    "    sns.set(style=\"whitegrid\")\n",
    "    ops =df.groupby('primarySupplier',as_index=False)['mass'].sum().sort_values(by='mass',\n",
    "                                                                                 ascending=False)[:6].primarySupplier.tolist()\n",
    "    ngroups = len(ops)\n",
    "    t = df[df.primarySupplier.isin(ops)]\n",
    "    #print(len(t))\n",
    "    #t = t[t.record_flags.str.contains('M')]\n",
    "    fig = plt.figure(figsize=(10,ngroups+1))\n",
    "    ax = sns.stripplot(x=t.mass,y=t.primarySupplier,jitter=.2,alpha=.7)\n",
    "    plt.xlabel(f'mass in pounds: {cas}',fontsize=14);\n",
    "    plt.title(f'Variability in use of {cas} across some primarySuppliers',fontsize=16)\n",
    "    ax.set(xscale='log')\n",
    "    ax.set(xlim=(max(0.1,t.mass.min()),t.mass.max()*1.1))\n",
    "    ax.tick_params(axis=\"x\", labelsize=14)\n",
    "    ax.tick_params(axis=\"y\", labelsize=14)\n",
    "    if len(t) < 5000: # provide more detailed grid (too many points swamps it out)\n",
    "        locmaj = matplotlib.ticker.LogLocator(base=10,subs='all') \n",
    "    else:\n",
    "        locmaj = matplotlib.ticker.LogLocator(base=10) #,subs='all') \n",
    "    ax.xaxis.set_major_locator(locmaj)\n"
   ]
  },
  {
   "cell_type": "markdown",
   "metadata": {},
   "source": [
    "<a id='biggest100'></a>"
   ]
  },
  {
   "cell_type": "code",
   "execution_count": null,
   "metadata": {},
   "outputs": [],
   "source": [
    "if have_mass:\n",
    "    if massPres < 100:\n",
    "        display(md('## All disclosures with mass'))\n",
    "    else:\n",
    "        display(md('--- \\n ---\\n## Disclosures with the 100 largest uses'))\n",
    "    # display(md('**mass** is in pounds. **map_link** provides a google map of site.  Note that the Google satellite map may be older than the well pad.'))"
   ]
  },
  {
   "cell_type": "code",
   "execution_count": null,
   "metadata": {},
   "outputs": [],
   "source": [
    "if have_mass:\n",
    "    mdf = df[df.mass>0].sort_values('mass',ascending=False).reset_index(drop=True)\n",
    "    iShow(mdf[['mass','massSource','FF_disc','bgStateName','bgCountyName',#'map_link',\n",
    "               'bgOperatorName','TotalBaseWaterVolume',\n",
    "                'date','primarySupplier','bgSupplier','TradeName_trunc']].rename({'FF_disc':'APINumber (FF link)'},axis=1).head(100),\n",
    "         classes=\"display compact cell-border\")\n"
   ]
  },
  {
   "cell_type": "markdown",
   "metadata": {},
   "source": [
    "<a id='raw'></a>\n",
    "\n",
    "---\n",
    "---\n",
    "# Raw fields for this chemical\n",
    "These are the fields in the raw FracFocus data as they are entered for the records positively identified as this chemical.  These raw fields often have typos, variations on a chemical name, etc.  In some cases, two variations may seem identical, but probably differ by non-printing characters."
   ]
  },
  {
   "cell_type": "code",
   "execution_count": null,
   "metadata": {},
   "outputs": [],
   "source": [
    "\n",
    "if have_data:\n",
    "    display(md('## Raw CASNumber variations encountered for this chemical'))\n",
    "\n",
    "    out = df.groupby('CASNumber',as_index=False)['bgCAS'].count().reset_index(drop=True)\n",
    "    gb1 = df.groupby('CASNumber')['bgOperatorName'].apply(set).reset_index()\n",
    "    gb1.columns = ['CASNumber','Operators']\n",
    "    gb1.Operators = gb1.Operators.map(lambda x: th.xlate_to_str(x,maxlen=10))\n",
    "    out = pd.merge(out,gb1,on='CASNumber',how='left')\n",
    "    gb2 = df.groupby('CASNumber')['primarySupplier'].apply(set).reset_index()\n",
    "    gb2.columns = ['CASNumber','primarySupplier']\n",
    "    gb2.primarySupplier = gb2.primarySupplier.map(lambda x: th.xlate_to_str(x,maxlen=10))\n",
    "    out = pd.merge(out,gb2,on='CASNumber',how='left').reset_index(drop=True)\n",
    "\n",
    "    out.columns = ['CASNumber','Number of records','Operators','primarySuppliers']\n",
    "    iShow(out.sort_values('Number of records',ascending=False),\n",
    "          maxBytes=0, classes=\"display compact cell-border\")"
   ]
  },
  {
   "cell_type": "code",
   "execution_count": null,
   "metadata": {},
   "outputs": [],
   "source": [
    "if have_data:\n",
    "    display(md('## Raw IngredientName variations encountered for this chemical'))\n",
    "\n",
    "    out = df.groupby('IngredientName',as_index=False)['bgCAS'].count().reset_index(drop=True)\n",
    "    gb1 = df.groupby('IngredientName')['bgOperatorName'].apply(set).reset_index()\n",
    "    gb1.columns = ['IngredientName','Operators']\n",
    "    gb1.Operators = gb1.Operators.map(lambda x: th.xlate_to_str(x,maxlen=10))\n",
    "    out = pd.merge(out,gb1,on='IngredientName',how='left')\n",
    "    gb2 = df.groupby('IngredientName')['primarySupplier'].apply(set).reset_index()\n",
    "    gb2.columns = ['IngredientName','primarySupplier']\n",
    "    gb2.primarySupplier = gb2.primarySupplier.map(lambda x: th.xlate_to_str(x,maxlen=10))\n",
    "    out = pd.merge(out,gb2,on='IngredientName',how='left').reset_index(drop=True)\n",
    "\n",
    "    out.columns = ['IngredientName','Number of records','Operators','primarySuppliers']\n",
    "    iShow(out.sort_values('Number of records',ascending=False),\n",
    "          maxBytes=0,classes=\"display compact cell-border\")"
   ]
  },
  {
   "cell_type": "code",
   "execution_count": null,
   "metadata": {},
   "outputs": [],
   "source": [
    "if have_data:\n",
    "    display(md('## Raw TradeName variations encountered for this chemical\\n Names truncated to 30 characters before processing'))\n",
    "\n",
    "    df.TradeName = np.where(df.TradeName.isna(),'MISSING',df.TradeName)\n",
    "\n",
    "    out = df.groupby('TradeName_trunc',as_index=False)['bgCAS'].count().reset_index(drop=True)\n",
    "    gb1 = df.groupby('TradeName_trunc')['bgOperatorName'].apply(set).reset_index()\n",
    "    gb1.columns = ['TradeName_trunc','Operators']\n",
    "    gb1.Operators = gb1.Operators.map(lambda x: th.xlate_to_str(x,maxlen=10))\n",
    "    out = pd.merge(out,gb1,on='TradeName_trunc',how='left')\n",
    "    gb2 = df.groupby('TradeName_trunc')['primarySupplier'].apply(set).reset_index()\n",
    "    gb2.columns = ['TradeName_trunc','primarySupplier']\n",
    "    gb2.primarySupplier = gb2.primarySupplier.map(lambda x: th.xlate_to_str(x,maxlen=10))\n",
    "    out = pd.merge(out,gb2,on='TradeName_trunc',how='left').reset_index(drop=True)\n",
    "    gb3 = df.groupby('TradeName_trunc')['bgSupplier'].apply(set).reset_index()\n",
    "    gb3.columns = ['TradeName_trunc','bgSupplier']\n",
    "    gb3.bgSupplier = gb3.bgSupplier.map(lambda x: th.xlate_to_str(x,maxlen=10))\n",
    "    out = pd.merge(out,gb3,on='TradeName_trunc',how='left').reset_index(drop=True)\n",
    "\n",
    "    out.columns = ['TradeName_trunc','Number of records','Operators','primarySuppliers','bgSupplier']\n",
    "    iShow(out.sort_values('Number of records',ascending=False),\n",
    "          maxBytes=0,classes=\"display compact cell-border\")"
   ]
  },
  {
   "cell_type": "code",
   "execution_count": null,
   "metadata": {},
   "outputs": [],
   "source": [
    "if have_data:\n",
    "    display(md('## Raw Purpose variations encountered for this chemical\\n Values truncated to 30 characters before processing'))\n",
    "    df.Purpose = np.where(df.Purpose.isna(),'MISSING',df.Purpose)\n",
    "    df['Purp_trunc'] = np.where(df.Purpose.str.len()>30,\n",
    "                                df.Purpose.str[:30]+'...',\n",
    "                                df.Purpose)\n",
    "    out = df.groupby('Purp_trunc',as_index=False)['bgCAS'].count().reset_index(drop=True)\n",
    "    gb1 = df.groupby('Purp_trunc')['bgOperatorName'].apply(set).reset_index()\n",
    "    gb1.columns = ['Purp_trunc','Operators']\n",
    "    gb1.Operators = gb1.Operators.map(lambda x: th.xlate_to_str(x,maxlen=10))\n",
    "    out = pd.merge(out,gb1,on='Purp_trunc',how='left')\n",
    "    gb2 = df.groupby('Purp_trunc')['primarySupplier'].apply(set).reset_index()\n",
    "    gb2.columns = ['Purp_trunc','primarySupplier']\n",
    "    gb2.primarySupplier = gb2.primarySupplier.map(lambda x: th.xlate_to_str(x,maxlen=10))\n",
    "    out = pd.merge(out,gb2,on='Purp_trunc',how='left').reset_index(drop=True)\n",
    "    gb3 = df.groupby('Purp_trunc')['bgSupplier'].apply(set).reset_index()\n",
    "    gb3.columns = ['Purp_trunc','bgSupplier']\n",
    "    gb3.bgSupplier = gb3.bgSupplier.map(lambda x: th.xlate_to_str(x,maxlen=10))\n",
    "    out = pd.merge(out,gb3,on='Purp_trunc',how='left').reset_index(drop=True)\n",
    "\n",
    "    out.columns = ['Purp_trunc','Number of records','Operators','primarySuppliers','bgSupplier']\n",
    "    iShow(out.sort_values('Number of records',ascending=False),\n",
    "          maxBytes=0, classes=\"display compact cell-border\")"
   ]
  },
  {
   "cell_type": "markdown",
   "metadata": {},
   "source": [
    "<a id='massCompanies'></a>"
   ]
  },
  {
   "cell_type": "code",
   "execution_count": null,
   "metadata": {},
   "outputs": [],
   "source": [
    "if have_data:\n",
    "    if massPres < pres:\n",
    "        display(md('---\\n ---\\n## Operators not reporting enough data for mass calculations for this chemical'))\n",
    "        display(md('Shown are operators and how many records without mass, as well as the types of information missing or in error for each company. In addition, not all disclosures are curated by Open-FF yet.'))\n",
    "        tmp = df[~(df.mass>0)].groupby('bgOperatorName',as_index=False)['DisclosureId'].count()\n",
    "        df['not_curated'] = df.carrier_status=='unknown'\n",
    "        df['noPerc'] = ~(df.PercentHFJob>0)\n",
    "        df['noTBWV'] = ~df.has_TBWV\n",
    "        df['noWaterCarrier'] = ~df.has_water_carrier\n",
    "        df['outOfTolerance'] = ~df.within_total_tolerance\n",
    "        gb = df[~(df.mass>0)].groupby('bgOperatorName',as_index=False)[['not_curated',\n",
    "                                                                            'noTBWV','noWaterCarrier',\n",
    "                                                                            'outOfTolerance','noPerc']].sum()\n",
    "        tmp = pd.merge(tmp,gb,on='bgOperatorName',how='left').reset_index(drop=True)\n",
    "        tmp.not_curated = ((tmp.not_curated/tmp.DisclosureId)*100).round(0)\n",
    "        tmp.noTBWV = ((tmp.noTBWV/tmp.DisclosureId)*100).round(0)\n",
    "        tmp.noWaterCarrier = ((tmp.noWaterCarrier/tmp.DisclosureId)*100).round(0)\n",
    "        tmp.outOfTolerance = ((tmp.outOfTolerance/tmp.DisclosureId)*100).round(0)\n",
    "        tmp.noPerc = ((tmp.noPerc/tmp.DisclosureId)*100).round(0)\n",
    "        tmp.columns = ['Operator','records without mass','% carrier not curated','% without TBWV','% no water carrier record',\n",
    "                       '% total percent out of tolerance','% no PercentHFJob']\n",
    "        iShow(tmp.sort_values('records without mass',ascending=False),\n",
    "              maxBytes=0, classes=\"display compact cell-border\")    "
   ]
  },
  {
   "cell_type": "code",
   "execution_count": null,
   "metadata": {},
   "outputs": [],
   "source": []
  },
  {
   "cell_type": "code",
   "execution_count": null,
   "metadata": {},
   "outputs": [],
   "source": []
  }
 ],
 "metadata": {
  "hide_input": true,
  "kernelspec": {
   "display_name": "Python 3 (ipykernel)",
   "language": "python",
   "name": "python3"
  },
  "language_info": {
   "codemirror_mode": {
    "name": "ipython",
    "version": 3
   },
   "file_extension": ".py",
   "mimetype": "text/x-python",
   "name": "python",
   "nbconvert_exporter": "python",
   "pygments_lexer": "ipython3",
   "version": "3.11.8"
  }
 },
 "nbformat": 4,
 "nbformat_minor": 4
}
