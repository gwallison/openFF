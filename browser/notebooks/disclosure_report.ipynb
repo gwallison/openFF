{
 "cells": [
  {
   "cell_type": "code",
   "execution_count": null,
   "id": "7af406d4-1dd0-4905-bb6a-77bdb9f98429",
   "metadata": {},
   "outputs": [],
   "source": [
    "# %cd ./work\n",
    "# %pwd"
   ]
  },
  {
   "cell_type": "code",
   "execution_count": null,
   "id": "a4c09db7-b59f-40f3-8c4d-da124c7037f4",
   "metadata": {},
   "outputs": [],
   "source": [
    "# %run \"../catalog_common.py\""
   ]
  },
  {
   "cell_type": "code",
   "execution_count": null,
   "id": "8bf11553-0fb6-433c-bee9-5521e41a32bb",
   "metadata": {},
   "outputs": [],
   "source": [
    "# import sys\n",
    "# sys.path.insert(0,'c:/MyDocs/OpenFF/src/openFF-catalog/')\n",
    "# import catalog_common as cc"
   ]
  },
  {
   "cell_type": "code",
   "execution_count": null,
   "id": "79085df4-fdd8-4af2-9fbb-0414a407d14f",
   "metadata": {},
   "outputs": [],
   "source": [
    "#preamble to analysis\n",
    "import pandas as pd\n",
    "import numpy as np\n",
    "from IPython.display import Markdown as md\n",
    "from IPython.display import HTML, display\n",
    "from time import sleep\n",
    "\n",
    "from itables import init_notebook_mode\n",
    "init_notebook_mode(all_interactive=True,connected=True)\n",
    "from itables import show as iShow\n",
    "import itables.options as opt\n",
    "opt.classes=\"display compact cell-border\"\n",
    "opt.maxBytes = 0\n",
    "\n",
    "opt.order = []  # no sorting"
   ]
  },
  {
   "cell_type": "code",
   "execution_count": null,
   "id": "b68199e2-8615-4b62-ae24-56d2bf5602a5",
   "metadata": {},
   "outputs": [],
   "source": [
    "alldf = pd.read_parquet(r\"C:\\MyDocs\\integrated\\openFF\\tmp\\all_disc.parquet\")\n",
    "if len(alldf)>1:\n",
    "    display(md('## This well has more than one disclosure'))\n",
    "    iShow(alldf, paging=False)"
   ]
  },
  {
   "cell_type": "code",
   "execution_count": null,
   "id": "237e8b0f-13d7-4374-b2d3-c8d31ae4de15",
   "metadata": {},
   "outputs": [],
   "source": [
    "display(md('## Meta data'))\n",
    "cols = ['UploadKey','APINumber','OperatorName','bgOperatorName','date',\n",
    "        'Latitude','bgLatitude','stLatitude',\n",
    "        'Longitude','bgLongitude','stLongitude','is_duplicate','has_ingredients']\n",
    "metadf = pd.read_parquet(r\"C:\\MyDocs\\integrated\\openFF\\tmp\\meta.parquet\",columns=cols)\n",
    "meta = metadf.T.copy().reset_index()\n",
    "meta.columns = ['field','value']"
   ]
  },
  {
   "cell_type": "code",
   "execution_count": null,
   "id": "c2ddbea0-69e0-498d-b092-706b06d321c9",
   "metadata": {
    "tags": []
   },
   "outputs": [],
   "source": [
    "iShow(meta, paging=False)"
   ]
  },
  {
   "cell_type": "code",
   "execution_count": null,
   "id": "6b37f76e-8744-42ad-80b6-d42d522b1a08",
   "metadata": {
    "tags": []
   },
   "outputs": [],
   "source": [
    "if metadf.has_ingredients.iloc[0]==False:\n",
    "    display(md('### This disclosure has no chemical data in the bulk download.'))\n",
    "    display(md('To view the PDF version, copy the APINumber from this page and paste it into the [FracFocus search page](https://fracfocus.org/wells/advanced)'))\n",
    "    display(md('Below are the empty records in the bulk data for this disclosure'))\n",
    "else:\n",
    "    display(md('## Chemical data'))    \n",
    "chemdf = pd.read_parquet(r\"C:\\MyDocs\\integrated\\openFF\\tmp\\chem.parquet\")\n",
    "iShow(chemdf, paging=False)"
   ]
  }
 ],
 "metadata": {
  "kernelspec": {
   "display_name": "Python 3 (ipykernel)",
   "language": "python",
   "name": "python3"
  },
  "language_info": {
   "codemirror_mode": {
    "name": "ipython",
    "version": 3
   },
   "file_extension": ".py",
   "mimetype": "text/x-python",
   "name": "python",
   "nbconvert_exporter": "python",
   "pygments_lexer": "ipython3",
   "version": "3.10.12"
  }
 },
 "nbformat": 4,
 "nbformat_minor": 5
}
