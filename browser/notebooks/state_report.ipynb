{
 "cells": [
  {
   "cell_type": "code",
   "execution_count": null,
   "id": "bb9c7fc4-03cf-493c-839f-2406769e7b2f",
   "metadata": {},
   "outputs": [],
   "source": [
    "import sys\n",
    "sys.path.insert(0,'c:/MyDocs/integrated/') # adjust to your setup\n",
    "\n",
    "%run \"catalog_support.py\" "
   ]
  },
  {
   "cell_type": "code",
   "execution_count": null,
   "id": "b68199e2-8615-4b62-ae24-56d2bf5602a5",
   "metadata": {},
   "outputs": [],
   "source": [
    "# alldf = pd.read_csv('state.csv',low_memory=False)\n",
    "alldf = pd.read_parquet(os.path.join(hndl.sandbox_dir,'state.parquet'))\n",
    "alldf.date = pd.to_datetime(alldf.date)\n",
    "statename = alldf.bgStateName.iloc[0]\n",
    "state_file_handle = statename.replace(' ','_')\n",
    "\n",
    "hide_blog_links = ['idaho','indiana','illinois','nevada', 'nebraska','michigan',\n",
    "                   'kentucky','mississippi','alabama']"
   ]
  },
  {
   "cell_type": "code",
   "execution_count": null,
   "id": "7f56f1bc-d03d-42b0-864e-00d2080876f1",
   "metadata": {
    "tags": []
   },
   "outputs": [],
   "source": [
    "# print( th.getMoleculeImg(cas,size=300))\n",
    "showHeader(statename.title(), link_up_level=1)"
   ]
  },
  {
   "cell_type": "code",
   "execution_count": null,
   "id": "b8a5cf5c-9ee6-4cee-bbec-830a875e1307",
   "metadata": {},
   "outputs": [],
   "source": [
    "def xlate_val(n):\n",
    "    if n==0:\n",
    "        return ''\n",
    "    if n<1000:\n",
    "        return round_sig(n,1)\n",
    "    x = round_sig(n,1)\n",
    "    return x[0]+ 'k'\n",
    "\n",
    "def make_annot(gb):\n",
    "    annot = gb.copy()\n",
    "    annot.DisclosureId = annot.DisclosureId.map(lambda x: xlate_val(x))\n",
    "    #print(annot)\n",
    "    piv = annot.pivot(index='County',columns='year',values='DisclosureId')\n",
    "    piv.fillna('',inplace=True)\n",
    "    #print(piv)\n",
    "    return piv\n",
    "\n",
    "def get_state_center(state):\n",
    "    t = pd.read_csv(r\"C:\\MyDocs\\OpenFF\\src\\openFF-catalog\\work\\state_coords.csv\",\n",
    "                   dtype={'Latitude':'float', 'Longitude':'float'})\n",
    "    t = t[t.state==state]\n",
    "    #print(t)\n",
    "    return [t.Latitude.mean(),t.Longitude.mean()*-1]\n",
    "\n",
    "# mapping code - much lifted from core.mapping\n",
    "import pandas as pd\n",
    "import numpy as np\n",
    "import geopandas as gpd\n",
    "from shapely.geometry import Point\n",
    "import openFF.common.text_handlers as th\n",
    "\n",
    "final_crs = 4326 # WGS84\n",
    "proj_crs = 3857 # convert to this when calculating distances\n",
    "def_buffer = 1609.34 # one mile\n",
    "\n",
    "def prep_shape(statename='ohio'):\n",
    "    fn = r\"C:\\MyDocs\\integrated\\ext_data\\georef-united-states-of-america-state.geojson\"\n",
    "    geojson = gpd.read_file(fn)\n",
    "    geojson['StateName'] = geojson.ste_name.str.lower()\n",
    "    # print(geojson.StateName)\n",
    "    # geojson['CountyName'] = geojson.coty_name.str.lower()\n",
    "    # geojson = mapping.fix_county_names(geojson)\n",
    "    geojson = geojson[(geojson.StateName==statename)]\n",
    "    return geojson\n",
    "    \n",
    "def CountyMap(df):\n",
    "    start_loc = get_state_center(statename)\n",
    "    #print(statename,start_loc)\n",
    "    cond = ~df.location_error\n",
    "    if cond.sum()==0:  # no valid fracks for this state\n",
    "        display(md(f'### No mappable fracks for {statename}!'))\n",
    "        display(md(f'This is usually caused when \"CountyName\" in FracFocus dont match standard names'))\n",
    "        return\n",
    "    gb = df[cond].groupby(['bgStateName','bgCountyName',\n",
    "                                                   'DisclosureId'],as_index=False).size()\n",
    "    gb = gb.groupby(['bgStateName','bgCountyName'],as_index=False)['DisclosureId'].count().rename({'bgStateName':'StateName',\n",
    "                                                                                                'bgCountyName':'CountyName',\n",
    "                                                                                                'DisclosureId':'value'},\n",
    "                                                                                                axis=1)\n",
    "    zoom = 6\n",
    "    if statename in ['texas','california']:\n",
    "        zoom = 5\n",
    "    if statename in ['alaska']:\n",
    "        zoom = 4\n",
    "\n",
    "    geojson = prep_shape(statename)\n",
    "\n",
    "    fig = mapping.create_county_choropleth(gb,include_shape=True,area_df=geojson,\n",
    "                             plotlog=True,custom_scale= [0,1,2,3,4,5],\n",
    "                             start_loc=start_loc, # center of state's data\n",
    "                             legend_name='Number of FracFocus disclosures',\n",
    "                             start_zoom=zoom,fields=['StateName','CountyName','orig_value'],\n",
    "                             aliases=['State: ','County: ','Number Fracking disclosures: '])\n",
    "    \n",
    "    fn = os.path.join(hndl.browser_states_dir,state_file_handle,'county_choropleth.html')\n",
    "    fig.save(fn)\n",
    "\n",
    "def CountyCntTable(df):\n",
    "    # first, make the general searchable table\n",
    "    gb = df.groupby(['bgCountyName','DisclosureId'],as_index=False)['date'].first()\n",
    "    gb['year'] = gb.date.dt.year.astype('str')\n",
    "    gb1 = gb.groupby(['bgCountyName'],as_index=False)['DisclosureId'].count().rename({'DisclosureId':'disclosure_count'},\n",
    "                                                                                  axis=1)\n",
    "    gb2 = gb1.copy()\n",
    "    gbop = df.groupby('bgCountyName')['OperatorName'].agg(lambda x:x.value_counts().index[0:4]).reset_index()\n",
    "    gbop.OperatorName = gbop.OperatorName.map(lambda x: th.xlate_to_str(x,'; ',sort=False))\n",
    "    gbop = gbop.rename({'OperatorName':'Top Operators'},axis=1)\n",
    "    gb2 = pd.merge(gb2,gbop,on='bgCountyName',how='left')\n",
    "\n",
    "#     gbprop = df[df.bgCAS=='proprietary'].groupby('bgCountyName',as_index=False).size()\n",
    "# #     gbprop.bgCAS.fillna(0,inplace=True)\n",
    "#     gbprop = gbprop.rename({'size':'Trade Secret records'},axis=1)\n",
    "#     gb2 = pd.merge(gb2,gbprop,on='bgCountyName',how='left')\n",
    "#     gb2['Trade Secret records'].fillna(0,inplace=True)\n",
    "    \n",
    "    gbtbwv = df.groupby(['bgCountyName','DisclosureId'],as_index=False)['TotalBaseWaterVolume'].first()\n",
    "    gbtbwv = gbtbwv.groupby('bgCountyName',as_index=False)['TotalBaseWaterVolume'].sum().rename({'TotalBaseWaterVolume':'tot_gallons_water'},\n",
    "                                                                                                axis=1)\n",
    "    gbtbwv.tot_gallons_water = gbtbwv.tot_gallons_water.map(lambda x: th.round_sig(x,3))\n",
    "    gb2 = pd.merge(gb2,gbtbwv,on='bgCountyName',how='left')\n",
    "\n",
    "    #print(gb2.head())\n",
    "    gb2['County'] = '<center><h4>'+gb2.bgCountyName.str.title().map(lambda x: th.getCountyLink(x,statename,x))+'</h4></center>'\n",
    "    gb2 = gb2.drop('bgCountyName',axis=1)\n",
    "    iShow(gb2.sort_values('disclosure_count',ascending=False)[['County','disclosure_count',\n",
    "                                                               #'Trade Secret records'\n",
    "                                                               'tot_gallons_water',\n",
    "                                                               'Top Operators']].reset_index(drop=True),\n",
    "         classes=\"display compact cell-border\")\n",
    "        \n"
   ]
  },
  {
   "cell_type": "markdown",
   "id": "a2cfcc01-ea07-409f-bf2b-25eda753259f",
   "metadata": {},
   "source": [
    "---\n",
    "# Links and Resources"
   ]
  },
  {
   "cell_type": "code",
   "execution_count": null,
   "id": "21666c8f-9b8c-407b-81b7-08411190d071",
   "metadata": {},
   "outputs": [],
   "source": [
    "sn = statename.replace(' ','-')\n",
    "s = ''\n",
    "if not statename in hide_blog_links:\n",
    "    s+= f\"> **[Open-FF posts about {statename.title()}](https://open-ff.org/tag/{sn}/)**<br>\"\n",
    "s+= f\"**[FracTracker Alliance maps of {statename.title()}](https://www.fractracker.org/map/us/{sn}/)**\"\n",
    "display(md(s))"
   ]
  },
  {
   "cell_type": "markdown",
   "id": "910bdd39-6067-48f9-8374-93ad27b197c4",
   "metadata": {},
   "source": [
    "# Where are the fracking locations in this state?\n",
    "This is not an exhaustive set of wells in these counties; it is only those wells for which the operating company submits a chemical disclosure to FracFocus.  In addition, this map omits disclosures for which location information is conflicting, such as the Latitude/Longitude values are outside of the reported county."
   ]
  },
  {
   "cell_type": "code",
   "execution_count": null,
   "id": "e3860db3-6c4d-4dea-9e64-38efc5776d46",
   "metadata": {},
   "outputs": [],
   "source": [
    "CountyMap(alldf)"
   ]
  },
  {
   "cell_type": "markdown",
   "id": "08a6c5eb-d079-425c-9b4f-715723e98bb3",
   "metadata": {},
   "source": [
    "---\n",
    "## Number of disclosures per month\n"
   ]
  },
  {
   "cell_type": "code",
   "execution_count": null,
   "id": "5b91771b-d18f-4bdf-be15-6b77e7a384e8",
   "metadata": {},
   "outputs": [],
   "source": [
    "gb = alldf.groupby('DisclosureId',as_index=False)[['date','no_chem_recs']].first()\n",
    "gb = gb[gb.date.dt.year>2010]\n",
    "# gb1 = alldf.groupby('DisclosureId',as_index=False)['ingKeyPresent'].sum()\n",
    "# mg = pd.merge(gb,gb1,on='DisclosureId',how='left')\n",
    "gb2 = gb[~gb.no_chem_recs].groupby('date').size()\n",
    "allwk_sum = gb2.resample(\"M\").sum()\n",
    "ax = allwk_sum.plot(figsize=(7,5), ylabel='Number of disclosures',label='with chemical records');\n",
    "ax.set_title(f'Monthly Number of {statename.title()} Disclosures',fontsize=15);\n",
    "\n",
    "\n",
    "gb3 = gb[gb.no_chem_recs].groupby('date').size()\n",
    "# alldfv1 = master_df[~master_df.ingKeyPresent].groupby('DisclosureId',as_index=False)[['date','TotalBaseWaterVolume']].first()\n",
    "# gbv1 = gb3.groupby('date').size()\n",
    "allwk_sumv1 = gb3.resample(\"m\").sum()\n",
    "allwk_sumv1.plot(ax=ax,label='without chemical records');\n",
    "ax.legend();\n",
    "plt.tight_layout()\n",
    "plt.savefig(os.path.join(hndl.browser_states_dir,state_file_handle,'number_disc_in_state.jpg'))\n"
   ]
  },
  {
   "cell_type": "markdown",
   "id": "6556c947-2397-49aa-8423-04fb4940f6ab",
   "metadata": {},
   "source": [
    "---\n",
    "## Water use\n",
    "### Gallons used, recorded as TotalBaseWaterVolume"
   ]
  },
  {
   "cell_type": "code",
   "execution_count": null,
   "id": "b87b5de8-4195-4827-8589-8666aabd6d5a",
   "metadata": {},
   "outputs": [],
   "source": [
    "wdf = alldf.groupby('DisclosureId',as_index=False)[['date','TotalBaseWaterVolume','APINumber','bgStateName']].first()\n",
    "wdf = wdf[wdf.date.dt.year>2010]\n",
    "gb1 = wdf.groupby('date')['TotalBaseWaterVolume'].median()\n",
    "# gb1 = gb1/1000000\n",
    "allwk_tbwv = gb1.resample(\"M\").max()\n",
    "ax = allwk_tbwv.plot(figsize=(7,5), ylabel='Median gallons of water\\n each month',style='o',xlabel='');\n",
    "ax.set_title(f'Typical quantity of water used in {statename.title()}',fontsize=14);\n",
    "ax.tick_params(axis=\"y\", labelsize=13)\n",
    "ax.tick_params(axis=\"x\", labelsize=13)\n",
    "plt.ylabel('Median water use per month\\n (gallons)',fontsize=13);\n",
    "ax = gca().yaxis.set_major_formatter(mpl.ticker.StrMethodFormatter('{x:,.0f}'))\n",
    "plt.tight_layout()\n",
    "# plt.savefig(os.path.join(hndl.blog_im_dir,'median_water_used.jpg'),dpi=150)\n",
    "plt.savefig(os.path.join(hndl.browser_states_dir,state_file_handle,'water_use_in_state.jpg'))"
   ]
  },
  {
   "cell_type": "code",
   "execution_count": null,
   "id": "23595dbc-47c1-45e7-847e-8742ca82b139",
   "metadata": {},
   "outputs": [],
   "source": []
  },
  {
   "cell_type": "markdown",
   "id": "c16ec1a1-a77f-44aa-b6a5-12ecae9409de",
   "metadata": {},
   "source": [
    "---\n",
    "## County-based details"
   ]
  },
  {
   "cell_type": "code",
   "execution_count": null,
   "id": "c68d9482-8289-4bc4-9298-09289e4c1ebb",
   "metadata": {},
   "outputs": [],
   "source": [
    "CountyCntTable(alldf)"
   ]
  },
  {
   "cell_type": "code",
   "execution_count": null,
   "id": "cf9c8432-4de4-4a59-ad13-6889452d1921",
   "metadata": {},
   "outputs": [],
   "source": [
    "display(md(\"--- \\n # Trade Secret designations\"))\n",
    "testtitle = statename.title() +': Trade Secret frequency'\n",
    "# print(alldf.columns)\n",
    "statelab = statename.replace(' ','_')\n",
    "outfn = os.path.join(hndl.browser_states_dir,statelab,'state_proprietary_plot.jpg')\n",
    "c_plots.proprietary_bars(alldf,testtitle,save_file=outfn)"
   ]
  },
  {
   "cell_type": "markdown",
   "id": "18ecbf70-cd17-42ba-a016-788864b9ac1d",
   "metadata": {},
   "source": [
    "<a id='operators'></a>\n",
    "---\n",
    "## Who are the Operators in this state?"
   ]
  },
  {
   "cell_type": "code",
   "execution_count": null,
   "id": "de1991f1-805c-4a31-99e2-8146fbe43652",
   "metadata": {},
   "outputs": [],
   "source": [
    "def make_water(row):\n",
    "    s = str(th.round_sig(row.TotalBaseWaterVolume,3))\n",
    "    s += '<br>'\n",
    "    s += str(th.round_sig(row.TBWV90,3))\n",
    "    return s\n",
    "\n",
    "alldf['year'] = alldf.date.dt.year.astype(str)\n",
    "gbOp = alldf.groupby(['DisclosureId','bgCountyName','bgOperatorName','year'],as_index=False)['TotalBaseWaterVolume'].first()\n",
    "gbOp.bgCountyName = gbOp.bgCountyName.str.title()\n",
    "\n",
    "gbOp1 = gbOp.groupby('bgOperatorName',as_index=False)['DisclosureId'].count().rename({'DisclosureId':'num_fracks'},axis=1)\n",
    "\n",
    "gbOp2 = gbOp.groupby(['bgOperatorName','year'],as_index=False)['DisclosureId'].count()\n",
    "gbOp2['year_cnt'] = gbOp2.year + '(' + gbOp2.DisclosureId.astype(str) + ')'\n",
    "\n",
    "gbOpY = gbOp2.groupby('bgOperatorName')['year_cnt'].apply(set).reset_index()\n",
    "gbOpY['years'] = gbOpY.year_cnt.map(lambda x: th.xlate_to_str(x,sep='<br>'))\n",
    "\n",
    "gbOp3 = gbOp.groupby(['bgOperatorName','bgCountyName'],as_index=False)['DisclosureId'].count()\n",
    "gbOp3['counties_cnt'] = gbOp3.bgCountyName + '(' + gbOp3.DisclosureId.astype(str) + ')'\n",
    "\n",
    "gbOp4 = gbOp3.groupby('bgOperatorName')['counties_cnt'].apply(set).reset_index()\n",
    "gbOp4['counties'] = gbOp4.counties_cnt.map(lambda x: th.xlate_to_str(x,sep='<br>'))\n",
    "\n",
    "# gbOp5 = df.groupby('bgOperatorName')['OperatorName'].agg(lambda x: x.value_counts().index[0])\n",
    "gbOp5 = alldf.groupby('bgOperatorName')['OperatorName'].apply(set).reset_index()\n",
    "gbOp5['names'] = gbOp5.OperatorName.map(lambda x: th.xlate_to_str(x,sep='<br>'))\n",
    "# gbOp5.names = gbOp5.names + '<br>[' + gbOp5.bgOperatorName + ']'\n",
    "\n",
    "gbOp6 = gbOp.groupby('bgOperatorName',as_index=False)['TotalBaseWaterVolume'].median()\n",
    "gbOp6.rename({'TotalBaseWaterVolume':'Water,\\nmedian (gal)'},axis=1,inplace=True)\n",
    "# gbOp7 = gbOp.groupby('bgOperatorName',as_index=False)['TotalBaseWaterVolume'].agg(lambda x: np.percentile(x,90))\n",
    "gbOp7 = gbOp.groupby('bgOperatorName',as_index=False)['TotalBaseWaterVolume'].max()\n",
    "gbOp7.rename({'TotalBaseWaterVolume':'Water,\\nmax (gal)'},axis=1,inplace=True)\n",
    "mg = pd.merge(gbOp6,gbOp7,on='bgOperatorName')\n",
    "# mg.fillna(0,inplace=True)\n",
    "# mg['TBWV'] = mg.apply(lambda x: make_water(x),axis=1)\n",
    "mg = pd.merge(mg,gbOp1,on='bgOperatorName')\n",
    "mg = pd.merge(mg,gbOpY,on='bgOperatorName')\n",
    "mg = pd.merge(mg,gbOp4[['bgOperatorName','counties']],on='bgOperatorName')\n",
    "mg = pd.merge(mg,gbOp5,on='bgOperatorName').sort_values('num_fracks',ascending=False)\n",
    "\n",
    "mg['link'] = mg.bgOperatorName.map(lambda x: th.getOpLink(x,x,up_level=True))\n",
    "# mg.names = mg.names + '<br>[' + mg.link + ']'\n",
    "mg.names = '<center><h3>'+mg.names+'<br><br>'+mg.link+'</h3></center>'\n",
    "\n",
    "iShow(mg[['names','num_fracks','years','counties','Water,\\nmedian (gal)','Water,\\nmax (gal)']].reset_index(drop=True),\n",
    "      maxBytes=0,columnDefs=[{\"width\": \"150px\", \"targets\": 0}])"
   ]
  },
  {
   "cell_type": "code",
   "execution_count": null,
   "id": "999d920a-679d-45cb-8ee0-971fb783e136",
   "metadata": {},
   "outputs": [],
   "source": [
    "# # wells_in_dist_fn = 'FFwells_in_school_districts.csv'\n",
    "# distFF = pd.read_csv(wells_in_dist_fn)\n",
    "# distFF = distFF[distFF.bgStateName==statename]\n",
    "# distFF.num_FF_wells.fillna(0,inplace=True)\n",
    "# iShow(distFF[['NAME','GEOID','num_FF_wells','num_all_wells']].reset_index(drop=True),\n",
    "#      classes=\"display compact cell-border\")"
   ]
  },
  {
   "cell_type": "code",
   "execution_count": null,
   "id": "3103a3ce-ecf1-4376-a9ff-d5abfd6b91c5",
   "metadata": {},
   "outputs": [],
   "source": []
  }
 ],
 "metadata": {
  "kernelspec": {
   "display_name": "Python 3 (ipykernel)",
   "language": "python",
   "name": "python3"
  },
  "language_info": {
   "codemirror_mode": {
    "name": "ipython",
    "version": 3
   },
   "file_extension": ".py",
   "mimetype": "text/x-python",
   "name": "python",
   "nbconvert_exporter": "python",
   "pygments_lexer": "ipython3",
   "version": "3.11.8"
  }
 },
 "nbformat": 4,
 "nbformat_minor": 5
}
