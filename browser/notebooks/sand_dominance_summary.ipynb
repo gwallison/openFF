{
 "cells": [
  {
   "cell_type": "code",
   "execution_count": null,
   "id": "67cd510c-03a3-4def-b9aa-f0ac7380ca24",
   "metadata": {},
   "outputs": [],
   "source": [
    "import sys\n",
    "sys.path.insert(0,'c:/MyDocs/integrated/') # adjust to your setup\n",
    "\n",
    "%run \"catalog_support.py\" \n",
    "showHeader('Summary of disclosures <br>detected as \"sand dominated\"',use_remote=False)"
   ]
  },
  {
   "cell_type": "markdown",
   "id": "c3119a08-d944-4799-a7ef-eacdf6702ef2",
   "metadata": {},
   "source": [
    "In July 2024, **[Open-FF found](https://open-ff.org/2024/07/30/fracking-sand-dominated-disclosures-patterns-and-problems/)** over 2,000 disclosures that were apparently misreporting the percentages of water and sand. In our process of trying to contact the operators that published those disclosures, FracFocus Support informed us that FracFocus was preparing to alert the companies to the sand-dominance issue so that they might correct errors.\n",
    "\n",
    "This page is an attempt to follow the progress of those corrections and whether any new disclosures with the same problem are being published.\n",
    "\n",
    "The tables below list the disclosures with a sand percentage greater than 50%.  (This excludes disclosures with either carbon dioxide or nitrogen gases, as they are reported to allow high percentages of sand.)  These running lists of disclosures were started on Aug 20, 2024 and are updated most days. If a disclosure is found to have the condition of >50% sand, it is added to the list and the `added date` column indicates when.  If that disclosure is corrected, that is, the >50% sand condition is no longer present, the `removed date` column indicates the day that occurred. \n"
   ]
  },
  {
   "cell_type": "code",
   "execution_count": null,
   "id": "b7a690b8-521f-4b0a-af2f-7ab9b6cefd31",
   "metadata": {},
   "outputs": [],
   "source": [
    "import datetime\n",
    "first_date = datetime.datetime(2024,8,20)\n",
    "# print(first_date)\n",
    "fn = r\"G:\\My Drive\\webshare\\daily_status\\sand_monitoring_df.parquet\"\n",
    "tmp = pd.read_parquet(fn)\n",
    "tmp['Job End Date'] = tmp.date.astype('str').str.split().str[0]\n",
    "tmp['API Number (and link)'] = tmp.apply(lambda x: th.getFFLink(x,fmt='short'),axis=1)\n",
    "tmp['Operator Name'] = tmp.OperatorName\n",
    "tmp['Percent Sand Reported'] = tmp.PercentHFJob.round(1).astype('str')\n",
    "tmp['Percent Sand Reported'] = tmp['Percent Sand Reported'] + ' %'\n",
    "tmp['added date'] = tmp.added_date\n",
    "tmp['removed date'] = tmp.removed_date"
   ]
  },
  {
   "cell_type": "code",
   "execution_count": null,
   "id": "81f455f3-03f7-49d9-b724-2d8230b46ed3",
   "metadata": {},
   "outputs": [],
   "source": [
    "t = tmp\n",
    "print('SUMMARY ACROSS FRACFOCUS')\n",
    "print(f'Number of disclosures first detected in Aug 2024:      {len(t[t.added_date==first_date])}')\n",
    "print(f'Number of additional disclosures detected:             {len(t[t.added_date>first_date])}')\n",
    "print(f'Number of disclosures corrected or otherwised changed: {len(t[t.removed_date.notna()])}')"
   ]
  },
  {
   "cell_type": "code",
   "execution_count": null,
   "id": "4f9b0550-0d9e-4610-972c-3c98794e8302",
   "metadata": {},
   "outputs": [],
   "source": [
    "states = tmp.StateName.unique().tolist()\n",
    "states.sort()\n",
    "display(md('## By State'))\n",
    "for state in states:\n",
    "    display(md(f\"#### [{state}](#{state.lower().replace(' ','_')})\"))\n",
    "display(md('---\\n---'))\n",
    "for state in states:\n",
    "    t = tmp[tmp.StateName==state].copy()\n",
    "    display(md(f\"<a id='{state.lower().replace(' ','_')}'></a>\\n\"))\n",
    "    display(md(f\"---\\n## {state}: sand dominated disclosures\"))\n",
    "    display(md('### Summary'))\n",
    "    print(f'Number of disclosures first detected in Aug 2024:      {len(t[t.added_date==first_date])}')\n",
    "    print(f'Number of additional disclosures detected:             {len(t[t.added_date>first_date])}')\n",
    "    print(f'Number of disclosures corrected or otherwised changed: {len(t[t.removed_date.notna()])}')\n",
    "    print('\\n\\n')\n",
    "    print(iShow(t[['API Number (and link)','Job End Date','Operator Name',\n",
    "       'Percent Sand Reported','added date','removed date']].reset_index(drop=True)))"
   ]
  },
  {
   "cell_type": "code",
   "execution_count": null,
   "id": "10198936-b056-479f-a81b-7d6f457e9314",
   "metadata": {},
   "outputs": [],
   "source": []
  }
 ],
 "metadata": {
  "hide_input": true,
  "kernelspec": {
   "display_name": "Python 3 (ipykernel)",
   "language": "python",
   "name": "python3"
  },
  "language_info": {
   "codemirror_mode": {
    "name": "ipython",
    "version": 3
   },
   "file_extension": ".py",
   "mimetype": "text/x-python",
   "name": "python",
   "nbconvert_exporter": "python",
   "pygments_lexer": "ipython3",
   "version": "3.11.8"
  }
 },
 "nbformat": 4,
 "nbformat_minor": 5
}
