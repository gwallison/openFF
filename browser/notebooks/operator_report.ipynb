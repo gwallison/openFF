{
 "cells": [
  {
   "cell_type": "code",
   "execution_count": null,
   "id": "1b7d5e66-1749-48f7-9729-3ea674f9ff54",
   "metadata": {},
   "outputs": [],
   "source": [
    "import sys\n",
    "sys.path.insert(0,'c:/MyDocs/integrated/') # adjust to your setup\n",
    "\n",
    "%run \"catalog_support.py\" "
   ]
  },
  {
   "cell_type": "code",
   "execution_count": null,
   "id": "b68199e2-8615-4b62-ae24-56d2bf5602a5",
   "metadata": {},
   "outputs": [],
   "source": [
    "alldf = pd.read_parquet(os.path.join(hndl.sandbox_dir,'operator.parquet'))\n",
    "# print(alldf.columns)\n",
    "# alldf.date = pd.to_datetime(alldf.date)\n",
    "alldf['year'] = alldf.date.dt.year\n",
    "alldf = alldf[alldf.year>2010]  # don't include historic data\n",
    "opname = alldf.bgOperatorName.iloc[0]\n",
    "commname = alldf.OperatorName.value_counts().index[0]"
   ]
  },
  {
   "cell_type": "code",
   "execution_count": null,
   "id": "b277537c-4ae9-444c-ae77-b8afbac00c2f",
   "metadata": {
    "tags": []
   },
   "outputs": [],
   "source": [
    "showHeader(f'{commname}',f'({opname})', link_up_level=1)"
   ]
  },
  {
   "cell_type": "code",
   "execution_count": null,
   "id": "1338c83f-ecd0-4399-bc63-7247e952d77f",
   "metadata": {
    "tags": []
   },
   "outputs": [],
   "source": [
    "disc_w_ing = len(alldf[~alldf.no_chem_recs].DisclosureId.unique())\n",
    "disc_w_water = len(alldf[alldf.TotalBaseWaterVolume>0].DisclosureId.unique())\n",
    "display(md(f'### Total number of disclosures : {len(alldf.DisclosureId.unique()):,}'))\n",
    "display(md(f'### Number of disclosures with water volume: {disc_w_water:,}'))\n",
    "display(md(f'### Number of disclosures with chemical records: {disc_w_ing:,}'))\n"
   ]
  },
  {
   "cell_type": "code",
   "execution_count": null,
   "id": "8f7f9aa9-a150-4215-805d-50c7a62982aa",
   "metadata": {
    "tags": []
   },
   "outputs": [],
   "source": [
    "display(md(f'## Disclosure locations: {opname.upper()}'))"
   ]
  },
  {
   "cell_type": "code",
   "execution_count": null,
   "id": "4868b150-4ef3-4551-8301-1cbbc9565b73",
   "metadata": {},
   "outputs": [],
   "source": [
    "def xlate_val(n):\n",
    "    if n==0:\n",
    "        return ''\n",
    "    if n<1000:\n",
    "        return round_sig(n,1)\n",
    "    x = round_sig(n,1)\n",
    "    return x[0]+ 'k'\n",
    "\n",
    "def make_annot(gb):\n",
    "    annot = gb.copy()\n",
    "    annot.DisclosureId = annot.DisclosureId.map(lambda x: xlate_val(x))\n",
    "    #print(annot)\n",
    "    piv = annot.pivot(index='County',columns='year',values='DisclosureId')\n",
    "    piv.fillna('',inplace=True)\n",
    "    #print(piv)\n",
    "    return piv\n",
    "\n",
    "def get_zoom_level(df):\n",
    "    latdiff = df.bgLatitude.max() - df.bgLatitude.min()\n",
    "    londiff = df.bgLongitude.max()- df.bgLongitude.min()\n",
    "    #print(f'latdiff = {latdiff}, londiff = {londiff}')\n",
    "    diffsum = latdiff+londiff\n",
    "    if diffsum <1 : return 6\n",
    "    if diffsum <5 : return 5\n",
    "    if diffsum <20 : return 4\n",
    "    if diffsum <28 : return 3.5\n",
    "    return 3\n",
    "def get_geog_center(state_list):\n",
    "    t = pd.read_csv(r\"C:\\MyDocs\\OpenFF\\src\\openFF-catalog\\work\\state_coords.csv\",\n",
    "                   dtype={'Latitude':'float', 'Longitude':'float'})\n",
    "    t = t[t.state.isin(state_list)]\n",
    "    #print(t)\n",
    "    return [t.Latitude.mean(),t.Longitude.mean()*-1]\n",
    "\n",
    "def CountyMap(df):\n",
    "    state_list = df.bgStateName.unique().tolist()\n",
    "    start_loc = get_geog_center(state_list)\n",
    "    #print(statename,start_loc)\n",
    "    cond = ~df.location_error\n",
    "    if cond.sum()==0:  # no valid fracks for this state\n",
    "        display(md('## No mappable fracks for this operator!'))\n",
    "        # display(md(f'Any data in this state set may be labeled incorrectly as {statename}'))\n",
    "        return\n",
    "    gb = df[cond].groupby(['bgStateName','bgCountyName',\n",
    "                                                   'DisclosureId'],as_index=False).size()\n",
    "    gb = gb.groupby(['bgStateName','bgCountyName'],as_index=False)['DisclosureId'].count().rename({'bgStateName':'StateName',\n",
    "                                                                                                'bgCountyName':'CountyName',\n",
    "                                                                                                'DisclosureId':'value'},\n",
    "                                                                                                axis=1)\n",
    "    zoom = get_zoom_level(df[['bgLatitude','bgLongitude']])\n",
    "    mapping.create_county_choropleth(gb,plotlog=False,#plotlog=True,custom_scale= [0,1,2,3,4],\n",
    "                             start_loc=start_loc, # center of state's data\n",
    "                             legend_name='Number of FracFocus disclosures',\n",
    "                             start_zoom=zoom,fields=['StateName','CountyName','orig_value'],\n",
    "                             aliases=['State: ','County: ','Number Fracking disclosures: '])\n",
    "\n",
    "def PointMap(df):\n",
    "    gb = df.groupby('DisclosureId')[['bgLatitude','bgLongitude','APINumber','TotalBaseWaterVolume',\n",
    "                                 'year','OperatorName','ingKeyPresent']].first()\n",
    "    gb['year'] = gb.year.astype('str')\n",
    "    gb.TotalBaseWaterVolume = gb.TotalBaseWaterVolume.map(lambda x: round_sig(x,3,guarantee_str='??')) + ' gallons'\n",
    "    gb.APINumber = gb.APINumber.astype('str')\n",
    "    # gb.drop('date',axis=1,inplace=True)\n",
    "    create_point_map(gb)\n",
    "    \n",
    "    "
   ]
  },
  {
   "cell_type": "markdown",
   "id": "93d211bf-ccca-4b62-b6af-715402d4deb2",
   "metadata": {},
   "source": [
    "### ...by county\n",
    "Note that not all fracks have valid County information and so will not show up in the following map (especially Alaska)."
   ]
  },
  {
   "cell_type": "code",
   "execution_count": null,
   "id": "e3860db3-6c4d-4dea-9e64-38efc5776d46",
   "metadata": {},
   "outputs": [],
   "source": [
    "CountyMap(alldf)"
   ]
  },
  {
   "cell_type": "markdown",
   "id": "964fe002-35a0-4a76-af30-db6ad13dca22",
   "metadata": {
    "tags": []
   },
   "source": [
    "### ...by individual wells\n",
    "Use the layer controls in the upper right to turn on and off the types of markers as well as showing the map or satellite views.  Cluster markers are best for big picture view, information markers include popups with a bit of info about the well.  Note that for operators with a large number of disclosures, the information markers take a few seconds to update."
   ]
  },
  {
   "cell_type": "code",
   "execution_count": null,
   "id": "d8456add-467a-4b6e-a7fe-33ea69f07e69",
   "metadata": {},
   "outputs": [],
   "source": [
    "# def make_disc_link(row):\n",
    "#     return getDisclosureLink(row.APINumber,row.DisclosureId,row.APINumber)\n",
    "\n",
    "# alldf.APINumber = alldf.apply(lambda x: make_disc_link(x),axis=1)\n",
    "# print(alldf.columns)\n",
    "mapping.create_integrated_point_map(alldf[['DisclosureId','bgLatitude','bgLongitude','APINumber',\n",
    "                                           'WellName','TotalBaseWaterVolume',\n",
    "                                           'OperatorName','year','no_chem_recs']],\n",
    "                 aliases=['API Number:','Well Name','Water used (gallons):','Operator:','date:','Chem recs only in PDF:'],\n",
    "                 fields=['APINumber','WellName','TotalBaseWaterVolume','OperatorName','year','no_chem_recs'],\n",
    "                 # include_shape = shape_flag,\n",
    "                 # area_df = geojson\n",
    "                )"
   ]
  },
  {
   "cell_type": "markdown",
   "id": "33ba50c6-f79e-4fde-bdc2-28cfc259a730",
   "metadata": {},
   "source": [
    "# Active Years by state"
   ]
  },
  {
   "cell_type": "code",
   "execution_count": null,
   "id": "25422747-a4ec-489e-a859-978db3bbdb4e",
   "metadata": {
    "tags": []
   },
   "outputs": [],
   "source": [
    "gb = alldf.groupby(['bgStateName','DisclosureId','year'],as_index=False).size()\n",
    "gb1 = gb.groupby(['bgStateName','year'],as_index=False).size().rename({'size':'num_disc'},axis=1)\n",
    "gb1.bgStateName = gb1.bgStateName.str.title()\n",
    "nstates = len(gb1.bgStateName.unique())\n",
    "dim = 4\n",
    "if nstates>12:\n",
    "    dim = 5\n",
    "if nstates>15:\n",
    "    dim = 6\n",
    "pd.pivot_table(gb1,index='year',columns='bgStateName',values='num_disc').plot.bar(subplots=True,\n",
    "                                                                                 layout=(dim,3),\n",
    "                                                                                 legend=False,\n",
    "                                                                                 figsize=(10,10),\n",
    "                                                                                 title='Number of disclosures');\n",
    "# for state in states:\n",
    "#     gb1[gb1.bgStateName==state].plot.bar('year','num_disc',title=f'{state.title()}',figsize=(3,2),\n",
    "#                                          ylabel='Number of disclosures',legend=False)"
   ]
  },
  {
   "cell_type": "markdown",
   "id": "2e3c04c5-cb97-4d0a-a542-2facb1baa1a0",
   "metadata": {},
   "source": [
    "# Chemicals of Concern\n",
    "Percent of this company's disclosures with chemicals on the following lists:\n",
    "- Clean Water Act list\n",
    "- Safe Drinking Water Act list\n",
    "- California's Prop. 65 list\n",
    "- TSCA's \"UVCB\" list - \"Unknown, variable composition...\"\n",
    "- EPA's PFAS master list\n",
    "- EPA's diesel list (4 chemicals)"
   ]
  },
  {
   "cell_type": "code",
   "execution_count": null,
   "id": "4963932f-1ef4-488a-82f9-3b089b5c45c0",
   "metadata": {
    "tags": []
   },
   "outputs": [],
   "source": [
    "gb= alldf.groupby('DisclosureId',as_index=False)[['is_on_CWA','is_on_DWSHA','is_on_PFAS_list',\n",
    "                                             'is_on_prop65',\n",
    "                                             'is_on_UVCB','is_on_diesel']].count()\n",
    "CWA = len(gb[gb.is_on_CWA>0])/disc_w_ing *100\n",
    "DWSHA = len(gb[gb.is_on_DWSHA>0])/disc_w_ing *100\n",
    "PFAS = len(gb[gb.is_on_PFAS_list>0])/disc_w_ing *100\n",
    "# volatile = len(gb[gb.is_on_volatile_list>0])/disc_w_ing *100\n",
    "prop65 = len(gb[gb.is_on_prop65>0])/disc_w_ing *100\n",
    "UVCB = len(gb[gb.is_on_UVCB>0])/disc_w_ing *100\n",
    "diesel = len(gb[gb.is_on_diesel>0])/disc_w_ing *100\n",
    "t = pd.DataFrame({'list':['CWA','DWSHA','prop65','UVCB','PFAS','diesel'],\n",
    "                  'Percent_disc':[CWA,DWSHA,prop65,UVCB,PFAS,diesel]})\n",
    "ax = t.plot.bar('list','Percent_disc',legend=False,ylabel='% of disclosures with at least\\n one chemical on list')\n",
    "plt.xticks(rotation=0);"
   ]
  },
  {
   "cell_type": "markdown",
   "id": "34c7e65c-e7be-48ab-8cfa-0569dc9c61d9",
   "metadata": {},
   "source": [
    "# Water use\n",
    "Reported `TotalBaseWaterVolume` on the disclosure (in gallons)."
   ]
  },
  {
   "cell_type": "code",
   "execution_count": null,
   "id": "a9ce3577-7092-4f9d-ab59-0aa22fdeb674",
   "metadata": {
    "tags": []
   },
   "outputs": [],
   "source": [
    "totpres = len(alldf.DisclosureId.unique())\n",
    "\n",
    "if totpres<300:\n",
    "    alpha = 1\n",
    "elif totpres<2000:\n",
    "    alpha = .6\n",
    "elif totpres<20000:\n",
    "    alpha = .35\n",
    "else:\n",
    "    alpha = .2\n",
    "    \n",
    "min_water = 10 # number disclosures needed to trigger graphs"
   ]
  },
  {
   "cell_type": "code",
   "execution_count": null,
   "id": "f85e9d42-da34-4cba-9847-cecbb4e74912",
   "metadata": {
    "tags": []
   },
   "outputs": [],
   "source": [
    "if (disc_w_water>min_water):\n",
    "    gb = alldf.groupby('DisclosureId',as_index=False)[['TotalBaseWaterVolume','date']].first()\n",
    "    cond = (gb.TotalBaseWaterVolume>0) & (gb.date.dt.year>2010)\n",
    "    gb['not_present'] = gb[cond].TotalBaseWaterVolume.min() - (gb[cond].TotalBaseWaterVolume.max()-gb[cond].TotalBaseWaterVolume.min())*0.05\n",
    "    ax = gb[cond].plot('date','TotalBaseWaterVolume', style='o', alpha=alpha,\n",
    "                figsize=(16,6),legend=False)\n",
    "    gb[~cond].plot('date','not_present', style='|', alpha=1,color='orange',ms=20, ax=ax,legend=False)\n",
    "    plt.ylabel('Gallons reported',fontsize=16);\n",
    "    plt.title(f'Gallons of water used for each job: {opname.upper()} -- linear version',fontsize=16);\n",
    "    ax.grid()\n",
    "    ax.tick_params(axis=\"y\", labelsize=14)\n",
    "    ax.tick_params(axis=\"x\", labelsize=14)\n",
    "    ax = gca().yaxis.set_major_formatter(mpl.ticker.StrMethodFormatter('{x:,.0f}'));\n",
    "    display(md(f'##### Number of disclosures with valid water volume (shown by blue circles): {len(gb[cond]):,}\\n'))\n",
    "    display(md(f'##### Number of records without valid water volume (shown by orange bars): {len(gb[~cond]):,}\\n'))\n"
   ]
  },
  {
   "cell_type": "code",
   "execution_count": null,
   "id": "538f647a-2ece-4313-95f8-6d1b2a4f7c6a",
   "metadata": {
    "tags": []
   },
   "outputs": [],
   "source": [
    "# if alldf.TotalBaseWaterVolume.max()>0:\n",
    "#     display(md(f'##### Number of disclosures with valid water volume (shown by blue circles): {len(gb[cond]):,}\\n'))\n",
    "#     display(md(f'##### Number of records without valid water volume (shown by orange bars): {len(gb[~cond]):,}\\n'))\n",
    "#     display(md('---'))"
   ]
  },
  {
   "cell_type": "code",
   "execution_count": null,
   "id": "066d7112-53de-4b9a-be52-375c2fb8d437",
   "metadata": {
    "tags": []
   },
   "outputs": [],
   "source": [
    "if (disc_w_water>min_water):\n",
    "    ax = gb[cond].plot('date','TotalBaseWaterVolume', style='o', alpha=alpha,\n",
    "                figsize=(16,6))\n",
    "    plt.ylabel('Gallons reported',fontsize=16);\n",
    "    plt.title(f'Gallons of water used for each job: {opname.upper()} -- log version',fontsize=16);\n",
    "    ax.set(yscale='log')\n",
    "    ax.tick_params(axis=\"y\", labelsize=14)\n",
    "    ax.tick_params(axis=\"x\", labelsize=14)\n",
    "    if len(gb[cond]) < 5000: # provide more detailed grid (too many points swamps it out)\n",
    "        locmaj = matplotlib.ticker.LogLocator(base=10,subs='all') \n",
    "    else:\n",
    "        locmaj = matplotlib.ticker.LogLocator(base=10) #,subs='all') \n",
    "    ax.yaxis.set_major_locator(locmaj)\n",
    "    ax.set(ylim=(max(10,gb.TotalBaseWaterVolume.min()),\n",
    "                 gb.TotalBaseWaterVolume.max()*1.4));\n",
    "    ax.grid()\n",
    "\n",
    "    lns = list(np.percentile(gb[cond].TotalBaseWaterVolume,[25,50,75]))\n",
    "    #ax.set_ylim(-0.7,len(sn)-0.3)\n",
    "    for l in lns:\n",
    "        plt.hlines(l,gb[cond].date.min(),\n",
    "                   gb[cond].date.max(),\n",
    "                   color='black')\n",
    "    s = 'PERCENTILES:\\n'\n",
    "    s+= ' -- 25%:  {:,} gallons\\n'.format(float(lns[0]))\n",
    "    s+= ' -- 50%:  {:,} gallons\\n'.format(float(lns[1]))\n",
    "    s+= ' -- 75%:  {:,} gallons\\n'.format(float(lns[2]))\n",
    "    s+= ' -- max:  {:,} gallons\\n'.format(float(gb[cond].TotalBaseWaterVolume.max()))\n",
    "    print(s)"
   ]
  },
  {
   "cell_type": "code",
   "execution_count": null,
   "id": "9ed1e94c-6105-41d8-a344-d71254faa04e",
   "metadata": {
    "tags": []
   },
   "outputs": [],
   "source": [
    "if (disc_w_water<=min_water)&(alldf.TotalBaseWaterVolume.max()>0):\n",
    "    gb = alldf[alldf.TotalBaseWaterVolume>0].groupby('DisclosureId',as_index=False)[['date','APINumber',\n",
    "                                                                   'TotalBaseWaterVolume',\n",
    "                                                                   'bgStateName','bgCountyName']].first()\n",
    "    iShow(gb[['date','APINumber','TotalBaseWaterVolume','bgStateName','bgCountyName']])"
   ]
  },
  {
   "cell_type": "code",
   "execution_count": null,
   "id": "eb215387-3c8d-406b-9405-d5759ead56a2",
   "metadata": {
    "tags": []
   },
   "outputs": [],
   "source": [
    "# if disc_w_ing>0:\n",
    "#     gb1 = alldf.groupby('bgSupplier',as_index=False)[['DisclosureId']].nunique().rename({'DisclosureId':'disclosure_cnt'},axis=1)\n",
    "#     # gb1 = gb.groupby('bgSupplier',as_index=False)['DisclosureId'].count()\n",
    "#     gb2 = alldf.groupby('bgSupplier')['Supplier'].agg(lambda x: x.value_counts().index[0])\n",
    "#     gb2 = gb2.reset_index()\n",
    "#     gb2.columns = ['bgSupplier','most_common_name']\n",
    "#     mg = pd.merge(gb2,gb1,on='bgSupplier',how='outer')\n",
    "#     iShow(mg)\n",
    "# else:\n",
    "#     display(md('>### **No disclosures with chemical records for this operator**'))"
   ]
  },
  {
   "cell_type": "code",
   "execution_count": null,
   "id": "09c77391-8278-4afe-985f-312197ce47df",
   "metadata": {},
   "outputs": [],
   "source": [
    "from matplotlib.offsetbox import AnchoredText\n",
    "\n",
    "def proprietary_bars(df,plot_title='TEST',minyr=2011,maxyr=2021):\n",
    "    df = df.copy()\n",
    "    df['propCut'] = pd.cut(df.perc_proprietary,right=False,bins=[0,0.0001,10,25,50,101],\n",
    "                          labels=['no proprietary claims','up to 10% \\nare proprietary claims',\n",
    "                                  'between 10 and 25% \\nare proprietary claims',\n",
    "                                  'between 25 and 50% \\nare proprietary claims',\n",
    "                                  'greater than 50% \\nare proprietary claims'])\n",
    "    \n",
    "    import seaborn as sns\n",
    "    t = df.propCut.value_counts(sort=False).reset_index()\n",
    "    ax = sns.barplot(data=t,y='index',x='propCut',palette='Reds',orient=\"h\")\n",
    "    ax.set_xlabel(\"Number of disclosures\")\n",
    "    ax.set_ylabel(\"\")\n",
    "    ax.set_title(plot_title)\n",
    "    ax.invert_yaxis()\n",
    "\n",
    "\n",
    "if disc_w_ing > 0:\n",
    "    display(md(\"# Proprietary claims\"))\n",
    "    testtitle = opname.upper() +': Trade Secret frequency'\n",
    "    # print(alldf.columns)\n",
    "    proprietary_bars(alldf,testtitle,\n",
    "                     minyr=max(2011,alldf.date.dt.year.min()),\n",
    "                     maxyr=alldf.date.dt.year.max())\n"
   ]
  },
  {
   "cell_type": "code",
   "execution_count": null,
   "id": "79ea4593-3f78-4ab3-b406-73ec6ac39475",
   "metadata": {},
   "outputs": [],
   "source": []
  }
 ],
 "metadata": {
  "kernelspec": {
   "display_name": "Python 3 (ipykernel)",
   "language": "python",
   "name": "python3"
  },
  "language_info": {
   "codemirror_mode": {
    "name": "ipython",
    "version": 3
   },
   "file_extension": ".py",
   "mimetype": "text/x-python",
   "name": "python",
   "nbconvert_exporter": "python",
   "pygments_lexer": "ipython3",
   "version": "3.10.12"
  }
 },
 "nbformat": 4,
 "nbformat_minor": 5
}
