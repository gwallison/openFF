{
 "cells": [
  {
   "cell_type": "code",
   "execution_count": null,
   "id": "45610c32-de5d-4c3c-a0c0-1af8e844c68e",
   "metadata": {},
   "outputs": [],
   "source": [
    "import sys\n",
    "sys.path.insert(0,'c:/MyDocs/integrated/') # adjust to your setup\n",
    "\n",
    "%run \"catalog_support.py\" \n",
    "showHeader('Company Name Table')"
   ]
  },
  {
   "cell_type": "code",
   "execution_count": null,
   "id": "46c93785-a7b2-4f08-8498-3d68a2e073d1",
   "metadata": {},
   "outputs": [],
   "source": [
    "# fetch data set\n",
    "df_cas = fh.get_df(os.path.join(hndl.sandbox_dir,'workdf.parquet'))"
   ]
  },
  {
   "cell_type": "markdown",
   "id": "jewish-consultation",
   "metadata": {},
   "source": [
    "|Explanation of columns in the index|\n",
    "| :---: |\n",
    "\n",
    "| Column      | Description |\n",
    "| :----: | :-------- |\n",
    "|*raw*| company name as it appears in the raw FracFocus (fields: OperatorName or Supplier)|\n",
    "|*translated*|company name as translated by Open-FF (fields: bgOperatorName, bgSupplier, primarySupplier)|\n",
    "|*number of OperatorName records*| how many times this raw value appears as the Operator value|\n",
    "|*number of Supplier records*| how many times this raw value appears as the Supplier value|"
   ]
  },
  {
   "cell_type": "code",
   "execution_count": null,
   "id": "general-humanity",
   "metadata": {},
   "outputs": [],
   "source": [
    "gbOp = df_cas.groupby(['OperatorName','bgOperatorName'],as_index=False)['bgCAS'].count()\n",
    "gbOp.columns = ['raw','translated','counts in OperatorName']\n",
    "gbSup = df_cas.groupby(['Supplier','bgSupplier'],as_index=False)['bgCAS'].count()\n",
    "gbSup.columns = ['raw','translated','counts in Supplier']\n",
    "xlate =pd.merge(gbOp,gbSup, on=['translated','raw'],how='outer').reset_index(drop=True)\n",
    "xlate = xlate.fillna(0)\n",
    "iShow(xlate.sort_values('counts in OperatorName',ascending=False),maxBytes=0)"
   ]
  },
  {
   "cell_type": "code",
   "execution_count": null,
   "id": "tight-puzzle",
   "metadata": {},
   "outputs": [],
   "source": []
  }
 ],
 "metadata": {
  "hide_input": true,
  "kernelspec": {
   "display_name": "Python 3 (ipykernel)",
   "language": "python",
   "name": "python3"
  },
  "language_info": {
   "codemirror_mode": {
    "name": "ipython",
    "version": 3
   },
   "file_extension": ".py",
   "mimetype": "text/x-python",
   "name": "python",
   "nbconvert_exporter": "python",
   "pygments_lexer": "ipython3",
   "version": "3.10.12"
  }
 },
 "nbformat": 4,
 "nbformat_minor": 5
}
