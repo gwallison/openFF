{
 "cells": [
  {
   "cell_type": "code",
   "execution_count": null,
   "id": "b069e20d-b20f-488a-9ebf-30c5b1a15be6",
   "metadata": {},
   "outputs": [],
   "source": [
    "import sys\n",
    "sys.path.insert(0,'c:/MyDocs/integrated/') # adjust to your setup\n",
    "\n",
    "%run \"catalog_support.py\" \n",
    "showHeader('Parents of Operators')"
   ]
  },
  {
   "cell_type": "markdown",
   "id": "888b489c-ee01-43d8-a38d-c90e89016c24",
   "metadata": {},
   "source": [
    "## Data compiled in Feb 2025\n",
    "Go to \"G:\\My Drive\\webshare\\scrape_data\\gemini_parent_org\" for the individual research results"
   ]
  },
  {
   "cell_type": "code",
   "execution_count": null,
   "id": "43ce1f44-b081-47de-bf22-730fb2831432",
   "metadata": {},
   "outputs": [],
   "source": [
    "# # fetch data set\n",
    "# df = fh.get_df(os.path.join(hndl.sandbox_dir,'workdf.parquet'),\n",
    "#               cols=['DisclosureId','date','OperatorName','bgOperatorName',\n",
    "#                    'in_std_filtered'])"
   ]
  },
  {
   "cell_type": "code",
   "execution_count": null,
   "id": "cloudy-motel",
   "metadata": {},
   "outputs": [],
   "source": [
    "# df = df[df.in_std_filtered]"
   ]
  },
  {
   "cell_type": "code",
   "execution_count": null,
   "id": "d2f7a412-da8d-4ae8-8bf9-3c41ec62d115",
   "metadata": {},
   "outputs": [],
   "source": [
    "import os\n",
    "indir = r\"G:\\My Drive\\webshare\\scrape_data\\gemini_parent_org\"\n",
    "pardf = pd.read_parquet(r\"G:\\My Drive\\webshare\\scrape_data\\gemini_parent_org\\OpParent_df.parquet\")\n",
    "pardf\n"
   ]
  }
 ],
 "metadata": {
  "hide_input": true,
  "kernelspec": {
   "display_name": "Python 3 (ipykernel)",
   "language": "python",
   "name": "python3"
  },
  "language_info": {
   "codemirror_mode": {
    "name": "ipython",
    "version": 3
   },
   "file_extension": ".py",
   "mimetype": "text/x-python",
   "name": "python",
   "nbconvert_exporter": "python",
   "pygments_lexer": "ipython3",
   "version": "3.11.8"
  }
 },
 "nbformat": 4,
 "nbformat_minor": 5
}
