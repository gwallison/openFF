{
 "cells": [
  {
   "cell_type": "code",
   "execution_count": null,
   "id": "9783b434-731f-438d-bf53-e09a653af90d",
   "metadata": {},
   "outputs": [],
   "source": [
    "import sys\n",
    "sys.path.insert(0,'c:/MyDocs/integrated/') # adjust to your setup\n",
    "\n",
    "%run \"catalog_support.py\" \n",
    "\n",
    "Numdays = 60\n",
    "\n",
    "showHeader('Raw Disclosures',line2=f'{Numdays} days of FracFocus changes',use_remote=True)"
   ]
  },
  {
   "cell_type": "code",
   "execution_count": null,
   "id": "fc01ba08-8fd4-4556-a835-28674be213ac",
   "metadata": {},
   "outputs": [],
   "source": [
    "import datetime\n",
    "\n",
    "last_repo = datetime.datetime(year=2024,month=4,day=12)\n",
    "today = datetime.datetime.today()\n",
    "edate = today - datetime.timedelta(days=Numdays)\n",
    "print('earlist shown',edate)"
   ]
  },
  {
   "cell_type": "code",
   "execution_count": null,
   "id": "3f56e618-e533-4c3f-b28c-3525036f27d3",
   "metadata": {},
   "outputs": [],
   "source": [
    "import os\n",
    "import pickle\n",
    "import openFF.common.text_handlers as th\n",
    "arc_dir = r\"C:\\MyDocs\\integrated\\openFF_archive\\diff_dicts\"\n",
    "\n",
    "diff_fns = os.listdir(arc_dir)\n",
    "download_dates = []\n",
    "added = []\n",
    "changed = []\n",
    "removed = []\n",
    "casing = set()\n",
    "operator = set()\n",
    "\n",
    "\n",
    "for fn in diff_fns:\n",
    "    tdate = datetime.datetime(int(fn[10:14]),int(fn[15:17]),int(fn[18:20]))\n",
    "    # print(tdate)\n",
    "    if tdate>= edate:\n",
    "        download_dates.append(fn[10:20])\n",
    "        with open(os.path.join(arc_dir,fn),'rb') as f:\n",
    "            diff_dic = pickle.load(f)\n",
    "        if len(diff_dic['removed_disc'])>0:\n",
    "            t = diff_dic['removed_disc'].copy()\n",
    "            # print(t.head())\n",
    "            t['date_changed'] = tdate\n",
    "            t['change_type'] = 'removed'\n",
    "            removed.append(t)\n",
    "        if len(diff_dic['added_disc'])>0:\n",
    "            t = diff_dic['added_disc'].copy()\n",
    "            t['date_changed'] = tdate\n",
    "            t['change_type'] = 'added'\n",
    "            added.append(t)\n",
    "        if len(diff_dic['changed_disc'])>0:\n",
    "            t = diff_dic['changed_disc'].copy()\n",
    "            t['date_changed'] = tdate\n",
    "            t['change_type'] = 'modified'            \n",
    "            changed.append(t)\n",
    "        if len(diff_dic['casing'])>0:\n",
    "            for item in diff_dic['casing']:\n",
    "                # print(item)\n",
    "                if item[1]==None: ig = ''\n",
    "                else: ig = item[1].strip().lower()\n",
    "                tup = (item[0],ig)\n",
    "                casing.add(tup)\n",
    "        if len(diff_dic['OperatorName'])>0:\n",
    "            for item in diff_dic['OperatorName']:\n",
    "                operator.add(item)\n",
    "\n",
    "alllists = added + changed + removed\n",
    "wholeset = pd.concat(alllists,sort=True)\n"
   ]
  },
  {
   "cell_type": "markdown",
   "id": "1a1edbb9-1dcf-450e-80f1-8702822c00d4",
   "metadata": {},
   "source": [
    "## Download dates used"
   ]
  },
  {
   "cell_type": "code",
   "execution_count": null,
   "id": "fb17d9ce-4d0f-4164-be4c-aee022002f1a",
   "metadata": {},
   "outputs": [],
   "source": [
    "print(download_dates)"
   ]
  },
  {
   "cell_type": "code",
   "execution_count": null,
   "id": "643ef4ae-b390-4270-b074-22da5b7e376b",
   "metadata": {},
   "outputs": [],
   "source": [
    "wholeset['job_end_date'] = wholeset.JobEndDate.str.split().str[0]\n",
    "wholeset['job_end_date'] = pd.to_datetime(wholeset.job_end_date,format=\"%m/%d/%Y\")\n",
    "wholeset['FF_disc'] = wholeset.apply(lambda x: th.getFFLink(x), axis=1)\n",
    "wholeset['disc_link'] = wholeset.apply(lambda x: th.getDisclosureLink(APINumber=x.APINumber,\n",
    "                                                                      disclosureid=x.discID,\n",
    "                                                                      text_to_show='Open-FF disclosure',\n",
    "                                                                      use_remote=True,\n",
    "                                                                      check_if_exists=False), axis=1)\n",
    "wholeset.disc_link = np.where(wholeset.date_changed>=last_repo,' ',wholeset.disc_link)\n",
    "wholeset['TBWV'] = wholeset.TotalBaseWaterVolume.astype('float64')\n",
    "wholeset['TBWV'] = wholeset.TBWV.map(lambda x: th.round_sig(x,5))\n"
   ]
  },
  {
   "cell_type": "code",
   "execution_count": null,
   "id": "ce8060d8-bf7e-4a55-a502-41f4fa1da722",
   "metadata": {},
   "outputs": [],
   "source": [
    "wholeset.change_type.value_counts()"
   ]
  },
  {
   "cell_type": "code",
   "execution_count": null,
   "id": "c9ae398c-4578-4ec8-9ae7-b521120231d9",
   "metadata": {},
   "outputs": [],
   "source": [
    "wholeset[['FF_disc','disc_link','job_end_date','StateName','CountyName','OperatorName','TBWV','change_type','date_changed']]"
   ]
  },
  {
   "cell_type": "markdown",
   "id": "dbc2d8bf-ea3f-42c8-98f8-5629815ea082",
   "metadata": {},
   "source": [
    "## Pattern of new disclosure additions\n",
    "These disclosures are detected as new because their `DisclosureId` number hasn't been in the database before.  Note that it is possible that they are a new version of a previously published disclosure; sometimes operators change disclosures by removing the old one from FracFocus and creating a new one."
   ]
  },
  {
   "cell_type": "code",
   "execution_count": null,
   "id": "be14d39c-d880-4c79-b14c-0ddc436464da",
   "metadata": {},
   "outputs": [],
   "source": [
    "t = wholeset[wholeset.change_type=='added']\n",
    "gb = t.groupby('date_changed',as_index=False).size()\n",
    "gb['cs'] = gb['size'].cumsum()\n",
    "gb = gb[['date_changed','cs']].set_index('date_changed')\n",
    "ax = gb.cs.plot(title='vertical line indicates last Open-FF dataset generation',\n",
    "               ylabel='cumulative disclosures', xlabel='date changed')\n",
    "ax.axvline(last_repo, color=\"green\", linestyle=\"dashed\")\n",
    "plt.suptitle(f'Number of new disclosures added in the past {Numdays} days');\n",
    "# t = t.reset_index().sort_values('date_changed')\n",
    "# t = t.set_index('date_changed')\n",
    "# t.plot('date_changed','count',style='o')"
   ]
  },
  {
   "cell_type": "markdown",
   "id": "b134fccd-f9b8-4ae8-a811-dd50ee62ffbf",
   "metadata": {},
   "source": [
    "## New CASNumber : IngredientName pairs"
   ]
  },
  {
   "cell_type": "code",
   "execution_count": null,
   "id": "17793bc7-f52f-4aab-aae5-b3204a018ad5",
   "metadata": {},
   "outputs": [],
   "source": [
    "# Are there new casing?\n",
    "repo_casing = fh.get_casing_df()\n",
    "changed_casing = pd.DataFrame(casing,columns=['CASNumber','IngredientName'])\n",
    "mg = pd.merge(changed_casing,repo_casing,on=['CASNumber','IngredientName'], how='left',indicator=True)\n",
    "mg[mg._merge=='left_only'][['CASNumber','IngredientName']]"
   ]
  },
  {
   "cell_type": "code",
   "execution_count": null,
   "id": "957e5ca0-3fc4-48d6-8970-28d7284f29f1",
   "metadata": {},
   "outputs": [],
   "source": [
    "# Are there new Operators?\n",
    "repo_companies = fh.get_company_df()\n",
    "complst = repo_companies.rawName.tolist()\n",
    "newcomp = []\n",
    "for op in operator:\n",
    "    if not op in complst:\n",
    "        newcomp.append(op)\n",
    "if len(newcomp)> 0:\n",
    "    display(md('## New Operator names detected'))\n",
    "    newcomp.sort()\n",
    "    for item in newcomp:\n",
    "        display(md(f'##### {item}'))\n",
    "else:\n",
    "    display(md('### No new operator names detected'))"
   ]
  }
 ],
 "metadata": {
  "kernelspec": {
   "display_name": "Python 3 (ipykernel)",
   "language": "python",
   "name": "python3"
  },
  "language_info": {
   "codemirror_mode": {
    "name": "ipython",
    "version": 3
   },
   "file_extension": ".py",
   "mimetype": "text/x-python",
   "name": "python",
   "nbconvert_exporter": "python",
   "pygments_lexer": "ipython3",
   "version": "3.11.8"
  }
 },
 "nbformat": 4,
 "nbformat_minor": 5
}
