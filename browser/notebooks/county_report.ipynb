{
 "cells": [
  {
   "cell_type": "code",
   "execution_count": null,
   "id": "0a2d7b85-985b-4484-b248-5d0d6cab8ebc",
   "metadata": {},
   "outputs": [],
   "source": [
    "import sys\n",
    "sys.path.insert(0,'c:/MyDocs/integrated/') # adjust to your setup\n",
    "\n",
    "%run \"catalog_support.py\" "
   ]
  },
  {
   "cell_type": "code",
   "execution_count": null,
   "id": "b68199e2-8615-4b62-ae24-56d2bf5602a5",
   "metadata": {},
   "outputs": [],
   "source": [
    "alldf = pd.read_parquet(os.path.join(hndl.sandbox_dir,'county.parquet'))\n",
    "alldf.date = pd.to_datetime(alldf.date)\n",
    "statename = alldf.bgStateName.iloc[0]\n",
    "countyname = alldf.bgCountyName.iloc[0]\n",
    "#print(statename, countyname, len(alldf))\n",
    "\n"
   ]
  },
  {
   "cell_type": "code",
   "execution_count": null,
   "id": "440c7c3c-caf9-41ce-b315-70d8bd63209e",
   "metadata": {},
   "outputs": [],
   "source": [
    "name = f'{countyname.title()} County,<br>{statename.title()}'\n",
    "showHeader(name, link_up_level=1)"
   ]
  },
  {
   "cell_type": "markdown",
   "id": "910bdd39-6067-48f9-8374-93ad27b197c4",
   "metadata": {},
   "source": [
    "# Where are the fracking locations in this county?\n",
    "This is not an exhaustive set of wells in this county; it is only those wells for which an operating company submits a chemical disclosure to FracFocus.  In addition, this map omits disclosures for which location information is conflicting, such as the Latitude/Longitude values are outside of the reported county."
   ]
  },
  {
   "cell_type": "code",
   "execution_count": null,
   "id": "c8dfbd6e-5751-418a-b934-4e7d6bc90baf",
   "metadata": {},
   "outputs": [],
   "source": [
    "import geopandas as gpd\n",
    "fn = r\"C:\\MyDocs\\OpenFF\\data\\non-FF\\georef-united-states-of-america-county.geojson\"\n",
    "geojson = gpd.read_file(fn)\n",
    "geojson['StateName'] = geojson.ste_name.str.lower()\n",
    "geojson['CountyName'] = geojson.coty_name.str.lower()\n",
    "geojson = mapping.fix_county_names(geojson)\n",
    "geojson = geojson[(geojson.StateName==statename)&(geojson.CountyName==countyname)]\n",
    "shape_flag = len(geojson)==1\n",
    "# print(shape_flag)"
   ]
  },
  {
   "cell_type": "code",
   "execution_count": null,
   "id": "4124709f-928f-4036-90d5-2727256cb76d",
   "metadata": {},
   "outputs": [],
   "source": [
    "mapping.create_integrated_point_map(alldf[['DisclosureId','bgLatitude','bgLongitude','APINumber','TBWV','OperatorName',\n",
    "                                           'year','has_chem','WellName']],\n",
    "                 aliases=['API Number:','Well Name','Water used:','Operator:','date:','Has chemical records:'],\n",
    "                 fields=['APINumber','WellName','TBWV','OperatorName','year','has_chem'],\n",
    "                 include_shape = shape_flag,\n",
    "                 area_df = geojson\n",
    "                )"
   ]
  },
  {
   "cell_type": "markdown",
   "id": "1eb1969e-908d-47a9-8032-8bd7b0cbb0f2",
   "metadata": {},
   "source": [
    "## List of reported disclosures in this county\n"
   ]
  },
  {
   "cell_type": "code",
   "execution_count": null,
   "id": "22eddf6e-9e63-486a-8098-15243e874d3d",
   "metadata": {},
   "outputs": [],
   "source": [
    "def make_disc_link(row):\n",
    "    return th.getDisclosureLink(row.APINumber,row.DisclosureId,'Open-FF link')\n",
    "alldf['disc_link'] = alldf.apply(lambda x: make_disc_link(x),axis=1)\n",
    "def make_FF_link(row):\n",
    "    return th.getFFLink(row, fmt='short')\n",
    "alldf['API Number'] = alldf.apply(lambda x: make_FF_link(x),axis=1)"
   ]
  },
  {
   "cell_type": "code",
   "execution_count": null,
   "id": "c867d804-d0ba-4469-bcd3-8706bd005b15",
   "metadata": {
    "tags": []
   },
   "outputs": [],
   "source": [
    "iShow(alldf[['API Number','disc_link','WellName','TotalBaseWaterVolume','OperatorName','year','has_chem','is_on_DWSHA','is_on_CWA',\n",
    "             'is_on_PFAS_list']])"
   ]
  },
  {
   "cell_type": "code",
   "execution_count": null,
   "id": "051b7165-bae2-412b-bf20-27b9d469e336",
   "metadata": {},
   "outputs": [],
   "source": []
  }
 ],
 "metadata": {
  "kernelspec": {
   "display_name": "Python 3 (ipykernel)",
   "language": "python",
   "name": "python3"
  },
  "language_info": {
   "codemirror_mode": {
    "name": "ipython",
    "version": 3
   },
   "file_extension": ".py",
   "mimetype": "text/x-python",
   "name": "python",
   "nbconvert_exporter": "python",
   "pygments_lexer": "ipython3",
   "version": "3.11.8"
  }
 },
 "nbformat": 4,
 "nbformat_minor": 5
}
