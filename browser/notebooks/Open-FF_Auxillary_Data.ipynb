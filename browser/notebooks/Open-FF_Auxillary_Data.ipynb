{
 "cells": [
  {
   "cell_type": "code",
   "execution_count": null,
   "id": "3291c42a-4814-4da6-8207-ee67f2375de4",
   "metadata": {},
   "outputs": [],
   "source": [
    "import sys\n",
    "sys.path.insert(0,'c:/MyDocs/integrated/') # adjust to your setup\n",
    "\n",
    "%run \"catalog_support.py\" \n",
    "showHeader('Auxillary Data Sets')"
   ]
  },
  {
   "cell_type": "code",
   "execution_count": null,
   "id": "76e2fb2b-47a6-48f4-818e-22209a895c14",
   "metadata": {},
   "outputs": [],
   "source": [
    "# fetch data set\n",
    "df = fh.get_df(os.path.join(hndl.sandbox_dir,'workdf.parquet'))"
   ]
  },
  {
   "cell_type": "code",
   "execution_count": null,
   "id": "4cc8b469-8021-43d1-8403-11f8960c751b",
   "metadata": {},
   "outputs": [],
   "source": [
    "df['year'] = df.date.dt.year\n",
    "df = df[(df.year>2010)&(df.year<=datetime.datetime.now().year)]\n",
    "gb = df.groupby('DisclosureId',as_index=False)[['APINumber','year','bgStateName','ingKeyPresent']].first()\n",
    "gb['api10'] = gb.APINumber.str[:10]\n",
    "\n",
    "bulkgb = df.groupby('bgCAS',as_index=False).size().rename({'size':'bulk_cnt'},axis=1)"
   ]
  },
  {
   "cell_type": "code",
   "execution_count": null,
   "id": "742f04b6-896f-47ee-a70e-969f5ea57def",
   "metadata": {},
   "outputs": [],
   "source": [
    "def make_cas_table(bulkgb,altdf):\n",
    "    altgb = altdf.groupby('bgCAS',as_index=False).size().rename({'size':'alt_cnt'},axis=1)\n",
    "    altgb1 = altdf.groupby('bgCAS',as_index=False)['bgIngredientName'].first()\n",
    "    altgb = pd.merge(altgb,altgb1,on='bgCAS',how='left')\n",
    "    altgb2 = altdf.groupby('bgCAS',as_index=False)['calcMass'].sum()\n",
    "    altgb2.calcMass = altgb2.calcMass.map(lambda x: round_sig(x,3))\n",
    "    # altgb2.calcMass = np.where(altgb2.calcMass==0,np.NaN,altgb2.calcMass)\n",
    "    altgb = pd.merge(altgb,altgb2,on='bgCAS',how='left')\n",
    "    mg = pd.merge(altgb,bulkgb,on='bgCAS',how='left',indicator=True)\n",
    "    mg['present_in'] = mg._merge\n",
    "    mg.present_in = np.where(mg.present_in=='left_only','alt data only',mg.present_in)\n",
    "    return mg[['bgCAS','bgIngredientName','alt_cnt','calcMass','bulk_cnt','present_in']].reset_index(drop=True)\n",
    "    "
   ]
  },
  {
   "cell_type": "markdown",
   "id": "90a22629-90a2-4305-8d10-85246e836a5d",
   "metadata": {},
   "source": [
    "## Description\n",
    "This page summarizes data sets that Open-FF has compiled or imported from other sources, but are not directly connected to the bulk download of FracFocus and so are not integrated with those data.  \n",
    "\n",
    "**These data sets often come with caveats; please read and consider them carefully.**  For example, we know that companies can change already published data without justification or notification.  These auxillary data sets that are older may contain data that the industry considers out of date.  Nevertheless, those data sets may still be useful for some purposes.\n",
    "\n",
    "## Access\n",
    "We currently don't keep copies of these data online. Please contact us if you are interested.  "
   ]
  },
  {
   "cell_type": "markdown",
   "id": "71682a07-360f-4d8d-8766-68af7295ca98",
   "metadata": {},
   "source": [
    "   \n",
    "#  Data Sets:\n",
    "**[FracFocus version 1](#FFV1)**\n",
    "Scrape of early FracFocus disclosures.  Downloaded in April 2021.\n",
    "\n",
    "**[SkyTruth archive](#ST)**\n",
    "Data compiled by SkyTruth in 2011-2013 by scraping early FracFocus disclosures.\n",
    "\n",
    "**[New Mexico](#NM)**\n",
    "Scrape of state-held, HTML disclosures.  Downloaded in May 2022. Includes links to the state-held disclosures that are similar to the FracFocus \"Find-A-Well\" PDFs.\n",
    "\n",
    "**[Ohio Drilling Chemicals](Ohio_Drilling_Chemicals.html)**\n",
    "Ohio requires Operators to disclose chemicals added during the *drilling* phase. This separate page provides a window into these data, including a link to all PDF disclosures and a catalog of (scrape-able) CAS numbers reported. Based on work in June 2022.\n"
   ]
  },
  {
   "cell_type": "markdown",
   "id": "53d19b53-3e16-488a-bc7f-cd1e352d96af",
   "metadata": {
    "tags": []
   },
   "source": [
    "---\n",
    "---\n",
    "<a id='FFV1'></a>\n",
    "# FracFocus version 1, scraped from PDF files \n",
    "## downloaded from FracFocus, April 2021\n",
    "\n"
   ]
  },
  {
   "cell_type": "markdown",
   "id": "cb37e6eb-5751-4806-bb08-4a05561967ce",
   "metadata": {},
   "source": [
    "The FracFocus bulk download data contains about 45,000 disclosures for 2011-2013 that have only \"header\" data - location, Operator, date, water volume, etc., but not chemical records. These are the so-called FFversion 1.0 disclosures. Even though the PDF versions of these disclosures (served by Find-a-Well) have chemical records, the bulk download versions do not.  Early versions of Open-FF tried to use the SkyTruth archive (elsewhere on this page) to fill that gap, but when we learned that the archive contained outdated values in some disclosures, we removed it.  \n",
    "\n",
    "This data set is an improvement: In April 2021, at least eight years after the release of FFversion 2, we downloaded all PDFs from the FFv1 period.  We then attempted to scrape those data into a data set.  Unfortunately, a sizable fraction of the FFV1 PDFs are poorly formatted and too difficult to scrape reliably.  Nevertheless, we managed to pull together about 33,000 disclosures."
   ]
  },
  {
   "cell_type": "code",
   "execution_count": null,
   "id": "03c3353d-3497-4e9e-95ef-b5cd28872efe",
   "metadata": {},
   "outputs": [],
   "source": [
    "repo_name = 'FFV1_scrape_2022_09_11' # use this to override catalog_common.py\n",
    "master_df = ana_set_old.Full_set(repo = repo_name, outdir='../common/').get_set(verbose=False)\n",
    "master_df = master_df[(master_df.date.dt.year>2010)&\\\n",
    "                      (master_df.date.dt.year<=datetime.datetime.now().year)]\n",
    "master_df = master_df[master_df.in_std_filtered]\n",
    "\n",
    "master_df['year'] = master_df.date.dt.year\n",
    "ffv1gb = master_df.groupby('DisclosureId',as_index=False)[['APINumber','year']].first()\n",
    "ffv1gb['api10'] = ffv1gb.APINumber.str[:10]"
   ]
  },
  {
   "cell_type": "markdown",
   "id": "26c8e31b-c7cd-45cc-aa0e-01db457b1fb5",
   "metadata": {},
   "source": [
    "## Summary"
   ]
  },
  {
   "cell_type": "code",
   "execution_count": null,
   "id": "2a5c371e-02fb-40d7-9472-f5496da978d6",
   "metadata": {},
   "outputs": [],
   "source": [
    "ffv1gb.year.value_counts()"
   ]
  },
  {
   "cell_type": "markdown",
   "id": "598cf347-7213-45c1-a757-634664659153",
   "metadata": {},
   "source": [
    "## Overlap with bulk data"
   ]
  },
  {
   "cell_type": "code",
   "execution_count": null,
   "id": "22e1c0bf-6728-46c1-af2a-11c6c288aa93",
   "metadata": {},
   "outputs": [],
   "source": [
    "mg = pd.merge(ffv1gb,gb,on=['api10','year'],how='outer',indicator=True)\n",
    "mg.ingKeyPresent.fillna(True,inplace=True)\n",
    "# mg.head()"
   ]
  },
  {
   "cell_type": "code",
   "execution_count": null,
   "id": "1171122d-cf47-44bb-8164-8ba230cb8cc3",
   "metadata": {},
   "outputs": [],
   "source": [
    "mg['source'] = np.where((mg._merge=='right_only')&(~mg.ingKeyPresent),'FF only, no chem','FF with chem')\n",
    "mg.source = np.where((mg._merge=='both')&(~mg.ingKeyPresent),'Scrape & FF no chem',mg.source)\n",
    "mg.source = np.where((mg._merge=='both')&(mg.ingKeyPresent),'Scrape & FF with chem',mg.source)\n",
    "mg.source = np.where(mg._merge=='left_only','Scrape only',mg.source)"
   ]
  },
  {
   "cell_type": "code",
   "execution_count": null,
   "id": "1e933266-c4e6-45ab-a303-ce605204e277",
   "metadata": {},
   "outputs": [],
   "source": [
    "ax = mg.groupby(['year','source']).size().unstack().plot(kind='bar', stacked=True, \n",
    "                                                         figsize=(12,6),\n",
    "                                                          title='Overlap of scraped disclosures and FF bulk download')\n",
    "ax.set_ylabel('Number of disclosures',fontsize=14);\n"
   ]
  },
  {
   "cell_type": "code",
   "execution_count": null,
   "id": "440cdb76-b599-4ddd-a3a3-90ed374583c0",
   "metadata": {},
   "outputs": [],
   "source": [
    "alldf = master_df[master_df.ingKeyPresent].groupby('DisclosureId',as_index=False)[['date','TotalBaseWaterVolume',\n",
    "                                                                                'APINumber']].first()\n",
    "gb1 = alldf.groupby('date').size()\n",
    "allwk_sum = gb1.resample(\"W\").sum()\n",
    "ax = allwk_sum.plot(figsize=(12,5), ylabel='Number of disclosures');\n",
    "ax.set_title('Weekly number of disclosures by fracture date in FFV1 scraped data',fontsize=15);"
   ]
  },
  {
   "cell_type": "markdown",
   "id": "32e4f2a7-6bc3-4dd4-b256-54ae027ed2b0",
   "metadata": {},
   "source": [
    "## Where are they?"
   ]
  },
  {
   "cell_type": "code",
   "execution_count": null,
   "id": "a41c9732-e3a4-4eb2-a60b-871e1ce0856b",
   "metadata": {},
   "outputs": [],
   "source": [
    "\n",
    "gb1 = master_df[master_df.loc_within_state=='YES'].groupby(['bgStateName','bgCountyName',\n",
    "                                                           'DisclosureId'],as_index=False)['bgCAS'].count()\n",
    "gb1 = gb1.groupby(['bgStateName','bgCountyName'],as_index=False)['DisclosureId'].count().rename({'bgStateName':'StateName',\n",
    "                                                                            'bgCountyName':'CountyName',\n",
    "                                                                           'DisclosureId':'value'},\n",
    "                                                                          axis=1)\n",
    "# gb = pd.read_csv(r\"C:\\MyDocs\\OpenFF\\src\\testing\\tmp\\temp.csv\")\n",
    "#start_loc = get_state_center('new mexico')\n",
    "mapping.create_county_choropleth(gb1,plotlog=True,custom_scale= [0,1,2,3,4,5],\n",
    "                        #start_loc=start_loc, # center of state's data\n",
    "                        legend_name='Number of FracFocus disclosures',\n",
    "                        start_zoom=3,fields=['StateName','CountyName','orig_value'],\n",
    "                        aliases = ['State: ','County: ','Number of FF disclosures: ']\n",
    "                       )\n"
   ]
  },
  {
   "cell_type": "markdown",
   "id": "8dd3ce7e-9fcd-4a31-86e2-9b56ff09a42e",
   "metadata": {},
   "source": [
    "## Chemical list for this data set\n",
    "Including the number of times it appears in this set, thesum of the masses of the records (when calculable) and if it is also present in the bulk set."
   ]
  },
  {
   "cell_type": "code",
   "execution_count": null,
   "id": "799d95eb-32d8-4995-912b-64bc061a5cce",
   "metadata": {},
   "outputs": [],
   "source": [
    "iShow(make_cas_table(bulkgb,master_df).reset_index(drop=True),maxBytes=0,columnDefs=[{\"width\": \"100px\", \"targets\": 0}],\n",
    "      classes=\"display compact cell-border\", scrollX=True)"
   ]
  },
  {
   "cell_type": "markdown",
   "id": "96137ff1-5df3-45f1-804a-0aed5d884c33",
   "metadata": {
    "tags": []
   },
   "source": [
    "---\n",
    "---\n",
    "<a id='ST'></a>\n",
    "# SkyTruth archive, scraped from PDF files \n",
    "## downloaded from FracFocus in 2011 - May 2013\n",
    "\n"
   ]
  },
  {
   "cell_type": "markdown",
   "id": "7bb4bcab-f6e3-4eed-9b66-882a8e8bdb41",
   "metadata": {},
   "source": [
    "Between 2011 and May 2013, the NGO [SkyTruth](https://skytruth.org/) attempted to create a usable data set from the PDFs that were being published on the FracFocus website.  The bulk download option was not available yet.  This archive is interesting in a number of respects:\n",
    "- the group worked hard to scrape all of the PDFs into a data set even though many PDFs were poorly formed. \n",
    "- the data are a snapshot of the PDFs at the time.  We know that the industry has changed some of the data and therefore the current PDFs are different than this archive in some ways.  As far as we know, no one has yet documented what changes were made. However, because of those differences, **it is likely that the industry would consider these data as flawed.**\n",
    "\n",
    "See the [FFV1 data](#FFV1) set as an alternative or a comparative."
   ]
  },
  {
   "cell_type": "code",
   "execution_count": null,
   "id": "988e997a-8f98-40a8-a0e8-549fb8bc19ba",
   "metadata": {},
   "outputs": [],
   "source": [
    "repo_name = 'SkyTruth_2022_09_11' # use this to override catalog_common.py\n",
    "master_df = ana_set_old.Full_set(repo = repo_name, outdir='../common/').get_set(verbose=False)\n",
    "master_df = master_df[(master_df.date.dt.year>2010)&\\\n",
    "                      (master_df.date.dt.year<=datetime.datetime.now().year)]\n",
    "master_df = master_df[master_df.in_std_filtered]\n",
    "\n",
    "master_df['year'] = master_df.date.dt.year\n",
    "stgb = master_df.groupby('DisclosureId',as_index=False)[['APINumber','year']].first()\n",
    "stgb['api10'] = stgb.APINumber.str[:10]\n",
    "# gb.head()"
   ]
  },
  {
   "cell_type": "markdown",
   "id": "ebfadcd8-d12e-4032-870f-06b8f5d2a4f3",
   "metadata": {},
   "source": [
    "## Overlap with bulk data"
   ]
  },
  {
   "cell_type": "code",
   "execution_count": null,
   "id": "8ad2c7ad-c295-47c5-a7de-7086917f604c",
   "metadata": {},
   "outputs": [],
   "source": [
    "mg = pd.merge(stgb,gb,on=['api10','year'],how='outer',indicator=True)\n",
    "mg.ingKeyPresent.fillna(True,inplace=True)\n",
    "# mg.head()"
   ]
  },
  {
   "cell_type": "code",
   "execution_count": null,
   "id": "7e1a28b6-481c-469f-96b7-7c8d3cdaafa9",
   "metadata": {},
   "outputs": [],
   "source": [
    "mg['source'] = np.where((mg._merge=='right_only')&(~mg.ingKeyPresent),'FF only, no chem','FF with chem')\n",
    "mg.source = np.where((mg._merge=='both')&(~mg.ingKeyPresent),'ST & FF no chem',mg.source)\n",
    "mg.source = np.where((mg._merge=='both')&(mg.ingKeyPresent),'ST & FF with chem',mg.source)\n",
    "mg.source = np.where(mg._merge=='left_only','ST only',mg.source)"
   ]
  },
  {
   "cell_type": "code",
   "execution_count": null,
   "id": "b16b173a-ee21-4099-be5b-15e7ab2b87ea",
   "metadata": {},
   "outputs": [],
   "source": [
    "ax = mg.groupby(['year','source']).size().unstack().plot(kind='bar', stacked=True, \n",
    "                                                         figsize=(12,6),\n",
    "                                                          title='Overlap of SkyTruth disclosures and FF bulk download')\n",
    "ax.set_ylabel('Number of disclosures',fontsize=14);\n"
   ]
  },
  {
   "cell_type": "code",
   "execution_count": null,
   "id": "58563553-97a2-46f1-8f1a-ff5b8dc0719e",
   "metadata": {},
   "outputs": [],
   "source": [
    "alldf = master_df[master_df.ingKeyPresent].groupby('DisclosureId',as_index=False)[['date','TotalBaseWaterVolume',\n",
    "                                                                                'APINumber']].first()\n",
    "gb1 = alldf.groupby('date').size()\n",
    "allwk_sum = gb1.resample(\"W\").sum()\n",
    "ax = allwk_sum.plot(figsize=(12,5), ylabel='Number of disclosures');\n",
    "ax.set_title('Weekly number of disclosures by fracture date in SkyTruth scraped data',fontsize=15);"
   ]
  },
  {
   "cell_type": "markdown",
   "id": "e2619470-6b16-49b9-8d56-b704679146ef",
   "metadata": {},
   "source": [
    "## Where are they?"
   ]
  },
  {
   "cell_type": "code",
   "execution_count": null,
   "id": "7324583a-6093-40b5-854a-f7dc1340a283",
   "metadata": {},
   "outputs": [],
   "source": [
    "\n",
    "gb1 = master_df.groupby(['bgStateName','bgCountyName',\n",
    "                        'DisclosureId'],as_index=False)['bgCAS'].count()\n",
    "gb1 = gb1.groupby(['bgStateName','bgCountyName'],as_index=False)['DisclosureId'].count().rename({'bgStateName':'StateName',\n",
    "                                                                            'bgCountyName':'CountyName',\n",
    "                                                                           'DisclosureId':'value'},\n",
    "                                                                          axis=1)\n",
    "# gb = pd.read_csv(r\"C:\\MyDocs\\OpenFF\\src\\testing\\tmp\\temp.csv\")\n",
    "#start_loc = get_state_center('new mexico')\n",
    "create_county_choropleth(gb1,plotlog=True,custom_scale= [0,1,2,3,4,5],\n",
    "                        #start_loc=start_loc, # center of state's data\n",
    "                        legend_name='Number of FracFocus disclosures',\n",
    "                        start_zoom=3,fields=['StateName','CountyName','orig_value'],\n",
    "                        aliases = ['State: ','County: ','Number of FF disclosures: ']\n",
    "                       )\n"
   ]
  },
  {
   "cell_type": "markdown",
   "id": "a7205dbe-0406-4dc1-aa09-709bb643d1de",
   "metadata": {},
   "source": [
    "## Chemical list for this data set\n",
    "Including the number of times it appears in this set, thesum of the masses of the records (when calculable) and if it is also present in the bulk set."
   ]
  },
  {
   "cell_type": "code",
   "execution_count": null,
   "id": "a436cb9c-bb6f-40ad-a399-945850c74a1f",
   "metadata": {},
   "outputs": [],
   "source": [
    "iShow(make_cas_table(bulkgb,master_df).reset_index(drop=True),maxBytes=0,columnDefs=[{\"width\": \"100px\", \"targets\": 0}],\n",
    "      classes=\"display compact cell-border\", scrollX=True)"
   ]
  },
  {
   "cell_type": "markdown",
   "id": "d427ed85-8abd-402f-a40a-e89353ebe3b8",
   "metadata": {
    "tags": []
   },
   "source": [
    "---\n",
    "---\n",
    "<a id='NM'></a>\n",
    "# Scrape of New Mexico state chemical disclosures\n",
    "\n",
    "New Mexico allowed companies to submit disclosures to either FracFocus or directly to the state where they would be published only on the state websites.  This practice apparently ended in 2018; no state disclosures we could find were newer than early 2018.\n",
    "\n",
    "These state-held disclosures exist in (at least) two forms. The most public version are available [at an index on a OCD permitting page](https://wwwapps.emnrd.nm.gov/ocd/ocdpermitting/OperatorData/PermitStatusResults.aspx?Type=HFFD).  Clicking on the permit number will take you to a place to download a PDF file of the disclosure.  Unfortunately, almost all of the PDFs there are **image** based (instead of text-based) which makes them very hard and error-prone to scrape. \n",
    "\n",
    "Fortunately, another set of these disclosures exist at a different address and these are **HTML** based and so easier to scrape into a full data set. That is what we've used for this data set. Find links to individual disclosures at the bottom of this section."
   ]
  },
  {
   "cell_type": "markdown",
   "id": "57104cdd-96a9-4120-b26c-f2ef559ae2a2",
   "metadata": {},
   "source": []
  },
  {
   "cell_type": "code",
   "execution_count": null,
   "id": "71c02f9c-c07f-4404-bd89-b6387ee87e72",
   "metadata": {},
   "outputs": [],
   "source": [
    "repo_name = 'NM_scrape_2022_09_11' # use this to override catalog_common.py\n",
    "master_df = ana_set_old.Full_set(repo = repo_name, outdir='../common/').get_set(verbose=False)\n",
    "master_df = master_df[(master_df.date.dt.year>2010)&\\\n",
    "                      (master_df.date.dt.year<=datetime.datetime.now().year)]\n",
    "master_df = master_df[master_df.in_std_filtered]\n",
    "\n",
    "master_df['year'] = master_df.date.dt.year\n",
    "nmgb = master_df.groupby('DisclosureId',as_index=False)[['APINumber','year']].first()\n",
    "nmgb['api10'] = nmgb.APINumber.str[:10]\n"
   ]
  },
  {
   "cell_type": "markdown",
   "id": "b344f2cc-bf6a-4eda-9714-41e49a316da1",
   "metadata": {},
   "source": [
    "## Overlap with bulk data\n"
   ]
  },
  {
   "cell_type": "code",
   "execution_count": null,
   "id": "ec40aa70-be4b-4cbd-9a8d-41d76dbd96d7",
   "metadata": {},
   "outputs": [],
   "source": [
    "mg = pd.merge(nmgb,gb[gb.bgStateName=='new mexico'],on=['api10','year'],how='outer',indicator=True)\n",
    "mg.ingKeyPresent.fillna(True,inplace=True)\n",
    "# mg.head()"
   ]
  },
  {
   "cell_type": "code",
   "execution_count": null,
   "id": "5cf9ba60-1099-425d-a2e8-69230cad8728",
   "metadata": {},
   "outputs": [],
   "source": [
    "mg['source'] = np.where((mg._merge=='right_only')&(~mg.ingKeyPresent),'FF only, no chem','FF bulk only')\n",
    "mg.source = np.where(mg._merge=='both','both',mg.source)\n",
    "mg.source = np.where(mg._merge=='left_only','state data only',mg.source)"
   ]
  },
  {
   "cell_type": "code",
   "execution_count": null,
   "id": "2734235a-60eb-4052-9fe1-462b4d34f4c1",
   "metadata": {},
   "outputs": [],
   "source": [
    "ax = mg.groupby(['year','source']).size().unstack().plot(kind='bar', stacked=True, \n",
    "                                                         figsize=(12,6),\n",
    "                                                          title='Overlap of NM state-held disclosures and FF bulk download')\n",
    "ax.set_ylabel('Number of disclosures',fontsize=14);\n"
   ]
  },
  {
   "cell_type": "code",
   "execution_count": null,
   "id": "a680b0c6-bf82-4f10-8bed-fa334a4fa3d7",
   "metadata": {},
   "outputs": [],
   "source": [
    "alldf = master_df[master_df.ingKeyPresent].groupby('DisclosureId',as_index=False)[['date','TotalBaseWaterVolume',\n",
    "                                                                                'APINumber']].first()\n",
    "gb1 = alldf.groupby('date').size()\n",
    "allwk_sum = gb1.resample(\"W\").sum()\n",
    "ax = allwk_sum.plot(figsize=(12,5), ylabel='Number of disclosures');\n",
    "ax.set_title('Weekly number of disclosures by fracture date in New Mexico scraped data',fontsize=15);"
   ]
  },
  {
   "cell_type": "markdown",
   "id": "196f07c9-e005-47fc-bc5b-77647a28f9ed",
   "metadata": {},
   "source": [
    "## Where are they?"
   ]
  },
  {
   "cell_type": "code",
   "execution_count": null,
   "id": "4b2ed991-b9c7-46ba-8529-018fccf75d70",
   "metadata": {},
   "outputs": [],
   "source": [
    "\n",
    "gb1 = master_df[master_df.loc_within_state=='YES'].groupby(['bgStateName','bgCountyName',\n",
    "                                                           'DisclosureId'],as_index=False)['bgCAS'].count()\n",
    "gb1 = gb1.groupby(['bgStateName','bgCountyName'],as_index=False)['DisclosureId'].count().rename({'bgStateName':'StateName',\n",
    "                                                                            'bgCountyName':'CountyName',\n",
    "                                                                           'DisclosureId':'value'},\n",
    "                                                                          axis=1)\n",
    "# gb = pd.read_csv(r\"C:\\MyDocs\\OpenFF\\src\\testing\\tmp\\temp.csv\")\n",
    "start_loc = get_state_center('new mexico')\n",
    "create_county_choropleth(gb1,plotlog=True,custom_scale= [0,1,2,3,4,5],\n",
    "                        start_loc=start_loc, # center of state's data\n",
    "                        legend_name='Number of FracFocus disclosures',\n",
    "                        start_zoom=6,fields=['StateName','CountyName','orig_value'],\n",
    "                        aliases = ['State: ','County: ','Number of FF disclosures: ']\n",
    "                       )\n"
   ]
  },
  {
   "cell_type": "markdown",
   "id": "a2d8f3ce-ecda-466e-95ab-aa0dd5abdd71",
   "metadata": {},
   "source": [
    "## Chemical list for this data set\n",
    "Including the number of times it appears in this set, thesum of the masses of the records (when calculable) and if it is also present in the bulk set."
   ]
  },
  {
   "cell_type": "code",
   "execution_count": null,
   "id": "9ee97b9a-7b89-459e-b832-b6c0cedd7140",
   "metadata": {},
   "outputs": [],
   "source": [
    "iShow(make_cas_table(bulkgb,master_df).reset_index(drop=True),maxBytes=0,columnDefs=[{\"width\": \"100px\", \"targets\": 0}],\n",
    "      classes=\"display compact cell-border\", scrollX=True)"
   ]
  },
  {
   "cell_type": "markdown",
   "id": "5a238d41-1daa-4e53-8dd4-c19b1525de74",
   "metadata": {},
   "source": [
    "## Links to the New Mexico state-held disclosure forms\n",
    "\n"
   ]
  },
  {
   "cell_type": "code",
   "execution_count": null,
   "id": "5dcbacbe-af10-4d9f-8a39-97763c4ce571",
   "metadata": {},
   "outputs": [],
   "source": [
    "nmtab = pd.read_csv(r\"C:\\MyDocs\\OpenFF\\src\\openFF-catalog\\NM_meta_links.csv\",quotechar='$',encoding='utf-8')\n",
    "nmtab.link = nmtab.link.str.replace('_',',')\n",
    "nmtab['Link'] = nmtab.link.map(lambda x: wrapLink(x,'Link to NM record'))\n",
    "nmtab.date = pd.to_datetime(nmtab.date)\n",
    "\n",
    "iShow(nmtab[['APINumber','CountyName','date','OperatorName','Link']],maxBytes=0,\n",
    "      classes=\"display compact cell-border\")\n",
    "# print(len(nmtab))"
   ]
  },
  {
   "cell_type": "code",
   "execution_count": null,
   "id": "44689fdb-ed73-4d53-9186-455278094165",
   "metadata": {},
   "outputs": [],
   "source": []
  }
 ],
 "metadata": {
  "kernelspec": {
   "display_name": "Python 3 (ipykernel)",
   "language": "python",
   "name": "python3"
  },
  "language_info": {
   "codemirror_mode": {
    "name": "ipython",
    "version": 3
   },
   "file_extension": ".py",
   "mimetype": "text/x-python",
   "name": "python",
   "nbconvert_exporter": "python",
   "pygments_lexer": "ipython3",
   "version": "3.10.12"
  }
 },
 "nbformat": 4,
 "nbformat_minor": 5
}
