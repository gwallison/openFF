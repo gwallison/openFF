{
 "cells": [
  {
   "cell_type": "code",
   "execution_count": null,
   "id": "67cd510c-03a3-4def-b9aa-f0ac7380ca24",
   "metadata": {},
   "outputs": [],
   "source": [
    "import sys\n",
    "sys.path.insert(0,'c:/MyDocs/integrated/') # adjust to your setup\n",
    "\n",
    "%run \"catalog_support.py\" \n",
    "showHeader('FracFocus Flaws Index',use_remote=False)"
   ]
  },
  {
   "cell_type": "code",
   "execution_count": null,
   "id": "d485fbd7-7bff-4aae-8065-165b05a2dffe",
   "metadata": {},
   "outputs": [],
   "source": [
    "import FF_issues.process_master_files as pmf\n",
    "pobj = pmf.Process_Master_Files()\n",
    "df = pobj.process_obj()\n",
    "df['flaw_link'] = df.Flag_id.map(lambda x: th.getFlawLink(x))\n",
    "df[['Title','flaw_link','Date_entered','Warning_level']]"
   ]
  },
  {
   "cell_type": "code",
   "execution_count": null,
   "id": "c975cc73-3ef9-4716-90be-ab31a56330d7",
   "metadata": {},
   "outputs": [],
   "source": []
  }
 ],
 "metadata": {
  "hide_input": true,
  "kernelspec": {
   "display_name": "Python 3 (ipykernel)",
   "language": "python",
   "name": "python3"
  },
  "language_info": {
   "codemirror_mode": {
    "name": "ipython",
    "version": 3
   },
   "file_extension": ".py",
   "mimetype": "text/x-python",
   "name": "python",
   "nbconvert_exporter": "python",
   "pygments_lexer": "ipython3",
   "version": "3.11.7"
  }
 },
 "nbformat": 4,
 "nbformat_minor": 5
}
