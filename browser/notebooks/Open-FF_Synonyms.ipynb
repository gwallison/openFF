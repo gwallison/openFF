{
 "cells": [
  {
   "cell_type": "code",
   "execution_count": null,
   "id": "095e61ba-969f-4fc8-aa94-5d180a7db2de",
   "metadata": {},
   "outputs": [],
   "source": [
    "import sys\n",
    "sys.path.insert(0,'c:/MyDocs/integrated/') # adjust to your setup\n",
    "\n",
    "%run \"catalog_support.py\" \n",
    "showHeader('Synonym Table')"
   ]
  },
  {
   "cell_type": "code",
   "execution_count": null,
   "id": "bc8e8ca8-8753-40c5-9609-338a43911845",
   "metadata": {},
   "outputs": [],
   "source": [
    "# fetch data set\n",
    "df_cas = fh.get_df(os.path.join(hndl.sandbox_dir,'workdf.parquet'))"
   ]
  },
  {
   "cell_type": "code",
   "execution_count": null,
   "id": "metallic-guatemala",
   "metadata": {},
   "outputs": [],
   "source": [
    "# cascnt = df_cas.groupby('bgCAS',as_index=False)['DisclosureId'].count()\n",
    "cascnt = df_cas.groupby('bgCAS',as_index=False).size()\n",
    "cascnt.columns = ['cas_number','record_cnt']\n",
    "# syncnt = df_cas.groupby('IngredientName', as_index=False)['DisclosureId'].count()\n",
    "syncnt = df_cas.groupby('IngredientName', as_index=False).size()\n",
    "syncnt.columns = ['synonym','syn_count']"
   ]
  },
  {
   "cell_type": "markdown",
   "id": "ordered-academy",
   "metadata": {},
   "source": [
    "This interactive table below lists synonyms for all chemicals published in FracFocus. This is not an exhaustive set. The table is sort-able by any column (click a second time for reverse sort) and use the **Search** bar to limit what is shown in the table. \n",
    "\n",
    "   \n",
    "Use the search function to find\n",
    "- alternative names for a given CAS number.  Some of these may be product names. Some CAS numbers have thousands of synonyms.\n",
    "- possible CAS numbers for a given synonym\n",
    "\n",
    "These synonyms are the ones provided by the CAS reference site, [SciFinder](http://scifinder.cas.org), a subscription service, and the synonyms from EPA's CompTox database.   It can also be helpful to use\n",
    "[PubChem](https://pubchem.ncbi.nlm.nih.gov/), a free, public site.  \n",
    "\n",
    "An additional source is the Table H-3 in the appendix of EPA document [Hydraulic Fracturing for Oil and Gas: Impacts from the Hydraulic Fracturing Water Cycle on Drinking Water Resources in the United States (Final Report)](https://cfpub.epa.gov/ncea/hfstudy/recordisplay.cfm?deid=332990).  This table provides a list of **generic** names commonly used that are not specific enough to resolve to a single CAS number.  The CAS number given in the table for these names is \"estab_non_spec\".  These ingredient names appear frequently in FracFocus.\n",
    "\n"
   ]
  },
  {
   "cell_type": "markdown",
   "id": "julian-connectivity",
   "metadata": {},
   "source": [
    "|Explanation of columns in the index|\n",
    "| :---: |\n",
    "\n",
    "| Column      | Description |\n",
    "| :----: | :-------- |\n",
    "|*synonym*| is the one of the names given by SciFinder and/or CompTox for the material identified by the CAS number|\n",
    "|*cas_number*| is the CAS registration number of a chemical in the FracFocus data set. **Click on this link** to view summary of this chemical for all of FracFocus (filtered data - up to last major update).  If a | \n",
    "|*source*| is the source of the synonym & cas number data|\n",
    "|*syn_count*| is the number of records where IngredientName **exactly** matches the given *synonym*| \n",
    "|*record_cnt*| is the total number of records in the current Open-FF full data set that match bgCAS (cas_number). Note that the presence of a cas_number with 0 records may imply that the cas_number was in the raw FracFocus data, but was a mistake and is corrected in the bgCAS number.  However, we have also included many materials that are on lists of chemicals of concern but HAVE NOT been seen inn FracFocus. Although the CASNumber will be displayed for these materials, no hyper link is available because there is no FracFocus summary to display.| \n"
   ]
  },
  {
   "cell_type": "markdown",
   "id": "hidden-sheet",
   "metadata": {},
   "source": [
    "## Synonyms for chemicals reported in FracFocus and related"
   ]
  },
  {
   "cell_type": "code",
   "execution_count": null,
   "id": "thermal-redhead",
   "metadata": {},
   "outputs": [],
   "source": [
    "master_df = fh.get_df(os.path.join(hndl.curr_repo_dir,'curation_files','master_synonym_list.parquet'))\n",
    "\n",
    "# cmptox_df = grd.get_curated_df(repo_name,'CAS_synonyms_CompTox.parquet')\n",
    "# syn_df = grd.get_curated_df(repo_name,'CAS_synonyms.parquet')\n",
    "# syn_df = pd.merge(syn_df,cmptox_df,on=['cas_number','synonym'],how='outer',indicator=True)\n",
    "# syn_df['source'] = np.where(syn_df._merge=='both','SciFinder & CompTox','?')\n",
    "# syn_df['source'] = np.where(syn_df._merge=='right_only','SciFinder',syn_df.source)\n",
    "# syn_df['source'] = np.where(syn_df._merge=='left_only','CompTox',syn_df.source)\n",
    "# syn_df = syn_df.drop('_merge',axis=1)\n",
    "syn_df = pd.merge(master_df,syncnt,on='synonym',how='left')\n",
    "syn_df = pd.merge(syn_df,cascnt,on='cas_number',how='left').reset_index(drop=True)\n",
    "syn_df.syn_count.fillna(0,inplace=True)\n",
    "syn_df.record_cnt.fillna(0,inplace=True)\n",
    "syn_df = syn_df[~syn_df.duplicated()].reset_index(drop=True)\n",
    "syn_df.cas_number = np.where(syn_df.record_cnt>0,\n",
    "                             '<b>'+syn_df.cas_number.map(lambda x: th.getCatLink(x,x))+'</b>',\n",
    "                             syn_df.cas_number)\n",
    "iShow(syn_df.sort_values('record_cnt',ascending=False),\n",
    "      maxBytes=0, classes=\"display compact cell-border\",index=False)"
   ]
  },
  {
   "cell_type": "code",
   "execution_count": null,
   "id": "configured-joshua",
   "metadata": {},
   "outputs": [],
   "source": []
  }
 ],
 "metadata": {
  "hide_input": true,
  "kernelspec": {
   "display_name": "Python 3 (ipykernel)",
   "language": "python",
   "name": "python3"
  },
  "language_info": {
   "codemirror_mode": {
    "name": "ipython",
    "version": 3
   },
   "file_extension": ".py",
   "mimetype": "text/x-python",
   "name": "python",
   "nbconvert_exporter": "python",
   "pygments_lexer": "ipython3",
   "version": "3.10.12"
  }
 },
 "nbformat": 4,
 "nbformat_minor": 5
}
