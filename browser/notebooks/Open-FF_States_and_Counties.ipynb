{
 "cells": [
  {
   "cell_type": "code",
   "execution_count": null,
   "id": "0caaf19e-ffde-4168-8894-8a3b73af18a4",
   "metadata": {},
   "outputs": [],
   "source": [
    "import sys\n",
    "sys.path.insert(0,'c:/MyDocs/integrated/') # adjust to your setup\n",
    "\n",
    "%run \"catalog_support.py\" \n",
    "showHeader('State Index')"
   ]
  },
  {
   "cell_type": "code",
   "execution_count": null,
   "id": "b5d149d7-470b-4ec3-ad21-16922c9a2289",
   "metadata": {},
   "outputs": [],
   "source": [
    "# fetch data set\n",
    "df = fh.get_df(os.path.join(hndl.sandbox_dir,'workdf.parquet'))"
   ]
  },
  {
   "cell_type": "code",
   "execution_count": null,
   "id": "b62f4261-271f-4a49-be25-b7afc8d84d8e",
   "metadata": {},
   "outputs": [],
   "source": [
    "gb = df[(df.in_std_filtered)&(df.loc_within_state=='YES')].groupby(['bgStateName','bgCountyName','DisclosureId'],as_index=False)['date'].first()\n",
    "gb1 = gb.groupby('bgStateName',as_index=False)['DisclosureId'].count().rename({'DisclosureId':'Number of disclosures'},axis=1)\n",
    "\n",
    "gb2 = gb.groupby(['bgStateName','bgCountyName'],as_index=False)['DisclosureId'].count()\n",
    "gb2 = gb2.groupby('bgStateName',as_index=False)['bgCountyName'].count().rename({'bgCountyName':'Number of counties'},axis=1)\n",
    "\n",
    "gb3 = gb.groupby('bgStateName',as_index=False)['date'].agg(['min','max']).rename({'min':'earliest',\n",
    "                                                                                  'max':'latest'},axis=1)\n",
    "mg = pd.merge(gb1,gb2,on='bgStateName',how='left')\n",
    "mg = pd.merge(mg,gb3,on='bgStateName',how='left')\n",
    "mg = mg.rename({'bgStateName':'State'},axis=1)\n",
    "# mg = mg.reset_index(drop=True)\n",
    "mg.State = '<center><h3>'+mg.State.str.title().map(lambda x: th.getStateLink(x,x))+'</h3></center>'\n",
    "mg = mg.sort_values('Number of disclosures',ascending=False)\n",
    "\n",
    "import itables.options as opt\n",
    "opt.order = []  # no sorting\n",
    "\n",
    "iShow(mg.reset_index(drop=True),paging=False)"
   ]
  },
  {
   "cell_type": "code",
   "execution_count": null,
   "id": "3431ab03-32bc-40ea-b341-9eb656638a4f",
   "metadata": {},
   "outputs": [],
   "source": []
  }
 ],
 "metadata": {
  "kernelspec": {
   "display_name": "Python 3 (ipykernel)",
   "language": "python",
   "name": "python3"
  },
  "language_info": {
   "codemirror_mode": {
    "name": "ipython",
    "version": 3
   },
   "file_extension": ".py",
   "mimetype": "text/x-python",
   "name": "python",
   "nbconvert_exporter": "python",
   "pygments_lexer": "ipython3",
   "version": "3.11.8"
  }
 },
 "nbformat": 4,
 "nbformat_minor": 5
}
