{
 "cells": [
  {
   "cell_type": "code",
   "execution_count": null,
   "id": "39875384-09ab-4060-869f-6d22c530e943",
   "metadata": {},
   "outputs": [],
   "source": [
    "import sys\n",
    "sys.path.insert(0,'c:/MyDocs/integrated/') # adjust to your setup\n",
    "\n",
    "%run \"catalog_support.py\" \n",
    "showHeader('FracFocus<br>Big Picture Stats',use_remote=False)"
   ]
  },
  {
   "cell_type": "code",
   "execution_count": null,
   "id": "ab308ff3-5f27-4d8f-9efc-ae71bef7c9c5",
   "metadata": {},
   "outputs": [],
   "source": [
    "# fetch data set\n",
    "master_df = fh.get_df(os.path.join(hndl.curr_repo_dir,'full_df.parquet'))\n",
    "master_df = master_df[(master_df.date.dt.year>2010)&\\\n",
    "                      (master_df.date.dt.year<=datetime.datetime.now().year)]"
   ]
  },
  {
   "cell_type": "markdown",
   "id": "71682a07-360f-4d8d-8766-68af7295ca98",
   "metadata": {},
   "source": [
    "   \n",
    "## Contents:\n",
    "**[General Statistics](#gen_stats)**\n",
    "Number of disclosures per week, geographic spread\n",
    "\n",
    "**[Chemicals used](#chems)** (in development)\n",
    "\n",
    "**[Water Use](#water_use)**\n",
    "Weekly: Median, Total and Max water used\n",
    "\n",
    "**[Proppant Use](#proppant)**\n",
    "Weekly: Sand, other proppants\n",
    "\n",
    "**[Companies represented](#companies)** (in development)\n",
    "\n",
    "**[Downloadable Data Sets](#data)**\n",
    "water and sand use, by disclosure"
   ]
  },
  {
   "cell_type": "markdown",
   "id": "53d19b53-3e16-488a-bc7f-cd1e352d96af",
   "metadata": {},
   "source": [
    "---\n",
    "<a id='gen_stats'></a>\n",
    "# General Stats\n",
    "\n",
    "The figures below use filtered data (no duplicate disclosures or records) for Jan 1, 2011 to the most recently published data.  Because of publishing delays, the most recent months are probably under represented.\n",
    "\n",
    "**In the early data, roughly 2011 - May 2013, the bulk download does not include chemical records.**  However, the PDF files for that period are still served through [\"Find_A-Well\"](https://fracfocus.org/wells/advanced) and document the reported chemicals.  Some projects have attempted to scrape those chemical records into an organized data set but they come with caveats (such as they may contain records that the industry no longer considers valid; or they are incomplete because many of the PDFs are poorly formatted and therefore difficult to scrape). "
   ]
  },
  {
   "cell_type": "markdown",
   "id": "493b61dd-427f-4f70-8311-72aa8927eaf9",
   "metadata": {},
   "source": [
    "<a id='num_disc'></a>"
   ]
  },
  {
   "cell_type": "code",
   "execution_count": null,
   "id": "440cdb76-b599-4ddd-a3a3-90ed374583c0",
   "metadata": {},
   "outputs": [],
   "source": [
    "gb = master_df.groupby('DisclosureId',as_index=False)['date'].first()\n",
    "gb1 = master_df.groupby('DisclosureId',as_index=False)['ingKeyPresent'].sum()\n",
    "mg = pd.merge(gb,gb1,on='DisclosureId',how='left')\n",
    "gb2 = mg[mg.ingKeyPresent>0].groupby('date').size()\n",
    "allwk_sum = gb2.resample(\"W\").sum()\n",
    "ax = allwk_sum.plot(figsize=(12,5), ylabel='Number of disclosures');\n",
    "ax.set_title('Orange: Without chemical records; Blue: with chemical records',fontsize=10);\n",
    "plt.suptitle('Weekly number of disclosures by end date in bulk download data',fontsize=15);\n",
    "\n",
    "gb3 = mg[mg.ingKeyPresent==0].groupby('date').size()\n",
    "# alldfv1 = master_df[~master_df.ingKeyPresent].groupby('DisclosureId',as_index=False)[['date','TotalBaseWaterVolume']].first()\n",
    "# gbv1 = gb3.groupby('date').size()\n",
    "allwk_sumv1 = gb3.resample(\"W\").sum()\n",
    "allwk_sumv1.plot(ax=ax);\n",
    "\n"
   ]
  },
  {
   "cell_type": "markdown",
   "id": "32e4f2a7-6bc3-4dd4-b256-54ae027ed2b0",
   "metadata": {},
   "source": [
    "## Where are they?\n",
    "For more detailed maps of each state, see the [\"States and Counties\"](Open-FF_States_and_Counties.html) pages."
   ]
  },
  {
   "cell_type": "code",
   "execution_count": null,
   "id": "a41c9732-e3a4-4eb2-a60b-871e1ce0856b",
   "metadata": {},
   "outputs": [],
   "source": [
    "\n",
    "gb = master_df[master_df.loc_within_state=='YES'].groupby(['bgStateName',\n",
    "                                                           'DisclosureId'],as_index=False)['bgCAS'].count()\n",
    "gb = gb.groupby('bgStateName',as_index=False)['DisclosureId'].count().rename({'bgStateName':'StateName',\n",
    "                                                                           'DisclosureId':'value'},\n",
    "                                                                          axis=1)\n",
    "# gb = pd.read_csv(r\"C:\\MyDocs\\OpenFF\\src\\testing\\tmp\\temp.csv\")\n",
    "mapping.create_state_choropleth(gb,plotlog=True,custom_scale= [0,1,2,3,4,5,6],\n",
    "                        legend_name='Number of FracFocus disclosures',\n",
    "                        start_zoom=3,fields=['StateName','orig_value'],\n",
    "                        aliases = ['State: ','Number of FF disclosures: ']\n",
    "                       )\n"
   ]
  },
  {
   "cell_type": "markdown",
   "id": "fdcddd9a-bdd5-4e5c-9174-101ca7082a34",
   "metadata": {},
   "source": [
    "---\n",
    "<a id='chems'></a>\n",
    "# Chemicals used\n",
    "- in development"
   ]
  },
  {
   "cell_type": "markdown",
   "id": "767acfe4-940c-412e-baa6-c2cefcd9caea",
   "metadata": {
    "tags": []
   },
   "source": [
    "---\n",
    "<a id='water_use'></a>\n",
    "# Water use"
   ]
  },
  {
   "cell_type": "markdown",
   "id": "c9e1fe2e-a82b-481b-bada-61053bd76ee8",
   "metadata": {
    "tags": []
   },
   "source": [
    "## Gallons used, recorded as TotalBaseWaterVolume"
   ]
  },
  {
   "cell_type": "code",
   "execution_count": null,
   "id": "b87b5de8-4195-4827-8589-8666aabd6d5a",
   "metadata": {},
   "outputs": [],
   "source": [
    "alldf = master_df.groupby('DisclosureId',as_index=False)[['date','TotalBaseWaterVolume','APINumber','bgStateName']].first()\n",
    "gb1 = alldf.groupby('date')['TotalBaseWaterVolume'].median()\n",
    "allwk_tbwv = gb1.resample(\"W\").max()\n",
    "ax = allwk_tbwv.plot(figsize=(12,5), ylabel='Median Water Volume Used By Week',style='o');\n",
    "ax.set_title('Median water use (gallons) per week',fontsize=18);\n",
    "ax = gca().yaxis.set_major_formatter(mpl.ticker.StrMethodFormatter('{x:,.0f}'))\n"
   ]
  },
  {
   "cell_type": "code",
   "execution_count": null,
   "id": "c9748bdd-757a-48d9-a6eb-50fca65e8f4a",
   "metadata": {},
   "outputs": [],
   "source": [
    "gb3 = alldf.groupby('date')['TotalBaseWaterVolume'].sum()\n",
    "allwk_tbwv_sum = gb3.resample(\"W\").sum()\n",
    "ax = allwk_tbwv_sum.plot(figsize=(12,5), ylabel='Total Water Volume Used By Week',style='o');\n",
    "ax.set_title('Total weekly water use across FracFocus',fontsize=18);\n",
    "plt.suptitle('Data for most recent months probably relects publication delays.',fontsize=10);\n",
    "ax = gca().yaxis.set_major_formatter(mpl.ticker.StrMethodFormatter('{x:,.0f}'))\n",
    "\n"
   ]
  },
  {
   "cell_type": "code",
   "execution_count": null,
   "id": "c49665bc-b4ec-43f9-9d50-4f5a22e67d3b",
   "metadata": {},
   "outputs": [],
   "source": [
    "gb1 = alldf.groupby('date')['TotalBaseWaterVolume'].max()\n",
    "\n",
    "gb2 = gb1[gb1<100000000]\n",
    "allwk_tbwv = gb2.resample(\"W\").max()\n",
    "ax = allwk_tbwv.plot(figsize=(12,5), ylabel='Max Water Volume Used By Week',style='o');\n",
    "ax.set_title('Single maximum water use (gallons) per week',fontsize=18);\n",
    "plt.suptitle('All values over 100,000,000 gallons excluded - they are probably typos, but cannot be sure; see table below.',fontsize=10);\n",
    "ax = gca().yaxis.set_major_formatter(mpl.ticker.StrMethodFormatter('{x:,.0f}'))\n"
   ]
  },
  {
   "cell_type": "code",
   "execution_count": null,
   "id": "9d98b2a9-416f-426d-b304-f388dff38948",
   "metadata": {},
   "outputs": [],
   "source": [
    "print('Disclosures over 100 million gallons')\n",
    "summary = alldf[alldf.TotalBaseWaterVolume>100000000].groupby('date')[['TotalBaseWaterVolume','APINumber','bgStateName']].first()\n",
    "summary.TotalBaseWaterVolume = summary.TotalBaseWaterVolume.map(lambda x: th.round_sig(x,5))\n",
    "print(summary.sort_values('date'))"
   ]
  },
  {
   "cell_type": "markdown",
   "id": "b4a2b049-9eac-4b2b-bf3c-e15ded4d40b5",
   "metadata": {},
   "source": [
    "---\n",
    "<a id='proppant'></a>\n",
    "# Proppants\n",
    "Most 2011- mid 2013 disclosures do not have chemical records.  Proppants are, therefore, missing in those years in the figures below."
   ]
  },
  {
   "cell_type": "code",
   "execution_count": null,
   "id": "1c793d21-068f-4b15-b169-99c828658478",
   "metadata": {},
   "outputs": [],
   "source": [
    "# gb1 = master_df.groupby('DisclosureId',as_index=False)[['APINumber','date','TotalBaseWaterVolume','bgStateName']].first()\n",
    "gb3 = master_df[master_df.bgCAS=='14808-60-7'].groupby('date')[['mass']].sum()\n",
    "allwk_sand_sum = gb3.resample(\"W\").sum()\n",
    "otherprop = ['66402-68-4','1302-93-8','1302-76-7','1344-28-1','1318-16-7','308075-07-2','14464-46-1','1302-74-5']\n",
    "\n",
    "ax = allwk_sand_sum.plot(figsize=(12,5), ylabel='Total 14808-60-7 Mass (lbs) By Week',style='o');\n",
    "ax.set_title('Total weekly sand (CASRN: 14808-60-7) use across FracFocus',fontsize=18)\n",
    "ax = gca().yaxis.set_major_formatter(mpl.ticker.StrMethodFormatter('{x:,.0f}'));\n"
   ]
  },
  {
   "cell_type": "code",
   "execution_count": null,
   "id": "7760411b-e0f2-4cce-98bc-cb1ccae552b4",
   "metadata": {},
   "outputs": [],
   "source": [
    "gb3 = master_df[master_df.bgCAS.isin(otherprop)].groupby('date')[['mass']].sum()\n",
    "allwk_other_sum = gb3.resample(\"W\").sum()\n",
    "ax = allwk_other_sum.plot(figsize=(12,5), ylabel='Total other proppants Mass (lbs) By Week',style='o');\n",
    "ax.set_title('Total weekly use of \"other proppants\" across FracFocus',fontsize=18)\n",
    "ax = gca().yaxis.set_major_formatter(mpl.ticker.StrMethodFormatter('{x:,.0f}'));\n",
    "\n",
    "props = master_df[master_df.bgCAS.isin(otherprop)].groupby('bgCAS',as_index=False)['epa_pref_name'].first()\n",
    "print(f'List of \"other proppants\" graphed: \\n{props}\\n')"
   ]
  },
  {
   "cell_type": "markdown",
   "id": "581c352c-118e-49f7-9192-e3003f9dfc54",
   "metadata": {},
   "source": [
    "---\n",
    "<a id='companies'></a>\n",
    "# Companies represented"
   ]
  },
  {
   "cell_type": "markdown",
   "id": "1f972328-0030-4589-8327-214e4001c9ff",
   "metadata": {},
   "source": [
    "## Operators\n",
    "Operators are the companies that manage the permits, the wells and submit the disclosures.  There is a single operator for each fracking job.  \n",
    "\n",
    "There are many Operator companies.  A large fraction of them manage only a handful of fracking jobs/wells.  The dominant operators have thousands of wells. To explore individual Operators, use the [Operator Index](Open-FF_Operator_index.html)\n",
    "\n",
    "The data field in Open-FF named `bgOperatorName` is a form of the FracFocus field `OperatorName` that allows for more comprehensive searches."
   ]
  },
  {
   "cell_type": "code",
   "execution_count": null,
   "id": "88c65d62-fb36-4a1e-8eaf-d4c59fd9c3a7",
   "metadata": {},
   "outputs": [],
   "source": [
    "ogb = master_df.groupby(['bgOperatorName','DisclosureId'],as_index=False).size()\n",
    "ogbname = master_df.groupby(['bgOperatorName'])['OperatorName'].agg(lambda x: x.value_counts().index[0])\n",
    "ogbname = ogbname.reset_index()\n",
    "mg = pd.merge(ogb,ogbname,on='bgOperatorName',how='left')\n",
    "# ogb = ogb.groupby('bgOperatorName',as_index=False).size()\n",
    "# ogb = ogb.sort_values('size',ascending=False)\n",
    "# ogb.plot.barh('size','bgOperatorName')\n",
    "h = mg.OperatorName.value_counts()\n",
    "print(f'Total number bgOperatorName: {len(h)},\\n number with fewer than 20 disclosures: {len(h[h<20])},\\n with fewer than 5: {len(h[h<5])}')"
   ]
  },
  {
   "cell_type": "code",
   "execution_count": null,
   "id": "b6e03616-a021-4910-85f2-6460f06b7b8b",
   "metadata": {},
   "outputs": [],
   "source": [
    "ax = mg.OperatorName.value_counts()[:15].plot.barh(figsize=(8,5))\n",
    "ax.set_title('Top 15 Operators')\n",
    "ax.set_xlabel('Number of disclosures in FracFocus');\n",
    "plt.tight_layout();\n",
    "# plt.savefig(os.path.join(image_dir,'operators.jpg'),dpi=150)"
   ]
  },
  {
   "cell_type": "markdown",
   "id": "ceb10bd3-11be-4218-947c-1c165f766dff",
   "metadata": {},
   "source": [
    "## Suppliers\n",
    "\n",
    "Suppliers are companies that may supply the products used in a fracking job, they may be the oilfield service company or even a transport company.  Because a supplier is associated with single records within a disclosure, there are often multiple companies named as suppliers on a single dislcosure.   \n",
    "\n",
    "The data field in Open-FF named `bgSupplier` is a form of the FracFocus field `Supplier` that aggregates variations in spellings and typos to allow for more comprehensive searching."
   ]
  },
  {
   "cell_type": "code",
   "execution_count": null,
   "id": "8b43a807-382f-48af-9c85-b0e07e648441",
   "metadata": {},
   "outputs": [],
   "source": [
    "sgb = master_df.groupby(['bgSupplier','DisclosureId'],as_index=False).size()\n",
    "sgbname = master_df.groupby(['bgSupplier'])['Supplier'].agg(lambda x: x.value_counts().index[0])\n",
    "sgbname = sgbname.reset_index()\n",
    "mg = pd.merge(sgb,sgbname,on='bgSupplier',how='left')\n",
    "\n",
    "x = ['MISSING','Listed Above','Operator','Customer','Ingredient Container']\n",
    "mg = mg[~mg.Supplier.isin(x)]\n",
    "h = mg.Supplier.value_counts()\n",
    "print(f'Total number bgSupplier: {len(h)},\\n number with fewer than 20 disclosures: {len(h[h<20])},\\n with fewer than 5: {len(h[h<5])}')\n",
    "\n",
    "ax = mg.Supplier.value_counts()[:15].plot.barh(figsize=(8,5))\n",
    "ax.set_xlabel('Number of disclosures in FracFocus');\n",
    "ax.set_title('Top 15 Suppliers');\n",
    "plt.tight_layout();\n",
    "# plt.savefig(os.path.join(image_dir,'suppliers.jpg'),dpi=150)"
   ]
  },
  {
   "cell_type": "markdown",
   "id": "4c535582-0d08-4be9-b121-a9a340a0b30b",
   "metadata": {},
   "source": [
    "---\n",
    "<a id='data'></a>\n",
    "# Summary Data\n",
    "Data sets that offer quick access to the Open-FF data for commonly requested fields.  (If you have data you would like to access regularly, let us know and we can add a link to this section.)\n",
    "\n",
    "| Data Set with link | Description |\n",
    "| :--: | :-- |\n",
    "| [Water, Sand and BTEX use](scope/water_sand_btex.zip)|- all locations from 2011 to last major update in FracFocus<br>- Total base **water volume** (in gallons)<br><br> *Masses below are in pounds and are for disclosures for which mass is calculable.*<br>- **sand** (CASRN: 14808-60-7) mass<br>- **benzene** (CASRN: 71-43-2) mass<br>- **toluene** (CASRN: 108-88-3) mass<br>- **ethylbenzene** (CASRN: 100-41-4) mass<br>- **xylene**(CASRN: 1330-20-7) mass<br> - \"OperatorName\" is field as given in FracFocus.<br>- \"bgOperatorName\" is a generated field to standardize multiple names for the same company.<br>- \"APINumber\" is a 14-digit number (as text string) from the FracFocus; early disclosures with only 10-digits are filled out with 'XXXX'<br>- \"api10\" is a simple 10-digit version of the APINumber (as a text string)|\n"
   ]
  },
  {
   "cell_type": "code",
   "execution_count": null,
   "id": "ce52cde2-ae84-4ed6-bd6f-194dd1d2d18d",
   "metadata": {},
   "outputs": [],
   "source": []
  },
  {
   "cell_type": "code",
   "execution_count": null,
   "id": "e2a435da-c909-4f7f-b454-539859a054c0",
   "metadata": {},
   "outputs": [],
   "source": []
  }
 ],
 "metadata": {
  "kernelspec": {
   "display_name": "Python 3 (ipykernel)",
   "language": "python",
   "name": "python3"
  },
  "language_info": {
   "codemirror_mode": {
    "name": "ipython",
    "version": 3
   },
   "file_extension": ".py",
   "mimetype": "text/x-python",
   "name": "python",
   "nbconvert_exporter": "python",
   "pygments_lexer": "ipython3",
   "version": "3.10.12"
  }
 },
 "nbformat": 4,
 "nbformat_minor": 5
}
