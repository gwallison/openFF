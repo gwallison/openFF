{
 "cells": [
  {
   "cell_type": "code",
   "execution_count": null,
   "id": "9783b434-731f-438d-bf53-e09a653af90d",
   "metadata": {},
   "outputs": [],
   "source": [
    "import sys\n",
    "sys.path.insert(0,'c:/MyDocs/integrated/') # adjust to your setup\n",
    "\n",
    "%run \"catalog_support.py\" \n",
    "showHeader('Recent FracFocus Disclosures')"
   ]
  },
  {
   "cell_type": "code",
   "execution_count": null,
   "id": "2da62cdc-a207-4f17-834c-9809e6a5d357",
   "metadata": {},
   "outputs": [],
   "source": [
    "df = fh.get_df(os.path.join(hndl.curr_repo_dir,'full_df.parquet'))\n",
    "df = df[df.in_std_filtered]\n",
    "# df = pd.read_parquet('newdf.parquet')\n"
   ]
  },
  {
   "cell_type": "code",
   "execution_count": null,
   "id": "f3393d6a-1a5e-4449-9dfd-96c14f3ad4fc",
   "metadata": {},
   "outputs": [],
   "source": [
    "gb2 = df.groupby('bgCAS')['IngredientName'].agg(lambda x: x.value_counts().index[0])\n",
    "gb2 = gb2.reset_index()\n",
    "gb2.columns = ['bgCAS','comm_name']\n",
    "df = pd.merge(df,gb2,on='bgCAS',how='left')\n",
    "\n",
    "df['perc_rank'] = df.groupby('bgCAS')['calcMass'].rank(pct=True)*100"
   ]
  },
  {
   "cell_type": "code",
   "execution_count": null,
   "id": "97a60aa6-7739-4604-866f-85442f13498b",
   "metadata": {},
   "outputs": [],
   "source": [
    "#preamble to analysis\n",
    "# import pandas as pd\n",
    "# import numpy as np\n",
    "import matplotlib.pyplot as plt\n",
    "from pylab import gca, mpl\n",
    "%matplotlib inline\n",
    "from pandas.plotting import register_matplotlib_converters\n",
    "register_matplotlib_converters()\n",
    "import seaborn as sns\n",
    "import matplotlib.ticker\n",
    "from math import ceil\n",
    "\n",
    "from time import sleep\n",
    "from datetime import datetime, timedelta\n",
    "now = datetime.now()\n",
    "one_year_ago = now-timedelta(days=365)\n",
    "today = str(datetime.today())\n",
    "today = today.split()[0]\n",
    "todaytxt = datetime.today().strftime(\"%B %d, %Y\")\n"
   ]
  },
  {
   "cell_type": "code",
   "execution_count": null,
   "id": "cee5f789-ff2e-426e-8886-712e0aa56635",
   "metadata": {},
   "outputs": [],
   "source": [
    "updates = fh.get_df(os.path.join(hndl.curr_repo_dir,'curation_files','upload_dates.parquet'))\n",
    "updates['dt_added'] = pd.to_datetime(updates.date_added)\n",
    "\n",
    "new_dId = updates[updates.weekly_report=='NO'].DisclosureId.tolist()\n",
    "last_report = str(updates[updates.weekly_report=='DONE'].dt_added.max()).split()[0] \n",
    "\n",
    "last_report_dt = pd.to_datetime(last_report)\n",
    "last_report = last_report_dt.strftime(\"%B %d, %Y\")"
   ]
  },
  {
   "cell_type": "code",
   "execution_count": null,
   "id": "c363425b-7c90-46ab-980e-62b3c0f26c89",
   "metadata": {
    "tags": []
   },
   "outputs": [],
   "source": [
    "# updates[updates.weekly_report!='DONE']"
   ]
  },
  {
   "cell_type": "code",
   "execution_count": null,
   "id": "4740efda-7a92-4834-b2f1-1618d4fddd2c",
   "metadata": {},
   "outputs": [],
   "source": [
    "display(md(f\"\"\"## FracFocus disclosures published between {last_report} and {hndl.bulkdata_date}\"\"\"))"
   ]
  },
  {
   "cell_type": "markdown",
   "id": "88f6a638-e3c3-4b1c-b37b-118d592cd64c",
   "metadata": {},
   "source": [
    "This report summarizes the fracking jobs published recently at [FracFocus](https://fracfocus.org/), the industry-funded chemical disclosure instrument. It includes the Who, What and Where of recent fracking activity: the operating companies, the chemicals they use (including quantities), and where these jobs are located.\n",
    "\n",
    "This report is produced by [Open-FF](https://frackingchemicaldisclosure.wordpress.com/), an open source project, sponsored by [The FracTracker Alliance](https://www.fractracker.org/), to make the FracFocus data more usable. The nature of the fracking chemical data is complicated and can be difficult to make sense of; Open-FF aims to make it those data more digestible. In addition, FracFocus disclosures are plagued by inconsistencies, ambiguous and missing values and many obvious data errors; Open-FF flags and filters many of those problems. Our hope is that these reports give readers both big-picture perspectives of industry activities as well as enough detail to dig deeply into specifics such as individual chemicals, fracking job, or company."
   ]
  },
  {
   "cell_type": "markdown",
   "id": "8f8674b3-153b-4c68-9ae0-955e5929a215",
   "metadata": {},
   "source": [
    "   \n",
    "## In this report:\n",
    "\n",
    "### Overview of all FracFocus disclosures published this period by\n",
    "- [State](#state), [County](#county), [Operators](#operators), [Land type](#fed) \n",
    "- [Water use](#water)\n",
    "- [Recognized Chemicals of Concern](#chems)\n",
    "- [Proprietary claims](#proprietary) \n",
    "\n",
    "### [Detailed list](#detailed) of all disclosures including:\n",
    "- Location, company name, API number, water use, chemicals of concern, and Federal/Indian well indicator\n",
    "- Link to satellite image and Google map of fracking site\n",
    "\n",
    "#### [Disclosures with masses of Chemicals of Concern](#bigcomp) in the top 10% of FracFocus   "
   ]
  },
  {
   "cell_type": "markdown",
   "id": "14e9454b-fa51-43d3-a5ba-baa83ce2c10c",
   "metadata": {},
   "source": [
    "# Overview"
   ]
  },
  {
   "cell_type": "code",
   "execution_count": null,
   "id": "c275a4cb-e6dc-4fe0-aeb8-8794a6fee165",
   "metadata": {},
   "outputs": [],
   "source": [
    "display(md(f'### Since {last_report}, the number of new disclosures added to FracFocus is: '))\n",
    "display(md(f'> # {len(new_dId)}'))"
   ]
  },
  {
   "cell_type": "code",
   "execution_count": null,
   "id": "6462e3b3-d1d0-4088-ae37-9182186183b3",
   "metadata": {},
   "outputs": [],
   "source": [
    "# df.columns\n",
    "\n",
    "newdf = df[df.DisclosureId.isin(new_dId)].copy()\n",
    "# newdf.to_parquet('newdf.parquet')\n",
    "if len(newdf)>0:\n",
    "    newdf['FF_disc'] = newdf.apply(lambda x: th.getFFLink(x),axis=1)\n",
    "    newdf['map_link'] = newdf.apply(lambda x: th.getMapLink(x,'map'),axis=1)\n",
    "else:\n",
    "    newdf['map_link'] = ''\n",
    "    newdf['FF_disc'] = ''"
   ]
  },
  {
   "cell_type": "code",
   "execution_count": null,
   "id": "840337a7-4ada-408c-aa4d-789a2cd54d9e",
   "metadata": {},
   "outputs": [],
   "source": [
    "display(md(f'### Where these {len(new_dId)} fracking jobs occurred:'))"
   ]
  },
  {
   "cell_type": "markdown",
   "id": "98520af7-62ca-4d0f-a2de-064410c942a7",
   "metadata": {},
   "source": [
    "<a id='state'></a>\n",
    "###   ...  by state"
   ]
  },
  {
   "cell_type": "code",
   "execution_count": null,
   "id": "2bdaf824-c508-4528-be7e-3ab07b9e2f00",
   "metadata": {},
   "outputs": [],
   "source": [
    "gb = newdf.groupby(['StateName','CountyName','DisclosureId'],as_index=False)['CASNumber'].count().drop('CASNumber',axis=1)\n",
    "#len(gb)"
   ]
  },
  {
   "cell_type": "code",
   "execution_count": null,
   "id": "3a69bb52-a558-48c6-978b-f04b0edcdca0",
   "metadata": {},
   "outputs": [],
   "source": [
    "#print(gb.head())\n",
    "gb.groupby(['StateName'])['DisclosureId'].count().sort_values().plot.barh(ylabel='',#figsize=(10,6),\n",
    "                                                             title=\"Number of this week's disclosures, by state\",\n",
    "                                                             fontsize=12);"
   ]
  },
  {
   "cell_type": "markdown",
   "id": "21dfc4d6-84cc-4fb3-afc5-5f17fa16fd58",
   "metadata": {},
   "source": [
    "<a id='county'></a>\n",
    "###   ...  by county\n",
    "To see just one state, click on the state name in pie."
   ]
  },
  {
   "cell_type": "code",
   "execution_count": null,
   "id": "2d832525-f903-436e-95e2-d64332182b95",
   "metadata": {
    "tags": []
   },
   "outputs": [],
   "source": [
    "import plotly.express as px\n",
    "import plotly.offline as pyo\n",
    "gbb = newdf.groupby(['StateName','CountyName','DisclosureId'],as_index=False).size()\n",
    "gbb = gbb.groupby(['StateName','CountyName'],as_index=False).DisclosureId.count().rename({'DisclosureId':'disclosures'},axis=1)\n",
    "# # Set notebook mode to work in offline\n",
    "pyo.init_notebook_mode()\n",
    "fig = px.sunburst(gbb, path=['StateName', 'CountyName'], values='disclosures',\n",
    "                 width=700, height=700, title='States and Counties, share')\n",
    "\n",
    "fig.show()\n"
   ]
  },
  {
   "cell_type": "markdown",
   "id": "9b4c18a3-8838-47d2-9817-c0cfb4c131d8",
   "metadata": {},
   "source": [
    "### ... by Map\n",
    "After zooming in to see individual well markers, click on the marker to see details about the well and disclosure.\n",
    "\n",
    "Wells are not mapped if a disclosure's geolocation data is inconsistent with its state and county location. (Most of Alaska's disclosures are not represented by acceptable county names, and so are excluded.)\n",
    "\n",
    "The satellite image is probably older than the construction of the well pad; therefore the pad may not be in the image."
   ]
  },
  {
   "cell_type": "code",
   "execution_count": null,
   "id": "a414617e-8709-4dd8-bf9e-71df9171b4a9",
   "metadata": {},
   "outputs": [],
   "source": [
    "def PointMap(df):\n",
    "    gb = df[df.loc_within_county=='YES'].groupby('DisclosureId',as_index=False)[['bgLatitude','bgLongitude','APINumber','TotalBaseWaterVolume',\n",
    "                                 'date','OperatorName','WellName']].first()\n",
    "    gb['date'] = gb.date.astype('str')\n",
    "    gb.TotalBaseWaterVolume = gb.TotalBaseWaterVolume.map(lambda x: th.round_sig(x,3,guarantee_str='??')) + ' gallons'\n",
    "    gb.APINumber = gb.APINumber.astype('str')\n",
    "    # gb.drop('date',axis=1,inplace=True)\n",
    "    return mapping.create_integrated_point_map(gb,fields=['APINumber','TotalBaseWaterVolume','date','OperatorName','WellName'],\n",
    "                                               aliases=['API Number','Water Volume','Job End Date','Operator','Well Name'],\n",
    "                                              use_remote=True)\n",
    "\n",
    "PointMap(newdf)"
   ]
  },
  {
   "cell_type": "markdown",
   "id": "53cca87e-59dd-483c-b2fc-aec2da337450",
   "metadata": {},
   "source": [
    "<a id='operators'></a>\n",
    "### ...  by top Operators"
   ]
  },
  {
   "cell_type": "code",
   "execution_count": null,
   "id": "b28915a7-feef-4ad8-8421-a498be89202d",
   "metadata": {},
   "outputs": [],
   "source": [
    "gb = newdf.groupby(['OperatorName','DisclosureId'],as_index=False)['CASNumber'].count()\n",
    "gb.groupby(['OperatorName'])['DisclosureId'].count().sort_values()[-15:].plot.barh(figsize=(6,6),\n",
    "                                                                                    title='number of disclosures');"
   ]
  },
  {
   "cell_type": "markdown",
   "id": "c3736189-d681-4371-ad9b-3b3ab58984ed",
   "metadata": {},
   "source": [
    "### Operator list for all disclosures"
   ]
  },
  {
   "cell_type": "code",
   "execution_count": null,
   "id": "1513d63c-099c-4837-aa5e-01de63683ee7",
   "metadata": {},
   "outputs": [],
   "source": [
    "#gbs = newdf.groupby(['OperatorName','DisclosureId'],as_index=False)['StateName'].count()\n",
    "gb2 = newdf.groupby(['OperatorName'])['StateName'].apply(set)\n",
    "gb1 = gb.groupby(['OperatorName'],as_index=False)['DisclosureId'].count()\\\n",
    "        .sort_values(['DisclosureId','OperatorName'],ascending=False)\n",
    "gb1 = pd.merge(gb1,gb2,on='OperatorName',how='left')\n",
    "gb1.StateName = gb1.StateName.map(lambda x: th.xlate_to_str(x, sep= ', '))\n",
    "gb1.columns = ['Operator','Num disclosures','in States']\n",
    "\n",
    "iShow(gb1.reset_index(drop=True),columnDefs=[{'width':'100px', 'targets':\"_all\"}])\n",
    "\n"
   ]
  },
  {
   "cell_type": "markdown",
   "id": "7a021582-5209-474f-8738-022f14a95bf1",
   "metadata": {},
   "source": [
    "---\n",
    "<a id='water'></a>\n",
    "## Water use for this report's disclosures"
   ]
  },
  {
   "cell_type": "markdown",
   "id": "967af782-e115-4bb0-8d02-33e39003ab5a",
   "metadata": {},
   "source": [
    "Thick vertical lines in the graph indicate 25, 50 and 75% percentiles for this report's disclosures."
   ]
  },
  {
   "cell_type": "code",
   "execution_count": null,
   "id": "59fc07f5-331c-452d-a8c9-c31cd9f28b89",
   "metadata": {},
   "outputs": [],
   "source": [
    "import seaborn as sns\n",
    "sns.set(style=\"whitegrid\")\n",
    "wdf = newdf.groupby('DisclosureId',as_index=False)[['TotalBaseWaterVolume','StateName',\n",
    "                                                    'ws_perc_total','perc_pw',\n",
    "                                                    'perc_sw_high_TDS','perc_sw_low_TDS',\n",
    "                                                    'perc_gw_high_TDS','perc_gw_low_TDS',\n",
    "                                                    'perc_other_high_TDS','perc_other_low_TDS']].first()\n",
    "sn = wdf.groupby('StateName',as_index=False)['DisclosureId'].count().astype('str')\n",
    "sn.columns = ['StateName', 'cnt']\n",
    "wdf = pd.merge(wdf,sn,on='StateName',how='left')\n",
    "wdf['State_Num'] = wdf.StateName+'__'+wdf.cnt\n",
    "wdf = wdf.sort_values('cnt',ascending=False)\n",
    "fig = plt.figure(figsize=(15,8))\n",
    "ax = sns.stripplot(x=wdf.TotalBaseWaterVolume,y=wdf.State_Num,jitter=.2,alpha=.4,size=10)\n",
    "plt.xlabel(f'water volume (gallons):',fontsize=14);\n",
    "plt.title(f'Water Use for disclosures published since the last report',fontsize=16)\n",
    "ax.set(xscale='log')\n",
    "ax.set(xlim=(max(10000,wdf.TotalBaseWaterVolume.min()),wdf.TotalBaseWaterVolume.max()*1.2))\n",
    "ax.grid(axis='y')\n",
    "ax.tick_params(axis=\"x\", labelsize=14)\n",
    "ax.tick_params(axis=\"y\", labelsize=14)\n",
    "locmaj = matplotlib.ticker.LogLocator(base=10,subs='all') \n",
    "ax.xaxis.set_major_locator(locmaj)\n",
    "\n",
    "lns = list(np.percentile(wdf[wdf.TotalBaseWaterVolume>0].TotalBaseWaterVolume,[25,50,75]))\n",
    "ax.set_ylim(-0.7,len(sn)-0.3)\n",
    "for l in lns:\n",
    "    plt.vlines(l,-0.7,len(sn),color='black')\n",
    "totgal = wdf.TotalBaseWaterVolume.sum()\n",
    "\n",
    "s = f' -- number of empty TBWV: {(~(wdf.TotalBaseWaterVolume>0)).sum()}\\n'\n",
    "s+= ' -- 25%:  {:,} gallons\\n'.format(int(lns[0]))\n",
    "s+= ' -- 50%:  {:,} gallons\\n'.format(int(lns[1]))\n",
    "s+= ' -- 75%:  {:,} gallons\\n'.format(int(lns[2]))\n",
    "s+= ' -- max:  {:,} gallons\\n'.format(int(wdf.TotalBaseWaterVolume.max()))\n",
    "s+= ' -- TOTAL {:,} gallons\\n'.format(int(totgal))\n",
    "print(s)\n"
   ]
  },
  {
   "cell_type": "markdown",
   "id": "7208af65-0f06-44de-8732-bd95ed28d329",
   "metadata": {},
   "source": [
    "## Reported Water Sources"
   ]
  },
  {
   "cell_type": "code",
   "execution_count": null,
   "id": "1e59a0ff-ab8e-416e-9f83-270530891370",
   "metadata": {
    "tags": []
   },
   "outputs": [],
   "source": [
    "wdf = wdf[wdf.ws_perc_total==100]\n",
    "\n",
    "wdf['perc_sw'] = (wdf.perc_sw_low_TDS + wdf.perc_sw_high_TDS)\n",
    "wdf['perc_gw'] = (wdf.perc_gw_low_TDS + wdf.perc_gw_high_TDS)\n",
    "wdf['perc_other'] = (wdf.perc_other_low_TDS + wdf.perc_other_high_TDS)\n",
    "\n",
    "gb = wdf.groupby('StateName', as_index=False)[['ws_perc_total','perc_pw',\n",
    "                                                    'perc_sw',\n",
    "                                                    'perc_gw',\n",
    "                                                    'perc_other']].sum()\n",
    "gb.perc_pw = gb.perc_pw/gb.ws_perc_total*100\n",
    "gb.perc_sw = gb.perc_sw/gb.ws_perc_total*100\n",
    "gb.perc_gw = gb.perc_gw/gb.ws_perc_total*100\n",
    "gb.perc_other = gb.perc_other/gb.ws_perc_total*100\n",
    "gb['num_disclosures'] = gb.ws_perc_total/100\n",
    "gb = gb.sort_values('num_disclosures', ascending=False)\n",
    "gb[['StateName','num_disclosures','perc_sw','perc_gw','perc_pw','perc_other']].rename({'perc_sw':'% Surface Water',\n",
    "                                                                                      'perc_gw':'% Ground Water',\n",
    "                                                                                      'perc_pw':'% Produced Water',\n",
    "                                                                                      'perc_other':'% Other'},axis=1)\n"
   ]
  },
  {
   "cell_type": "markdown",
   "id": "1af6f443-cd9f-407c-812c-2ed85a95d256",
   "metadata": {},
   "source": [
    "<a id='chems'></a>\n",
    "## Recognized Chemicals of Concern used in these disclosures\n",
    "The following table is based on lists of chemicals that have health or environmental effects: SDWA, CWA, Proposition 65, PFAS and TEDX. "
   ]
  },
  {
   "cell_type": "code",
   "execution_count": null,
   "id": "546911be-ca1e-4385-a04a-ad5b50b27d5f",
   "metadata": {},
   "outputs": [],
   "source": [
    "# new chemicals of concern table\n",
    "newdf['on_list'] = np.where(newdf.is_on_CWA,'CWA; ','')\n",
    "newdf.on_list = np.where(newdf.is_on_DWSHA,newdf.on_list+'DWSHA; ',newdf.on_list)\n",
    "newdf.on_list = np.where(newdf.is_on_TEDX,newdf.on_list+'TEDX; ',newdf.on_list)\n",
    "newdf.on_list = np.where(newdf.is_on_prop65,newdf.on_list+'prop65; ',newdf.on_list)\n",
    "newdf.on_list = np.where(newdf.is_on_PFAS_list,newdf.on_list+'PFAS; ',newdf.on_list)\n",
    "# newdf.on_list = np.where(newdf.is_on_volatile_list,newdf.on_list+'Volatile; ',newdf.on_list)\n",
    "\n",
    "chemconcern = newdf[~(newdf.on_list=='')].groupby('bgCAS',as_index=False)[['comm_name']].first()\\\n",
    "                     .rename({'comm_name':'Chemical Name'},axis=1)\n",
    "gb1 =  newdf[~(newdf.on_list=='')].groupby('bgCAS',as_index=False)[['IngredientName']].count().rename({'IngredientName':'record count'},\n",
    "                                                                                                       axis=1)\n",
    "gb2 = newdf[~(newdf.on_list=='')].groupby('bgCAS',as_index=False)[['on_list']].first()\n",
    "gb3 = newdf[~(newdf.on_list=='')].groupby('bgCAS',as_index=False)[['calcMass']].max().rename({'calcMass':'Largest Mass'},\n",
    "                                                                                               axis=1)\n",
    "gb4 = newdf[~(newdf.on_list=='')].groupby('bgCAS',as_index=False)[['perc_rank']].max().rename({'perc_rank':'% Rank of Largest Mass'},\n",
    "                                                                                               axis=1)\n",
    "\n",
    "chemconcern = pd.merge(chemconcern,gb1,on='bgCAS',how='left')\n",
    "chemconcern = pd.merge(chemconcern,gb2,on='bgCAS',how='left')\n",
    "chemconcern = pd.merge(chemconcern,gb3,on='bgCAS',how='left')\n",
    "chemconcern = pd.merge(chemconcern,gb4,on='bgCAS',how='left')\n",
    "l=[]\n",
    "for i in range(len(chemconcern)):\n",
    "    l.append('c'+str(i+1).zfill(2))\n",
    "chemconcern['CID'] = pd.Series(l)\n",
    "chemconcern['CAS Number'] = chemconcern.bgCAS.map(lambda x: th.getCatLink(x,x,use_remote=True))\n",
    "print(f'Total number of records on Chemical of Concern list for these disclosures: {chemconcern[\"record count\"].sum()}')\n",
    "iShow(chemconcern[['CID','CAS Number','Chemical Name','record count',\n",
    "                   'Largest Mass','% Rank of Largest Mass',\n",
    "                   'on_list']].reset_index(drop=True),\n",
    "      index=False,maxBytes=0,classes=\"display compact cell-border\")"
   ]
  },
  {
   "cell_type": "markdown",
   "id": "de71291a-dfde-4a50-b71e-c5de267b5ed1",
   "metadata": {},
   "source": [
    "|Explanation of columns in the index above|\n",
    "| :---: |\n",
    "\n",
    "\n",
    "| Column      | Description |\n",
    "| :----: | :-------- |\n",
    "|*CID*| is the chemical ID used in the disclosure table | \n",
    "|*CAS Number*| is the CAS registration number of the chemical. Click on the number for a summary of this chemical for all of FracFocus.|  \n",
    "|*Chemical Name*| is one of the common names for the material|\n",
    "|*record count* |indicates the number of records in this week's disclosures. A given chemical may appear more than once in a disclosure|\n",
    "|*Largest mass*| is the single greatest mass of the chemical in this week's disclosures (in pounds)|\n",
    "|*% Rank of largest Mass*|how the largest mass from this week compares to the rest of FracFocus data (through last update). Ex. 95.0 means that this mass was in the top 5% of all uses ever recorded in FracFocus. If there are records with values of 90% or more, a list of all disclosures are in a [table](#bigcomp) later in this report. \n",
    "|*on_list*|indicates which of the following lists the chemical is on.  Type the name of the list into the Search box to limit to those chemicals.<br> - **CWA**: indicates that the chemical is on the [Clean Water Act list](https://comptox.epa.gov/dashboard/chemical_lists/CWA311HS) as compiled in EPA's CompTox<br>- **DWSHA**: indicated that the chemical is on the EPA's [Drinking Water Safety and Health Advisory](https://comptox.epa.gov/dashboard/chemical_lists/EPADWS) list<br>- **TEDX**: indicates that the chemical is on [The Endocrine Disruption Exchange](https://endocrinedisruption.org) list<br>- **prop_65**: indicates that the chemical is on [California's Proposition 65](https://oehha.ca.gov/proposition-65/proposition-65-list) list<br>- **PFAS**: indicates that the chemical is on EPA's comprehensive list of PFAS related compounds|\n",
    "\n"
   ]
  },
  {
   "cell_type": "code",
   "execution_count": null,
   "id": "cace9b62-04ae-43d2-9e04-20fac6144de2",
   "metadata": {},
   "outputs": [],
   "source": [
    "newdf['proprietary'] = newdf.bgCAS=='proprietary'\n",
    "gb1 = newdf.groupby('DisclosureId',as_index=False)['PercentHFJob'].sum()\n",
    "gb1['in_perc_tolerance'] = (gb1.PercentHFJob<110)&(gb1.PercentHFJob>90)\n",
    "\n",
    "gb2 = newdf[newdf.proprietary].groupby('DisclosureId',as_index=False)['calcMass'].sum()\n",
    "gb2 = gb2.rename({'calcMass':'prop_mass'},axis=1)\n",
    "\n",
    "gb = newdf.groupby(['DisclosureId'],as_index=False)[['CountyName','StateName',\n",
    "                                                    'OperatorName','APINumber',\n",
    "                                                    'TotalBaseWaterVolume','ws_perc_total','TVD',\n",
    "                                                    # 'FederalWell','IndianWell',\n",
    "                                                    'date','map_link','FF_disc']].first()\n",
    "gb = pd.merge(gb,gb1[['DisclosureId','PercentHFJob']],on='DisclosureId',how='left')\n",
    "gb = pd.merge(gb,gb2,on='DisclosureId',how='left')\n"
   ]
  },
  {
   "cell_type": "code",
   "execution_count": null,
   "id": "5d33a91d-528e-416a-a065-a94bf8e29196",
   "metadata": {},
   "outputs": [],
   "source": [
    "newdf = pd.merge(newdf,chemconcern[['bgCAS','CID']],on='bgCAS',how='left')"
   ]
  },
  {
   "cell_type": "code",
   "execution_count": null,
   "id": "af6884b0-1cd5-4f04-be91-32609a3c1021",
   "metadata": {},
   "outputs": [],
   "source": [
    "def sort_id(st):\n",
    "    l = list(st)\n",
    "    l.sort()\n",
    "    return l\n",
    "weekchem = newdf[newdf.bgCAS.isin(chemconcern.bgCAS.tolist())].groupby(['DisclosureId'])['CID'].apply(set).reset_index()\n",
    "weekchem.CID = weekchem.CID.map(lambda x: sort_id(x))\n",
    "newdf = newdf.drop('CID',axis=1)\n",
    "disc = pd.merge(gb,weekchem,on='DisclosureId',how='left')"
   ]
  },
  {
   "cell_type": "markdown",
   "id": "50a9c498-a157-4906-97f2-edf894c1d0cd",
   "metadata": {},
   "source": [
    "<a id='proprietary'></a>\n",
    "# Proprietary labeling \n",
    "FracFocus allows disclosures to hide the identity of chemicals that companies claim are business secrets.  This practice has been controversial since the beginning of FracFocus.  Some changes in format (the 'system approach') were made to purportedly reduce the use of proprietary claims.  Nevertheless, they are still commonly employed.  The following summarizes how much the past week's disclosures hid chemical identity with these claims. A detailed disclosure listing later in this report specifies the percentage of chemical records that are hidden by these claims for every disclosure.  They range from zero percent to 70% or even more.   \n",
    "\n",
    "As of version 10, Open-FF detects proprietary claims by both the CASNumber and IngredientName fields.  \n"
   ]
  },
  {
   "cell_type": "code",
   "execution_count": null,
   "id": "e244d905-aa79-4c57-b482-f7823c1f7ca6",
   "metadata": {},
   "outputs": [],
   "source": [
    "numprop = newdf.proprietary.sum()\n",
    "display(md(f'## Total number of proprietary claims since {last_report}: {numprop:,} records'))\n",
    "display(md('---'))"
   ]
  },
  {
   "cell_type": "code",
   "execution_count": null,
   "id": "cff3cd1e-7bf6-4c95-b7b8-64112f26f122",
   "metadata": {
    "tags": []
   },
   "outputs": [],
   "source": [
    "# def proprietary_bars(df,plot_title='TEST'):\n",
    "#     df = df.copy()\n",
    "#     df['year'] = df.date.dt.year\n",
    "#     prop = df.bgCAS=='proprietary'\n",
    "#     gb = df[prop].groupby('DisclosureId',as_index=False)['bgCAS'].count().rename({'bgCAS':'numprop'},axis=1)\n",
    "#     gb1 = df[df.is_valid_cas].groupby('DisclosureId',as_index=False)['bgCAS'].count().rename({'bgCAS':'numvalid'},axis=1)\n",
    "#     gb2 = df.groupby('DisclosureId',as_index=False)['date'].first()\n",
    "#     mg = pd.merge(gb2,gb,on='DisclosureId',how='left')\n",
    "#     mg = pd.merge(mg,gb1,on='DisclosureId',how='left')\n",
    "#     mg.fillna(0,inplace=True) # there will be disclosures with 0 proprietary; need to fillb\n",
    "#     mg['percProp'] = (mg.numprop / mg.numvalid) * 100\n",
    "\n",
    "#     mg['propCut'] = pd.cut(mg.percProp,right=False,bins=[0,0.0001,10,25,50,101],\n",
    "#                           labels=['no proprietary designations','up to 10% of records\\nare proprietary designations',\n",
    "#                                   'between 10 and 25% of records\\nare proprietary designations',\n",
    "#                                   'between 25 and 50% of records\\nare proprietary designations',\n",
    "#                                   'greater than 50% of records\\nare proprietary designations'])\n",
    "    \n",
    "#     # mg.propCut.value_counts(sort=False).plot(kind='barh',colormap='Reds')\n",
    "    \n",
    "#     import seaborn as sns\n",
    "#     t = mg.propCut.value_counts(sort=False).reset_index()\n",
    "#     totcnt = t.propCut.sum()\n",
    "#     t['prop_perc'] = t.propCut/totcnt *100\n",
    "#     ax = sns.barplot(data=t,y='index',x='propCut',palette='Reds',orient=\"h\")\n",
    "#     ax.set_xlabel(\"Number of disclosures\")\n",
    "#     ax.set_ylabel(\"\")\n",
    "#     ax.set_title(plot_title)\n",
    "#     # ax.set_xlim(right=58000)\n",
    "#     ax.invert_yaxis()\n",
    "    \n",
    "#     perc_lst = t.prop_perc.tolist()\n",
    "#     for i,p in enumerate(ax.patches):\n",
    "#         width = p.get_width()\n",
    "#         #nw = f'  {round_sig(width,8)}'\n",
    "#         nw = f'  {float(round(perc_lst[i],1))}%'\n",
    "#         plt.text(p.get_width(), p.get_y()+0.55*p.get_height(),\n",
    "#                  nw,\n",
    "#                  ha='left', va='center',fontsize=12)\n",
    "\n",
    "prop = newdf.bgCAS=='proprietary'\n",
    "gb = newdf[prop].groupby('DisclosureId',as_index=False)['bgCAS'].count().rename({'bgCAS':'numprop'},axis=1)\n",
    "gb1 = newdf[newdf.is_valid_cas].groupby('DisclosureId',as_index=False)['bgCAS'].count().rename({'bgCAS':'numvalid'},axis=1)\n",
    "gb2 = newdf.groupby('DisclosureId',as_index=False)['date'].first()\n",
    "mg = pd.merge(gb2,gb,on='DisclosureId',how='left')\n",
    "mg = pd.merge(mg,gb1,on='DisclosureId',how='left')\n",
    "mg.fillna(0,inplace=True) # there will be disclosures with 0 proprietary; need to fillb\n",
    "mg['perc_proprietary'] = (mg.numprop / mg.numvalid) * 100\n",
    "\n",
    "\n",
    "c_plots.proprietary_bars(mg,plot_title='How heavily are Trade Secrets used in these new disclosures?')"
   ]
  },
  {
   "cell_type": "code",
   "execution_count": null,
   "id": "dfdfd58d-479d-46e6-9ea6-c4733d2cdec1",
   "metadata": {},
   "outputs": [],
   "source": [
    "# proprietary summaries\n",
    "newdf['clean_cas'] = (newdf.is_valid_cas)&~(newdf.bgCAS=='proprietary')\n",
    "pgb = newdf.groupby('DisclosureId',as_index=False)[['proprietary','clean_cas']].sum()\n",
    "pgb['fraction_prop'] = pgb.proprietary/(pgb.clean_cas+pgb.proprietary)\n",
    "pgb['percent_proprietary'] = (pgb.fraction_prop)*100\n",
    "#print(pgb.percent_proprietary)\n",
    "# ax = pgb.percent_proprietary.hist()\n",
    "# ax.set_ylabel('Number of disclosures')\n",
    "# ax.set_xlabel('Percent of records that are proprietary')\n",
    "# ax.set_title('Percent of records in a disclosure that are claimed as \"proprietary\"',fontsize=15);"
   ]
  },
  {
   "cell_type": "code",
   "execution_count": null,
   "id": "84953abf-30ee-4ae2-9cb7-df4715b84dd3",
   "metadata": {},
   "outputs": [],
   "source": [
    "# # proprietary summaries by state\n",
    "# sts = newdf.StateName.unique().tolist()\n",
    "# sts.sort()\n",
    "# newdf['cas_stat'] = np.where(newdf.proprietary,'proprietary','other')\n",
    "# newdf['cas_stat'] = np.where(newdf.clean_cas,'chem identified',newdf.cas_stat)\n",
    "# if len(sts)>4:\n",
    "#     griddim = (ceil(len(sts)/4),4)\n",
    "#     emp = griddim[0]*griddim[1] - len(sts)\n",
    "\n",
    "#     fig, axes = plt.subplots(ceil(len(sts)/4), 4, figsize=(15, 10))\n",
    "#     for i,st in enumerate(sts):\n",
    "#         ax = axes[i // 4, i % 4]\n",
    "#         cond = (newdf.StateName==st)&(~(newdf.cas_stat=='other'))\n",
    "#         newdf[cond].groupby(['cas_stat'])['DisclosureId'].count().plot.pie(ylabel='',fontsize=10,\n",
    "#                                                                       ax = ax, title=st)\n",
    "#     if emp>0:\n",
    "#         for i in range(emp):\n",
    "#             fig.delaxes(axes.flatten()[-(i+1)])    \n",
    "# else:\n",
    "#     fig,axes = plt.subplots(1,len(sts),figsize=(10,10))\n",
    "#     for i,st in enumerate(sts):\n",
    "#         ax = axes[i]\n",
    "#         cond = (newdf.StateName==st)&(~(newdf.cas_stat=='other'))\n",
    "#         newdf[cond].groupby(['cas_stat'])['DisclosureId'].count().plot.pie(ylabel='',fontsize=10,\n",
    "#                                                                       ax = ax, title=st)\n"
   ]
  },
  {
   "cell_type": "code",
   "execution_count": null,
   "id": "33938abb-62c6-4c3c-9bf4-0dcc8ae6886b",
   "metadata": {},
   "outputs": [],
   "source": [
    "# <a id='proprietary_names'></a>\n",
    "# ## Ingredient names used for proprietary records for this report's disclosures\n",
    "# Because these are proprietary claims, the reported ingredient name will not be specific, usually just a general class.\n",
    "\n",
    "# In some cases, companies do not report the PercentHFJob or report 0.0% for proprietary records. We use 0.0 pounds for those records in the following table."
   ]
  },
  {
   "cell_type": "code",
   "execution_count": null,
   "id": "63fb1862-95fb-4b9d-8bc8-d2dc08e5b14d",
   "metadata": {},
   "outputs": [],
   "source": [
    "# newdf['ing'] = newdf.IngredientName.str.strip().str.lower()\n",
    "# tmp = pd.DataFrame(newdf[newdf.proprietary].value_counts('ing'))\n",
    "# promass = newdf[newdf.proprietary].groupby('ing',as_index=False)['calcMass'].sum()\n",
    "# promass.calcMass = promass.calcMass.astype('int')\n",
    "# tmp = pd.merge(tmp,promass,on='ing',how='left')\n",
    "# tmp = tmp.reset_index(drop=True)\n",
    "# propops = newdf[newdf.proprietary].groupby('ing')['bgOperatorName'].apply(set)\n",
    "# tmp = pd.merge(tmp,propops,on='ing',how='left')\n",
    "# tmp.bgOperatorName = tmp.bgOperatorName.map(lambda x: th.xlate_to_str(x,'; ',trunc=True,tlen=20,maxlen=10))\n",
    "# tmp = tmp.sort_values([0,'calcMass'],ascending=False)\n",
    "# tmp.columns=['Reported Ingredient Name','Num of records','total proprietary mass (pounds)','Operators using this label']\n",
    "# #tmp.style.hide_index().format({'total proprietary mass (pounds)':\"{:,}\"})\n",
    "# tmp = tmp.reset_index(drop=True)\n",
    "\n",
    "# opt.classes = ['display','compact']\n",
    "# opt.columnDefs=[{\"width\": \"1200px\", \"targets\": \"Num of records\"}]\n",
    "# iShow(tmp,maxBytes=0)"
   ]
  },
  {
   "cell_type": "markdown",
   "id": "fa4bb219-c7e2-4379-b075-40d4917f4927",
   "metadata": {},
   "source": [
    "---\n",
    "# Detailed disclosure listings"
   ]
  },
  {
   "cell_type": "markdown",
   "id": "cfe89ee7-7cfb-4f70-b639-ec5144a83ccf",
   "metadata": {},
   "source": [
    "### Notes:\n",
    "\n",
    "**Listing of chemicals in individual disclosures:**  In the table below, individual fracking disclosures are identified by APINumber.  If you are interested in seeing the details of the raw data, use that APINumber at the FracFocus [\"Find a Well\" site](http://fracfocusdata.org/DisclosureSearch/Search.aspx).  That search site will serve pdf files of individual fracking events to your computer with most of the same raw data available used here. However,  mass of chemicals is not available from these pdfs.\n",
    "\n",
    "**Maps:**  In the table below, a link is provided to a Google map/satellite view of the location provided in the disclosure (click on the APINumber).   Many recently published fracking sites are **newer** than the satellite image that Google uses, so the well pad may not be visible.  However, you can still view the geographic context of the drilling site."
   ]
  },
  {
   "cell_type": "markdown",
   "id": "126b5d81-06b1-4dd7-9b8c-d87f6e09f772",
   "metadata": {},
   "source": [
    "<a id='detailed'></a>\n",
    "## Listing of all new disclosures published since last report\n",
    "\n",
    "|Columns descriptions and some issues to look for |\n",
    "| :--- |\n",
    "\n",
    "- **FID** - Fracking job ID number (used in following table to identify heavy use of chemical)\n",
    "- **Water volume** - volume in gallons of the water base fluid used in a fracking job\n",
    "  - Especially large fracking carrier (>30 million gallons)\n",
    "  - No data or a report of ZERO gallons of water. This prevents the calculation of chemical mass, though direct reporting may still be available\n",
    "- **TVD** - True vertical depth (feet); Some companies may be reporting both veritcal and horizontal lengths in this number.\n",
    "  - No data or a report of ZERO feet.\n",
    "  - Deeper than deepest oil well (35,050 ft.): likely error\n",
    "- **Percent proprietary** - proportion of chemical records for which identity is hidden\n",
    "- **End date** - Last day of job\n",
    "  - many states require disclosure within 30 to 90 days. \n",
    "  - occasionally a reported end date is in the future, indicating mis-representation\n",
    "- **Total percentage (\"perc sum\")** - the sum of all records in a disclosure should be 100% (within a tolerance)\n",
    "  - if less than 90%, disclosure is probably incomplete\n",
    "  - greater than 110% - often caused by a \"system approach\"  entry error: duplicates of some chemical records or hidden percentages in the tradename/purpose/supplier section. \n",
    "- **CIDs in disclosure** - see the Chemicals of Concern table above for more information\n",
    "- **APINumber** - click on this link to view FracFocus's online disclosure and PDF.\n",
    "- **map_link.** - Google map view of the reported location. While location data can be wrong, be aware that the well pad may be newer than the Google satellite view and therefore not in the image."
   ]
  },
  {
   "cell_type": "code",
   "execution_count": null,
   "id": "fabba162-493d-4eec-9ec9-03e28b0888a0",
   "metadata": {},
   "outputs": [],
   "source": [
    "#gb['Water_vol_gallons'] = gb.TotalBaseWaterVolume.map(lambda x: round_sig(x,3))\n",
    "# disc['Type_well'] = np.where(disc.FederalWell=='True','Federal','')\n",
    "# disc.Type_well= np.where(disc.IndianWell=='True','Indian',disc.Type_well)\n",
    "# disc.Type_well= np.where((disc.IndianWell=='True')&(disc.FederalWell=='True'),'Fed & Indian',disc.Type_well)\n",
    "# gb = gb.drop(['TotalBaseWaterVolume','FederalWell','IndianWell'],axis=1)\n",
    "gbn = disc.copy()\n",
    "\n",
    "gbn['datestr'] = gbn.date.apply(lambda x: x.strftime('%Y-%m-%d'))\n",
    "gbn = pd.merge(gbn,pgb[['DisclosureId','fraction_prop']],on='DisclosureId',how='left')\n",
    "gbn = gbn.sort_values(['StateName','CountyName','OperatorName']).reset_index()\n",
    "gbn['ws'] = gbn.ws_perc_total>0\n",
    "l=[]\n",
    "for i in range(len(gbn)):\n",
    "    #print(i,row.StateName,row.CountyName)\n",
    "    l.append('F'+str(i+1).zfill(3))\n",
    "gbn['FID'] = pd.Series(l)\n",
    "if len(gbn)>0:\n",
    "    t = gbn[['FID','StateName','CountyName','OperatorName','FF_disc','map_link','datestr',\n",
    "            'TotalBaseWaterVolume','ws','TVD','PercentHFJob',\n",
    "            'fraction_prop','CID']].copy()\n",
    "    t.CID = t.CID.map(lambda x: th.xlate_to_str(x))\n",
    "    #t.APINumber = t.APINumber.map(lambda x: make_anchor(x))\n",
    "    t.TotalBaseWaterVolume.fillna(0,inplace=True)\n",
    "    t.TotalBaseWaterVolume = t.TotalBaseWaterVolume.astype('int')\n",
    "    t.TVD = t.TVD.astype('int')\n",
    "    t.PercentHFJob= t.PercentHFJob.astype('int')\n",
    "\n",
    "    t = t.rename({'StateName':'State',\n",
    "                  'CountyName':'County',\n",
    "                  'OperatorName':'Operator',\n",
    "                  #'APINumber':'API Number',\n",
    "                  'FF_disc':'API Number (link to FF)',\n",
    "                  'datestr':'end date',\n",
    "                  'pub_delay':'pub delay days',\n",
    "                  'TotalBaseWaterVolume':'Water volume (gal)',\n",
    "                  'TVD':'TVD (feet)',\n",
    "                  'PercentHFJob':'perc sum',\n",
    "                  'map_link':'Google map',\n",
    "                  'ws':'water source reported',\n",
    "                  # 'Type_well':'Type Land',\n",
    "                  'fraction_prop':'fraction proprietary',\n",
    "                  'CID':'CIDs in disclosure'},\n",
    "                  #'prop_mass':'proprietary mass pounds'},\n",
    "                  axis=1)\n",
    "    iShow(t,maxBytes=0,classes=\"display compact cell-border\")"
   ]
  },
  {
   "cell_type": "code",
   "execution_count": null,
   "id": "08e49672-a35e-4536-8580-cca891cc8bd6",
   "metadata": {},
   "outputs": [],
   "source": [
    "have_big_concerns = False\n",
    "if chemconcern['% Rank of Largest Mass'].max() > 90:\n",
    "    have_big_concerns = True\n",
    "    ccbgcas = chemconcern.bgCAS.unique().tolist()\n",
    "    bigcomp = newdf[newdf.bgCAS.isin(ccbgcas)].copy()\n",
    "    bigcomp = bigcomp[bigcomp['perc_rank']>90]\n",
    "    bigcomp = bigcomp[['APINumber','bgCAS','comm_name','calcMass','perc_rank','bgOperatorName','FF_disc']]\n"
   ]
  },
  {
   "cell_type": "markdown",
   "id": "9bcf75e7-37e1-4575-8cef-3e57e6a5b545",
   "metadata": {},
   "source": [
    "<a id='bigcomp'></a>\n",
    "## Disclosures with chemicals-of-concern masses in the top 10% of all FracFocus"
   ]
  },
  {
   "cell_type": "code",
   "execution_count": null,
   "id": "4f3a5a86-649c-4dcc-83a9-bfa2daf77a2c",
   "metadata": {},
   "outputs": [],
   "source": [
    "if have_big_concerns:\n",
    "    #display(md('## Disclosures with chemicals-of-concern masses in the top 10% of all FracFocus'))\n",
    "    display(md('A disclosure may have more than one chemical record in the top 10% for a given CASNumber. This could be due to more than one Trade-named product using that chemical.'))\n",
    "    mg = pd.merge(bigcomp,gbn[['FID','APINumber','OperatorName']],on='APINumber',how='left')\n",
    "    bigc = mg.reset_index(drop=True)\n",
    "\n",
    "    bigc.columns = ['APINumber_raw','CAS Number','Name','Mass of chemical','Percent ranking in FracFocus','bgOperatorName','API Number','FID','Operator']\n",
    "    iShow(bigc[['FID','API Number','Operator','CAS Number','Name','Mass of chemical','Percent ranking in FracFocus']],\n",
    "          maxBytes=0,classes=\"display compact cell-border\")\n",
    "else:\n",
    "    display(md('## No disclosures with chemicals-of-concern masses in the top 10% of FracFocus'))"
   ]
  },
  {
   "cell_type": "code",
   "execution_count": null,
   "id": "682d56d2-e09f-444f-807c-bfb4f2e32125",
   "metadata": {},
   "outputs": [],
   "source": []
  },
  {
   "cell_type": "code",
   "execution_count": null,
   "id": "5dd5d9a8-d29e-418f-8194-f6143d4206d4",
   "metadata": {},
   "outputs": [],
   "source": []
  }
 ],
 "metadata": {
  "hide_input": false,
  "kernelspec": {
   "display_name": "Python 3 (ipykernel)",
   "language": "python",
   "name": "python3"
  },
  "language_info": {
   "codemirror_mode": {
    "name": "ipython",
    "version": 3
   },
   "file_extension": ".py",
   "mimetype": "text/x-python",
   "name": "python",
   "nbconvert_exporter": "python",
   "pygments_lexer": "ipython3",
   "version": "3.10.12"
  }
 },
 "nbformat": 4,
 "nbformat_minor": 5
}
