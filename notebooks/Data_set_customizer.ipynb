{
 "cells": [
  {
   "cell_type": "code",
   "execution_count": 6,
   "id": "e8c934aa-afa1-462c-b211-31b6da352944",
   "metadata": {
    "tags": []
   },
   "outputs": [
    {
     "data": {
      "text/markdown": [
       "## Welcome to the Open-FF Notebook Tools\n",
       "This file is one of the tools developed to interact with Open-FF data. While it is a \"coder's notebook,\" it requires NO programming skills.  Pompts will guide you throughout the notebook indicating is needed in each section.\n",
       "\n",
       "These noteboks are designed to accomplish well-defined tasks.  More general exploration is probably easier with the [Data Browser](https://storage.googleapis.com/open-ff-browser/Open-FF_Catalog.html). On the other hand, more custom analysis will probably require downloading data sets targeted to your task.  (If you need assistance with the latter, feel free to contact us.)\n",
       "\n",
       "This notebooks is designed to be used in the [Google Colaboratory](https://colab.google/) service, a free platform that lets users run notebooks without needing to setup complicated \"environments.\"  We will assume you are using this notebook on Colab and instructions provided below.  \n"
      ],
      "text/plain": [
       "<IPython.core.display.Markdown object>"
      ]
     },
     "metadata": {},
     "output_type": "display_data"
    }
   ],
   "source": [
    "import pandas as pd\n",
    "from IPython.display import HTML, display\n",
    "from IPython.display import Markdown as md\n",
    "with open('welcome.md','r') as f:\n",
    "    s = f.read()\n",
    "display(md(s))"
   ]
  },
  {
   "cell_type": "markdown",
   "id": "75254837-dc42-46ff-b311-56532f56e6d8",
   "metadata": {},
   "source": [
    "# Open-FF data set customizer\n",
    "Use this notebook to convert Open-FF's full dataframe (that is in \"parquet\" format) into a different format and, if desired, filter the data to a smaller subset."
   ]
  },
  {
   "cell_type": "code",
   "execution_count": null,
   "id": "d1c232ad-223e-4efa-8baa-04e8b9885642",
   "metadata": {
    "tags": []
   },
   "outputs": [],
   "source": [
    "import pandas as pd\n",
    "\n",
    "df_url = \"https://storage.googleapis.com/open-ff-common/repos/current_repo/full_df.parquet\"\n",
    "df = pd.read_parquet(df_url, columns=['bgCAS','UploadKey'])"
   ]
  }
 ],
 "metadata": {
  "kernelspec": {
   "display_name": "Python 3 (ipykernel)",
   "language": "python",
   "name": "python3"
  },
  "language_info": {
   "codemirror_mode": {
    "name": "ipython",
    "version": 3
   },
   "file_extension": ".py",
   "mimetype": "text/x-python",
   "name": "python",
   "nbconvert_exporter": "python",
   "pygments_lexer": "ipython3",
   "version": "3.10.12"
  }
 },
 "nbformat": 4,
 "nbformat_minor": 5
}
