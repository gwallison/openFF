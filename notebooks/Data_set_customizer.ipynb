{
 "cells": [
  {
   "cell_type": "markdown",
   "id": "75254837-dc42-46ff-b311-56532f56e6d8",
   "metadata": {},
   "source": [
    "# Open-FF data set customizer\n",
    "Use this notebook to convert Open-FF's full dataframe (that is in \"parquet\" format) into a different format and, if desired, filter the data to a smaller subset."
   ]
  },
  {
   "cell_type": "code",
   "execution_count": 2,
   "id": "78b009fd-2a35-4cfb-9b26-0341ea309462",
   "metadata": {
    "tags": []
   },
   "outputs": [],
   "source": [
    "# fetch the Open-FF code repository\n",
    "# For use in COLAB, the following lines should be uncommented; \n",
    "#   comment all lines if running locally\n",
    "\n",
    "!git clone https://github.com/gwallison/openFF.git &>/dev/null;\n",
    "%run openFF/notebooks/Data_set_customizer_support.py"
   ]
  },
  {
   "cell_type": "code",
   "execution_count": 1,
   "id": "a98c5dd3-e789-4b91-8c04-03af5f0837e9",
   "metadata": {
    "tags": []
   },
   "outputs": [
    {
     "name": "stdout",
     "output_type": "stream",
     "text": [
      "running Data_set_customizer_support\n",
      "sandbox already exists\n",
      "Full size on remote disk: 598,858,745 bytes\n",
      "Open-FF file already downloaded\n",
      "Creating full dataframe...\n",
      "The full Open-FF data frame shape (rows,cols): (6051691, 102)\n"
     ]
    }
   ],
   "source": [
    "# Local - comment out these lines if running in COLAB (remote)\n",
    "# import sys\n",
    "# sys.path.insert(0,'c:/MyDocs/integrated/openFF/') # adjust to your setup\n",
    "# %run Data_set_customizer_support.py"
   ]
  },
  {
   "cell_type": "markdown",
   "id": "5638e062-ba66-41fa-88c1-f45022cabe11",
   "metadata": {},
   "source": [
    "# Filter by state\n",
    "Select state(s) that you want in the output file.  The selection box contains only those states in the Open-FF data.  Use `shift` or `cntl` click to select more than one state."
   ]
  },
  {
   "cell_type": "code",
   "execution_count": null,
   "id": "239ba0b9-d29e-4ceb-a27e-85dcfc7f0798",
   "metadata": {
    "tags": []
   },
   "outputs": [],
   "source": [
    "import ipywidgets as widgets\n",
    "st_lst = df.bgStateName.unique().tolist()\n",
    "st_lst.sort()\n",
    "st_lst.insert(0,'All states')\n",
    "states = widgets.SelectMultiple(\n",
    "    options=st_lst,\n",
    "    value=['All states'],\n",
    "    #rows=10,\n",
    "    description='Select State(s)',\n",
    "    disabled=False\n",
    ")\n",
    "states"
   ]
  },
  {
   "cell_type": "code",
   "execution_count": null,
   "id": "0b085c05-d363-4222-b23c-3de048c68ed2",
   "metadata": {
    "tags": []
   },
   "outputs": [],
   "source": [
    "if states.value[0]!='All states':\n",
    "    df = df[df.bgStateName.isin(list(states.value))]\n",
    "print(f\"The current filtered data frame's shape (rows,cols): {df.shape}\")"
   ]
  },
  {
   "cell_type": "markdown",
   "id": "fd188c3e-1674-422c-a46d-1a6d38fb3cde",
   "metadata": {},
   "source": [
    "# Include chemical data?\n",
    "If you are interested in chemical records at all, select the \"include chemical data\" option.  However, if you are only interested in variables like location, operator name, total base water volume, and/or date, deselecting this option will greatly reduce the output file size.\n",
    "\n",
    "If you select to include chemical data, you will be given the option to filter which chemicals are included. The options are:\n",
    "- all (which will include non-chemical categories like \"proprietary\" and \"ambiguousID\"),\n",
    "- specific sets, or\n",
    "- a custom list that you enter by hand."
   ]
  },
  {
   "cell_type": "code",
   "execution_count": null,
   "id": "f250699e-ee96-43e5-915a-67a5f012ec61",
   "metadata": {
    "tags": []
   },
   "outputs": [],
   "source": [
    "include_chem = widgets.Checkbox(\n",
    "    value=True,\n",
    "    description='Include chemical data',\n",
    "    disabled=False,\n",
    "    indent=True\n",
    ")\n",
    "include_chem"
   ]
  },
  {
   "cell_type": "code",
   "execution_count": null,
   "id": "6d146ba5-4db1-415c-bc33-0443d2d623b2",
   "metadata": {
    "tags": []
   },
   "outputs": [],
   "source": [
    "if not include_chem.value:\n",
    "    display(md('## No chemical records to be included. Skip to \"Select columns\"'))\n",
    "    chem_set = None\n",
    "else:\n",
    "    chem_set = widgets.Dropdown(\n",
    "    options=[('All','all'),\n",
    "             ('Custom','custom'),\n",
    "             ('Clean Water Act','cwa'),\n",
    "             ('Safe Drinking Water Act','dwsha'),\n",
    "             ('UVCB','uvcb'),\n",
    "             ('Sand and water','sand'),\n",
    "             ('Trade secrets','proprietary')],\n",
    "    value='all',\n",
    "    description='Chemical Set:',\n",
    "    disabled=False,\n",
    "    )\n",
    "chem_set"
   ]
  },
  {
   "cell_type": "code",
   "execution_count": null,
   "id": "559b3a5e-4917-4b2d-b0b5-d68555699c4f",
   "metadata": {
    "tags": []
   },
   "outputs": [],
   "source": [
    "if chem_set.value=='custom':\n",
    "    df.epa_pref_name.fillna(' -- ',inplace=True)\n",
    "    gb = df.groupby('bgCAS',as_index=False)['epa_pref_name'].first()\n",
    "    caslst = []\n",
    "    for i,row in gb.iterrows():\n",
    "        caslst.append((row.bgCAS +' - '+row.epa_pref_name,row.bgCAS))\n",
    "    #print(len(caslst))\n",
    "    cus_chem= widgets.SelectMultiple(\n",
    "        options=caslst,\n",
    "        value=[caslst[0][1]],\n",
    "        rows=25,\n",
    "        description='Select Chemical(s)',\n",
    "        disabled=False\n",
    "        )\n",
    "else:\n",
    "    cus_chem=None\n",
    "cus_chem"
   ]
  },
  {
   "cell_type": "code",
   "execution_count": null,
   "id": "b8d14418-9754-4602-a3fe-e1efc99039ab",
   "metadata": {
    "tags": []
   },
   "outputs": [],
   "source": [
    "# now process selected chemicals\n",
    "if chem_set.value != 'all':\n",
    "    if chem_set.value == 'uvcb':\n",
    "        caslst = df[df.is_on_UVCB].bgCAS.unique().tolist()\n",
    "    if chem_set.value == 'cwa':\n",
    "        caslst = df[df.is_on_CWA].bgCAS.unique().tolist()\n",
    "    if chem_set.value == 'dwsha':\n",
    "        caslst = df[df.is_on_DWSHA].bgCAS.unique().tolist()\n",
    "    if chem_set.value == 'sand':\n",
    "        caslst = ['14808-60-7','7732-18-5']\n",
    "    if chem_set.value == 'proprietary':\n",
    "        caslst = ['proprietary']\n",
    "    if chem_set.value == 'custom':\n",
    "        caslst = cus_chem.value\n",
    "    df = df[df.bgCAS.isin(caslst)]\n",
    "print(f'Number of chemicals selected: {len(df.bgCAS.unique())}')\n",
    "print(f\"The current filtered data frame's shape (rows,cols): {df.shape}\")"
   ]
  },
  {
   "cell_type": "markdown",
   "id": "45136ba5-c73d-4370-96b3-1cac506a13b0",
   "metadata": {},
   "source": [
    "# Select columns to include\n",
    "There are over 100 different columns in the Open-FF full data set, which includes both the original FracFocus columns and columns that Open-FF generates.  In most cases you will not need most of those and selecting a subset will keep your final custom data set smaller.\n",
    "\n",
    "Choosing the Standard set will reduce the columns to a smaller but typical set and it will also remove disclosures and records that have been flagged as duplicates.  The Full set keeps all records (duplicates can be filtered later using the `in_std_filtered` flag)."
   ]
  },
  {
   "cell_type": "code",
   "execution_count": null,
   "id": "32f7f047-507a-41d6-a7fd-78577ba5b78e",
   "metadata": {
    "tags": []
   },
   "outputs": [],
   "source": [
    "std_set = ['StateName','CountyName','Latitude','Longitude',\n",
    "            'OperatorName','WellName','UploadKey','date','APINumber',\n",
    "            'bgStateName','bgCountyName','bgLatitude','bgLongitude',\n",
    "            'TotalBaseWaterVolume','TotalBaseNonWaterVolume','TVD','bgOperatorName','primarySupplier',\n",
    "            'carrier_status','no_chem_recs','CASNumber','IngredientName',\n",
    "            'Supplier','bgCAS','calcMass','categoryCAS',\n",
    "            'PercentHFJob','Purpose','TradeName','bgSupplier',\n",
    "            'is_valid_cas','bgIngredientName']\n",
    "           \n",
    "col_set = widgets.Dropdown(\n",
    "    options=['Full','Standard'],\n",
    "    value='Standard',\n",
    "    description='Column Set:',\n",
    "    disabled=False,\n",
    ")\n",
    "col_set"
   ]
  },
  {
   "cell_type": "code",
   "execution_count": null,
   "id": "345f1797-1671-45bf-9992-9d7576e0e105",
   "metadata": {
    "tags": []
   },
   "outputs": [],
   "source": [
    "if col_set.value == 'Standard':\n",
    "    df = df[df.in_std_filtered].filter(std_set,axis=1)\n",
    "print(f\"The current filtered data frame's shape (rows,cols): {df.shape}\")"
   ]
  },
  {
   "cell_type": "markdown",
   "id": "8d715f97-f55d-46a8-8812-0f5d7b9ffe43",
   "metadata": {},
   "source": [
    "# Select the output format\n",
    "\n",
    "The current formats available are:\n",
    "- **\"parquet\"** - an compressed structured format for large files. (recommended if you have the ability to use it)\n",
    "- **\"CSV\"** - a traditional, text based format, standard input for spreadsheets. Can require 10x the storage and processing time as \"parquet,\" This format does not keep Open-FF formatting so you may need to specify, for example, which columns are text and which are numeric (e.g. APINumber should be text because of leading zeros).\n",
    "- **\"Excel\"** - similar to CSV but it will keep some formatting.  However, the maximum sheet size is (1048576, 16384) which will not hold all Open-FF records. Filtered files may fit."
   ]
  },
  {
   "cell_type": "code",
   "execution_count": null,
   "id": "fd1123f2-ed6e-4c51-bc1a-554738796100",
   "metadata": {
    "tags": []
   },
   "outputs": [],
   "source": [
    "import ipywidgets as widgets\n",
    "format_type = widgets.ToggleButtons(\n",
    "    options=['parquet', 'CSV', 'Excel'],\n",
    "    description='Output type:',\n",
    "    disabled=False,\n",
    "    button_style='', # 'success', 'info', 'warning', 'danger' or ''\n",
    "    #tooltips=['Description of slow', 'Description of regular', 'Description of fast'],\n",
    "#     icons=['check'] * 3\n",
    ")\n",
    "format_type"
   ]
  },
  {
   "cell_type": "code",
   "execution_count": null,
   "id": "9c5a8a73-2a3e-4da1-8ed5-2c79dfe43181",
   "metadata": {
    "tags": []
   },
   "outputs": [],
   "source": [
    "# save the output file\n",
    "\n",
    "if format_type.value=='CSV':\n",
    "    # make the CSV file\n",
    "    outfn = os.path.join(tmp_dir,\"my_output.csv\")\n",
    "    df.to_csv(outfn)\n",
    "\n",
    "if format_type.value=='Excel':\n",
    "    # make the Excel\n",
    "    outfn = os.path.join(tmp_dir,\"my_output.xlsx\")\n",
    "    df.to_excel(outfn)\n",
    "\n",
    "if format_type.value=='parquet':\n",
    "    outfn = os.path.join(tmp_dir,\"my_output.parquet\")\n",
    "    df.to_parquet(outfn)\n",
    "\n",
    "file_size = os.path.getsize(outfn)\n",
    "print(\"File Size is :\", file_size, \"bytes\")\n",
    "print(f'Output saved at: {outfn}, size: {file_size:,} bytes') \n"
   ]
  },
  {
   "cell_type": "code",
   "execution_count": null,
   "id": "1307aa2e-107c-4ef4-8f49-d5fa9e01a1bb",
   "metadata": {},
   "outputs": [],
   "source": []
  }
 ],
 "metadata": {
  "kernelspec": {
   "display_name": "Python 3 (ipykernel)",
   "language": "python",
   "name": "python3"
  },
  "language_info": {
   "codemirror_mode": {
    "name": "ipython",
    "version": 3
   },
   "file_extension": ".py",
   "mimetype": "text/x-python",
   "name": "python",
   "nbconvert_exporter": "python",
   "pygments_lexer": "ipython3",
   "version": "3.10.12"
  }
 },
 "nbformat": 4,
 "nbformat_minor": 5
}
