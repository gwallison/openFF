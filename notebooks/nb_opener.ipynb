{
 "cells": [
  {
   "cell_type": "code",
   "execution_count": 4,
   "id": "a1ccd6d9-b5ac-4ad3-b52d-6db5f1d7c7fd",
   "metadata": {
    "tags": []
   },
   "outputs": [
    {
     "data": {
      "text/plain": [
       "False"
      ]
     },
     "execution_count": 4,
     "metadata": {},
     "output_type": "execute_result"
    }
   ],
   "source": [
    "import platform\n",
    "import sys\n",
    "\n",
    "def is_remote():\n",
    "    locals = ['Dell_2023_Gary']\n",
    "    if platform.node() in locals:\n",
    "        return False\n",
    "    return True\n",
    "\n",
    "if is_remote():\n",
    "    sys.path.insert(0,'../')\n",
    "else:\n",
    "    sys.path.insert(0,'../')\n",
    "\n",
    "# make output location\n",
    "# this code may overwrite files in the \"sandbox\" directory.  Make sure you want to do that\n",
    "import os\n",
    "tmp_dir = 'sandbox'\n",
    "try:\n",
    "    os.mkdir(tmp_dir)\n",
    "except:\n",
    "    print(f'{tmp_dir} already exists')"
   ]
  }
 ],
 "metadata": {
  "kernelspec": {
   "display_name": "Python 3 (ipykernel)",
   "language": "python",
   "name": "python3"
  },
  "language_info": {
   "codemirror_mode": {
    "name": "ipython",
    "version": 3
   },
   "file_extension": ".py",
   "mimetype": "text/x-python",
   "name": "python",
   "nbconvert_exporter": "python",
   "pygments_lexer": "ipython3",
   "version": "3.10.12"
  }
 },
 "nbformat": 4,
 "nbformat_minor": 5
}
