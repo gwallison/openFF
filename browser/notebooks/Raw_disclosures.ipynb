{
 "cells": [
  {
   "cell_type": "code",
   "execution_count": null,
   "id": "9783b434-731f-438d-bf53-e09a653af90d",
   "metadata": {},
   "outputs": [],
   "source": [
    "import sys\n",
    "sys.path.insert(0,'c:/MyDocs/integrated/') # adjust to your setup\n",
    "\n",
    "%run \"catalog_support.py\" \n",
    "\n",
    "Numdays = 90\n",
    "\n",
    "showHeader('Raw Disclosures',line2=f'{Numdays} days of FracFocus changes',use_remote=True)"
   ]
  },
  {
   "cell_type": "code",
   "execution_count": null,
   "id": "fc01ba08-8fd4-4556-a835-28674be213ac",
   "metadata": {},
   "outputs": [],
   "source": [
    "import datetime\n",
    "\n",
    "last_repo = datetime.datetime(year=2024,month=7,day=18)\n",
    "today = datetime.datetime.today()\n",
    "edate = today - datetime.timedelta(days=Numdays)\n",
    "# print('earlist shown',edate)"
   ]
  },
  {
   "cell_type": "code",
   "execution_count": null,
   "id": "3f56e618-e533-4c3f-b28c-3525036f27d3",
   "metadata": {},
   "outputs": [],
   "source": [
    "import os\n",
    "import pickle\n",
    "import openFF.common.text_handlers as th\n",
    "arc_dir = r\"C:\\MyDocs\\integrated\\openFF_archive\\diff_dicts\"\n",
    "\n",
    "diff_fns = os.listdir(arc_dir)\n",
    "download_dates = []\n",
    "added = []\n",
    "changed = []\n",
    "removed = []\n",
    "casing = set()\n",
    "operator = set()\n",
    "\n",
    "\n",
    "for fn in diff_fns:\n",
    "    tdate = datetime.datetime(int(fn[10:14]),int(fn[15:17]),int(fn[18:20]))\n",
    "    # print(tdate)\n",
    "    if tdate>= edate:\n",
    "        download_dates.append(fn[10:20])\n",
    "        with open(os.path.join(arc_dir,fn),'rb') as f:\n",
    "            diff_dic = pickle.load(f)\n",
    "        if len(diff_dic['removed_disc'])>0:\n",
    "            t = diff_dic['removed_disc'].copy()\n",
    "            # print(t.head())\n",
    "            t['date_changed'] = tdate\n",
    "            t['change_type'] = 'removed'\n",
    "            removed.append(t)\n",
    "        if len(diff_dic['added_disc'])>0:\n",
    "            t = diff_dic['added_disc'].copy()\n",
    "            t['date_changed'] = tdate\n",
    "            t['change_type'] = 'added'\n",
    "            added.append(t)\n",
    "        if len(diff_dic['changed_disc'])>0:\n",
    "            t = diff_dic['changed_disc'].copy()\n",
    "            t['date_changed'] = tdate\n",
    "            t['change_type'] = 'modified'            \n",
    "            changed.append(t)\n",
    "        if len(diff_dic['casing'])>0:\n",
    "            for item in diff_dic['casing']:\n",
    "                # print(item)\n",
    "                if item[1]==None: ig = ''\n",
    "                else: ig = item[1].strip().lower()\n",
    "                tup = (item[0],ig)\n",
    "                casing.add(tup)\n",
    "        if len(diff_dic['OperatorName'])>0:\n",
    "            for item in diff_dic['OperatorName']:\n",
    "                operator.add(item)\n",
    "\n",
    "alllists = added + changed + removed\n",
    "wholeset = pd.concat(alllists,sort=True)\n"
   ]
  },
  {
   "cell_type": "code",
   "execution_count": null,
   "id": "ff8d462b-e9a5-4ce5-a83b-ca174872603c",
   "metadata": {},
   "outputs": [],
   "source": [
    "gb_added = wholeset[wholeset.change_type=='added'].groupby('date_changed').size()\n",
    "added_sum = gb_added.resample(\"D\").sum()\n",
    "added_sum = added_sum+.001 # to distinguish between zeros and no data\n",
    "\n",
    "gb_removed = wholeset[wholeset.change_type=='removed'].groupby('date_changed').size()\n",
    "removed_sum = gb_removed.resample(\"D\").sum()\n",
    "removed_sum = removed_sum+0.001\n",
    "\n",
    "gb_changed = wholeset[wholeset.change_type=='modified'].groupby('date_changed').size()\n",
    "changed_sum = gb_changed.resample(\"D\").sum()\n",
    "changed_sum = changed_sum+0.001"
   ]
  },
  {
   "cell_type": "markdown",
   "id": "aac9700a-b021-4f7a-8fe3-21cad0e9b704",
   "metadata": {},
   "source": [
    "## Downloads from FracFocus\n"
   ]
  },
  {
   "cell_type": "code",
   "execution_count": null,
   "id": "643ef4ae-b390-4270-b074-22da5b7e376b",
   "metadata": {},
   "outputs": [],
   "source": [
    "wholeset['job_end_date'] = wholeset.JobEndDate.str.split().str[0]\n",
    "wholeset['job_end_date'] = pd.to_datetime(wholeset.job_end_date,format=\"%m/%d/%Y\")\n",
    "wholeset['FF_disc'] = wholeset.apply(lambda x: th.getFFLink(x), axis=1)\n",
    "wholeset['disc_link'] = wholeset.apply(lambda x: th.getDisclosureLink(APINumber=x.APINumber,\n",
    "                                                                      disclosureid=x.discID,\n",
    "                                                                      text_to_show='Open-FF disclosure',\n",
    "                                                                      use_remote=True,\n",
    "                                                                      check_if_exists=False), axis=1)\n",
    "cond = (wholeset.date_changed>=last_repo)&(wholeset.change_type!='removed')\n",
    "wholeset.disc_link = np.where(cond,' ',wholeset.disc_link)\n",
    "wholeset['TBWV'] = wholeset.TotalBaseWaterVolume.astype('float64')\n",
    "wholeset['TBWV'] = wholeset.TBWV.map(lambda x: th.round_sig(x,5))\n"
   ]
  },
  {
   "cell_type": "code",
   "execution_count": null,
   "id": "ce8060d8-bf7e-4a55-a502-41f4fa1da722",
   "metadata": {},
   "outputs": [],
   "source": [
    "wholeset.change_type.value_counts()\n"
   ]
  },
  {
   "cell_type": "code",
   "execution_count": null,
   "id": "9cbd7ba5-f204-4a4c-aed1-1c2a8a654687",
   "metadata": {},
   "outputs": [],
   "source": [
    "wholeset['has more than one'] = np.where(wholeset.APINumber.duplicated(keep=False),'APINumber dupe','')"
   ]
  },
  {
   "cell_type": "code",
   "execution_count": null,
   "id": "03d4737e-af11-4f58-bc3e-127630e4b8ac",
   "metadata": {},
   "outputs": [],
   "source": [
    "# for curated disclosures, get detected flaws\n",
    "\n",
    "DiDs = wholeset.discID.unique().tolist()\n",
    "rec_iss = pd.read_parquet(os.path.join(hndl.curr_repo_dir,'record_issues.parquet'),columns=['r_flags','reckey'])\n",
    "reck = pd.read_parquet(os.path.join(hndl.curr_repo_pkl_dir,'chemrecs.parquet'),columns=['DisclosureId','reckey'])\n",
    "mg = pd.merge(rec_iss,reck,on='reckey',how='left')\n",
    "gb = mg[mg.DisclosureId.isin(DiDs)].groupby('DisclosureId',as_index=False)['r_flags'].apply(set)\n",
    "\n",
    "def str_from_set(x):\n",
    "    s = ''\n",
    "    for item in x:\n",
    "        s += item +' '\n",
    "    return s\n",
    "\n",
    "gb['recstr'] = gb.r_flags.map(lambda x: str_from_set(x))"
   ]
  },
  {
   "cell_type": "code",
   "execution_count": null,
   "id": "bdba9995-b518-47fc-b64b-e9184ef8e8ba",
   "metadata": {},
   "outputs": [],
   "source": [
    "dis_iss = pd.read_parquet(os.path.join(hndl.curr_repo_dir,'disclosure_issues.parquet'),columns=['d_flags','DisclosureId'])\n",
    "dis_iss = dis_iss[dis_iss.DisclosureId.isin(DiDs)]\n",
    "gb = gb.merge(dis_iss,on='DisclosureId',how='outer')\n",
    "gb = gb.fillna('')\n",
    "gb['issues'] = gb.d_flags +' '+gb.recstr\n",
    "wholeset = wholeset.merge(gb[['DisclosureId','issues']],left_on='discID',right_on='DisclosureId',how='left')\n",
    "wholeset.issues = wholeset.issues.fillna('')"
   ]
  },
  {
   "cell_type": "markdown",
   "id": "d67fe2b0-2319-4ffd-8a20-44edafba35c9",
   "metadata": {},
   "source": [
    "## watch list summary\n",
    "See bottom of page for whole list"
   ]
  },
  {
   "cell_type": "code",
   "execution_count": null,
   "id": "27a0f5d9-e25a-4300-bc97-75e500f58d3e",
   "metadata": {},
   "outputs": [],
   "source": [
    "# url = 'https://raw.githubusercontent.com/gwallison/FF_issues/master/watch_list.csv'\n",
    "# wdf = pd.read_csv(url,dtype = {'APINumber':'str'})\n",
    "url = 'https://raw.githubusercontent.com/gwallison/FF_issues/master/watch_list_master.parquet'\n",
    "wdf = pd.read_parquet(url)\n",
    "wdf = wdf.rename({'DisclosureId':'wl_DisclosureId'},axis=1)\n",
    "# wdf.date_entered = pd.to_datetime(wdf.date_entered,format='%m/%d/%y')\n",
    "# wdf.FF_report_date = pd.to_datetime(wdf.FF_report_date,format='%m/%d/%y')\n",
    "# wdf.Blog_date = pd.to_datetime(wdf.Blog_date,format='%m/%d/%y')\n",
    "# wdf.FF_updates = pd.to_datetime(wdf.FF_updates,format='%m/%d/%y')\n",
    "\n",
    "apis = wdf.APINumber.unique().tolist()\n",
    "\n",
    "watchlist_found = pd.merge(wdf,wholeset,on='APINumber',how='inner')\n",
    "watchlist_found[['wl_name','change_type']].value_counts()"
   ]
  },
  {
   "cell_type": "markdown",
   "id": "1b67e911-5989-4a29-9302-ae8b013d0bb6",
   "metadata": {},
   "source": [
    "## Pattern of new disclosure additions\n",
    "These disclosures are detected as new because their `DisclosureId` number hasn't been in the database before.  Note that it is possible that they are a new version of a previously published disclosure; sometimes operators change disclosures by removing the old one from FracFocus and creating a new one."
   ]
  },
  {
   "cell_type": "code",
   "execution_count": null,
   "id": "fb17d9ce-4d0f-4164-be4c-aee022002f1a",
   "metadata": {},
   "outputs": [],
   "source": [
    "# print(download_dates)\n",
    "import warnings\n",
    "warnings.filterwarnings(\"ignore\")\n",
    "import calplot\n",
    "calplot.calplot(added_sum,  cmap='Spectral_r');\n"
   ]
  },
  {
   "cell_type": "markdown",
   "id": "79219256-de05-4fb5-9909-ecf97da76da5",
   "metadata": {},
   "source": [
    "- **Blue line** = Cumulative new disclosures added (my include replacements for removed disclosures)\n",
    "- **Orange line** = New disclosures with detected issues\n",
    "- **Vertical dashed line** = date of last Open-FF data set generation"
   ]
  },
  {
   "cell_type": "code",
   "execution_count": null,
   "id": "be14d39c-d880-4c79-b14c-0ddc436464da",
   "metadata": {},
   "outputs": [],
   "source": [
    "t = wholeset[wholeset.change_type=='added']\n",
    "\n",
    "gb = t.groupby('date_changed',as_index=False).size()\n",
    "gb['cs'] = gb['size'].cumsum()\n",
    "gb = gb[['date_changed','cs']].set_index('date_changed')\n",
    "ax = gb.cs.plot(title='Number of new disclosures',\n",
    "               ylabel='cumulative disclosures', xlabel='date changed')\n",
    "\n",
    "gb = t[t.issues.str.len()>1].groupby('date_changed',as_index=False).size()\n",
    "gb['with_issues'] = gb['size'].cumsum()\n",
    "gb = gb[['date_changed','with_issues']].set_index('date_changed')\n",
    "ax = gb.with_issues.plot(ax=ax)\n",
    "\n",
    "\n",
    "ax.axvline(last_repo, color=\"green\", linestyle=\"dashed\");\n"
   ]
  },
  {
   "cell_type": "code",
   "execution_count": null,
   "id": "c9ae398c-4578-4ec8-9ae7-b521120231d9",
   "metadata": {},
   "outputs": [],
   "source": [
    "show_whole = wholeset[wholeset.change_type=='added'].rename({'job_end_date':'job end date','date_changed':'date added',\n",
    "                            'change_type':'change type'},axis=1)\n",
    "show_whole[['FF_disc','disc_link','job end date','StateName','CountyName','OperatorName',\n",
    "          'TBWV','date added','has more than one','issues']].reset_index(drop=True)"
   ]
  },
  {
   "cell_type": "markdown",
   "id": "083babd9-0326-4f71-a088-ed315c81519d",
   "metadata": {},
   "source": [
    "### Removed disclosures"
   ]
  },
  {
   "cell_type": "code",
   "execution_count": null,
   "id": "3f1bb233-af53-4be5-acc0-25c65f04e589",
   "metadata": {},
   "outputs": [],
   "source": [
    "if removed_sum.sum()>0.5:\n",
    "    calplot.calplot(removed_sum, cmap='Spectral_r');\n",
    "else:\n",
    "    display(md('#### No removed disclosures found'))"
   ]
  },
  {
   "cell_type": "code",
   "execution_count": null,
   "id": "a802b872-1e25-418d-9fa7-3027082301aa",
   "metadata": {},
   "outputs": [],
   "source": [
    "if removed_sum.sum()>0.5:   #0.5 to account for the 0.001 baseline\n",
    "    show_whole = wholeset[wholeset.change_type=='removed'].rename({'job_end_date':'job end date','date_changed':'date removed',\n",
    "                            'change_type':'change type'},axis=1)\n",
    "    iShow(show_whole[['FF_disc','disc_link','job end date','StateName','CountyName','OperatorName',\n",
    "          'TBWV','date removed','has more than one','issues']].reset_index(drop=True))"
   ]
  },
  {
   "cell_type": "markdown",
   "id": "1b1641db-e91f-4f0a-8e80-5d164a5a5a88",
   "metadata": {},
   "source": [
    "### Modified disclosures"
   ]
  },
  {
   "cell_type": "code",
   "execution_count": null,
   "id": "f4d224ad-f887-4f59-89c0-6429b94cbca3",
   "metadata": {},
   "outputs": [],
   "source": [
    "if changed_sum.sum()>0.5:  #0.5 to account for the 0.001 baseline\n",
    "    calplot.calplot(changed_sum, cmap='Spectral_r');\n",
    "else:\n",
    "    display(md('#### No modified disclosures detected'))"
   ]
  },
  {
   "cell_type": "code",
   "execution_count": null,
   "id": "5d809105-05c5-4f84-a77a-5711206151eb",
   "metadata": {},
   "outputs": [],
   "source": [
    "if changed_sum.sum()>0.5:\n",
    "    show_whole = wholeset[wholeset.change_type=='modified'].rename({'job_end_date':'job end date','date_changed':'date modified',\n",
    "                            'change_type':'change type'},axis=1)\n",
    "    iShow(show_whole[['FF_disc','disc_link','job end date','StateName','CountyName','OperatorName',\n",
    "          'TBWV','date modified','has more than one','issues']].reset_index(drop=True))"
   ]
  },
  {
   "cell_type": "code",
   "execution_count": null,
   "id": "e069ef31-a598-4e01-b2ce-244cc411af7a",
   "metadata": {},
   "outputs": [],
   "source": [
    "# get list of *reported* issues\n",
    "def add_to_set(s, iset):\n",
    "    lst = s.split()\n",
    "    for i in lst:\n",
    "        iset.add(i)\n",
    "    return iset\n",
    "\n",
    "iset = set()\n",
    "for i, row in wholeset.iterrows():\n",
    "    iset = add_to_set(row.issues,iset)"
   ]
  },
  {
   "cell_type": "markdown",
   "id": "64fedc77-887f-4f01-96a4-874adc97c5f8",
   "metadata": {},
   "source": [
    "### Issues list"
   ]
  },
  {
   "cell_type": "code",
   "execution_count": null,
   "id": "8c746d23-19ff-4f4f-a6b7-1534b3ea8039",
   "metadata": {},
   "outputs": [],
   "source": [
    "import FF_issues.process_master_files as pmf\n",
    "pobj = pmf.Process_Master_Files()\n",
    "df = pobj.process_obj()\n"
   ]
  },
  {
   "cell_type": "markdown",
   "id": "db158ddd-a2d6-46dd-9539-4160bf76a20b",
   "metadata": {},
   "source": [
    "#### Discloure-level Issues"
   ]
  },
  {
   "cell_type": "code",
   "execution_count": null,
   "id": "bf7168f5-7a23-4664-b9a0-e4485c10943f",
   "metadata": {},
   "outputs": [],
   "source": [
    "c = df.Flag_id.str[0]=='d'\n",
    "c1 = df.Flag_id.isin(iset)\n",
    "t = df[c&c1].copy()\n",
    "t['flaw_link'] = t.Flag_id.map(lambda x: th.getFlawLink(x))\n",
    "t[['Title','flaw_link','Warning_level']]"
   ]
  },
  {
   "cell_type": "markdown",
   "id": "d80f16ad-264c-489b-bbcc-3d8f58aec789",
   "metadata": {},
   "source": [
    "#### Record-level Issues"
   ]
  },
  {
   "cell_type": "code",
   "execution_count": null,
   "id": "84082326-55a7-4a36-94da-795ec25b0ea5",
   "metadata": {},
   "outputs": [],
   "source": [
    "c = df.Flag_id.str[0]=='r'\n",
    "# c1 = df.Flag_id.isin(iset)\n",
    "t = df[c&c1].copy()\n",
    "t['flaw_link'] = t.Flag_id.map(lambda x: th.getFlawLink(x))\n",
    "t[['Title','flaw_link','Warning_level']]"
   ]
  },
  {
   "cell_type": "markdown",
   "id": "b134fccd-f9b8-4ae8-a811-dd50ee62ffbf",
   "metadata": {},
   "source": [
    "## New CASNumber : IngredientName pairs"
   ]
  },
  {
   "cell_type": "code",
   "execution_count": null,
   "id": "17793bc7-f52f-4aab-aae5-b3204a018ad5",
   "metadata": {},
   "outputs": [],
   "source": [
    "# Are there new casing?\n",
    "repo_casing = fh.get_casing_df()\n",
    "changed_casing = pd.DataFrame(casing,columns=['CASNumber','IngredientName'])\n",
    "mg = pd.merge(changed_casing,repo_casing,on=['CASNumber','IngredientName'], how='left',indicator=True)\n",
    "mg[mg._merge=='left_only'][['CASNumber','IngredientName']]"
   ]
  },
  {
   "cell_type": "code",
   "execution_count": null,
   "id": "957e5ca0-3fc4-48d6-8970-28d7284f29f1",
   "metadata": {},
   "outputs": [],
   "source": [
    "# Are there new Operators?\n",
    "repo_companies = fh.get_company_df()\n",
    "complst = repo_companies.rawName.tolist()\n",
    "newcomp = []\n",
    "for op in operator:\n",
    "    if not op in complst:\n",
    "        newcomp.append(op)\n",
    "if len(newcomp)> 0:\n",
    "    display(md('## New Operator names detected'))\n",
    "    newcomp.sort()\n",
    "    for item in newcomp:\n",
    "        display(md(f'##### {item}'))\n",
    "else:\n",
    "    display(md('### No new operator names detected'))"
   ]
  },
  {
   "cell_type": "markdown",
   "id": "52667e22-147d-43d6-bfc5-cf3f9a2f6afb",
   "metadata": {},
   "source": [
    "___\n",
    "## Watch list\n",
    "Wells with changed disclosures that were previously detected with problems"
   ]
  },
  {
   "cell_type": "code",
   "execution_count": null,
   "id": "388f559e-d70f-4aa0-90de-0ef15557cd6a",
   "metadata": {},
   "outputs": [],
   "source": [
    "watchlist_found"
   ]
  }
 ],
 "metadata": {
  "kernelspec": {
   "display_name": "Python 3 (ipykernel)",
   "language": "python",
   "name": "python3"
  },
  "language_info": {
   "codemirror_mode": {
    "name": "ipython",
    "version": 3
   },
   "file_extension": ".py",
   "mimetype": "text/x-python",
   "name": "python",
   "nbconvert_exporter": "python",
   "pygments_lexer": "ipython3",
   "version": "3.11.8"
  }
 },
 "nbformat": 4,
 "nbformat_minor": 5
}
