{
 "cells": [
  {
   "cell_type": "code",
   "execution_count": null,
   "id": "67cd510c-03a3-4def-b9aa-f0ac7380ca24",
   "metadata": {},
   "outputs": [],
   "source": [
    "import sys\n",
    "sys.path.insert(0,'c:/MyDocs/integrated/') # adjust to your setup\n",
    "\n",
    "%run \"catalog_support.py\" \n",
    "showHeader('Chemical Index',use_remote=False)"
   ]
  },
  {
   "cell_type": "code",
   "execution_count": null,
   "id": "bc6175e1-8b0b-4e75-88a0-62870ff8d1c5",
   "metadata": {},
   "outputs": [],
   "source": [
    "# fetch data set\n",
    "df_cas = fh.get_df(os.path.join(hndl.sandbox_dir,'workdf.parquet'))"
   ]
  },
  {
   "cell_type": "code",
   "execution_count": null,
   "id": "middle-following",
   "metadata": {},
   "outputs": [],
   "source": [
    "# # make Open-FF's common name (FF now has IngredientCommonName)\n",
    "# gb2 = df_cas.groupby('bgCAS')['IngredientName'].agg(lambda x: x.value_counts().index[0])\n",
    "# gb2 = gb2.reset_index()\n",
    "# gb2.columns = ['bgCAS','ingredCommonName']\n",
    "# df_cas = pd.merge(df_cas,gb2,on='bgCAS',how='left')\n",
    "# # df_cas.columns"
   ]
  },
  {
   "cell_type": "markdown",
   "id": "c3119a08-d944-4799-a7ef-eacdf6702ef2",
   "metadata": {},
   "source": [
    "The interactive table below lists all chemicals (from the Open-FF data set) published in FracFocus after curation. Some chemicals are listed that have no records in the filtered set, but are in the full, raw data. Chemical identity is established using both CASNumber and IngredientName, when possible.  See the [CAS/Ingredient Index](Open-FF_CASNumber_and_IngredientName.html) for more detail on these identities. Below the table is an explanation of this table's columns.\n",
    "\n",
    "The table is sort-able by any column (click a second time for reverse sort) and use the **Search** bar to limit what is shown in the table. \n",
    "\n",
    "The following table is representative of the Std_filtered data only - there may be chemicals that only show up in disclosures that we filter. "
   ]
  },
  {
   "cell_type": "code",
   "execution_count": null,
   "id": "a141eb02-8643-4009-b8c0-95bdd5dc84a3",
   "metadata": {},
   "outputs": [],
   "source": [
    "import openFF.common.chem_list_summary as chem_sum\n",
    "chem_obj =  chem_sum.ChemListSummary(df_cas)\n",
    "t = chem_obj.get_display_table(colset='chem_index')\n",
    "iShow(t.reset_index(drop=True),maxBytes=0,columnDefs=[{\"width\": \"100px\", \"targets\": 0}])"
   ]
  },
  {
   "cell_type": "markdown",
   "id": "d7d18e6b-4487-4b71-b529-8734a6e2b88c",
   "metadata": {},
   "source": [
    "**Important note about chemical names**: most chemical compounds have a number of names they are known by.  For example, the chemical with the CAS registration number 111-76-4 is listed as:\n",
    "\n",
    "| name | source |\n",
    "| --- |--- |\n",
    "|ethanol, 2-butoxy-|SciFinder (primary name)|\n",
    "|Ethylene glycol monobutyl ether| EPA registry name|\n",
    "|Ethylene glycol monobutyl ether (2-butoxyethanol)| Elsner/Hoelzer's paper|\n",
    "|2-butoxyethanol| most common name in FracFocus|\n",
    "| 2-BE |shorthand name|\n",
    "\n",
    "In the table above, two names are given for each material, but many others are often used. That might be a problem if you are trying to find something by a different name.  If you are not having luck in the table above, try exploring the [synonyms index](Open-FF_Synonyms.html) for the most appropriate CAS Number."
   ]
  },
  {
   "cell_type": "markdown",
   "id": "julian-connectivity",
   "metadata": {},
   "source": [
    "|Explanation of columns in the index|\n",
    "| :---: |\n",
    "\n",
    "| Column      | Description |\n",
    "| :----: | :-------- |\n",
    "|*Material*| at top is the CAS registration number of the chemical. **Click on this link** to display summary of this chemical for all of FracFocus (filtered data - up to last major update). Below are two names for the material: the upper is used by SciFinder as the primary name and the lower is the most common reported name in FracFocus| \n",
    "|*ref*|Click on the \"csv\" link to a csv-formatted file that has all the filtered records for this chemical.  Click on \"ChemID\" link for the ChemID website for this chemical.  Click on \"EPA: CompTox\" for the summary page in that resource|\n",
    "|*Molecule*| is the chemical structure (credit: ChemID)|\n",
    "|*total num records* |indicates the number of records across the FracFocus data. A given chemical may appear more than once in a disclosure.  The upper number is the number of records in the **filtered** data, and the lower value is the number of records in the **unfiltered** data.|\n",
    "|*num records with mass*|indicates the number of records with mass of this chemical in the **filtered** data. Without mass, a record only records presence in the disclosure.|\n",
    "|*mass of 90th percentile (lbs)*| the top 10% of records in the **filtered** data have mass equal to or greater than this value|\n",
    "|*Reportable quant (lbs)*|indicates the quantity of the chemical (in pounds), above which uses must be reported if spilled, based on [40 CFR § 302.4 - Hazardous substances and reportable quantities](https://www.law.cornell.edu/cfr/text/40/302.4). This is applicable throughout most industries however fracking is in general exempt from this requirement. We show it here to illustrate what those exemptions have given to the fracking industry. There are currently a total of about 100 chemicals on that list.\n",
    "|*on external list* |indicates if the chemical is on one of the following lists.  Type the name of the list into the Search box to limit to those chemicals.<br> - **CWA**: indicates that the chemical is on the [Clean Water Act list](https://comptox.epa.gov/dashboard/chemical_lists/CWA311HS) as compiled in EPA's CompTox<br>- **AQ_CWA**: Comptox list of chemicals particularly hazardous to aquatic life<br>- **HH_CWA**: Comptox list of chemicals particularly hazardous to human health<br>- **DWSHA**: indicated that the chemical is on the EPA's [Drinking Water Safety and Health Advisory](https://comptox.epa.gov/dashboard/chemical_lists/EPADWS) list<br>- **NPDWR**: indicates that the chemical is on the [National Primary Drinking Water Regulations](https://www.epa.gov/ground-water-and-drinking-water/national-primary-drinking-water-regulations) list, compiled into a machine readable version by Angelica Fuiza and Gary Allison.<br>- **TEDX**: indicates that the chemical is on [The Endocrine Disruption Exchange](https://endocrinedisruption.org) list<br>- **prop_65**: indicates that the chemical is on [California's Proposition 65](https://oehha.ca.gov/proposition-65/proposition-65-list) list<br>- **EPA_PFAS**: indicates that the chemical is on EPA's comprehensive list of PFAS related compounds<br>- **UVCB**: indicates that the chemical is on the [TSCA list of \"Unknown, Variable composition, Complex reaction products and Biological\"](https://www.epa.gov/sites/default/files/2015-05/documents/uvcb.pdf) materials, meaning \"these chemical substances cannot be represented by unique structures and molecular formulas.\"<br>- **IRIS**: indicates that the chemical is included in the [IRIS program](https://comptox.epa.gov/dashboard/chemical-lists/IRIS) that \"identifies and characterizes the health hazards of chemicals found in the environment.\"<br>- **diesel**: indicates that the chemical is [on the EPA list that](https://www.epa.gov/uic/diesel-fuels-hydraulic-fracturing-dfhf) \"represent the most appropriate interpretation of the statutory term 'diesel fuels' to use for permitting diesel fuels hydraulic fracturing under the UIC Program nationwide.|\n",
    "|*fingerprint*:|This is a \"hazard\" summary based on the [EPA's ChemInformatics Dashboard](https://www.epa.gov/chemical-research/cheminformatics). For each chemical that the EPA has published summaries, Open-FF generates a single image that indicates level of hazard for EPA's twenty categories.  See the table below or click on the specific chemical's report (its CAS number) for a different display of these results. For many chemicals reported by the EPA on that site, some of those hazard categories cannot be evaluated because the data are limited.  See EPA's disclaimer for these data below or at their site.\n",
    "|*earliest date*|indicates the date of the earliest recorded use of this chemical.  By sorting on this column, you can find the chemicals that have been long used and those that have only recently been added.|\n",
    "\n"
   ]
  },
  {
   "cell_type": "markdown",
   "id": "64725e54-ca74-4263-bbaf-c969da364bae",
   "metadata": {},
   "source": [
    "## Hazard Fingerprints\n",
    "### Categories\n",
    "|Row| Col 1 | Col 2| Col 3| Col 4 |Col 5|\n",
    "|:---| :---: | :---: | :---: | :---: | :---:|\n",
    "|**Top** |*Human Health*<br>Oral |*Human Health*<br>Inhalation |*Human Health*<br>Dermal |*Human Health*<br>Carcinogenicity|*Human Health*<br>Genotoxicity Mutagenicity|\n",
    "|**Second**|*Human Health*<br>Endocrine Disruption |*Human Health*<br>Reproductive |*Human Health*<br>Developmental |*Human Health*<br>Neurotoxicity:<br> Repeat Exposure |*Human Health*<br>Neurotoxicity:<br> Single Exposure|\n",
    "|**Third**|*Human Health*<br>Systemic Toxicity:<br> Repeat Exposure |*Human Health*<br>Systemic Toxicity:<br> Single Exposure  |*Human Health*<br>Skin Sensitization  |*Human Health*<br>Skin Irritation|*Human Health*<br>Eye Irritation \n",
    "|**Bottom**|*Ecotoxicity*<br>Acute Aquatic Toxicity |*Ecotoxicity*<br>Chronic Aquatic Toxicity |*Fate*<br>Persistence |*Fate*<br>Bioaccumulation |*Fate*<br>Exposure | |\n",
    "\n",
    "### Legend\n",
    "|Icon| Toxicity |\n",
    "| :---: | :---: |\n",
    "| <center><img src=\"images/ci_icons/red_skull.png\" onerror=\"this.onerror=null; this.remove();\" width=\"40\"></center> | <H3>Very High</H3>  |\n",
    "| <center><img src=\"images/ci_icons/orange_exclamation.png\" onerror=\"this.onerror=null; this.remove();\" width=\"40\"></center> |  <H3>High</H3>  |\n",
    "| <center><img src=\"images/ci_icons/yellow-minus.png\" onerror=\"this.onerror=null; this.remove();\" width=\"40\"></center> | <H3>Moderate</H3>  |\n",
    "| <center><img src=\"images/ci_icons/green-minus.png\" onerror=\"this.onerror=null; this.remove();\" width=\"40\"></center> | <H3>Low</H3>  |\n",
    "| <center><img src=\"images/ci_icons/grey_question.png\" onerror=\"this.onerror=null; this.remove();\" width=\"40\"></center> | <H3>Inconclusive</H3>  |\n",
    "| <center><img src=\"images/ci_icons/grey_square.png\" onerror=\"this.onerror=null; this.remove();\" width=\"40\"></center> | <H3>No Data</H3>  |\n",
    "\n",
    "### EPA's disclaimer for the Hazard data\n",
    "> The Hazard Comparison Dashboard is a prototype tool and a compilation of information sourced from many sites, databases and sources including U.S. Federal and state sources and international bodies that saves the user time by providing information in one location. The data are not reviewed by USEPA – the user must apply judgment in use of the information. The results do not indicate EPA’s position on the use or regulation of these chemicals. "
   ]
  }
 ],
 "metadata": {
  "hide_input": true,
  "kernelspec": {
   "display_name": "Python 3 (ipykernel)",
   "language": "python",
   "name": "python3"
  },
  "language_info": {
   "codemirror_mode": {
    "name": "ipython",
    "version": 3
   },
   "file_extension": ".py",
   "mimetype": "text/x-python",
   "name": "python",
   "nbconvert_exporter": "python",
   "pygments_lexer": "ipython3",
   "version": "3.10.12"
  }
 },
 "nbformat": 4,
 "nbformat_minor": 5
}
