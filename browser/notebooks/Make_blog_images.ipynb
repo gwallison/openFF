{
 "cells": [
  {
   "cell_type": "code",
   "execution_count": null,
   "id": "a9907b66-49eb-4ab6-9dc0-9f1cfeb060f0",
   "metadata": {},
   "outputs": [],
   "source": [
    "import sys\n",
    "sys.path.insert(0,'c:/MyDocs/integrated/') # adjust to your setup\n",
    "\n",
    "%run \"catalog_support.py\" \n",
    "showHeader('Make Blog and other Images<br>Notebook not published',use_remote=False)"
   ]
  },
  {
   "cell_type": "code",
   "execution_count": null,
   "id": "1fd9f9af-971d-4833-aa43-00b0d1294bfc",
   "metadata": {},
   "outputs": [],
   "source": [
    "# fetch data set\n",
    "master_df = fh.get_df(os.path.join(hndl.curr_repo_dir,'full_df.parquet'))\n",
    "master_df = master_df[(master_df.date.dt.year>2010)&\\\n",
    "                      (master_df.date.dt.year<=datetime.datetime.now().year)]"
   ]
  },
  {
   "cell_type": "code",
   "execution_count": null,
   "id": "0482ddf4-9c37-45b6-bcc9-081ab9869795",
   "metadata": {},
   "outputs": [],
   "source": [
    "\n",
    "gb = master_df[master_df.loc_within_state=='YES'].groupby(['bgStateName',\n",
    "                                                           'DisclosureId'],as_index=False)['bgCAS'].count()\n",
    "gb = gb.groupby('bgStateName',as_index=False)['DisclosureId'].count().rename({'bgStateName':'StateName',\n",
    "                                                                           'DisclosureId':'value'},\n",
    "                                                                          axis=1)\n",
    "# gb['link'] = \n",
    "# gb = pd.read_csv(r\"C:\\MyDocs\\OpenFF\\src\\testing\\tmp\\temp.csv\")\n",
    "fig = mapping.create_master_state_choropleth(gb,plotlog=True,custom_scale= [0,1,2,3,4,5,6],\n",
    "                        legend_name='Number of FracFocus disclosures',\n",
    "                        start_zoom=3,fields=['StateName','orig_value','state_link'],\n",
    "                        aliases = ['State: ','Number of FF disclosures: ','Link to Summary page:']\n",
    "                       )\n",
    "fig.save(os.path.join(hndl.browser_states_dir,'master_state_fig.html'))\n",
    "display(fig)"
   ]
  },
  {
   "cell_type": "markdown",
   "id": "493b61dd-427f-4f70-8311-72aa8927eaf9",
   "metadata": {},
   "source": [
    "<a id='num_disc'></a>"
   ]
  },
  {
   "cell_type": "code",
   "execution_count": null,
   "id": "5b91771b-d18f-4bdf-be15-6b77e7a384e8",
   "metadata": {},
   "outputs": [],
   "source": [
    "gb = master_df.groupby('DisclosureId',as_index=False)['date'].first()\n",
    "gb1 = master_df.groupby('DisclosureId',as_index=False)['ingKeyPresent'].sum()\n",
    "mg = pd.merge(gb,gb1,on='DisclosureId',how='left')\n",
    "gb2 = mg[mg.ingKeyPresent>0].groupby('date').size()\n",
    "allwk_sum = gb2.resample(\"W\").sum()\n",
    "ax = allwk_sum.plot(figsize=(5,5), ylabel='Number of disclosures',label='with chemical records');\n",
    "ax.set_title('Weekly Number of Disclosures',fontsize=15);\n",
    "\n",
    "\n",
    "gb3 = mg[mg.ingKeyPresent==0].groupby('date').size()\n",
    "# alldfv1 = master_df[~master_df.ingKeyPresent].groupby('DisclosureId',as_index=False)[['date','TotalBaseWaterVolume']].first()\n",
    "# gbv1 = gb3.groupby('date').size()\n",
    "allwk_sumv1 = gb3.resample(\"W\").sum()\n",
    "allwk_sumv1.plot(ax=ax,label='without chemical records');\n",
    "ax.legend();\n",
    "plt.savefig(os.path.join(hndl.blog_im_dir,'number_disc_all_states.jpg'))\n"
   ]
  },
  {
   "cell_type": "code",
   "execution_count": null,
   "id": "440cdb76-b599-4ddd-a3a3-90ed374583c0",
   "metadata": {},
   "outputs": [],
   "source": [
    "# alldf = master_df[master_df.ingKeyPresent].groupby('DisclosureId',as_index=False)[['date','TotalBaseWaterVolume',\n",
    "#                                                                                 'APINumber']].first()\n",
    "# gb = alldf.groupby('date').size()\n",
    "# allwk_sum = gb.resample(\"W\").sum()\n",
    "# ax = allwk_sum.plot(figsize=(5,5), ylabel='Number of disclosures',label='with chemical records');\n",
    "# # ax.set_title('Orange: Without chemical records; Blue: with chemical records',fontsize=10);\n",
    "# ax.set_title('Weekly number of disclosures',fontsize=15);\n",
    "# alldfv1 = master_df[~master_df.ingKeyPresent].groupby('DisclosureId',as_index=False)[['date','TotalBaseWaterVolume']].first()\n",
    "# gbv1 = alldfv1.groupby('date').size()\n",
    "# allwk_sumv1 = gbv1.resample(\"W\").sum()\n",
    "# allwk_sumv1.plot(ax=ax,label='without chemical record');\n",
    "# ax.legend()\n",
    "# plt.savefig(os.path.join(hndl.blog_im_dir,'number_disc_all_states.jpg'))\n"
   ]
  },
  {
   "cell_type": "markdown",
   "id": "32e4f2a7-6bc3-4dd4-b256-54ae027ed2b0",
   "metadata": {},
   "source": [
    "## Where are they?\n",
    "For detailed maps of each state, see the [\"States and Counties\"](Open-FF_States_and_Counties.html) pages."
   ]
  },
  {
   "cell_type": "code",
   "execution_count": null,
   "id": "9c576145-b239-4fec-8b4e-1deecedf24b2",
   "metadata": {},
   "outputs": [],
   "source": [
    "gb = master_df[master_df.loc_within_state=='YES'].groupby(['bgStateName',\n",
    "                                                           'DisclosureId'],as_index=False)['bgCAS'].count()\n",
    "gb = gb.groupby('bgStateName',as_index=False)['DisclosureId'].count().sort_values('DisclosureId',ascending=False)\n",
    "\n",
    "gb['group'] = pd.cut(gb.DisclosureId,bins=[0,100,1000,5000,20000,200000],labels=['< 100 disclosures',\n",
    "                                                                              '< 1,000 disclosures',\n",
    "                                                                              '< 5,000 disclosures',\n",
    "                                                                              '< 20,000 disclosures',\n",
    "                                                                              '> 20,000 disclosures'])\n",
    "gb['State'] =gb.bgStateName.str.title()# + ' - ' + gb.DisclosureId.astype(str)\n",
    "totall = gb.DisclosureId.sum()\n",
    "gb['Perc'] = gb.DisclosureId/totall *100\n",
    "gb.Perc = gb.Perc.round(2)\n",
    "# gb"
   ]
  },
  {
   "cell_type": "code",
   "execution_count": null,
   "id": "d386d8bb-d19d-4564-9ab4-9938456728cc",
   "metadata": {},
   "outputs": [],
   "source": [
    "gb2 = gb.groupby('group',as_index=True)['State'].apply(list)\n",
    "gb2 = gb2.reset_index()\n",
    "for i,row in gb2.iterrows():\n",
    "    print(row.group)\n",
    "    print(row.State)"
   ]
  },
  {
   "cell_type": "markdown",
   "id": "fdcddd9a-bdd5-4e5c-9174-101ca7082a34",
   "metadata": {},
   "source": [
    "---\n",
    "<a id='chems'></a>\n",
    "# Chemicals used"
   ]
  },
  {
   "cell_type": "markdown",
   "id": "e3f88f1e-011e-4f7c-8ef6-5779b028c2ef",
   "metadata": {},
   "source": [
    "### Creating the stats used on the chemical: overall quantity page\n",
    "\n",
    "Some links to truck cargo capacity:\n",
    "https://www.google.com/url?sa=t&rct=j&q=&esrc=s&source=web&cd=&cad=rja&uact=8&ved=2ahUKEwj-u6uRhKL_AhVoHDQIHcPrD5gQFnoECA0QAQ&url=https%3A%2F%2Fwww.freightwaves.com%2Fnews%2Fhow-much-weight-can-a-big-rig-carry&usg=AOvVaw1kfcixBDcZtLJmoGh2bbin\n",
    "\n",
    "https://www.google.com/url?sa=t&rct=j&q=&esrc=s&source=web&cd=&cad=rja&uact=8&ved=2ahUKEwj-u6uRhKL_AhVoHDQIHcPrD5gQFnoECA0QAQ&url=https%3A%2F%2Fwww.freightwaves.com%2Fnews%2Fhow-much-weight-can-a-big-rig-carry&usg=AOvVaw1kfcixBDcZtLJmoGh2bbin\n",
    "\n",
    "https://www.google.com/url?sa=t&rct=j&q=&esrc=s&source=web&cd=&cad=rja&uact=8&ved=2ahUKEwj-u6uRhKL_AhVoHDQIHcPrD5gQFnoECFcQAQ&url=https%3A%2F%2Flogitydispatch.com%2Fhow-much-weight-can-a-truck-carry%2F&usg=AOvVaw2sL2gVVjfDna0O1GB24EoL\n"
   ]
  },
  {
   "cell_type": "code",
   "execution_count": null,
   "id": "fee16c0e-c4d0-4dfe-a085-7a5f567d0bfa",
   "metadata": {},
   "outputs": [],
   "source": [
    "# 2/2024  -- what is this?\n",
    "c = master_df.in_std_filtered & master_df.ingKeyPresent\n",
    "# cy = master_df.date.dt.year==2022\n",
    "# ctbwv = master_df.TotalBaseWaterVolume>1000000\n",
    "tot = master_df.groupby('DisclosureId')[['PercentHFJob','calcMass']].sum().reset_index()\n",
    "tot.columns = ['DisclosureId','TotPerc','totCalcMass']\n",
    "tot = tot[tot.TotPerc > 90]\n",
    "print(f'Tot: {len(tot)}')\n",
    "# cw = (master_df.bgCAS=='7732-18-5') | master_df.is_water_carrier\n",
    "cw =  master_df.is_water_carrier  # keep water that is not carrier in the list\n",
    "wat = master_df[cw&c].groupby('DisclosureId')['PercentHFJob'].sum().reset_index()\n",
    "wat.columns = ['DisclosureId','WatPerc']\n",
    "print(f'Wat: {len(wat)}')\n",
    "csand = (master_df.bgCAS.isin(['14808-60-7','66402-68-4','1302-93-8',\n",
    "                        '1302-76-7','1344-28-1','1318-16-7','308075-07-2','14464-46-1','1302-74-5']))\n",
    "sand = master_df[csand&c].groupby('DisclosureId')['PercentHFJob'].sum().reset_index()\n",
    "sand.columns = ['DisclosureId','SandPerc']\n",
    "print(f'Sand: {len(sand)}')\n",
    "cgas = master_df.bgCAS.isin(['124-38-9','7727-37-9'])\n",
    "gas = master_df[cgas&c].groupby('DisclosureId')['PercentHFJob'].sum().reset_index()\n",
    "gas.columns = ['DisclosureId','GasPerc']\n",
    "print(f'Gas: {len(gas)}')"
   ]
  },
  {
   "cell_type": "code",
   "execution_count": null,
   "id": "2e2d5d36-0733-4f25-bd20-2f90187ed76e",
   "metadata": {},
   "outputs": [],
   "source": [
    "t = pd.merge(tot,wat, on='DisclosureId', how='inner')\n",
    "t = pd.merge(t,sand,on='DisclosureId', how='inner')\n",
    "t = pd.merge(t,gas,on='DisclosureId', how='left')\n",
    "t.GasPerc.fillna(0,inplace=True)\n",
    "t['ChemPerc'] = t.TotPerc - t.WatPerc - t.SandPerc - t.GasPerc\n",
    "#print(t.ChemPerc.describe())\n",
    "perc = [2,10,25,50,75,90,95,99,99.5]\n",
    "pd.DataFrame({'perc':perc,'res':np.percentile(t.ChemPerc,perc)})"
   ]
  },
  {
   "cell_type": "code",
   "execution_count": null,
   "id": "ce4a9ca1-fd1e-437b-9317-8e95d2c9fdc4",
   "metadata": {},
   "outputs": [],
   "source": [
    "# get the median frack size in 2022\n",
    "cTBWV = master_df.TotalBaseWaterVolume>0\n",
    "gb2022 = master_df[c&cTBWV&(master_df.date.dt.year==2022)].groupby('DisclosureId')['TotalBaseWaterVolume'].first()\n",
    "watvol = gb2022.median()\n",
    "totmass = watvol*8.34/0.8502\n",
    "print(f'Water vol: {watvol}')\n",
    "print(f'Number of disclosures in these calculations: {len(gb2022)}')\n",
    "print(f'Total mass for a frack based on the median TBWV: {totmass:1,}')\n",
    "print(f'Mass of all non-sand/water chemicals: {totmass*0.0078:1,} or # big rigs: {totmass*0.0078/40000:1,}')\n",
    "\n",
    "vol90 = np.percentile(gb2022,[90])[0]\n",
    "print(f'\\nVolume of 90th percentile: {vol90:,}')\n",
    "totmass90 = vol90*8.34/0.8502\n",
    "# print(f'Number of disclosures in these calculations: {len(gb2022)}')\n",
    "print(f'Total mass for a frack based on the 90% TBWV: {totmass90:1,}')\n",
    "print(f'Mass of all non-sand/water chemicals: {(totmass90*0.0078):,}')\n",
    "\n",
    "totmassrec = len(master_df[master_df.calcMass>0])\n",
    "totrec = len(master_df)\n",
    "print(f'Fraction of records with calculated mass: {totmassrec/totrec}')\n"
   ]
  },
  {
   "cell_type": "markdown",
   "id": "e06be3b4-aac7-4598-b7da-eff51be897f5",
   "metadata": {},
   "source": [
    "---\n",
    "## chemical abundance summary graphs\n",
    "\n"
   ]
  },
  {
   "cell_type": "code",
   "execution_count": null,
   "id": "12545f1a-1617-4294-9217-be753a550692",
   "metadata": {},
   "outputs": [],
   "source": [
    "t = master_df[(master_df.in_std_filtered)&(master_df.ingKeyPresent)][['bgCAS','epa_pref_name','PercentHFJob','DisclosureId','is_water_carrier']].copy()\n",
    "# make sure even non-documented water is counted as water\n",
    "t.bgCAS = np.where(t.is_water_carrier,'7732-18-5',t.bgCAS)\n",
    "t.PercentHFJob.fillna(0,inplace=True)\n",
    "numUpk  = len(t.DisclosureId.unique())\n",
    "gb = t.groupby(['bgCAS','DisclosureId'],as_index=False)['PercentHFJob'].sum()\n",
    "gb.PercentHFJob = np.where(gb.PercentHFJob>0,gb.PercentHFJob,-1)"
   ]
  },
  {
   "cell_type": "code",
   "execution_count": null,
   "id": "653220bf-e408-4552-9a09-23c72526f9a8",
   "metadata": {},
   "outputs": [],
   "source": [
    "gb1 = gb.groupby('bgCAS',as_index=False)['PercentHFJob'].median()\n",
    "# gb1 = gb.groupby('bgCAS',as_index=False)['PercentHFJob'].quantile(0.9)\n",
    "gb1['groups'] = pd.cut(gb1.PercentHFJob, bins=[-2,0,.00001,0.001,0.01,0.1,2],\n",
    "                      labels=['missing data','comprises less than 0.001% \\nof the fracking fluid', '<0.1%',\n",
    "                              '<1%','<10%','comprises at least 10%\\nof the fracking fluid\\n(ex. water, sand)'])\n",
    "gb_PHFJ = gb1.groupby('groups')['bgCAS'].count()\n",
    "ax = gb_PHFJ.plot.pie(autopct='%.0f%%',wedgeprops={'linewidth': 3.0, 'edgecolor': 'white'})\n",
    "ax.set_ylabel('')\n",
    "ax.set_title(\"Relative size of chemicals' usage\\nwithin a typical disclosure\");"
   ]
  },
  {
   "cell_type": "markdown",
   "id": "66c701de-5aee-4930-8ed8-f42bb2c5c15f",
   "metadata": {},
   "source": [
    "### Half of chemicals' typical use is > 0.1 % of the fracking fluid\n"
   ]
  },
  {
   "cell_type": "code",
   "execution_count": null,
   "id": "bce01d4a-cf99-4891-ad4e-f79351afdbae",
   "metadata": {},
   "outputs": [],
   "source": [
    "gb2 = gb.groupby('bgCAS',as_index=False)['DisclosureId'].count()\n",
    "gb2['frac_of_disc'] = gb2.DisclosureId/numUpk\n",
    "gb2['groups'] = pd.cut(gb2.frac_of_disc, bins=[0,.00001,0.001,0.01,0.10,2],\n",
    "                      labels=['In fewer than\\n 0.001% \\nof disclosures', \n",
    "                              'Between\\n0.001%\\nand\\n0.1%',\n",
    "                              'Between\\n0.1%\\nand\\n1%',\n",
    "                              'Between\\n1%\\nand\\n10%',\n",
    "                              'In more than \\n10% \\nof disclosures'])\n",
    "gb_acrossFF = gb2.groupby('groups')['bgCAS'].count()\n",
    "ax = gb_acrossFF.plot.pie(autopct='%.0f%%',wedgeprops={'linewidth': 3.0, 'edgecolor': 'white'},\n",
    "       # textprops={'size': 'large'}\n",
    "                         )\n",
    "ax.set_ylabel('')\n",
    "ax.set_title(\"Chemicals' usage across FracFocus\");"
   ]
  },
  {
   "cell_type": "code",
   "execution_count": null,
   "id": "63ef63b1-dc3e-4abb-b962-8ed613cce59e",
   "metadata": {},
   "outputs": [],
   "source": [
    "gb_acrossFF"
   ]
  },
  {
   "cell_type": "code",
   "execution_count": null,
   "id": "bae49128-7775-4ef7-8505-204eaf09a792",
   "metadata": {},
   "outputs": [],
   "source": [
    "ax = gb_acrossFF.plot.bar(figsize=(5,5),ylim=(0,700))\n",
    "ax.set_ylabel('Number of distinct chemicals',fontsize=12)\n",
    "ax.set_xlabel('')\n",
    "ax.set_title(\"Chemicals' usage across FracFocus\");\n",
    "ax.text(0.97, 0.95, 'common',\n",
    "        verticalalignment='top', horizontalalignment='right',\n",
    "        transform=ax.transAxes,\n",
    "        color='green', fontsize=15)\n",
    "ax.text(0.05, 0.95, 'rare',\n",
    "        verticalalignment='top', horizontalalignment='left',\n",
    "        transform=ax.transAxes,\n",
    "        color='green', fontsize=15)\n",
    "\n",
    "plt.tight_layout()\n",
    "plt.xticks(rotation = 0,fontsize=10) ;\n",
    "plt.savefig(os.path.join(hndl.blog_im_dir,'chemUsageAcrossFF.jpg'),dpi=150)\n"
   ]
  },
  {
   "cell_type": "code",
   "execution_count": null,
   "id": "e4abf993-a3a2-48c2-9ad2-8a52c89788d5",
   "metadata": {},
   "outputs": [],
   "source": [
    "gb2[gb2.frac_of_disc>=.1]"
   ]
  },
  {
   "cell_type": "markdown",
   "id": "be659086-d958-41ae-ba39-166e082d926a",
   "metadata": {},
   "source": [
    "### that is, about 80% of chemicals used are not common\n",
    "This means there is a lot of experimentation and swapping of chemicals. etc"
   ]
  },
  {
   "cell_type": "markdown",
   "id": "8cbc19c7-39db-441a-b1fd-e46bc25a208d",
   "metadata": {},
   "source": [
    "---\n",
    "## chemical abundance summary graphs VERSION 2 with better bins\n"
   ]
  },
  {
   "cell_type": "code",
   "execution_count": null,
   "id": "af2a5fe8-26ba-4109-bcc7-953d8672b980",
   "metadata": {},
   "outputs": [],
   "source": [
    "t = master_df[(master_df.in_std_filtered)&(master_df.ingKeyPresent)][['bgCAS','epa_pref_name','PercentHFJob','DisclosureId','is_water_carrier']].copy()\n",
    "# make sure even non-documented water is counted as water\n",
    "t.bgCAS = np.where(t.is_water_carrier,'7732-18-5',t.bgCAS)\n",
    "t.PercentHFJob.fillna(0,inplace=True)\n",
    "numUpk  = len(t.DisclosureId.unique())\n",
    "gb = t.groupby(['bgCAS','DisclosureId'],as_index=False)['PercentHFJob'].sum()\n",
    "gb.PercentHFJob = np.where(gb.PercentHFJob>0,gb.PercentHFJob,-1)"
   ]
  },
  {
   "cell_type": "code",
   "execution_count": null,
   "id": "4a50dc72-0d14-45c1-98e8-041e1b9ed981",
   "metadata": {},
   "outputs": [],
   "source": [
    "gb1 = gb.groupby('bgCAS',as_index=False)['PercentHFJob'].median()\n",
    "# gb1 = gb.groupby('bgCAS',as_index=False)['PercentHFJob'].quantile(0.9)\n",
    "gb1['groups'] = pd.cut(gb1.PercentHFJob, bins=[-2,0,.00001,0.0001,0.001,0.01,0.1,2],\n",
    "                      labels=['missing data','comprises less than 0.001% \\nof the fracking fluid','<0.01%', '<0.1%',\n",
    "                              '<1%','<10%','comprises at least 10%\\nof the fracking fluid\\n(ex. water, sand)'])\n",
    "gb_PHFJ = gb1.groupby('groups')['bgCAS'].count()\n",
    "ax = gb_PHFJ.plot.pie(autopct='%.0f%%',wedgeprops={'linewidth': 3.0, 'edgecolor': 'white'})\n",
    "ax.set_ylabel('')\n",
    "ax.set_title(\"Relative size of chemicals' usage\\nwithin a typical disclosure\");"
   ]
  },
  {
   "cell_type": "markdown",
   "id": "b9abf012-2e85-4ab5-8448-a4ac170677db",
   "metadata": {},
   "source": [
    "### Half of chemicals' typical use is > 0.1 % of the fracking fluid\n"
   ]
  },
  {
   "cell_type": "code",
   "execution_count": null,
   "id": "aceb007a-1e24-49d9-8af2-771b30ab730b",
   "metadata": {},
   "outputs": [],
   "source": [
    "gb2 = gb.groupby('bgCAS',as_index=False)['DisclosureId'].count()\n",
    "gb2['frac_of_disc'] = gb2.DisclosureId/numUpk\n",
    "gb2['groups'] = pd.cut(gb2.frac_of_disc, bins=[0,.00001,0.0001,0.001,0.01,0.10,2],\n",
    "                      labels=['In fewer than\\n 0.001% \\nof disclosures', \n",
    "                              'Between\\n0.001%\\nand\\n0.01%',\n",
    "                              'Between\\n0.01%\\nand\\n0.1%',\n",
    "                              'Between\\n0.1%\\nand\\n1%',\n",
    "                              'Between\\n1%\\nand\\n10%',\n",
    "                              'In more than \\n10% \\nof disclosures'])\n",
    "gb_acrossFF = gb2.groupby('groups')['bgCAS'].count()\n",
    "ax = gb_acrossFF.plot.pie(autopct='%.0f%%',wedgeprops={'linewidth': 3.0, 'edgecolor': 'white'},\n",
    "       # textprops={'size': 'large'}\n",
    "                         )\n",
    "ax.set_ylabel('')\n",
    "ax.set_title(\"Chemicals' usage across FracFocus\");"
   ]
  },
  {
   "cell_type": "code",
   "execution_count": null,
   "id": "2f516593-35a3-462b-8474-a999efec479e",
   "metadata": {},
   "outputs": [],
   "source": [
    "gb_acrossFF"
   ]
  },
  {
   "cell_type": "code",
   "execution_count": null,
   "id": "788c5bb4-6079-431e-ac0c-59fe2a15b2f5",
   "metadata": {},
   "outputs": [],
   "source": [
    "ax = gb_acrossFF.plot.bar(figsize=(7,5),ylim=(0,700))\n",
    "ax.set_ylabel('Number of distinct chemicals',fontsize=12)\n",
    "ax.set_xlabel('')\n",
    "ax.set_title(\"Chemicals' usage across FracFocus\");\n",
    "ax.text(0.97, 0.95, 'common',\n",
    "        verticalalignment='top', horizontalalignment='right',\n",
    "        transform=ax.transAxes,\n",
    "        color='green', fontsize=15)\n",
    "ax.text(0.05, 0.95, 'rare',\n",
    "        verticalalignment='top', horizontalalignment='left',\n",
    "        transform=ax.transAxes,\n",
    "        color='green', fontsize=15)\n",
    "\n",
    "plt.tight_layout()\n",
    "plt.xticks(rotation = 90,fontsize=10) ;\n",
    "# plt.savefig(os.path.join(hndl.blog_im_dir,'chemUsageAcrossFF.jpg'),dpi=150)\n"
   ]
  },
  {
   "cell_type": "code",
   "execution_count": null,
   "id": "46398c20-6d37-4b5f-bd55-bfef3c16561c",
   "metadata": {},
   "outputs": [],
   "source": [
    "gb2[gb2.frac_of_disc>=.1]"
   ]
  },
  {
   "cell_type": "markdown",
   "id": "c6128155-89d4-475c-b29e-b7268442294f",
   "metadata": {},
   "source": [
    "### that is, about 80% of chemicals used are not common\n",
    "This means there is a lot of experimentation and swapping of chemicals. etc"
   ]
  },
  {
   "cell_type": "markdown",
   "id": "2ad1b555-f9d7-4e6a-8924-d2a25525508c",
   "metadata": {},
   "source": [
    "### Distribution of mass\n"
   ]
  },
  {
   "cell_type": "code",
   "execution_count": null,
   "id": "2a074a48-8c16-4e29-b43d-7dd25dcd57e0",
   "metadata": {},
   "outputs": [],
   "source": [
    "c1 = master_df.bgCAS.isin(['7732-18-5','14808-60-7','66402-68-4','1302-93-8',\n",
    "                           '1302-76-7','1344-28-1','1318-16-7','308075-07-2',\n",
    "                           '14464-46-1','1302-74-5'])\n",
    "c2 = master_df.is_water_carrier\n",
    "t = master_df[~(c1|c2)][['DisclosureId','bgCAS','calcMass']].copy()\n",
    "t.calcMass.fillna(0,inplace=True)\n",
    "gb = t.groupby(['DisclosureId','bgCAS'],as_index=False)['calcMass'].sum()\n",
    "gb.calcMass = np.where(gb.calcMass==0,-1,gb.calcMass)\n",
    "categ = pd.cut(gb.calcMass,bins=[-2,0,10,1000,10000,100000,10000000000],\n",
    "              labels=['data gap','under 10 lbs.','under 1,000 lbs.','under 10,000 lbs', 'under 100,000 lbs.',\n",
    "                      'over 100,000 lbs.'])\n",
    "\n",
    "categ.value_counts().plot.pie()"
   ]
  },
  {
   "cell_type": "markdown",
   "id": "9d84a60b-c3fe-40e9-839a-81c4896ddb74",
   "metadata": {},
   "source": [
    "### What do we know about the FracFocus chemicals?"
   ]
  },
  {
   "cell_type": "code",
   "execution_count": null,
   "id": "7e840c34-de12-4abd-a839-cc6aa4c99fba",
   "metadata": {},
   "outputs": [],
   "source": [
    "# First how many can we resolve to a chemical industry standard ID? (CAS)\n",
    "c1 = master_df.bgCAS=='ambiguousID'\n",
    "c2 = master_df.bgCAS=='proprietary'\n",
    "c3 = master_df.bgCAS=='conflictingID'\n",
    "c4 = master_df.bgCAS.str[0].str.isnumeric()\n",
    "totrec = len(master_df[master_df.ingKeyPresent])\n",
    "rest = len(master_df[~(c1|c2|c3|c4)])\n",
    "rest"
   ]
  },
  {
   "cell_type": "code",
   "execution_count": null,
   "id": "71063c15-82a9-4456-84c5-d5167b32dfaa",
   "metadata": {},
   "outputs": [],
   "source": [
    "t = pd.DataFrame({'categ':[len(master_df[c4]),len(master_df[c2]),len(master_df[c3]),len(master_df[c1])],\n",
    "                })\n",
    "\n",
    "ax = t.plot.pie(y='categ',labels=['resolvable to CASRN','proprietary','conflictingID','ambiguousID'],legend=None,\n",
    "          autopct='%.0f%%',wedgeprops={'linewidth': 2.0, 'edgecolor': 'white'}, textprops={'size': 'large'})\n",
    "ax.set_ylabel('')\n",
    "ax.set_title(\"Records resolvable to a CAS number\");\n",
    "plt.tight_layout();"
   ]
  },
  {
   "cell_type": "code",
   "execution_count": null,
   "id": "e64aea2e-d258-4e29-8167-a737f83fc43c",
   "metadata": {},
   "outputs": [],
   "source": [
    "t = pd.DataFrame({'resolvable to CASRN':[len(master_df[c4])],\n",
    "                  'proprietary':[len(master_df[c2])],\n",
    "                  'conflictingID':[len(master_df[c3])],\n",
    "                  'ambiguousID':[len(master_df[c1])],\n",
    "                  'non-chemical record':[rest]\n",
    "                  \n",
    "                })\n",
    "\n",
    "ax = t.plot.barh(stacked=True,\n",
    "            figsize=(16,1.5),\n",
    "           xlabel='all records');\n",
    "ax.set_title('Records resolvable to a CAS number',fontsize=16)\n",
    "# ax.set_ylabel('all records',fontsize=14)\n",
    "ax.set_xlabel('',fontsize=14)\n",
    "plt.xticks(fontsize=14,rotation = 0);\n",
    "ax = gca().xaxis.set_major_formatter(mpl.ticker.StrMethodFormatter('{x:,.0f}'))\n",
    "plt.legend(bbox_to_anchor=(1, 1), loc='upper left', ncol=1, fontsize=14);\n",
    "# plt.legend(loc='upper left');"
   ]
  },
  {
   "cell_type": "code",
   "execution_count": null,
   "id": "993a2ff0-39c4-467d-a43d-bde064f9a198",
   "metadata": {},
   "outputs": [],
   "source": [
    "finger = pd.read_csv(r\"C:\\MyDocs\\OpenFF\\src\\testing\\tmp\\DTXSID_caught.csv\")\n",
    "finger.columns\n",
    "\n",
    "dcols = ['HH: Oral', 'HH: Inhalation',\n",
    "       'HH: Dermal', 'HH: Carcinogenicity', 'HH: Genotoxicity Mutagenicity',\n",
    "       'HH: Endocrine Disruption', 'HH: Reproductive', 'HH: Developmental',\n",
    "       'HH: Neurotoxicity: Repeat Exposure',\n",
    "       'HH: Neurotoxicity: Single Exposure',\n",
    "       'HH: Systemic Toxicity: Repeat Exposure',\n",
    "       'HH: Systemic Toxicity: Single Exposure', 'HH: Skin Sensitization',\n",
    "       'HH: Skin Irritation', 'HH: Eye Irritation',\n",
    "       'Ecotoxicity: Acute Aquatic Toxicity',\n",
    "       'Ecotoxicity: Chronic Aquatic Toxicity', 'Fate: Persistence',\n",
    "       'Fate: Bioaccumulation', 'Fate: Exposure']\n",
    "for col in dcols:\n",
    "    finger[col] = np.where(finger[col]=='I',np.NAN,finger[col])\n",
    "                           \n",
    "finger['known'] = finger[['HH: Oral', 'HH: Inhalation',\n",
    "       'HH: Dermal', 'HH: Carcinogenicity', 'HH: Genotoxicity Mutagenicity',\n",
    "       'HH: Endocrine Disruption', 'HH: Reproductive', 'HH: Developmental',\n",
    "       'HH: Neurotoxicity: Repeat Exposure',\n",
    "       'HH: Neurotoxicity: Single Exposure',\n",
    "       'HH: Systemic Toxicity: Repeat Exposure',\n",
    "       'HH: Systemic Toxicity: Single Exposure', 'HH: Skin Sensitization',\n",
    "       'HH: Skin Irritation', 'HH: Eye Irritation',\n",
    "       'Ecotoxicity: Acute Aquatic Toxicity',\n",
    "       'Ecotoxicity: Chronic Aquatic Toxicity', 'Fate: Persistence',\n",
    "       'Fate: Bioaccumulation', 'Fate: Exposure']].count(axis='columns')\n",
    "finger[['CASRN','known']]\n",
    "print(f'Number with fingerprint: {len(finger)}, that are mostly known: {len(finger[finger.known>9])}')\n",
    "known = len(finger[finger.known>9])\n",
    "lessKnown = len(finger[finger.known<10])\n",
    "unknown = len(master_df[master_df.bgCAS.str[0].str.isnumeric()].bgCAS.unique())\n",
    "\n",
    "plt.pie([known,unknown,lessKnown],labels=['known','unknown','lessKnown']);"
   ]
  },
  {
   "cell_type": "code",
   "execution_count": null,
   "id": "998a1837-67e1-455e-b48a-2bd07a09b7c2",
   "metadata": {},
   "outputs": [],
   "source": [
    "c5 = master_df.bgCAS.isin(finger.CASRN.unique().tolist())\n",
    "c6 = master_df.bgCAS.isin(finger[finger.known>9].CASRN.unique().tolist())\n",
    "\n",
    "print(f'Records resolvable: {len(master_df[c4])}, Chem has ChemInfo profile {len(master_df[c5])}, Chem has profile w/o majority unknown: {len(master_df[c6])}') "
   ]
  },
  {
   "cell_type": "markdown",
   "id": "e1e3b4ac-2e93-49fd-86c4-5eafb61841f7",
   "metadata": {},
   "source": [
    "# Number of chemicals added each year\n"
   ]
  },
  {
   "cell_type": "code",
   "execution_count": null,
   "id": "1bd1b80f-9557-445d-a168-200253af4bb9",
   "metadata": {
    "tags": []
   },
   "outputs": [],
   "source": [
    "years = range(2014,master_df.date.dt.year.max()+1)\n",
    "y_in = []\n",
    "num = []\n",
    "added = []\n",
    "last = 0\n",
    "for y in years:\n",
    "    c = master_df.date.dt.year<=y\n",
    "    y_in.append(y)\n",
    "    n = len(master_df[c].bgCAS.unique())-4\n",
    "    num.append(n)\n",
    "    added.append(n-last)\n",
    "    last = n\n",
    "t = pd.DataFrame({'year':y_in,'total_chem':num,'added':added})\n",
    "t"
   ]
  },
  {
   "cell_type": "markdown",
   "id": "08f3bb41-301c-4e46-9604-b9b3cf760939",
   "metadata": {},
   "source": [
    "# Freq of masses by year\n"
   ]
  },
  {
   "cell_type": "code",
   "execution_count": null,
   "id": "a9a8f147-61ca-4199-90d3-cc29a27c1260",
   "metadata": {},
   "outputs": [],
   "source": [
    "t = master_df[~master_df.bgCAS.isin(['ambiguousID','sysAppMeta'])][['date','calcMass']].copy()\n",
    "t['year'] = t.date.dt.year\n",
    "gb1 = t.groupby('year',as_index=False).size().rename({'size':'tot'},axis=1)\n",
    "gb2 = t[t.calcMass>0].groupby('year',as_index=False).size().rename({'size':'has_mass'},axis=1)\n",
    "mg = pd.merge(gb1,gb2,on='year',how='inner')\n",
    "mg['perc'] = mg.has_mass/mg.tot*100\n",
    "ax = mg.plot('year','perc',legend=None, xlabel='',figsize=(5,5),ylim=(0,100))\n",
    "ax.set_title('Percent of records with calculated mass',fontsize=16)\n",
    "# plt.tight_layout()\n",
    "plt.xticks(rotation = 45,fontsize=10) ;\n",
    "plt.yticks(fontsize=14) ;\n",
    "plt.savefig(os.path.join(hndl.blog_im_dir,'percentCalcMass.jpg'),dpi=150)"
   ]
  },
  {
   "cell_type": "markdown",
   "id": "767acfe4-940c-412e-baa6-c2cefcd9caea",
   "metadata": {
    "tags": []
   },
   "source": [
    "---\n",
    "<a id='water_use'></a>\n",
    "# Water use"
   ]
  },
  {
   "cell_type": "markdown",
   "id": "c9e1fe2e-a82b-481b-bada-61053bd76ee8",
   "metadata": {
    "tags": []
   },
   "source": [
    "## Gallons used, recorded as TotalBaseWaterVolume"
   ]
  },
  {
   "cell_type": "code",
   "execution_count": null,
   "id": "b87b5de8-4195-4827-8589-8666aabd6d5a",
   "metadata": {},
   "outputs": [],
   "source": [
    "alldf = master_df.groupby('DisclosureId',as_index=False)[['date','TotalBaseWaterVolume','APINumber','bgStateName']].first()\n",
    "gb1 = alldf.groupby('date')['TotalBaseWaterVolume'].median()\n",
    "gb1 = gb1/1000000\n",
    "allwk_tbwv = gb1.resample(\"W\").median()\n",
    "ax = allwk_tbwv.plot(figsize=(5,5), ylabel='Median gallons of water each week',style='o',xlabel='');\n",
    "ax.set_title('Typical quantity of water used per frack is increasing',fontsize=14);\n",
    "ax.tick_params(axis=\"y\", labelsize=13)\n",
    "ax.tick_params(axis=\"x\", labelsize=13)\n",
    "plt.ylabel('Median water use per week (millions of gallons)',fontsize=13);\n",
    "# ax = gca().yaxis.set_major_formatter(mpl.ticker.StrMethodFormatter('{x:,.0f}'))\n",
    "plt.savefig(os.path.join(hndl.blog_im_dir,'median_water_used.jpg'),dpi=150)\n"
   ]
  },
  {
   "cell_type": "code",
   "execution_count": null,
   "id": "c9748bdd-757a-48d9-a6eb-50fca65e8f4a",
   "metadata": {},
   "outputs": [],
   "source": [
    "gb3 = alldf.groupby('date')['TotalBaseWaterVolume'].sum()\n",
    "allwk_tbwv_sum = gb3.resample(\"W\").sum()\n",
    "ax = allwk_tbwv_sum.plot(figsize=(5,5), style='o',xlabel='');\n",
    "ax.set_title('Total weekly water use across FracFocus',fontsize=16);\n",
    "ax.tick_params(axis=\"y\", labelsize=13)\n",
    "ax.tick_params(axis=\"x\", labelsize=13)\n",
    "plt.ylabel('Billions of Gallons Used each Week',fontsize=13);\n",
    "# plt.suptitle('Data for most recent months probably relects publication delays.',fontsize=10);\n",
    "#ax = gca().yaxis.set_major_formatter(mpl.ticker.StrMethodFormatter('{x:,.0f}'))\n",
    "plt.savefig(os.path.join(hndl.blog_im_dir,'total_water_used.jpg'),dpi=150)\n"
   ]
  },
  {
   "cell_type": "code",
   "execution_count": null,
   "id": "c49665bc-b4ec-43f9-9d50-4f5a22e67d3b",
   "metadata": {},
   "outputs": [],
   "source": [
    "#NOT USED\n",
    "\n",
    "# gb1 = alldf.groupby('date')['TotalBaseWaterVolume'].max()\n",
    "\n",
    "# gb2 = gb1[gb1<100000000]\n",
    "# allwk_tbwv = gb2.resample(\"W\").max()\n",
    "# ax = allwk_tbwv.plot(figsize=(5,5), ylabel='Max Water Volume Used By Week',style='o',xlabel='');\n",
    "# ax.set_title('Single maximum water use is increasing',fontsize=14);\n",
    "# plt.suptitle('All values over 100,000,000 gallons excluded',fontsize=10);\n",
    "# ax.tick_params(axis=\"y\", labelsize=13)\n",
    "# ax.tick_params(axis=\"x\", labelsize=13)\n",
    "# plt.ylabel('Million of Gallons Used in single event',fontsize=13);\n",
    "# ax = gca().yaxis.set_major_formatter(mpl.ticker.StrMethodFormatter('{x:,.0f}'))\n",
    "# plt.savefig(os.path.join(hndl.blog_im_dir,'max_water_used.jpg'),dpi=150)"
   ]
  },
  {
   "cell_type": "code",
   "execution_count": null,
   "id": "6006662d-b65b-4e4e-bdfc-1db0f637b7d1",
   "metadata": {},
   "outputs": [],
   "source": [
    "#NOT USED\n",
    "# # print('Disclosures over 100 million gallons')\n",
    "# summary = alldf[alldf.TotalBaseWaterVolume>100000000].groupby('date',as_index=False)[['TotalBaseWaterVolume','APINumber','bgStateName']].first()\n",
    "# ax =summary.plot('date','TotalBaseWaterVolume',style='o',color='red',ylim=(0,1100000000),\n",
    "#                 legend=False)\n",
    "# # ax = summary.plot(figsize=(5,5), ylabel='Water Volume Used',style='o');\n",
    "# ax.set_title('Fracks using more than 100,000,000 gallons\\n are increasing',fontsize=16);\n",
    "# ax = gca().yaxis.set_major_formatter(mpl.ticker.StrMethodFormatter('{x:,.0f}'))\n",
    "# plt.savefig(os.path.join(hndl.blog_im_dir,'massive_water_used.jpg'),dpi=300)"
   ]
  },
  {
   "cell_type": "code",
   "execution_count": null,
   "id": "afe94709-b897-4cab-98bc-16515c04188e",
   "metadata": {},
   "outputs": [],
   "source": [
    "#NOT USED\n",
    "# summary.TotalBaseWaterVolume = summary.TotalBaseWaterVolume.map(lambda x: round_sig(x,5))\n",
    "# summary.reset_index()\n",
    "# summary = summary.sort_values('date')\n",
    "# summary['dstr'] = summary.date.astype(str).str[:10]\n",
    "# data = [['Water Vol (gal)','API number']]\n",
    "# for i,row in summary.iterrows():\n",
    "#     data.append([row.dstr,row.TotalBaseWaterVolume,row.APINumber])\n",
    "# plot_table(data,filename='bigwater.jpg')"
   ]
  },
  {
   "cell_type": "markdown",
   "id": "b4a2b049-9eac-4b2b-bf3c-e15ded4d40b5",
   "metadata": {},
   "source": [
    "---\n",
    "<a id='proppant'></a>\n",
    "# Proppants\n",
    "Most 2011- mid 2013 disclosures do not have chemical records.  Proppants are, therefore, missing in those years in the figures below."
   ]
  },
  {
   "cell_type": "code",
   "execution_count": null,
   "id": "1c793d21-068f-4b15-b169-99c828658478",
   "metadata": {},
   "outputs": [],
   "source": [
    "# gb1 = master_df.groupby('DisclosureId',as_index=False)[['APINumber','date','TotalBaseWaterVolume','bgStateName']].first()\n",
    "gb3 = master_df[master_df.bgCAS=='14808-60-7'].groupby('date')[['calcMass']].sum()\n",
    "gb3 = gb3/1000000000\n",
    "allwk_sand_sum = gb3.resample(\"W\").sum()\n",
    "otherprop = ['66402-68-4','1302-93-8','1302-76-7','1344-28-1','1318-16-7','308075-07-2','14464-46-1','1302-74-5']\n",
    "\n",
    "ax = allwk_sand_sum.plot(figsize=(5,5),style='o',legend=None,xlabel='');\n",
    "ax.set_title('Total weekly sand use across FracFocus',fontsize=16)\n",
    "ax.tick_params(axis=\"y\", labelsize=13)\n",
    "ax.tick_params(axis=\"x\", labelsize=13)\n",
    "plt.ylabel('Total Sand Mass (billion lbs) by Week',fontsize=13);\n",
    "# ax = gca().yaxis.set_major_formatter(mpl.ticker.StrMethodFormatter('{x:,.0f}'));\n",
    "plt.savefig(os.path.join(hndl.blog_im_dir,'total_sand_used.jpg'),dpi=150)"
   ]
  },
  {
   "cell_type": "code",
   "execution_count": null,
   "id": "8f270e71-1da7-4e45-92b7-73f5030cc306",
   "metadata": {},
   "outputs": [],
   "source": [
    "# Not used\n",
    "# gb3 = master_df[master_df.bgCAS.isin(otherprop)].groupby('date')[['calcMass']].sum()\n",
    "# allwk_other_sum = gb3.resample(\"W\").sum()\n",
    "# ax = allwk_other_sum.plot(figsize=(12,5), ylabel='Total other proppants Mass (lbs) By Week',style='o');\n",
    "# ax.set_title('Total weekly use of \"other proppants\" across FracFocus',fontsize=18)\n",
    "# ax = gca().yaxis.set_major_formatter(mpl.ticker.StrMethodFormatter('{x:,.0f}'));"
   ]
  },
  {
   "cell_type": "code",
   "execution_count": null,
   "id": "56805ac5-d32d-4f72-8e67-7810c3778214",
   "metadata": {},
   "outputs": [],
   "source": [
    "# # Not used\n",
    "# props = master_df[master_df.bgCAS.isin(otherprop)].groupby('bgCAS',as_index=False)['epa_pref_name'].first()\n",
    "# print(f'List of \"other proppants\" graphed: \\n{props}\\n')"
   ]
  },
  {
   "cell_type": "markdown",
   "id": "581c352c-118e-49f7-9192-e3003f9dfc54",
   "metadata": {},
   "source": [
    "---\n",
    "<a id='companiess'></a>\n",
    "# Companies represented\n",
    "- in development"
   ]
  },
  {
   "cell_type": "code",
   "execution_count": null,
   "id": "d677e052-1839-455e-9853-e3138e9198e0",
   "metadata": {},
   "outputs": [],
   "source": [
    "ogb = master_df.groupby(['bgOperatorName','DisclosureId'],as_index=False).size()\n",
    "ogbname = master_df.groupby(['bgOperatorName'])['OperatorName'].agg(lambda x: x.value_counts().index[0])\n",
    "ogbname = ogbname.reset_index()\n",
    "mg = pd.merge(ogb,ogbname,on='bgOperatorName',how='left')\n",
    "# ogb = ogb.groupby('bgOperatorName',as_index=False).size()\n",
    "# ogb = ogb.sort_values('size',ascending=False)\n",
    "# ogb.plot.barh('size','bgOperatorName')\n",
    "h = mg.OperatorName.value_counts()\n",
    "print(f'Total number bgOp: {len(h)}, number with fewer than 20 disc: {len(h[h<20])}, with fewer than 5: {len(h[h<5])}')"
   ]
  },
  {
   "cell_type": "code",
   "execution_count": null,
   "id": "bd0a970f-2a4a-4668-ac28-8b46d15474bb",
   "metadata": {},
   "outputs": [],
   "source": [
    "ax = mg.OperatorName.value_counts()[:15].plot.barh(figsize=(7,5))\n",
    "ax.set_title('Top 15 Operators')\n",
    "ax.set_xlabel('Number of disclosures in FracFocus');\n",
    "plt.tight_layout();\n",
    "plt.savefig(os.path.join(hndl.blog_im_dir,'operators.jpg'),dpi=150)"
   ]
  },
  {
   "cell_type": "code",
   "execution_count": null,
   "id": "bef35d71-bb2b-42f6-bc18-2dd8da7f95b8",
   "metadata": {},
   "outputs": [],
   "source": [
    "sgb = master_df.groupby(['bgSupplier','DisclosureId'],as_index=False).size()\n",
    "sgbname = master_df.groupby(['bgSupplier'])['Supplier'].agg(lambda x: x.value_counts().index[0])\n",
    "sgbname = sgbname.reset_index()\n",
    "mg = pd.merge(sgb,sgbname,on='bgSupplier',how='left')\n",
    "\n",
    "x = ['MISSING','Listed Above','Operator','Customer','Ingredient Container']\n",
    "mg = mg[~mg.Supplier.isin(x)]\n",
    "h = mg.Supplier.value_counts()\n",
    "print(f'Total number bgSup: {len(h)}, number with fewer than 20 disc: {len(h[h<20])}, with fewer than 5: {len(h[h<5])}')\n",
    "\n",
    "ax = mg.Supplier.value_counts()[:15].plot.barh(figsize=(6,5))\n",
    "ax.set_xlabel('Number of disclosures in FracFocus');\n",
    "ax.set_title('Top 15 Suppliers');\n",
    "plt.tight_layout();\n",
    "plt.savefig(os.path.join(hndl.blog_im_dir,'suppliers.jpg'),dpi=150)"
   ]
  },
  {
   "cell_type": "markdown",
   "id": "4c535582-0d08-4be9-b121-a9a340a0b30b",
   "metadata": {},
   "source": []
  },
  {
   "cell_type": "markdown",
   "id": "3b247164-3a9d-45ac-828c-a95c531e3b02",
   "metadata": {},
   "source": [
    "# MassIngredient and calcMass"
   ]
  },
  {
   "cell_type": "code",
   "execution_count": null,
   "id": "e2a435da-c909-4f7f-b454-539859a054c0",
   "metadata": {},
   "outputs": [],
   "source": [
    "df = master_df.copy()\n",
    "c1 = df.cleanMI>0\n",
    "c2 = df.calcMass>0\n",
    "cboth = c1&c2&(~df.massCompFlag)\n",
    "cMI = c1&(~c2)&(~df.massCompFlag)\n",
    "ccM = c2&(~c1)&(~df.massCompFlag)\n",
    "cneither = ~c1 & ~c2 & ~df.massCompFlag\n",
    "df['year'] = df.date.dt.year\n",
    "df = df[df.year>2010]\n",
    "\n",
    "gbMI = df[cMI&df.is_valid_cas].groupby('year',as_index=False).size().rename({'size':'cleanMI_only'},axis=1)\n",
    "gbcm = df[ccM&df.is_valid_cas].groupby('year',as_index=False).size().rename({'size':'calcMass_only'},axis=1)\n",
    "gbcboth = df[cboth&df.is_valid_cas].groupby('year',as_index=False).size().rename({'size':'both'},axis=1)\n",
    "gbneither = df[cneither&df.is_valid_cas].groupby('year',as_index=False).size().rename({'size':'neither'},axis=1)\n",
    "gbincom = df[df.massCompFlag&df.is_valid_cas].groupby('year',as_index=False).size().rename({'size':'conflicting'},axis=1)\n",
    "gball = df[df.is_valid_cas].groupby('year',as_index=False).size().rename({'size':'allvalid'},axis=1)\n",
    "\n",
    "mg = pd.merge(gbMI,gbcm,on='year',how='outer').merge(gbcboth,on='year',how='outer').merge(gbneither,on='year',how='outer')\n",
    "mg = mg.merge(gbincom,on='year',how='outer').merge(gball,on='year',how='outer')\n",
    "mg.fillna(0,inplace=True)\n",
    "mg.both = mg.both/mg.allvalid\n",
    "mg.calcMass_only = mg.calcMass_only/mg.allvalid\n",
    "mg.cleanMI_only = mg.cleanMI_only/mg.allvalid\n",
    "mg.conflicting = mg.conflicting/mg.allvalid\n",
    "\n",
    "mg.neither = mg.neither/mg.allvalid\n",
    "mg.plot.area('year',['calcMass_only','cleanMI_only','both','conflicting','neither'],\n",
    "            title='Source of \"mass\" for records with valid chemical ID',ylabel=\"fraction of total\");\n",
    "plt.tight_layout();\n",
    "plt.savefig(os.path.join(hndl.docs_images,'mass_source_area_plot.png'),dpi=150)"
   ]
  }
 ],
 "metadata": {
  "kernelspec": {
   "display_name": "Python 3 (ipykernel)",
   "language": "python",
   "name": "python3"
  },
  "language_info": {
   "codemirror_mode": {
    "name": "ipython",
    "version": 3
   },
   "file_extension": ".py",
   "mimetype": "text/x-python",
   "name": "python",
   "nbconvert_exporter": "python",
   "pygments_lexer": "ipython3",
   "version": "3.11.8"
  }
 },
 "nbformat": 4,
 "nbformat_minor": 5
}
