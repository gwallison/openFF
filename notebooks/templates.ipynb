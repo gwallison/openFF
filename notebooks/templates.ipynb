{
 "cells": [
  {
   "cell_type": "markdown",
   "id": "7dfb0dc7-de12-4834-85aa-d32a36482cb5",
   "metadata": {},
   "source": [
    "# Templates to use in the openFF notebooks"
   ]
  },
  {
   "cell_type": "markdown",
   "id": "3b8f2b30-51b9-4276-9bd3-5cf58c2d03dc",
   "metadata": {},
   "source": [
    "## at the top:\n",
    "This is just header/text material and will be added by hand\n",
    "\n",
    "Code that is executed on all can be added with %run file.ipynb"
   ]
  },
  {
   "cell_type": "markdown",
   "id": "4704ea95-a2b2-4726-9799-9cb0e2d1c714",
   "metadata": {},
   "source": [
    "| <div> <img src=\"https://storage.googleapis.com/open-ff-common/openFF_logo.png\" width=\"100\"/></div>| <div> <img src=\"https://storage.googleapis.com/open-ff-common/2021_FT_logo_icon.png\" width=\"100\"/></div> |<div>This notebook is licensed under GPL 3.0. Please visit our Github repo for more information: \n",
    " For more information about this project, visit [our website](https://www.environmentalenforcementwatch.org/)</div>|\n",
    "|---|---|---|\n",
    "\n",
    "\n"
   ]
  }
 ],
 "metadata": {
  "kernelspec": {
   "display_name": "Python 3 (ipykernel)",
   "language": "python",
   "name": "python3"
  },
  "language_info": {
   "codemirror_mode": {
    "name": "ipython",
    "version": 3
   },
   "file_extension": ".py",
   "mimetype": "text/x-python",
   "name": "python",
   "nbconvert_exporter": "python",
   "pygments_lexer": "ipython3",
   "version": "3.10.12"
  }
 },
 "nbformat": 4,
 "nbformat_minor": 5
}
