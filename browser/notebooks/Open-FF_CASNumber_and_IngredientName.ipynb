{
 "cells": [
  {
   "cell_type": "code",
   "execution_count": null,
   "id": "853e4cd8-648f-4f48-a525-5ec0239098e3",
   "metadata": {},
   "outputs": [],
   "source": [
    "import sys\n",
    "sys.path.insert(0,'c:/MyDocs/integrated/') # adjust to your setup\n",
    "\n",
    "%run \"catalog_support.py\" \n",
    "showHeader('CASNumber | IngredientName pairs')"
   ]
  },
  {
   "cell_type": "markdown",
   "id": "92226fd2-8b55-471f-b376-228e5dab6e6b",
   "metadata": {},
   "source": [
    "Starting with the Open-FF version 10, we have used a curation method to better clean the FracFocus data set.  In this method, all unique combinations of CASNumber and IngredientName pairs are evaluated manually to determine the best chemical label to assign to records.  While FracFoucs records about 1,300 unique chemical materials, because of the numerous ways companies record these chemicals, this list of CASNumber/IngredientName pairs is over 25,000 entries long.\n",
    "\n",
    "This is essentially a tranlation table.  The input is the CASNumber and IngredientName and the output is bgCAS, our best guess for the proper identity of the chemical in the record.  \n",
    "\n",
    "See the bottom of this page for notes about issues with these pairs."
   ]
  },
  {
   "cell_type": "code",
   "execution_count": null,
   "id": "0396a16c-d1d5-422f-a0c7-c8efec2fb578",
   "metadata": {},
   "outputs": [],
   "source": [
    "# fetch data set\n",
    "df_cas = fh.get_df(os.path.join(hndl.sandbox_dir,'workdf.parquet'))"
   ]
  },
  {
   "cell_type": "code",
   "execution_count": null,
   "id": "judicial-language",
   "metadata": {},
   "outputs": [],
   "source": [
    "gb = df_cas.groupby(['CASNumber','IngredientName'],as_index=True)['DisclosureId'].count().reset_index()\n",
    "gb = gb.rename({'DisclosureId':'record_count'},axis=1)"
   ]
  },
  {
   "cell_type": "code",
   "execution_count": null,
   "id": "purple-giant",
   "metadata": {},
   "outputs": [],
   "source": [
    "casing = fh.get_df(os.path.join(hndl.curr_repo_dir,'curation_files','casing_curated.parquet'))\n",
    "CAScurated = fh.get_df(os.path.join(hndl.curr_repo_dir,'curation_files','CAS_curated.parquet')).rename({'comment':'CAS_comment'},axis=1)\n",
    "CAScurated.CAS_comment.fillna(' ',inplace=True)\n",
    "casing = pd.merge(casing,CAScurated[['CASNumber','CAS_comment']],on='CASNumber',how='left')\n",
    "#casing.columns"
   ]
  },
  {
   "cell_type": "code",
   "execution_count": null,
   "id": "contemporary-filling",
   "metadata": {},
   "outputs": [],
   "source": [
    "def sort_id(st):\n",
    "    l = list(st)\n",
    "    l.sort()\n",
    "    return l\n",
    "\n",
    "gb1 = df_cas.groupby(['CASNumber','IngredientName'],as_index=True)['bgIngredientName'].first().reset_index()\n",
    "\n",
    "gb2 = df_cas.groupby(['CASNumber','IngredientName'])['APINumber'].apply(set).reset_index()\n",
    "gb2.APINumber = gb2.APINumber.map(lambda x: sort_id(x))\n",
    "gb2.APINumber = gb2.APINumber.map(lambda x: th.xlate_to_str(x,' ',totallen=30))\n",
    "casing = pd.merge(casing,gb,on=['CASNumber','IngredientName'],how='left')\n",
    "casing = pd.merge(casing,gb1,on=['CASNumber','IngredientName'],how='left')\n",
    "casing = pd.merge(casing,gb2,on=['CASNumber','IngredientName'],how='left')\n",
    "casing['<CAS'] = '<h1>||</h1>'\n",
    "casing['<Ing'] = '<h1>||</h1>'\n",
    "casing.CASNumber = '<b>'+casing.CASNumber+'</b>'\n",
    "casing.IngredientName = '<b>'+casing.IngredientName+'</b>'\n",
    "casing['curCAS'] = casing.curatedCAS #+'<br>'+casing.categoryCAS\n",
    "try:\n",
    "    casing['curING'] = casing.synCAS #+'<br>'+casing.recog_syn\n",
    "except:\n",
    "    casing['curING'] = casing.prospect_CAS_fromIng+'<br>'+casing.syn_code\n",
    "try:\n",
    "    casing['curfinal'] = '<h3>'+casing.bgCAS+'</h3><br>'+casing.source\n",
    "except:\n",
    "    casing['curfinal'] = '<h3>'+casing.bgCAS+'</h3><br>'+casing.bgSource\n",
    "#print(casing.columns)"
   ]
  },
  {
   "cell_type": "markdown",
   "id": "directed-hands",
   "metadata": {},
   "source": [
    "|Explanation of columns in the index|\n",
    "| :---: |\n",
    "\n",
    "| Column      | Description |\n",
    "| :----: | :-------- |\n",
    "| | **Curation of CASNumber**|\n",
    "|*raw CASNumber*| is the text in the CASNumber field of the original FracFocus data set, as found.|\n",
    "|*CAS comment:*| any comments made the the Open-FF person evaluating the raw CASNumber.|  \n",
    "|*curated CASNumber*| is the CAS number after curation steps|\n",
    "| | **Curation of IngredientName**|\n",
    "|*IngredientName*| is the raw text in the IngredientName field of the original FracFocus data set, as found.|\n",
    "|*implied CAS from IngName (code)*| is the implied CAS number from the IngredientName as given; below is the curation code|\n",
    "| | **Curation of the CASNumber/IngredientName Pair**|\n",
    "|*final bgCAS and source*| shows the 'best guess' CAS Number when considering the curated version of CASNumber and IngredientName. Below shows which of the pair were used for this conclusion.|\n",
    "| | **Pair characteristics** |\n",
    "|*record_count*| is the number of times this CASNumber/IngredientName pair occurs in the original FracFocus data set.|\n",
    "|*APINumber*| example well APINumbers that have reported this CASNumber/IngredientName pair |\n"
   ]
  },
  {
   "cell_type": "code",
   "execution_count": null,
   "id": "respected-triangle",
   "metadata": {},
   "outputs": [],
   "source": [
    "casing = casing[casing.record_count.notna()][['CASNumber','CAS_comment','curCAS','<CAS',\n",
    "                                             'IngredientName','curING','<Ing',\n",
    "                                             'curfinal','record_count','APINumber']]\n",
    "casing = casing.rename({'curCAS':'curated CASNumber','CASNumber':'raw CASNumber',\n",
    "                 'curING':'implied CAS from IngName (code)','curfinal':'final bgCAS and source',\n",
    "                 'bgCAS':'output: bgCAS','record_count':'record count'},axis=1)\n",
    "iShow(casing.sort_values('record count',ascending=False).reset_index(drop=True),\n",
    "      maxBytes=0,classes=\"display compact cell-border\")\n",
    "# iShow(casing,maxBytes=0)\n"
   ]
  },
  {
   "cell_type": "code",
   "execution_count": null,
   "id": "89fab9e8-db00-4d1c-b78c-c1095bac7b59",
   "metadata": {},
   "outputs": [],
   "source": []
  }
 ],
 "metadata": {
  "hide_input": true,
  "kernelspec": {
   "display_name": "Python 3 (ipykernel)",
   "language": "python",
   "name": "python3"
  },
  "language_info": {
   "codemirror_mode": {
    "name": "ipython",
    "version": 3
   },
   "file_extension": ".py",
   "mimetype": "text/x-python",
   "name": "python",
   "nbconvert_exporter": "python",
   "pygments_lexer": "ipython3",
   "version": "3.10.12"
  }
 },
 "nbformat": 4,
 "nbformat_minor": 5
}
