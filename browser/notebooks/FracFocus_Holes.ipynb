{
 "cells": [
  {
   "cell_type": "code",
   "execution_count": null,
   "id": "29743448-dda0-4367-b4d6-4a919e8bb968",
   "metadata": {},
   "outputs": [],
   "source": [
    "import sys\n",
    "sys.path.insert(0,'c:/MyDocs/integrated/') # adjust to your setup\n",
    "\n",
    "%run \"catalog_support.py\" \n",
    "showHeader('Holes in FracFocus')"
   ]
  },
  {
   "cell_type": "code",
   "execution_count": null,
   "id": "8fde61cd-2ee5-4be1-a2ff-7e0b501b8e66",
   "metadata": {},
   "outputs": [],
   "source": [
    "# fetch data set\n",
    "df = fh.get_df(os.path.join(hndl.sandbox_dir,'workdf.parquet'))"
   ]
  },
  {
   "cell_type": "code",
   "execution_count": null,
   "id": "5af2fea7-6d38-4841-8c53-28b78847a80c",
   "metadata": {},
   "outputs": [],
   "source": [
    "df = df[(df.date.dt.year>2010)]\n",
    "df = df[df.in_std_filtered]\n"
   ]
  },
  {
   "cell_type": "markdown",
   "id": "d06831f9-3a52-4ff2-b1f2-a84d3ada6105",
   "metadata": {},
   "source": [
    "> ## Executive summary\n",
    "> Although individual FracFocus disclosures may give the impression of a highly detailed and complete record of the chemicals injected into fracked wells, in reality, disclosures are far from transparent.  Members of the public looking to understand potential health and envirnomental consequences of frackings must come to grips with masked reports and  omissions from a full reporting.  These include proprietary claims and ambiguous data as well as missing chemicals because of reporting based on abbreviated lists. All of these sources of absent disclosure likely hide important dangerous materials. Although FracFocus is an important window into the industry's use of fracking chemicals, we must remember that it is far from a complete view.\n",
    "\n",
    "\n",
    "[FracFocus](https://fracfocus.org/) is one of the biggest publicly available data sources of fracking chemical uses in the world.   It is cited by the fossil fuel industry as an example of its transparency and good stewardship. It covers over a decade of on-shore fracking operations in most of the US states where fracking is active.  This period includes at least part of the fracking boom that made the US a dominant oil and gas producer.  FracFocus includes millions of chemical records in over 175,000 disclosures.  \n",
    "\n",
    "\n",
    "For people outside of the fossil-fuel industry, the motive to understand the uses of chemicals in fracking is simple: We want to understand the health and environmental consequences of the industry. **How useful is FracFocus data for this goal?**\n",
    "\n"
   ]
  },
  {
   "cell_type": "markdown",
   "id": "196ddd57-89ad-4c3c-b7b7-d2c49fd0efda",
   "metadata": {},
   "source": [
    "# A naive expectation\n",
    "One could reasonably expect that a chemical disclosure instrument like FracFocus would document all the chemicals used in a fracking operation, and in a manner that the public could use to understand the potential health and environmental impacts.  For example, at the least, if a Operator publishes a list of chemicals pumped into the ground 1,000 feet from an elementary school, like the six wells on a well pad near Mary Harris Elementary School in Tarrant County, Texas ..."
   ]
  },
  {
   "cell_type": "code",
   "execution_count": null,
   "id": "2fa152ff-0882-4319-8158-e91e982f17ec",
   "metadata": {},
   "outputs": [],
   "source": [
    "# Image(filename='./docs/Mary_Harris_Elementary.png', width=800)\n",
    "from IPython.display import Image\n",
    "Image(filename=os.path.join(hndl.nb_images_dir,'Mary_Harris_Elementary.png'), width=400)"
   ]
  },
  {
   "cell_type": "markdown",
   "id": "5102267f-2709-4158-b9fe-e5b02abeb077",
   "metadata": {},
   "source": [
    "([google map](https://www.google.com/maps/place/32%C2%B037'16.9%22N+97%C2%B022'58.4%22W/@32.6213565,-97.3850687,707m/data=!3m1!1e3!4m5!3m4!1s0x0:0xe79d0e9b033567aa!8m2!3d32.621352!4d-97.38288))\n",
    "\n",
    "... we could expect the identity and quantity of all the chemicals to be clearly stated.   Something like the figure below:"
   ]
  },
  {
   "cell_type": "markdown",
   "id": "c5de241e-2f63-40c4-b4ab-67482e5897a1",
   "metadata": {},
   "source": [
    "Indeed, the detailed nature of individual FracFocus disclosures may give the impression that these data are a complete record. If you look at the 6 disclosures for the wells mentioned above using the FracFocus [\"Find_a_Well' search feature](http://fracfocusdata.org/DisclosureSearch/Search.aspx) and these APINumbers: 42-439-34340, 42-439-34911, 42-439-37149, 42-439-37150, 42-439-37151, 42-439-37152, you will find detailed chemical information. \n",
    "\n",
    "But clearly, if any chemicals are left out of disclosures, our ability to understand fracking impacts is handicapped."
   ]
  },
  {
   "cell_type": "markdown",
   "id": "339adf55-7545-4ec5-bd3f-633d998f96e7",
   "metadata": {},
   "source": [
    "---\n",
    "---\n",
    "# Visible Holes\n",
    "Once one begins examining FracFocus disclosures, the most obvious blow to that naive expectation is the extensive list of chemicals recorded in the disclosures that have their actual identities masked. The two major categories are Trade Secret claims and ambiguous records."
   ]
  },
  {
   "cell_type": "markdown",
   "id": "f467b5c6-4450-429e-b82c-572f3f182a69",
   "metadata": {},
   "source": [
    "## Proprietary claims\n",
    "The biggest class of these masked chemicals are the \"proprietary claims,\" \"trade secrets,\" and \"confidential business information.\"  These claims are allowed by many state regulators and are used heavily in FracFocus.\n",
    "\n",
    "Here is an example of these claims: the figure below is an excerpt of the disclosure for the Texas well 42-227-40269-00-00 by Diamondback E&P in August 2022 with the proprietary records marked with red.  "
   ]
  },
  {
   "cell_type": "code",
   "execution_count": null,
   "id": "c9f3d811-d2cd-474b-8581-cee0dd1c24d9",
   "metadata": {},
   "outputs": [],
   "source": [
    "Image(filename=os.path.join(hndl.nb_images_dir,'proprietary_disc_example.png'), width=600)"
   ]
  },
  {
   "cell_type": "code",
   "execution_count": null,
   "id": "c5708edf-c69e-4f24-a14c-9d05157b0dda",
   "metadata": {},
   "outputs": [],
   "source": [
    "c1 = df.bgCAS=='proprietary'\n",
    "c2 = df.IngredientName.str.lower() == 'proprietary'\n",
    "c3 = df.IngredientName == 'surfactant'\n",
    "c4 = df.IngredientName == 'trade secret'\n",
    "# print(f'len df: {len(df)}, len proprietary: {len(df[c1])}')\n",
    "# print(df[c1][['bgCAS','IngredientName']].IngredientName.value_counts()[:10])\n",
    "display(md(f\"\"\"The FracFocus website claims that proprietary records include the functional class of the chemical as shown in most records in the example\n",
    "above. But even with a functional group, the lack of specific identification prevents us from understanding the actual risk of the chemical.\n",
    "<br><br>Furthermore, there\n",
    "are many records with essentially no indication of the material's class. For example, there are\n",
    "**{len(df[c2]):,}** records named only \"proprietary,\" **{len(df[c1&c4]):,}** records named only \"trade secret\" and **{len(df[c1&c3]):,}** records named only \"surfactant.\"\n",
    "<br><br>\n",
    "Additionally, these masked chemicals are widespread: most disclosures report at least one record that is a proprietary claim, as illustrated below: \"\"\"))"
   ]
  },
  {
   "cell_type": "code",
   "execution_count": null,
   "id": "34741687-596d-4923-8097-58b99b2c650d",
   "metadata": {},
   "outputs": [],
   "source": [
    "Image(filename=os.path.join(hndl.nb_images_dir,'proprietary_pie.png'), width=500)"
   ]
  },
  {
   "cell_type": "code",
   "execution_count": null,
   "id": "9b326970-d862-41f1-8f89-40063baa9fa4",
   "metadata": {},
   "outputs": [],
   "source": [
    "display(md(\"\"\"... as of Nov. 2022. Remarkably, there are [some disclosures](https://frackingchemicaldisclosure.wordpress.com/2020/04/24/why-can-companies-publish-disclosures-without-identifying-anything-but-water/) that hide **everything but water**. \"\"\" ))\n",
    "\n",
    "c1 = df.bgCAS=='proprietary'\n",
    "c2 = df.calcMass>0\n",
    "t = df[c1 &c2].calcMass\n",
    "\n",
    "display(md(f\"\"\" The percent of chemical records in FracFocus that are proprietary claims is **{round(len(df[c1])/len(df) *100,0)}%**. There are **{len(t):,}** proprietary\n",
    "records that have non-zero mass. The median mass is {round(t.median(),0)} pounds.  That is a lot of unknown chemicals. <br> For more details into this set of records, \n",
    "see the [proprietary detail page.](./proprietary/analysis_proprietary.html)\"\"\"))\n",
    "        "
   ]
  },
  {
   "cell_type": "markdown",
   "id": "c00987dc-baa7-46e3-9327-32b116b3b106",
   "metadata": {},
   "source": [
    "Are proprietary chemicals worth worrying about?  Of course, we can't know, because most likely, we will never learn the identity of these chemicals.  However, it is worth noting that when proprietary chemicals are occasionaly unmasked, they often contain dangerous materials.  In 2021, [EPA updated the TSCA \"confidential\" list](https://www.epa.gov/tsca-cbi/updates-confidential-status-chemicals-tsca-inventory) of materials and released the identity of about 300 chemicals whose identity had previously been protected.  Many of the chemicals on that list are so poorly studied, they have not even been assigned a CAS number. On that list, 11 chemicals are on EPA's PFAS master list.  "
   ]
  },
  {
   "cell_type": "code",
   "execution_count": null,
   "id": "788fde4c-8625-46d9-87db-931d22b4ec06",
   "metadata": {},
   "outputs": [],
   "source": [
    "Image(filename=os.path.join(hndl.nb_images_dir,'EPA_TSCA_non_confidential_PFAS.png'), width=800)"
   ]
  },
  {
   "cell_type": "markdown",
   "id": "18ef1ffc-dbf3-41f5-bbd8-5c741d4fa5fe",
   "metadata": {},
   "source": [
    "Again, we do not know if these have even been used in fracking operations; and that's the problem. A disclosure instrument is meant to provide tranparency.  Proprietary claims are antithetical to that."
   ]
  },
  {
   "cell_type": "markdown",
   "id": "42f1c981-039f-400b-9ae1-97ad61f68c6d",
   "metadata": {},
   "source": [
    "## Ambiguous data\n",
    "Another class of records like proprietary claims because they appear in disclosures are records that are simply not labeled or are labeled in a way that cannot be resolved to a single, specific chemical. That is, while they appear in the disclosure, companies do not give us enough information to understand their identity and therefore their toxicity.  "
   ]
  },
  {
   "cell_type": "code",
   "execution_count": null,
   "id": "336a9e3c-2f6f-4fbb-a78f-d27cc681d9b7",
   "metadata": {},
   "outputs": [],
   "source": [
    "c = df.bgCAS=='ambiguousID'\n",
    "c1 = df.CASNumber=='MISSING'\n",
    "c2 = df.PercentHFJob>0\n",
    "c3 = df.PercentHFJob>75\n",
    "c4 = df.CASNumber=='50-28-2'\n",
    "display(md(f\"\"\"For example, there are **{len(df[c&c1&c2]):,}** records that have non-zero `PercentHFJob` \n",
    "but with no `CASNumber` given.  Among these records are  **{len(df[c&c1&c3]):,}** representing the carrier of the disclosure (% concentration > 75%).   While the `IngredientName` in that latter group implies some mix of water and other ingredients, there is no indication of what those other \n",
    "ingredients might be (see the \"Produced Water\" section below).  The mass of those records is **{th.round_sig(df[c&c1&c3].calcMass.sum())}** pounds (at least for those records for which mass is calculable). \"\"\"))  \n",
    "\n",
    "display(md(f\"\"\"Other ambiguous identification includes CAS codes that are either obvious dummy codes (e.g., '0000-00-0' or 'xxxx-xx-x')\n",
    "or codes for chemicals that are clearly wrong.  For example, **{len(df[c4])}** disclosures report the proppant of the frack as '50-28-2' but that chemical is\n",
    "**estradiol**, the human female hormone. Because this code is not typographically close to any FracFocus chemicals, this is likely not a mistake, but a stupid prank. \n",
    "<br><br> When we cannot resolve these records at Open-FF, we label them as \"ambiguousID.\"  For more details into this set of records, \n",
    "see the [ambiguousID detail page.](./ambiguousID/analysis_ambiguousID.html) (We should also note that among the \"ambiguousID\" records are\n",
    "clearly non-chemical lines in the disclosure. These will not have \"quantity\" data associated and are often formatting lines. They are\n",
    "safely ignored.)\n",
    "\"\"\"))"
   ]
  },
  {
   "cell_type": "markdown",
   "id": "48d8d577-3193-4373-8029-d86b443231b1",
   "metadata": {},
   "source": [
    "So, unlike the naive expectation, there are clearly holes that we can see:"
   ]
  },
  {
   "cell_type": "code",
   "execution_count": null,
   "id": "938eebd1-d6de-4910-aad6-e581d94ea088",
   "metadata": {},
   "outputs": [],
   "source": [
    "Image(filename=os.path.join(hndl.nb_images_dir,'Proprietary_and_Ambiguous.png'), width=350)"
   ]
  },
  {
   "cell_type": "markdown",
   "id": "514d3f55-61f6-45b4-9f0b-46696fd6402c",
   "metadata": {},
   "source": [
    "---\n",
    "---\n",
    "# Invisible Holes\n",
    "## Abridged lists are the primary sources for disclosures\n",
    "Unlike the Proprietary and Ambiguous classes that are essentially unidentified chemicals but we know they have been used, another set of chemicals are injected in fracking operations that are not mentioned in FracFocus disclosures.  We know they exist only from evidence outside of FracFocus.  Three classes that we know of are Safety Data Sheet omissions, water sources that contain more than water, and distillates.\n",
    "\n",
    "## Safety Data Sheets\n",
    "Much of the chemical information in FracFocus is based on products' Safety Data Sheets (SDS, sometimes called MSDS) that are compiled to comply with OSHA regulations. These documents, summarized [here by OSHA](https://www.osha.gov/sites/default/files/publications/OSHA3514.pdf) are primarily developed to inform workers who must work with these materials and to aid emergency response teams that might have to deal with spills or injuries. They are typically 3-15 pages and are usually found as PDF files. ([Click here for a quick example](https://ohiodnr.gov/static/documents/oil-gas/msds/Plexsurf+215E_Chemplex_SDS.pdf). Note that the format of SDS/MSDS has changed in the last decade; section numbers may be different than the current format.)\n",
    "\n",
    "FracFocus and the companies submitting chemical disclosures have re-purposed Safety Data Sheets from their worker safety/emergency responder origins to serve as an ingredient list for disclosures by using Section 3 of the SDS, the composition of the product. Because manfacturers of chemical products used in fracking were already required to produce these SDS for each product, the SDS became a handy source of ingredients for public disclosure.  Below is a screenshot example of that ingredient list from a SDS for Plexsurf 251E by Chemplex:\n",
    "\n"
   ]
  },
  {
   "cell_type": "code",
   "execution_count": null,
   "id": "de82f939-9933-4b16-9600-ea59ec61e574",
   "metadata": {},
   "outputs": [],
   "source": [
    "Image(filename=os.path.join(hndl.nb_images_dir,'Plexsurf_215E_ingredients.png'), width=600)"
   ]
  },
  {
   "cell_type": "markdown",
   "id": "88dafd9d-9686-4ce6-9c7a-e6dcbb5ecbd3",
   "metadata": {},
   "source": [
    "Note here that there are three hazardous ingredients listed and that their CAS numbers are listed. The percent listed is also required but may be given as a range to allow the manfacturer to mask exact recipes or to allow for variability in the manufacturing process. FracFocus (and state regulations) require that the *upper* level of the range be used in reporting.  \n",
    "\n",
    "Clearly, this is an abridged list of what is in the product.  At most, these three ingredients comprise 46% of the mass in the product, and as little as 32%.  **What is in that other 54-68% of the product?**  Often, only the manufacturer knows. Even operating companies, while they are responsible for the completeness of the disclosure, may never know the ingredients of the products they use. See [Horwitt & Teklemichael, 2022](https://psr.org/wp-content/uploads/2022/07/chemical-makers-exemptions-from-fracking-chemical-disclosure-rules.pdf).\n",
    "\n",
    "Are these non-disclosed chemicals a problem?  The SDS is not designed to be an exhaustive ingredient list unless all components are considered \"hazardous.\"  Perhaps all of those non-identified ingredients are inert, perhaps just water.  But there are reasons to be suspicious of what is **not** on the list.  First, what may be considered non-harzardous in an occupational setting (the main purpose of an SDS) may be problematic from an environmental perspective.  Second, what is considered hazardous can change over time.  For example, the status of PFAS chemicals [have recently changed dramatically in the US](https://www.epa.gov/pfas). Although the EPA has recently disallowed the use of PFAS chemicals in pesticides, it has become clear that not only were they used in pesticides **as inert ingredients** (and therefore, not on the SDS of the products), they were used at [incredibly high concentrations](https://peer.org/substantial-pfas-contamination-found-in-pesticides/). By not listing all ingredients, we lose the ability to interpret impacts of past fracking events.\n",
    "\n",
    "Could something like that happen with fracking chemicals? Considering that PFAS surfactants have been mentioned in multiple places (see [Horwitt & Gottlieb, 2022](https://psr.org/wp-content/uploads/2022/01/fracking-with-forever-chemicals-in-colorado.pdf)) as highly effective in fracking, and yet they appear rarely in FracFocus, it is reasonable to be suspicious that they may be used either as inert ingredients or hidden as proprietary ingredients."
   ]
  },
  {
   "cell_type": "code",
   "execution_count": null,
   "id": "52297cbb-63c3-482c-bc5d-09dec0adeea2",
   "metadata": {},
   "outputs": [],
   "source": [
    "Image(filename=os.path.join(hndl.nb_images_dir,'SDS_example.png'), width=350)"
   ]
  },
  {
   "cell_type": "markdown",
   "id": "96dddc8e-a1f0-4682-b853-0a23dc3ad8b6",
   "metadata": {},
   "source": [
    "Sidenote 1: While the use of SDS as a source of ingredients is only partial, you might think that at least it lends a predictability to FracFocus. That is, when you see a given product, you know the ingredients and their concentration is stable through the data set.  Unfortunately, that is not the case. In the table below are the 8 most frequent of at least 40 different variations of the Chemplex product \"Plexsurf 240e.\"  In the `cas_per_tuple` column are the CAS numbers and concentrations (the maximum of the reported range) of each ingredient listed for that product in the disclosure.  `Size` is the number of disclosures that report that particular variation and `APINumber` are example wells from that set."
   ]
  },
  {
   "cell_type": "code",
   "execution_count": null,
   "id": "d89a003e-b4e8-4b53-9c56-e0a36d9c545c",
   "metadata": {},
   "outputs": [],
   "source": [
    "Image(filename=os.path.join(hndl.nb_images_dir,'Plexsurf_240e_variation.png'), width=950)"
   ]
  },
  {
   "cell_type": "markdown",
   "id": "03566f0e-9392-485f-946e-dfe6696bac37",
   "metadata": {},
   "source": [
    "All lines represent the same product and yet what is actually reported for the ingredients and their concentration for that product is far from stable across FracFocus.  For example, in the 4th line, the ingredient 71330-23-1 (an alkoxylated alcohol) is used at 15% (which for most of those 58 disclosures, was over 20,000 lbs of the chemical) - and yet that chemical doesn't even appear in the other 7 variations shown.  "
   ]
  },
  {
   "cell_type": "markdown",
   "id": "d4b93cde-6c00-4864-8448-d4017a188cc3",
   "metadata": {},
   "source": [
    "From our preliminary exploration, such variation is more of the rule than the exception in FracFocus; when a TradeName is fairly common, the reporting of its chemicals will not be standardized.  Unfortunately for transparency sake, this type of exploration is not even possible with the \"system approach\" in which product names are explicitly dissociated from the chemical identification and quantity.  (User tip: search the [TradeName catalog](Open-FF_TradeNames.html) for other examples)"
   ]
  },
  {
   "cell_type": "markdown",
   "id": "2500c70d-d612-4703-a367-9daf5dadcd1c",
   "metadata": {},
   "source": [
    "Sidenote 2: Safety Data Sheets can have a wealth of information about the chemicals that are actually disclosed on them.  There are several repositories of fracking SDS that are available free to the public: state regulator collections ([Ohio](https://ohiodnr.gov/discover-and-learn/safety-conservation/about-ODNR/oil-gas/sds), [Indiana](https://www.in.gov/dnr/oil-and-gas/oil-and-gas-activity/hydraulic-fracturing-in-indiana/dnr-hydraulic-fracturing-additives-msds/)) and company collections ([Halliburton (via Baroid)](https://www.baroididp.com/en/msds), [Baker Hughes (requires free account)](https://us.search.connect.bakerhughes.com/Pages/MSDSSearch.aspx).) However, many state SDS collections are old and many other products' SDS are effectively unavailable. Some companies that treat SDS as [confidential business information](https://www.slb.com/safety-data-sheets) and are therefore not available to the public."
   ]
  },
  {
   "cell_type": "markdown",
   "id": "fb8bd59f-5425-4fb0-b19c-a8264a17ad72",
   "metadata": {},
   "source": [
    "## Produced water is not just water\n",
    "In the vast majority of fracking disclosures, water is the primary carrier of proppants and other ingredients. This water is still an ingredient on the disclosure and often shows up with a concentration of 80% or more of the whole fracking fluid.  \n",
    "\n",
    "The source of that water can come from nearby rivers or lakes, from municipal sources, from wells and from many other places.  One growing source is **produced water**, that is, water recovered from an active oil or gas well.  The volume of produced water can be many times the volume of the product and is a nuisance by-product of the industry.  This water can include \"flow-back\" materials from the original fracking slug.  Some research estimates that 30-70% of the fracking chemicals injected into a well returns to the surface in the produced water in the months following the injection.  While this produced water has been used extensively in \"enhanced oil recovery,\" much of it is disposed in waste injection wells.  In recent years [there has been a push](https://www.texastribune.org/2022/12/19/texas-permian-basin-fracking-oil-wastewater-recycling/) to use it as part of the fracking carrier material in newer wells. \n",
    "\n",
    "The actual composition of produced water is usually hard to quantify.  Analysis of produced water is expensive and usually only tests for common markers such as mineral elements and known toxic materials (like BTEX).  Targeted analysis for specific molecules such as PFAS chemicals is rarely performed and, because it is targeted, can overlook materials that are important but not on the analyte list.\n",
    "\n",
    "Nevertheless, when analysis of produced water is performed, it is very common to find a toxic cocktail, usually a combination of \"natural\" materials, such as hydrocarbons, radionuclides, and heavy metals as well as flow-back materials from previous fracks and the chemicals formed under the high pressure and temperature of the fracking pressure.  (For example, see [Stringfellow and Camarillo, 2019](https://escholarship.org/content/qt5b52w5nb/qt5b52w5nb.pdf?t=pqsbhu); Maguire-Boyle & Barron. Environ. Sci.: Processes Impacts, 2014,16, 2237-2248;  [Neff et. al, 2011](https://www.researchgate.net/publication/225911658_Produced_Water_Overview_of_Composition_Fates_and_Effects); [Leuk & Gonsior, 2017](http://dx.doi.org/10.1016/j.watres.2017.07.012).)"
   ]
  },
  {
   "cell_type": "code",
   "execution_count": null,
   "id": "4cb94af7-c523-4d0b-b6e8-041c1e780b6c",
   "metadata": {},
   "outputs": [],
   "source": [
    "df.TradeName.fillna('MISSING',inplace=True)\n",
    "c1 = df.TradeName.str.lower().str.contains('produce')\n",
    "c2 = df.bgCAS=='71-43-2'\n",
    "\n",
    "gb = df[c1].groupby(['TradeName','DisclosureId'],as_index=False)['bgCAS'].count()\n",
    "sing = len(gb[gb.bgCAS==1])\n",
    "doub = len(gb[gb.bgCAS==2])\n",
    "\n",
    "totBenz = df[c2].calcMass.sum()\n",
    "prodBenz = df[c1&c2].calcMass.sum()\n",
    "percProd = prodBenz/totBenz *100\n",
    "display(md(f\"\"\"Produced water is therefore, much more than just water.  However, in many of the FracFocus disclosures \n",
    "that explicitly report the use of produced water, the reported composition is either just water alone ({sing} disclosures) or water\n",
    "and some salt (usually sodium chloride or calcium chloride - {doub} disclosures).\"\"\"))"
   ]
  },
  {
   "cell_type": "code",
   "execution_count": null,
   "id": "7f49d31d-8551-4c0a-87aa-90979ba26c67",
   "metadata": {},
   "outputs": [],
   "source": [
    "from math import floor\n",
    "display(md(f\"\"\"In one revealing set of about 120 FracFocus\n",
    "disclosures in 2018-19 in Texas, a few other materials are included as ingredients of produced water, most notably [benzene](71-43-2/analysis_71-43-2.html) at a concentration of 0.1% of the \n",
    "produced water. This is at the high end of the range seen in published analysis, but not outside of it. Because of the large volume of produced water used in these fracks, this benzene release accounts \n",
    "for {floor(percProd)}% of all benzene mass reported in FracFocus.<br><br>\"\"\"))"
   ]
  },
  {
   "cell_type": "markdown",
   "id": "b2819b73-0acf-42ec-a6ac-c5ac6be59b38",
   "metadata": {},
   "source": [
    "Produced water, even once it has been through treatment, is hardly just water.  In a [California study](https://ww2.arb.ca.gov/sites/default/files/2020-07/CARB%20Oil%20Wastewater%20Emissions%20Final%20Report_05.11.2020_ADA.pdf) of produced water ponds (excerpt below), many aromatic analytes were found in the ~100 samples taken of the ponds. According to that study, produced water is sometimes taken from these ponds for resuse."
   ]
  },
  {
   "cell_type": "code",
   "execution_count": null,
   "id": "733b0074-ed9e-4502-810f-8d194f94b0ed",
   "metadata": {},
   "outputs": [],
   "source": [
    " Image(filename=os.path.join(hndl.nb_images_dir,'CA_prod_water_ponds_analysis.png'), width=700)"
   ]
  },
  {
   "cell_type": "markdown",
   "id": "3db7691b-7a7b-4f66-9206-59e4d29f0913",
   "metadata": {},
   "source": [
    "\n",
    "Thus, based on the published analysis of produced water, it is likely that many of those reports of water-only \"Produced Water\" also included benzene and other chemicals of concern. \n",
    "\n",
    "But there is enough ambiguity in **all** disclosures that it is hard to know how much of the carrier water is fresh and how much contains contaminants.  Indeed, at the bottom of the all PDF disclosures we examined is a disclaimer: \n",
    "> **\"Total Water Volume sources may include fresh water, produced water, and/or recycled water.\"**  \n",
    "\n",
    "even though in the vast majority of disclosures, the carrier source is simply reported as 7732-18-5 (water).\n",
    "\n"
   ]
  },
  {
   "cell_type": "code",
   "execution_count": null,
   "id": "61b6bb20-391a-4626-aef3-94f5e328e996",
   "metadata": {},
   "outputs": [],
   "source": [
    "Image(filename=os.path.join(hndl.nb_images_dir,'Produced_water.png'), width=350)"
   ]
  },
  {
   "cell_type": "markdown",
   "id": "31a848d0-f13e-4ec4-9356-45323c15c6bb",
   "metadata": {},
   "source": [
    "## Distillates and other mixtures"
   ]
  },
  {
   "cell_type": "code",
   "execution_count": null,
   "id": "83f921a9-51c8-4b39-97f1-d8a6bbdbe317",
   "metadata": {},
   "outputs": [],
   "source": [
    "display(md(f\"\"\"A third group with abbreviated ingredient lists is a group of materials labeled by TSCA as \"unknown, \n",
    "variable composition or biological\" materials ([UVCBs](https://www.epa.gov/sites/default/files/2015-05/documents/uvcb.pdf)).\n",
    "The UVCBs in fracking operations are mostly petroleum distillates.  \"\"\"))"
   ]
  },
  {
   "cell_type": "markdown",
   "id": "178c8cd7-64da-40a0-969f-482fd03e3920",
   "metadata": {},
   "source": [
    "For distillates, the unknown and variable part of their composition begins with the source material: crude oil which is itself a UVCB and can contain hundreds of thousands of distinct chemicals.  [The distillation process](https://www.eia.gov/energyexplained/oil-and-petroleum-products/refining-crude-oil-the-refining-process.php) is able to separate different groups of materials based on their chemical properties (such as by volatility).  These fractions are often described as approximate because of huge variation in the source material, the specific conditions during the distillation process and variability across refineries.  For example there is a big difference between refinery-grade and laboratory-grade verisons of the same material."
   ]
  },
  {
   "cell_type": "markdown",
   "id": "c9713ce0-b8d7-4d01-9999-409da29bd516",
   "metadata": {},
   "source": [
    "The difficulty with these materials for users of FracFocus is that, while they are mixtures of many (often toxic) chemicals, they are almost always **represented by a single CAS number**.  For example, crude oil is listed simply as '8002-05-9'.  A common FracFocus material, \"Heavy aromatic solvent naphtha (petroleum),\" is similarly identified by a single CAS number: '64742-94-5'.  As its name suggests, one character that makes it distinct from many other distillates is that it has a high percentage of [aromatic compounds](https://en.wikipedia.org/wiki/Aromatic_compound) - that is, 64742-94-5 is designed to be heavily laden with chemicals like Benzene, Toluene, and Naphthalene. But because it is a UVCB, the precise mixture is unknown or at least variable and therefore not reported.\n",
    "\n",
    "We can get a glimpse into some of the components of these UCVBs because some Safety Data Sheets for the UVCBs occasionally list those constituents.  For example, the Exxon SDS for their product \"Solvent Naphtha H\":"
   ]
  },
  {
   "cell_type": "code",
   "execution_count": null,
   "id": "a6e7e137-3283-4e92-908b-6b5047078114",
   "metadata": {},
   "outputs": [],
   "source": [
    "Image(filename=os.path.join(hndl.nb_images_dir,'solvent_naphtha_H_SDS.png'), width=400)"
   ]
  },
  {
   "cell_type": "markdown",
   "id": "4ff4ba29-1961-469d-8fc8-a2e74ed11074",
   "metadata": {},
   "source": [
    " is **100% 64742-94-5**, but it also lists the components:"
   ]
  },
  {
   "cell_type": "code",
   "execution_count": null,
   "id": "8a7b5e83-8cf8-4d04-b98a-79a09edc0801",
   "metadata": {},
   "outputs": [],
   "source": [
    "Image(filename=os.path.join(hndl.nb_images_dir,'MSDS_47742X.png'), width=700)"
   ]
  },
  {
   "cell_type": "markdown",
   "id": "cbd0aab0-b34a-4040-8d69-2b85903dfaaf",
   "metadata": {},
   "source": [
    "Here is an excerpt from another product SDS from Monument Chemical, again 100% 64742-94-5, that also has the constituent chemicals listed:"
   ]
  },
  {
   "cell_type": "code",
   "execution_count": null,
   "id": "344f6b16-aee4-4182-b406-d6d42458cf85",
   "metadata": {},
   "outputs": [],
   "source": [
    "Image(filename=os.path.join(hndl.nb_images_dir,'Advasol_150_SDS.png'), width=600)"
   ]
  },
  {
   "cell_type": "code",
   "execution_count": null,
   "id": "c4bf9761-01ca-4551-8dbd-2596712fec13",
   "metadata": {},
   "outputs": [],
   "source": [
    "Image(filename=os.path.join(hndl.nb_images_dir,'Advasol_150_comp.png'), width=700)"
   ]
  },
  {
   "cell_type": "markdown",
   "id": "e1ef14a6-718a-4497-a54c-9a4ee103288b",
   "metadata": {},
   "source": [
    "It is worth noting that, among all of the listed constituents, only 91-20-3 and 92-52-4 are ever directly reported in FracFocus.  Remember, this product is a solvent and therefore *designed* to be composed of aromatics.  Although we cannot know for sure, whenever 64742-94-5 is used, a significant portion of its mass is likely composed of these aromatics but they are hidden by the UVCB CAS number."
   ]
  },
  {
   "cell_type": "code",
   "execution_count": null,
   "id": "600fba76-8bab-4026-9cde-9044ebc93132",
   "metadata": {},
   "outputs": [],
   "source": [
    "Image(filename=os.path.join(hndl.nb_images_dir,'Distillate.png'), width=350)"
   ]
  },
  {
   "cell_type": "markdown",
   "id": "ef7991c0-7c2d-4179-baf1-58d0c29ecbd2",
   "metadata": {},
   "source": [
    "#### The problem of UVCB for the public \n",
    "How can non-experts come to understand the risks of fracking chemicals?  We may look to **lists of problem chemicals** that have been assembled by experts after reviewing extensive detailed research.  Appropriate lists include the Clean Water Act lists, the Safe Drinking Water Act list, lists of known and suspect endocrine disrupters, and lists of carcinogens.  The problem for FracFocus users is that these lists depend on very well-defined chemical identification.  When a research paper is published that finds the toxicity of, say, naphthalene, researchers are reticent to apply those results to any other material, even if it is closely related, simply because toxicity can be highly dependent on specific molecular characteristics.   The consequence is that the UVCBs rarely show up on these lists of concern - even when they are very likely to contain those same toxic substances."
   ]
  },
  {
   "cell_type": "markdown",
   "id": "db0b89fe-f0bf-4338-aa5e-a15ce2904af9",
   "metadata": {},
   "source": [
    "**How common are UVCBs in FracFocus?**  "
   ]
  },
  {
   "cell_type": "code",
   "execution_count": null,
   "id": "77deff17-371e-4e28-92f6-e5bc3fba4e05",
   "metadata": {},
   "outputs": [],
   "source": [
    "totbgcas = len(df.bgCAS.unique())-4 # ignore the non numeric ones.\n",
    "uvcb = len(df[df.is_on_UVCB].bgCAS.unique())\n",
    "\n",
    "c = df.in_std_filtered\n",
    "c1 = df.bgCAS.isin(['7732-18-5','14808-60-7','1302-74-5','1302-76-7','1302-93-8',\n",
    "                    '1318-16-7','1344-28-1','14464-46-1','308075-07-2','66402-68-4','proprietary',\n",
    "                   'ambiguousID','sysAppMeta','conflictingID'])\n",
    "totMass = df[c&~c1].calcMass.sum()\n",
    "c2 = df.is_on_UVCB\n",
    "uvcbmass = df[c&c2&~c1].calcMass.sum()\n",
    "frac = uvcbmass/totMass\n",
    "# print(f'tot: {totMass}, UVCB: {uvcb}, frac: {uvcb/totMass}')\n",
    "\n",
    "display(md(f\"\"\"UVCBs form a fairly large group of materials in FracFocus disclosures: {uvcb} CAS numbers are UVCBs which is {uvcb/totbgcas:.0%} of the total.\n",
    "And these materials represent a large fraction of the mass of chemicals injected.  If we look at just the mass of additives (that is, ignore water and proppants), we\n",
    "find that UVCBs account for **{frac:.1%}** of those additives.\"\"\"))\n",
    "\n",
    "display(md(f\"\"\"(Tip: Type \"UVCB\" into the search bar of the [Chemical Index](Open-FF_Chemicals.html) to browse all UVCBs that have been reported in FracFocus)\"\"\")) "
   ]
  },
  {
   "cell_type": "markdown",
   "id": "aec23d12-fa28-4db7-925a-d53cc37ce166",
   "metadata": {},
   "source": [
    "**Unveiling those constituents: a simple model.**  If we make a few assumptions, we can start to see what might be missing from UVCB labelling. Let's look at just the naphthalene addition based on that one distillate (64742-94-5).  If we assume that the two SDS's above are good representations of 64742-94-5 used across FracFocus, we can say that the amount of naphthalene in every use of that product ranges from 0 to 14% of its mass.  "
   ]
  },
  {
   "cell_type": "code",
   "execution_count": null,
   "id": "7861b9cb-a0a7-49bf-b18c-a496ac7ed5e7",
   "metadata": {},
   "outputs": [],
   "source": [
    "dist_mass = df[df.bgCAS=='64742-94-5'].mass.sum()\n",
    "napt_mass = df[df.bgCAS=='91-20-3'].mass.sum()\n",
    "biph_mass = df[df.bgCAS=='92-52-4'].mass.sum()\n",
    "\n",
    "display(md(f\"\"\"Considering that the currently reported mass of 64742-94-5 used is {th.round_sig(dist_mass,3)} pounds,\n",
    "the range of added naphthalene due to that one distillate is **0 to {th.round_sig(dist_mass*0.14,3)} pounds**.  Compare that to the directly reported\n",
    "naphthalene: {th.round_sig(napt_mass,3)} pounds. For the chemical biphenyl (92-52-4), the range would be **0 to {th.round_sig(dist_mass*0.08,3)} pounds** (0 to 8%). Compare that to the directly reported\n",
    "biphenyl: {th.round_sig(biph_mass,3)} pounds (which has been reported in only {len(df[df.bgCAS=='92-52-4'])} records).\"\"\"))"
   ]
  },
  {
   "cell_type": "markdown",
   "id": "933835c7-0668-4a03-b995-131a79d78a25",
   "metadata": {},
   "source": [
    "# Conclusion\n",
    "FracFocus has a huge amount of useful information about chemical use in the industry.  But users of that information must remember that it is partial.  The holes of FracFocus are substantial and are likely hiding important, dangerous materials."
   ]
  }
 ],
 "metadata": {
  "kernelspec": {
   "display_name": "Python 3 (ipykernel)",
   "language": "python",
   "name": "python3"
  },
  "language_info": {
   "codemirror_mode": {
    "name": "ipython",
    "version": 3
   },
   "file_extension": ".py",
   "mimetype": "text/x-python",
   "name": "python",
   "nbconvert_exporter": "python",
   "pygments_lexer": "ipython3",
   "version": "3.10.12"
  }
 },
 "nbformat": 4,
 "nbformat_minor": 5
}
