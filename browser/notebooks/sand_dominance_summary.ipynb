{
 "cells": [
  {
   "cell_type": "code",
   "execution_count": null,
   "id": "67cd510c-03a3-4def-b9aa-f0ac7380ca24",
   "metadata": {},
   "outputs": [],
   "source": [
    "import sys\n",
    "sys.path.insert(0,'c:/MyDocs/integrated/') # adjust to your setup\n",
    "\n",
    "%run \"catalog_support.py\" \n",
    "showHeader('Summary of disclosures <br>detected as \"sand dominated\"',use_remote=False)"
   ]
  },
  {
   "cell_type": "markdown",
   "id": "c3119a08-d944-4799-a7ef-eacdf6702ef2",
   "metadata": {},
   "source": [
    "In July 2024, **[Open-FF found](https://open-ff.org/2024/07/30/fracking-sand-dominated-disclosures-patterns-and-problems/)** over 2,000 disclosures that were apparently misreporting the percentages of water and sand. In our process of trying to contact the operators that published those disclosures, FracFocus Support informed us that FracFocus was preparing to alert the companies to the sand-dominance issue so that they might correct errors.\n",
    "\n",
    "This page is an attempt to follow the progress of those corrections and whether any new disclosures with the same problem are being published.\n",
    "\n",
    "The table below lists the disclosures with a sand percentage greater than 50%.  (This excludes disclosures with either carbon dioxide or nitrogen gases, as they are reported to allow high percentages of sand.)  This running list of disclosures was started on Aug 4, 2024 and is updated most days. If a disclosure is found to have that >50% sand condition, it is added to the list and the `date_added` column indicates when.  If that disclosure is corrected, that is the >50% sand condition is no longer present, the `date_removed` column indicates the day that occurred. \n"
   ]
  },
  {
   "cell_type": "code",
   "execution_count": null,
   "id": "4b97d271-2fec-4dc9-ba61-ba29b74c920d",
   "metadata": {},
   "outputs": [],
   "source": [
    "import datetime\n",
    "first_date = datetime.datetime(2024,8,20)\n",
    "print(first_date)\n",
    "fn = r\"G:\\My Drive\\webshare\\daily_status\\sand_monitoring_df.parquet\"\n",
    "t = pd.read_parquet(fn)\n",
    "#t['enddate'] = t.JobEndDate.str.split().str[0]\n",
    "# t.enddate\n",
    "# t['Job End Date'] = pd.to_datetime(t.enddate,format='%m/%d/%y')"
   ]
  },
  {
   "cell_type": "code",
   "execution_count": null,
   "id": "a4e227f9-cda4-4bcc-93d2-22235cc37ead",
   "metadata": {},
   "outputs": [],
   "source": [
    "print('SUMMARY')\n",
    "print(f'Number of disclosures first detected in Aug 2024:      {len(t[t.added_date==first_date])}')\n",
    "print(f'Number of additional disclosures detected:             {len(t[t.added_date>first_date])}')\n",
    "print(f'Number of disclosures corrected or otherwised changed: {len(t[t.removed_date.notna()])}')"
   ]
  },
  {
   "cell_type": "code",
   "execution_count": null,
   "id": "cf00157a-802d-4f68-a8ca-a9468859c71a",
   "metadata": {},
   "outputs": [],
   "source": [
    "t[['APINumber','date','OperatorName','StateName','CountyName','PercentHFJob','added_date','removed_date']]"
   ]
  }
 ],
 "metadata": {
  "hide_input": true,
  "kernelspec": {
   "display_name": "Python 3 (ipykernel)",
   "language": "python",
   "name": "python3"
  },
  "language_info": {
   "codemirror_mode": {
    "name": "ipython",
    "version": 3
   },
   "file_extension": ".py",
   "mimetype": "text/x-python",
   "name": "python",
   "nbconvert_exporter": "python",
   "pygments_lexer": "ipython3",
   "version": "3.11.8"
  }
 },
 "nbformat": 4,
 "nbformat_minor": 5
}
