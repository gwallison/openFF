{
 "cells": [
  {
   "cell_type": "markdown",
   "id": "1ec9294a-d40a-495f-ae40-447a0caa9df2",
   "metadata": {
    "id": "9e3823ba-1c6f-4b87-849a-8ca8bdc68e5d",
    "tags": []
   },
   "source": [
    "| <div> <img src=\"https://storage.googleapis.com/open-ff-common/openFF_logo.png\" width=\"100\"/><br>Open-FF</div>|<h1>Exploring fracking chemicals<br>used near a selected location</h1>|<center><a href=\"https://www.fractracker.org/\" title=\"FracTracker Alliance\"><img src=\"https://storage.googleapis.com/open-ff-common/2021_FT_logo_icon.png\" alt=\"FracTracker logo\" width=\"100\" height=\"100\"><br>Sponsored by<br> FracTracker Alliance</a></center>|\n",
    "|---|---|---|"
   ]
  },
  {
   "cell_type": "markdown",
   "id": "e51799b7-ac2f-477c-8975-779f02593d2c",
   "metadata": {},
   "source": [
    "#### This notebook is licensed under the MIT Liscense. Please visit our [Github repo](https://github.com/gwallison/openFF) for more information.\n",
    "#### For more information about this project, visit [our website](https://frackingchemicaldisclosure.wordpress.com/).\n",
    "(Structure and instructions for this notebook are inspired by the [Environmental Enforcement Watch Project](https://environmentalenforcementwatch.org/data/notebooks) and their research notebooks. Some of their images are used below.)\n",
    "\n",
    "Note: This notebook pulls data from the most recent copy of Open-FF's data set. This data sets is updated regularly, meaning that some of the results from your run may not exactly match those from a previous run."
   ]
  },
  {
   "cell_type": "markdown",
   "id": "923174e0-b9f4-439e-b301-1e409b47add3",
   "metadata": {},
   "source": [
    "## Summarizing fracking chemicals used near a selected location \n",
    "---\n",
    "This is a Jupyter Notebook - a way to organize Python computer programming code. Hosting the notebook on Google Colab allows you to access and visualize data without actually needing to do any coding! Some code is left visible for individuals with a knowledge of Python or for those wondering how this site was put together. This allows for a more interactive user experience. \n",
    "\n",
    "This notebook will help you explore the chemicals that have been disclosed by the oil and gas industry to the FracFocus registry. FracFocus is an industry-created repository that references over 200,000 fracking events since 2011.  However, the FracFocus data presents many obstacles. Open-FF is an independent, open-source project to make the FracFocus data more robust and searchable and to provide some perspective about the chemicals reported. \n",
    "\n",
    "### How to use this notebook:\n",
    "After you load some necessary code and data (Step 1, which can take a minute or mre), you will indicate what location you want to explore (Step 2). In Step 3 you will select the size of the area around your focal location to search for fracked wells. And finally, in Step 4, you will generate the summarized chemical list for all the wells in that area.\n",
    "\n",
    "Before trying your own search, you can run the entire notebook with just the default values by just stepping through each cell to the end to see how it works.  To run a code cell (they have an empty bracket `[ ]` in the upper left corner), hover your mouse over that bracket.  It should display a \"play\" icon.  Clicking that icon will execute the code in that cell.\n",
    "\n",
    "To perform more than one search, just start again at Step 2.  We only need to perform Step 1 once.\n",
    "\n",
    "If you run into problems that you cannot remedy, please let me know! I'll try to get back to you as quick as possible.  (gary.allison@gmail.com)"
   ]
  },
  {
   "cell_type": "markdown",
   "id": "cab5da62-d7ac-4070-b185-a00aa1dc1390",
   "metadata": {},
   "source": [
    "## Step 1 -  Load the necessary code and data\n",
    "Note that first time you run a step, Google will ask you if you really want to run this code.  Generally, you do not want to run code on Colab unless you trust the source.  In this case, you can just hit \"Run Anyway\"."
   ]
  },
  {
   "cell_type": "code",
   "execution_count": null,
   "id": "ac93cfa7-222c-4681-adc1-63c9fdabee6b",
   "metadata": {
    "tags": []
   },
   "outputs": [],
   "source": [
    "# # fetch the Open-FF code repository and master data file from remote storage\n",
    "# # This can take a minute or more\n",
    "\n",
    "# !git clone --depth 1 --branch v0.17.3 https://github.com/gwallison/openFF.git &>/dev/null;\n",
    "# !pip install itables  &>/dev/null;\n",
    "# !pip install geopandas  &>/dev/null;\n",
    "# !pip install reportlab &>/dev/null;\n",
    "# %run openFF/notebooks/Explore_near_location_support.py"
   ]
  },
  {
   "cell_type": "code",
   "execution_count": null,
   "id": "d7e673a5-2021-4632-9587-1e64d247028f",
   "metadata": {
    "tags": []
   },
   "outputs": [],
   "source": [
    "import sys\n",
    "sys.path.insert(0,'c:/MyDocs/integrated/') # adjust to your setup\n",
    "\n",
    "%run Explore_near_location_support.py"
   ]
  },
  {
   "cell_type": "markdown",
   "id": "31f8e444-8e23-4835-9609-7f88e835ea93",
   "metadata": {},
   "source": [
    "## Step 2 - Enter the your location of interest\n",
    "\n",
    "First, run the cell below to show the location selector:"
   ]
  },
  {
   "cell_type": "code",
   "execution_count": null,
   "id": "1759c70f-a22f-4770-92a4-9ff198ba1b9c",
   "metadata": {
    "tags": []
   },
   "outputs": [],
   "source": [
    "lat_lon_input = show_lat_lon_input('31.556207095291803, -94.46452623739113') # default is Monica Newton's house\n",
    "lat_lon_input = show_lat_lon_input('40.38415163662122, -79.62416933177497') # default is pa well pad\n",
    "lat_lon_input"
   ]
  },
  {
   "cell_type": "markdown",
   "id": "3673f272-6d7e-4406-943c-9d1ab048a573",
   "metadata": {},
   "source": [
    "### Now enter the latitude and longitude of you location of interest into the text box above.\n",
    "An simple way to do that is\n",
    "- find your location on a [Google map](https://www.google.com/maps/). \n",
    "    - Use the traditional map or satellite view to find it or\n",
    "    - If it is a specific well site, use the Browser's [Disclosure Index](https://storage.googleapis.com/open-ff-browser/Disclosure_Index.html) to find it by APINumber or WellName, click for the disclosure and then, click on the \"Google Map\" link for that well.\n",
    "- Once you've found it on the Google map, right-click your mouse on your spot to show a menu of map options.\n",
    "    -Select the option with the Latitude/Longitude coordinates.  That copies the values to the clipboard.\n",
    "- Clear the input box above and paste the clipboard values into the box.\n",
    "\n",
    "Then run the next cell:"
   ]
  },
  {
   "cell_type": "code",
   "execution_count": null,
   "id": "e4e51a63-bf0b-4f6b-b394-b7d487a4378c",
   "metadata": {
    "tags": []
   },
   "outputs": [],
   "source": [
    "lat,lon = process_lat_lon_input(lat_lon_input)"
   ]
  },
  {
   "cell_type": "markdown",
   "id": "0d7b7fed-ead4-44cd-a3d0-0c7d60e3f553",
   "metadata": {
    "tags": []
   },
   "source": [
    "## Map focal site\n",
    "Run the cell below to show your selected location on a map and/or satellite image. Use the layers selector in the upper right corner to choose which is active.\n",
    "\n",
    "Note that by clicking on the resulting map, the latitude and longitude of the point you click on is copied to the clipboard.  If you want to adjust the focal point for subsequent analysis, just paste that lat/lon pair into the location selector above and re-run the *previous* cell to make the clicked point the focal point."
   ]
  },
  {
   "cell_type": "code",
   "execution_count": null,
   "id": "c7b9100a-6de6-496f-aeaf-e480f074df65",
   "metadata": {
    "tags": []
   },
   "outputs": [],
   "source": [
    "# maps.show_simple_map(lat,lon,clickable=True)"
   ]
  },
  {
   "cell_type": "markdown",
   "id": "d97459df-df5d-4373-b36d-ead6d520024a",
   "metadata": {},
   "source": [
    "## Step 3 - Choose size of focal circle around focal point\n",
    "Run the following cell to show the radius selector.  The radius is in FEET.  "
   ]
  },
  {
   "cell_type": "code",
   "execution_count": null,
   "id": "00321a94-4a90-4dc4-b0ca-6a43a49b971c",
   "metadata": {
    "tags": []
   },
   "outputs": [],
   "source": [
    "radius_input = show_radius_input()\n",
    "radius_input"
   ]
  },
  {
   "cell_type": "markdown",
   "id": "2dfc848d-52b5-4909-bcca-e974773ed730",
   "metadata": {},
   "source": [
    "### Show resulting map\n",
    "\n",
    "Run the cell below to  use your radius to find the wells in that circle and map them."
   ]
  },
  {
   "cell_type": "code",
   "execution_count": null,
   "id": "d66394f1-88b0-47cd-9072-c7bf86eeb9fa",
   "metadata": {
    "tags": []
   },
   "outputs": [],
   "source": [
    "radius_in_feet = process_radius_input(radius_input)\n",
    "apis = get_apis(df,lat,lon,radius_in_feet)\n",
    "print(f'Number of wells within radius: {len(apis)}')\n",
    "t, dgb = show_well_info(apis)\n",
    "radius_in_meters = radius_in_feet*0.3048\n",
    "# maps.showWells(df,lat,lon,apis,def_buffer=radius_in_meters)"
   ]
  },
  {
   "cell_type": "markdown",
   "id": "0353ca6b-8af2-4e1d-be2c-8a18801c75b3",
   "metadata": {},
   "source": [
    "### Downloadable data for these selected disclosures\n",
    "If you wish to download the full data for these disclosures, click on the \"folder\" icon in the left menu bar.  Download the file named: `all_data_for_selected_wells.csv`\n",
    "\n",
    "## How big are the fracking jobs?\n",
    "Run the following cell to show a plot of water use through time for this set of wells."
   ]
  },
  {
   "cell_type": "code",
   "execution_count": null,
   "id": "bbe51098-2d2d-42c0-91a5-42b3b07b8259",
   "metadata": {},
   "outputs": [],
   "source": [
    "show_water_used(dgb)"
   ]
  },
  {
   "cell_type": "markdown",
   "id": "0be489b1-27b6-4bc3-8ec3-a99a5e54129a",
   "metadata": {},
   "source": [
    "# Step 4 - What chemicals were used?\n",
    "### All fracking jobs combined\n",
    "\n",
    "Run the following cell to display a summary of chemicals reported in all fracking disclosures of this set. \n",
    "\n",
    "Although proprietary records (if they are present) are summarized, other chemical records that cannot be resolved to valid CASRNs are excluded in the table below.  See individual disclosures to see all records."
   ]
  },
  {
   "cell_type": "code",
   "execution_count": null,
   "id": "87ff131c-d374-4cc6-a08a-09930287de19",
   "metadata": {},
   "outputs": [],
   "source": [
    "chem_obj = create_chem_summary(t)\n",
    "# show_chem_summary(chem_obj)\n"
   ]
  },
  {
   "cell_type": "code",
   "execution_count": null,
   "id": "d24a0a7d-1cb5-461a-8dcf-d04a914f339f",
   "metadata": {},
   "outputs": [],
   "source": [
    "save_pdf_report(well_list=dgb)"
   ]
  },
  {
   "cell_type": "markdown",
   "id": "24b631dd-5931-4a2d-aff2-4bfaee853763",
   "metadata": {},
   "source": [
    "|Explanation of columns in the index|\n",
    "| :---: |\n",
    "\n",
    "| Column      | Description |\n",
    "| :----: | :-------- |\n",
    "|*composite_id*| at top is the CAS registration number of the chemical. **Click on this link** to display summary of this chemical for all of FracFocus (filtered data - up to last major update). Below are two names for the material: the upper is used by SciFinder as the primary name and the lower is the most common reported name in FracFocus| \n",
    "|*refs*|Click on the \"csv\" link to a csv-formatted file that has all the filtered records for this chemical.  Click on \"PubChem\" link for a PubChem web search for this chemical.  Click on \"CompTox\" for the summary page in that EPA resource|\n",
    "|*total num records* |indicates the number of records across the FracFocus data. A given chemical may appear more than once in a disclosure.|\n",
    "|*num records with mass*|indicates the number of records with mass of this chemical in the **filtered** data. Without mass, a record only indicates **presence** in the disclosure.|\n",
    "|*Total mass used (lbs)*| the sum of the computable mass of all records in the set|\n",
    "|*Reportable quantity (lbs)*|indicates the quantity of the chemical (in pounds), above which uses must be reported if spilled, based on 40 CFR § 302.4 - Hazardous substances and reportable quantities. This is applicable throughout most industries however fracking is in general exempt from this requirement. We show it here to illustrate what those exemptions have given to the fracking industry. There are currently a total of about 100 chemicals on that list.|\n",
    "|*Chemicals of Concern* |indicates if the chemical is on one of the following lists.  Type the name of the list into the Search box to limit to those chemicals.<br> - **CWA**: indicates that the chemical is on the [Clean Water Act list](https://comptox.epa.gov/dashboard/chemical_lists/CWA311HS) as compiled in EPA's CompTox<br>- **DWSHA**: indicated that the chemical is on the EPA's [Drinking Water Safety and Health Advisory](https://comptox.epa.gov/dashboard/chemical_lists/EPADWS) list<br>- **TEDX**: indicates that the chemical is on [The Endocrine Disruption Exchange](https://endocrinedisruption.org) list<br>- **prop_65**: indicates that the chemical is on [California's Proposition 65](https://oehha.ca.gov/proposition-65/proposition-65-list) list<br>- **EPA_PFAS**: indicates that the chemical is on EPA's comprehensive list of PFAS related compounds<br>- **UVCB**: indicates that the chemical is on the [TSCA list of \"Unknown, Variable composition, Complex reaction products and Biological\"](https://www.epa.gov/sites/default/files/2015-05/documents/uvcb.pdf) materials, meaning \"these chemical substances cannot be represented by unique structures and molecular formulas.\"<br>- **diesel**: indicates that the chemical is [on the EPA list that](https://www.epa.gov/uic/diesel-fuels-hydraulic-fracturing-dfhf) \"represent the most appropriate interpretation of the statutory term 'diesel fuels' to use for permitting diesel fuels hydraulic fracturing under the UIC Program nationwide.|\n",
    "|*ChemInformatics*|This is a \"hazard\" summary based on the EPA's [ChemInformatics Dashboard](https://www.epa.gov/chemical-research/cheminformatics). For each chemical that the EPA has published summaries, Open-FF generates a single image that indicates level of hazard for EPA's twenty categories. See the table below or click on the specific chemical's report (its CAS number) for a different display of these results. For many chemicals reported by the EPA on that site, some of those hazard categories cannot be evaluated because the data are limited. See EPA's disclaimer for these data below or at their site.|"
   ]
  }
 ],
 "metadata": {
  "colab": {
   "provenance": []
  },
  "kernelspec": {
   "display_name": "Python 3 (ipykernel)",
   "language": "python",
   "name": "python3"
  },
  "language_info": {
   "codemirror_mode": {
    "name": "ipython",
    "version": 3
   },
   "file_extension": ".py",
   "mimetype": "text/x-python",
   "name": "python",
   "nbconvert_exporter": "python",
   "pygments_lexer": "ipython3",
   "version": "3.10.12"
  },
  "toc-autonumbering": false
 },
 "nbformat": 4,
 "nbformat_minor": 5
}
