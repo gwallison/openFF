{
 "cells": [
  {
   "cell_type": "code",
   "execution_count": null,
   "id": "095e61ba-969f-4fc8-aa94-5d180a7db2de",
   "metadata": {},
   "outputs": [],
   "source": [
    "import sys\n",
    "sys.path.insert(0,'c:/MyDocs/integrated/') # adjust to your setup\n",
    "\n",
    "%run \"catalog_support.py\" \n",
    "showHeader('Chemical Synonym Table')"
   ]
  },
  {
   "cell_type": "code",
   "execution_count": null,
   "id": "bc8e8ca8-8753-40c5-9609-338a43911845",
   "metadata": {},
   "outputs": [],
   "source": [
    "# fetch data set\n",
    "df_cas = fh.get_df(os.path.join(hndl.sandbox_dir,'workdf.parquet'))"
   ]
  },
  {
   "cell_type": "code",
   "execution_count": null,
   "id": "metallic-guatemala",
   "metadata": {},
   "outputs": [],
   "source": [
    "# cascnt = df_cas.groupby('bgCAS',as_index=False)['DisclosureId'].count()\n",
    "cascnt = df_cas.groupby('bgCAS',as_index=False).size()\n",
    "cascnt.columns = ['cas_number','record_cnt']\n",
    "# syncnt = df_cas.groupby('IngredientName', as_index=False)['DisclosureId'].count()\n",
    "syncnt = df_cas.groupby('IngredientName', as_index=False).size()\n",
    "syncnt.columns = ['synonym','syn_count']"
   ]
  },
  {
   "attachments": {},
   "cell_type": "markdown",
   "id": "030e3e8e-6a55-4b67-a31b-d7087c9a333b",
   "metadata": {},
   "source": [
    "This interactive table below lists synonyms for chemicals published in FracFocus. This is not an exhaustive set. The table is sort-able by any column (click a second time for reverse sort) and use the **Search** bar to limit what is shown in the table. \n",
    "\n",
    "   \n",
    "Use the search function to find\n",
    "- alternative names for a given CAS number.  Some of these may be product names. Some CAS numbers have thousands of synonyms.\n",
    "- possible CAS numbers for a given synonym\n",
    "\n",
    "These synonyms are the ones provided by the CAS reference site, [SciFinder](http://scifinder.cas.org), a subscription service, and the synonyms from EPA's CompTox database.   It can also be helpful to use\n",
    "[PubChem](https://pubchem.ncbi.nlm.nih.gov/), a free, public site.  \n",
    "\n",
    "<!--- An additional source is the Table H-3 in the appendix of EPA document [Hydraulic Fracturing for Oil and Gas: Impacts from the Hydraulic Fracturing Water Cycle on Drinking Water Resources in the United States (Final Report)](https://cfpub.epa.gov/ncea/hfstudy/recordisplay.cfm?deid=332990).  This table provides a list of **generic** names commonly used that are not specific enough to resolve to a single CAS number.  The CAS number given in the table for these names is \"estab_non_spec\".  These ingredient names appear frequently in FracFocus. -->"
   ]
  },
  {
   "cell_type": "markdown",
   "id": "julian-connectivity",
   "metadata": {},
   "source": [
    "|Explanation of columns in the table|\n",
    "| :---: |\n",
    "\n",
    "| Column      | Description |\n",
    "| :----: | :-------- |\n",
    "|*cas_number*| is the CAS registration number of a chemical in the FracFocus data set. **Click on this link** to view report of this chemical within FracFocus| \n",
    "|*synonym*| is the one of the names given by SciFinder and/or CompTox for the material identified by the CAS number|\n"
   ]
  },
  {
   "cell_type": "markdown",
   "id": "hidden-sheet",
   "metadata": {},
   "source": [
    "## Synonyms for chemicals reported in FracFocus"
   ]
  },
  {
   "cell_type": "code",
   "execution_count": null,
   "id": "thermal-redhead",
   "metadata": {},
   "outputs": [],
   "source": [
    "import itables.options as opt\n",
    "opt.classes=\"display compact cell-border\"\n",
    "\n",
    "\n",
    "master_df = fh.get_df(os.path.join(hndl.curr_repo_dir,'curation_files','master_synonym_list.parquet'))\n",
    "\n",
    "syn_df = pd.merge(master_df,syncnt,on='synonym',how='left')\n",
    "syn_df = pd.merge(syn_df,cascnt,on='cas_number',how='left').reset_index(drop=True)\n",
    "syn_df = syn_df[~(syn_df.cas_number==syn_df.synonym)] # remove uninformative synonym\n",
    "syn_df.syn_count.fillna(0,inplace=True)\n",
    "syn_df.record_cnt.fillna(0,inplace=True)\n",
    "syn_df = syn_df[~syn_df.duplicated()].reset_index(drop=True)\n",
    "syn_df['CAS Number'] = np.where(syn_df.record_cnt>0,\n",
    "                             '<b>'+syn_df.cas_number.map(lambda x: th.getCatLink(x,x))+'</b>',\n",
    "                             syn_df.cas_number)\n",
    "syn_df['synon'] = syn_df.synonym.map(lambda x: th.xlate_to_str(x,sep='<br>'))\n",
    "# iShow(syn_df.sort_values('record_cnt',ascending=False),\n",
    "#       maxBytes=0, classes=\"display compact cell-border\",index=False)"
   ]
  },
  {
   "cell_type": "code",
   "execution_count": null,
   "id": "0971efe4-c3ef-4234-8561-4c0d542ace52",
   "metadata": {},
   "outputs": [],
   "source": [
    "def xlate_to_str(inp,sep='; ',trunc=False,tlen=20,totallen = 5000,sort=True,\n",
    "                maxlen=100000,maxMessage='Too many items to display'):\n",
    "    \"\"\"used to translate a list into a meaningful string for display\"\"\"\n",
    "    try:\n",
    "        if isinstance(inp,str):\n",
    "            inp = [inp]\n",
    "        l = list(inp)\n",
    "        if sort:\n",
    "            l.sort()\n",
    "        if len(l)>maxlen:\n",
    "            return maxMessage\n",
    "\n",
    "        out = ''\n",
    "        line_len = 0\n",
    "        for i,a in enumerate(l):\n",
    "            s = str(a)\n",
    "            line_len += len(s)\n",
    "            if line_len > 100:\n",
    "                out += s+'\\n'\n",
    "                line_len = 0\n",
    "            else:\n",
    "                out+= s+sep\n",
    "        out = out[:-(len(sep))]#\n",
    "    except:\n",
    "        return ''\n",
    "    if len(out)>totallen:\n",
    "        out = out[:totallen]+' ...' \n",
    "    return out"
   ]
  },
  {
   "cell_type": "code",
   "execution_count": null,
   "id": "configured-joshua",
   "metadata": {},
   "outputs": [],
   "source": [
    "# syn_df.synonym = syn_df.synonym.str.replace('\\\\n',' - ')\n",
    "gb1 = syn_df.groupby('CAS Number',as_index=False)['synonym'].apply(list)\n",
    "gb1['synonyms'] = gb1.synonym.map(lambda x: xlate_to_str(x,sep = '   |   '))\n",
    "gb1.synonyms = gb1.synonyms.str.replace('\\n','  |  ')\n",
    "gb1 = gb1[['CAS Number','synonyms']]\n",
    "gb2 = syn_df.groupby('CAS Number',as_index=False)['record_cnt'].sum()\n",
    "mg = pd.merge(gb1,gb2,on='CAS Number',how='left')\n",
    "#mg['in_FF'] = np.where(mg.record_cnt>0,'is_in_FF','')\n",
    "iShow(mg[mg.record_cnt>0][['CAS Number','synonyms']].reset_index(drop=True))"
   ]
  },
  {
   "cell_type": "code",
   "execution_count": null,
   "id": "99ab2516-50e0-4ed0-aba6-3e62b0b075fa",
   "metadata": {},
   "outputs": [],
   "source": []
  }
 ],
 "metadata": {
  "hide_input": true,
  "kernelspec": {
   "display_name": "Python 3 (ipykernel)",
   "language": "python",
   "name": "python3"
  },
  "language_info": {
   "codemirror_mode": {
    "name": "ipython",
    "version": 3
   },
   "file_extension": ".py",
   "mimetype": "text/x-python",
   "name": "python",
   "nbconvert_exporter": "python",
   "pygments_lexer": "ipython3",
   "version": "3.11.8"
  }
 },
 "nbformat": 4,
 "nbformat_minor": 5
}
