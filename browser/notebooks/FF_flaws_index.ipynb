{
 "cells": [
  {
   "cell_type": "code",
   "execution_count": null,
   "id": "67cd510c-03a3-4def-b9aa-f0ac7380ca24",
   "metadata": {},
   "outputs": [],
   "source": [
    "import sys\n",
    "sys.path.insert(0,'c:/MyDocs/integrated/') # adjust to your setup\n",
    "\n",
    "%run \"catalog_support.py\" \n",
    "showHeader('FracFocus Flaws Index',use_remote=False)"
   ]
  },
  {
   "cell_type": "code",
   "execution_count": null,
   "id": "8c746d23-19ff-4f4f-a6b7-1534b3ea8039",
   "metadata": {},
   "outputs": [],
   "source": [
    "import FF_issues.process_master_files as pmf\n",
    "pobj = pmf.Process_Master_Files()\n",
    "df = pobj.process_obj()\n",
    "df.columns"
   ]
  },
  {
   "cell_type": "markdown",
   "id": "db158ddd-a2d6-46dd-9539-4160bf76a20b",
   "metadata": {},
   "source": [
    "# Discloure-level Issues"
   ]
  },
  {
   "cell_type": "code",
   "execution_count": null,
   "id": "bf7168f5-7a23-4664-b9a0-e4485c10943f",
   "metadata": {},
   "outputs": [],
   "source": [
    "c = df.Flag_id.str[0]=='d'\n",
    "t = df[c].copy()\n",
    "t['flaw_link'] = t.Flag_id.map(lambda x: th.getFlawLink(x))\n",
    "t[['Title','flaw_link','Date_entered','Warning_level']]"
   ]
  },
  {
   "cell_type": "markdown",
   "id": "d80f16ad-264c-489b-bbcc-3d8f58aec789",
   "metadata": {},
   "source": [
    "# Record-level Issues"
   ]
  },
  {
   "cell_type": "code",
   "execution_count": null,
   "id": "84082326-55a7-4a36-94da-795ec25b0ea5",
   "metadata": {},
   "outputs": [],
   "source": [
    "c = df.Flag_id.str[0]=='r'\n",
    "t = df[c].copy()\n",
    "t['flaw_link'] = t.Flag_id.map(lambda x: th.getFlawLink(x))\n",
    "t[['Title','flaw_link','Date_entered','Warning_level']]"
   ]
  },
  {
   "cell_type": "markdown",
   "id": "3e602b75-8dc7-4a39-9e08-9215e162b9b3",
   "metadata": {},
   "source": [
    "## Warning level meaning\n",
    "\n",
    "**info**: Issues that are either taken care of by Open-FF (such as CASNumber is corrected) or nothing can be done about (such as disclosures without chemical records).\n",
    "\n",
    "**watch**: Issues that may be important to users under some circumstances which might require action. For example, a disclosure with only one chemical record is likely a misrepresentation and the user probably wants to eliminate it from analysis.\n",
    "\n",
    "**alert**: Issues that require user judgement, such as outliers, likely data mistakes, or other data flaws that could influence conclusions.\n",
    "\n",
    "**error**: Issues that are almost certainly an error and should not be included in analysis of normal data."
   ]
  },
  {
   "cell_type": "code",
   "execution_count": null,
   "id": "c975cc73-3ef9-4716-90be-ab31a56330d7",
   "metadata": {},
   "outputs": [],
   "source": []
  }
 ],
 "metadata": {
  "hide_input": true,
  "kernelspec": {
   "display_name": "Python 3 (ipykernel)",
   "language": "python",
   "name": "python3"
  },
  "language_info": {
   "codemirror_mode": {
    "name": "ipython",
    "version": 3
   },
   "file_extension": ".py",
   "mimetype": "text/x-python",
   "name": "python",
   "nbconvert_exporter": "python",
   "pygments_lexer": "ipython3",
   "version": "3.11.8"
  }
 },
 "nbformat": 4,
 "nbformat_minor": 5
}
